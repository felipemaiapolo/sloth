{
 "cells": [
  {
   "cell_type": "code",
   "execution_count": 29,
   "id": "8b14aaa1-5633-4b9d-935e-e437612b5d07",
   "metadata": {},
   "outputs": [],
   "source": [
    "import pandas as pd\n",
    "import numpy as np\n",
    "import pickle\n",
    "from matplotlib.colors import ListedColormap\n",
    "import statsmodels.api as sm\n",
    "import statsmodels.formula.api as smf\n",
    "from irt import *\n",
    "data_path = '/llmthonskdir/felipe/download_openllmlb/'\n",
    "\n",
    "def filter(s):\n",
    "    try:s = s.split(\"/\")[1]\n",
    "    except: s = s\n",
    "    try:s = s.split(\"__\")[1]\n",
    "    except: s = s\n",
    "    return s.lower().replace(\"-hf\",\"\").replace(\"_\",\"\").replace(\"-\",\"\")\n",
    "    \n",
    "def search(s, s_list):\n",
    "    scores = [fuzz.token_sort_ratio(filter(s), filter(s_try)) for s_try in s_list]\n",
    "    return [s_list[np.argmax(scores)], np.max(scores)]"
   ]
  },
  {
   "cell_type": "code",
   "execution_count": 30,
   "id": "f48f44af-a3b4-4484-ad91-f1ab748b6d74",
   "metadata": {},
   "outputs": [],
   "source": [
    "scenarios = ['harness_arc_challenge_25', 'harness_gsm8k_5', 'harness_hellaswag_10', 'harness_truthfulqa_mc_0', 'harness_winogrande_5', 'harness_hendrycksTest_abstract_algebra_5', 'harness_hendrycksTest_anatomy_5', 'harness_hendrycksTest_astronomy_5', 'harness_hendrycksTest_business_ethics_5', 'harness_hendrycksTest_clinical_knowledge_5', 'harness_hendrycksTest_college_biology_5', 'harness_hendrycksTest_college_chemistry_5', 'harness_hendrycksTest_college_computer_science_5', 'harness_hendrycksTest_college_mathematics_5', 'harness_hendrycksTest_college_medicine_5', 'harness_hendrycksTest_college_physics_5', 'harness_hendrycksTest_computer_security_5', 'harness_hendrycksTest_conceptual_physics_5', 'harness_hendrycksTest_econometrics_5', 'harness_hendrycksTest_electrical_engineering_5', 'harness_hendrycksTest_elementary_mathematics_5', 'harness_hendrycksTest_formal_logic_5', 'harness_hendrycksTest_global_facts_5', 'harness_hendrycksTest_high_school_biology_5', 'harness_hendrycksTest_high_school_chemistry_5', 'harness_hendrycksTest_high_school_computer_science_5', 'harness_hendrycksTest_high_school_european_history_5', 'harness_hendrycksTest_high_school_geography_5', 'harness_hendrycksTest_high_school_government_and_politics_5', 'harness_hendrycksTest_high_school_macroeconomics_5', 'harness_hendrycksTest_high_school_mathematics_5', 'harness_hendrycksTest_high_school_microeconomics_5', 'harness_hendrycksTest_high_school_physics_5', 'harness_hendrycksTest_high_school_psychology_5', 'harness_hendrycksTest_high_school_statistics_5', 'harness_hendrycksTest_high_school_us_history_5', 'harness_hendrycksTest_high_school_world_history_5', 'harness_hendrycksTest_human_aging_5', 'harness_hendrycksTest_human_sexuality_5', 'harness_hendrycksTest_international_law_5', 'harness_hendrycksTest_jurisprudence_5', 'harness_hendrycksTest_logical_fallacies_5', 'harness_hendrycksTest_machine_learning_5', 'harness_hendrycksTest_management_5', 'harness_hendrycksTest_marketing_5', 'harness_hendrycksTest_medical_genetics_5', 'harness_hendrycksTest_miscellaneous_5', 'harness_hendrycksTest_moral_disputes_5', 'harness_hendrycksTest_moral_scenarios_5', 'harness_hendrycksTest_nutrition_5', 'harness_hendrycksTest_philosophy_5', 'harness_hendrycksTest_prehistory_5', 'harness_hendrycksTest_professional_accounting_5', 'harness_hendrycksTest_professional_law_5', 'harness_hendrycksTest_professional_medicine_5', 'harness_hendrycksTest_professional_psychology_5', 'harness_hendrycksTest_public_relations_5', 'harness_hendrycksTest_security_studies_5', 'harness_hendrycksTest_sociology_5', 'harness_hendrycksTest_us_foreign_policy_5', 'harness_hendrycksTest_virology_5', 'harness_hendrycksTest_world_religions_5']"
   ]
  },
  {
   "cell_type": "code",
   "execution_count": 31,
   "id": "9d36f43b-9edd-46db-ab8c-a963dcf24ca6",
   "metadata": {},
   "outputs": [],
   "source": [
    "scenario = 'harness_arc_challenge_25'"
   ]
  },
  {
   "cell_type": "code",
   "execution_count": 32,
   "id": "72757453-a9eb-408d-8bb4-6bddf2e715dd",
   "metadata": {},
   "outputs": [],
   "source": [
    "#for scenario in scenarios:\n",
    "\n",
    "###\n",
    "with open('lb.pickle', 'rb') as handle:\n",
    "    lb_data1 = pickle.load(handle)\n",
    "with open(data_path+'scaling_laws/old_leaderboard_processed_20240630.pickle', 'rb') as handle:\n",
    "    lb_data2 = pickle.load(handle)\n",
    "scaling_base = pd.read_csv(data_path+'scaling_laws/base_llm_benchmark_eval.csv')\n",
    "scaling_inst = pd.read_csv(data_path+'scaling_laws/instruct_llm_benchmark_eval.csv')\n",
    "scaling_data = pd.concat((scaling_base, scaling_inst))"
   ]
  },
  {
   "cell_type": "code",
   "execution_count": 33,
   "id": "1b54b67d-31d5-4b50-9840-1def3e996f8a",
   "metadata": {},
   "outputs": [],
   "source": [
    "###\n",
    "models_irt_train = lb_data1['models']\n",
    "models_irt_train = [filter(m) for m in models_irt_train]\n",
    "models = lb_data2[scenario]['models']\n",
    "models = [filter(m) for m in models]\n",
    "scaling_models = list(scaling_data.Model)\n",
    "scaling_models = [filter(m) for m in scaling_models]"
   ]
  },
  {
   "cell_type": "code",
   "execution_count": 18,
   "id": "593cb99f-301c-4796-9a78-a44c208f3be9",
   "metadata": {},
   "outputs": [],
   "source": []
  },
  {
   "cell_type": "code",
   "execution_count": 50,
   "id": "1925d7ca-4897-4473-bae9-9cb89b6ca998",
   "metadata": {},
   "outputs": [
    {
     "data": {
      "application/vnd.jupyter.widget-view+json": {
       "model_id": "b78895a4956943749156345745e573af",
       "version_major": 2,
       "version_minor": 0
      },
      "text/plain": [
       "  0%|          | 0/1 [00:00<?, ?it/s]"
      ]
     },
     "metadata": {},
     "output_type": "display_data"
    },
    {
     "data": {
      "application/vnd.jupyter.widget-view+json": {
       "model_id": "eae459a1e35046c8b2bb88e4b29b323f",
       "version_major": 2,
       "version_minor": 0
      },
      "text/plain": [
       "  0%|          | 0/100 [00:00<?, ?it/s]"
      ]
     },
     "metadata": {},
     "output_type": "display_data"
    },
    {
     "name": "stdout",
     "output_type": "stream",
     "text": [
      "epoch=0, d=1, train loss=0.40177, val loss=0.37915, val acc=0.84199\n",
      "epoch=1, d=1, train loss=0.32399, val loss=0.31893, val acc=0.86018\n",
      "epoch=2, d=1, train loss=0.30092, val loss=0.29910, val acc=0.87155\n",
      "epoch=3, d=1, train loss=0.29207, val loss=0.29139, val acc=0.87421\n",
      "epoch=4, d=1, train loss=0.28792, val loss=0.28782, val acc=0.87509\n",
      "epoch=5, d=1, train loss=0.28580, val loss=0.28622, val acc=0.87600\n",
      "epoch=6, d=1, train loss=0.28488, val loss=0.28549, val acc=0.87593\n"
     ]
    },
    {
     "data": {
      "text/plain": [
       "array([-0.36727409, -0.13552335,  0.73343149, -0.74040821,  0.0123592 ,\n",
       "       -1.24134669, -0.62707713,  0.62317841, -1.57013623,  0.42414139,\n",
       "        0.37043736,  0.18410444, -0.917378  , -1.79528133, -2.26532484,\n",
       "       -2.49121921, -1.41465289, -1.79998314, -1.43793974, -2.73467791,\n",
       "       -2.01156983, -2.59193477, -2.58806774, -2.32614441, -1.51364507,\n",
       "       -0.7798095 , -1.09585201, -1.93522948, -2.13792456, -2.62561799,\n",
       "       -1.47074245, -1.58255476, -2.15965961, -2.64823936, -1.4712084 ,\n",
       "       -1.8934559 , -1.30117968, -1.20323847, -0.98612781, -2.53256969,\n",
       "       -2.371889  , -2.03950723, -1.84606189, -1.52556768, -1.50629462,\n",
       "       -1.79052923, -1.17468286, -1.45578944, -0.72952733, -1.10880423,\n",
       "       -1.46265555, -2.40635265, -2.05276886, -2.68367924, -2.37692201,\n",
       "       -2.03504575, -1.48858135, -1.23302048, -1.77169836, -1.43461004,\n",
       "       -1.11789029, -1.34727799, -1.08687077, -0.11295478,  0.25737512,\n",
       "       -0.5946413 , -1.39653767, -1.2102594 ,  0.73350315, -0.3775139 ,\n",
       "        0.18810261])"
      ]
     },
     "execution_count": 50,
     "metadata": {},
     "output_type": "execute_result"
    }
   ],
   "source": [
    "ind = [i for i,m in enumerate(models_irt_train) if m not in models]\n",
    "Y = np.vstack((lb_data2[scenario]['correctness'], lb_data1['data'][scenario]['correctness'].T[ind]))\n",
    "irt = IRT([1])\n",
    "irt.fit(Y, verbose=True)\n",
    "irt.logAlpha = np.log(np.exp(irt.logAlpha)*irt.Theta.std())\n",
    "irt.Theta = (irt.Theta-irt.Theta.mean())/irt.Theta.std()\n",
    "theta = irt.Theta[:lb_data2[scenario]['correctness'].shape[0]].squeeze()\n",
    "theta"
   ]
  },
  {
   "cell_type": "code",
   "execution_count": 51,
   "id": "2b14ae89-f9f8-4aa9-b308-a191a7afde86",
   "metadata": {},
   "outputs": [
    {
     "data": {
      "application/vnd.jupyter.widget-view+json": {
       "model_id": "6e4f7b30a72f4325a7cf2c687dad7d11",
       "version_major": 2,
       "version_minor": 0
      },
      "text/plain": [
       "  0%|          | 0/1 [00:00<?, ?it/s]"
      ]
     },
     "metadata": {},
     "output_type": "display_data"
    },
    {
     "data": {
      "application/vnd.jupyter.widget-view+json": {
       "model_id": "80f7d91325b24f5e8df6fafb951cadac",
       "version_major": 2,
       "version_minor": 0
      },
      "text/plain": [
       "  0%|          | 0/100 [00:00<?, ?it/s]"
      ]
     },
     "metadata": {},
     "output_type": "display_data"
    },
    {
     "name": "stdout",
     "output_type": "stream",
     "text": [
      "epoch=0, d=1, train loss=0.36062, val loss=0.36467, val acc=0.85454\n",
      "epoch=1, d=1, train loss=0.32434, val loss=0.33619, val acc=0.85542\n",
      "epoch=2, d=1, train loss=0.32161, val loss=0.33347, val acc=0.85596\n",
      "epoch=3, d=1, train loss=0.32051, val loss=0.33204, val acc=0.85577\n",
      "epoch=4, d=1, train loss=0.31983, val loss=0.33138, val acc=0.85598\n"
     ]
    },
    {
     "data": {
      "text/plain": [
       "array([-0.96283286,  0.90796153,  1.07139962, -1.12467776,  0.92414319,\n",
       "       -1.31333269, -0.43124981,  0.98374364, -1.37983942,  1.01033891,\n",
       "        0.43605469,  0.49634351, -1.25676572, -1.41215234, -1.51656837,\n",
       "       -2.65422867, -1.25212764, -1.33849354, -1.28531248, -4.93146789,\n",
       "       -1.4188842 , -3.59278332, -3.34057151, -1.53210937, -1.27457866,\n",
       "       -1.16726115, -1.20657787, -1.43234305, -1.45965753, -3.56952987,\n",
       "       -1.30161689, -1.35139819, -1.46729769, -3.07509033, -1.35015405,\n",
       "       -1.38166515,  0.81572613, -1.25756571, -1.25578261, -3.09240598,\n",
       "       -1.52106885, -1.45015619, -1.38322182, -1.32016666, -1.36483797,\n",
       "       -1.45511441, -1.26681057, -1.33289055, -1.22141717, -1.30676874,\n",
       "       -1.37359461, -2.1292294 , -1.43292198, -3.99066325, -2.19994052,\n",
       "       -1.4146307 , -1.36292828, -1.29027681, -1.41168992, -1.25717539,\n",
       "       -1.14247471, -1.22880682, -1.27453211, -0.18346803, -1.06259258,\n",
       "       -1.14054202, -1.31953947, -1.26196133,  1.13732155,  0.71597259,\n",
       "        1.02861472])"
      ]
     },
     "execution_count": 51,
     "metadata": {},
     "output_type": "execute_result"
    }
   ],
   "source": [
    "irt = IRT([1])\n",
    "irt.fit(lb_data1['data'][scenario]['correctness'].T[ind], verbose=True)\n",
    "irt.logAlpha = np.log(np.exp(irt.logAlpha)*irt.Theta.std())\n",
    "irt.Theta = (irt.Theta-irt.Theta.mean())/irt.Theta.std()\n",
    "Y = lb_data2[scenario]['correctness']\n",
    "theta = irt.fit_theta(Y, list(range(Y.shape[1]))).squeeze()\n",
    "theta"
   ]
  },
  {
   "cell_type": "code",
   "execution_count": null,
   "id": "c467dbc5-1190-4037-a155-213e77281420",
   "metadata": {},
   "outputs": [],
   "source": []
  },
  {
   "cell_type": "code",
   "execution_count": null,
   "id": "9da6c5a3-605e-4742-85e6-dccc68b5048e",
   "metadata": {},
   "outputs": [],
   "source": []
  },
  {
   "cell_type": "code",
   "execution_count": 35,
   "id": "57efc234-b7b8-4848-a3e7-1446762bbacb",
   "metadata": {},
   "outputs": [],
   "source": [
    "scaling_thetas = []\n",
    "for s in scaling_models:\n",
    "    if np.sum(np.array(models)==s)>0:\n",
    "        scaling_thetas.append(theta[np.argmax(np.array(models)==s)])\n",
    "    else:\n",
    "        scaling_thetas.append(np.nan)       "
   ]
  },
  {
   "cell_type": "code",
   "execution_count": 36,
   "id": "5cf74fab-39d8-421a-97f5-64a9d67b6d43",
   "metadata": {},
   "outputs": [],
   "source": [
    "###\n",
    "scaling_data['theta'] = scaling_thetas\n",
    "scaling_data = scaling_data.loc[~np.isnan(scaling_data.theta)]\n",
    "scaling_data = scaling_data.loc[~np.array(np.isnan(scaling_data.loc[:,['FLOPs (1E21)']])).squeeze()]\n",
    "scaling_data['logFLOPs'] = np.log2(scaling_data.loc[:,['FLOPs (1E21)']])\n",
    "scaling_data = scaling_data.loc[:,['Model Family', 'logFLOPs', 'theta', 'Model Size (B)']]\n",
    "scaling_data = scaling_data.rename(columns={'Model Family': \"family\"})\n",
    "scaling_data = scaling_data.groupby('family').filter(lambda x: len(x) > 1)\n",
    "scaling_data = scaling_data.sort_values(by=['family', 'logFLOPs'])"
   ]
  },
  {
   "cell_type": "code",
   "execution_count": 37,
   "id": "830cea02-f2ca-46d3-bec4-65a89768a3d9",
   "metadata": {},
   "outputs": [
    {
     "data": {
      "image/png": "[encoded data removed]",
      "text/plain": [
       "<Figure size 800x500 with 1 Axes>"
      ]
     },
     "metadata": {},
     "output_type": "display_data"
    }
   ],
   "source": [
    "###\n",
    "families = np.unique(scaling_data.family).tolist()\n",
    "cmap = ListedColormap(plt.get_cmap('tab20').colors[:len(families)])  # Ensure unique colors\n",
    "\n",
    "preds = []\n",
    "trues = []\n",
    "plt.figure(figsize=(8, 5))\n",
    "\n",
    "for i, fam in enumerate(families):\n",
    "    test_fam = [fam]\n",
    "    train_fam = [f for f in families if f not in test_fam]\n",
    "    test_ind = np.array([f in test_fam for f in scaling_data.family])\n",
    "    train_ind = ~np.array(test_ind)\n",
    "    test_data = scaling_data.loc[test_ind]\n",
    "    train_data = scaling_data.loc[train_ind]\n",
    "    \n",
    "    mod = smf.ols(formula='theta ~ logFLOPs + family - 1', data=train_data)\n",
    "    mod = mod.fit()\n",
    "    \n",
    "    intercept = np.array(test_data.theta)[0] - (mod.params['logFLOPs']*np.array(test_data.logFLOPs))[0]\n",
    "    preds = np.array(intercept + mod.params['logFLOPs']*np.array(test_data.logFLOPs)).tolist()[1:]\n",
    "    trues = np.array(test_data.theta).tolist()[1:]\n",
    "    \n",
    "    plt.plot(trues, preds, 'o', label=test_fam[0], color=cmap(i))\n",
    "\n",
    "#min_val = -10\n",
    "#max_val = 10\n",
    "#plt.plot([min_val, max_val], [min_val, max_val], 'r--', lw=.5)\n",
    "\n",
    "plt.legend(bbox_to_anchor=(1.05, 1), loc='upper left')\n",
    "plt.xlabel('theta')\n",
    "plt.ylabel('theta_hat')\n",
    "plt.title(scenario)\n",
    "plt.tight_layout()\n",
    "plt.show()"
   ]
  },
  {
   "cell_type": "code",
   "execution_count": null,
   "id": "3b72596c-e6b4-42b2-a6d4-d3891c58ac59",
   "metadata": {},
   "outputs": [],
   "source": []
  },
  {
   "cell_type": "code",
   "execution_count": null,
   "id": "29665141-23b8-4ad5-ba5a-2b0bfd580099",
   "metadata": {},
   "outputs": [],
   "source": []
  },
  {
   "cell_type": "code",
   "execution_count": null,
   "id": "1ccf435c-c5df-4127-b73e-428fb61a2bce",
   "metadata": {},
   "outputs": [],
   "source": []
  },
  {
   "cell_type": "code",
   "execution_count": null,
   "id": "2cd1dd90-a29b-415c-ab97-352fdaf23165",
   "metadata": {},
   "outputs": [],
   "source": []
  }
 ],
 "metadata": {
  "kernelspec": {
   "display_name": "Python 3 (ipykernel)",
   "language": "python",
   "name": "python3"
  },
  "language_info": {
   "codemirror_mode": {
    "name": "ipython",
    "version": 3
   },
   "file_extension": ".py",
   "mimetype": "text/x-python",
   "name": "python",
   "nbconvert_exporter": "python",
   "pygments_lexer": "ipython3",
   "version": "3.12.3"
  }
 },
 "nbformat": 4,
 "nbformat_minor": 5
}
