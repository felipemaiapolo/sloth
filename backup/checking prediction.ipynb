{
 "cells": [
  {
   "cell_type": "code",
   "execution_count": 26,
   "id": "e3ec3606-654a-4892-a90a-2bd342b060fa",
   "metadata": {},
   "outputs": [],
   "source": [
    "import numpy as np\n",
    "import pandas as pd\n",
    "import pickle\n",
    "import matplotlib.pyplot as plt\n",
    "from sklearn.linear_model import LinearRegression\n",
    "from sklearn.preprocessing import LabelEncoder\n",
    "import torch\n",
    "from tqdm.auto import tqdm\n",
    "from sklearn.linear_model import RidgeCV\n",
    "from sklearn.ensemble import RandomForestRegressor\n",
    "from utils import *\n",
    "\n",
    "device='cpu'\n",
    "\n",
    "def logit(x, eps=.001):\n",
    "    c = 0 #np.min(x)\n",
    "    x2 = (np.array(x)-c)/(1-c)\n",
    "    return np.log((x2+eps)/(1-x2+eps))\n",
    "\n",
    "def sigmoid(z, use_torch=True):\n",
    "    if use_torch:\n",
    "        return torch.nn.Sigmoid()(z)\n",
    "    else:\n",
    "        return 1/(1+np.exp(-z))\n",
    "        \n",
    "data_path = '/llmthonskdir/felipe/download_openllmlb/'\n",
    "\n",
    "mmlu_subs = ['hendrycksTest-abstract_algebra', 'hendrycksTest-anatomy', 'hendrycksTest-astronomy', 'hendrycksTest-business_ethics',\n",
    "             'hendrycksTest-clinical_knowledge', 'hendrycksTest-college_biology', 'hendrycksTest-college_chemistry',\n",
    "             'hendrycksTest-college_computer_science', 'hendrycksTest-college_mathematics', 'hendrycksTest-college_medicine', 'hendrycksTest-college_physics', 'hendrycksTest-computer_security', 'hendrycksTest-conceptual_physics', 'hendrycksTest-econometrics', 'hendrycksTest-electrical_engineering', 'hendrycksTest-elementary_mathematics', 'hendrycksTest-formal_logic', 'hendrycksTest-global_facts', 'hendrycksTest-high_school_biology', 'hendrycksTest-high_school_chemistry', 'hendrycksTest-high_school_computer_science', 'hendrycksTest-high_school_european_history', 'hendrycksTest-high_school_geography', 'hendrycksTest-high_school_government_and_politics', 'hendrycksTest-high_school_macroeconomics', 'hendrycksTest-high_school_mathematics', 'hendrycksTest-high_school_microeconomics', 'hendrycksTest-high_school_physics', 'hendrycksTest-high_school_psychology', 'hendrycksTest-high_school_statistics', 'hendrycksTest-high_school_us_history', 'hendrycksTest-high_school_world_history', 'hendrycksTest-human_aging', 'hendrycksTest-human_sexuality', 'hendrycksTest-international_law', 'hendrycksTest-jurisprudence', 'hendrycksTest-logical_fallacies', 'hendrycksTest-machine_learning', 'hendrycksTest-management', 'hendrycksTest-marketing', 'hendrycksTest-medical_genetics', 'hendrycksTest-miscellaneous', 'hendrycksTest-moral_disputes', 'hendrycksTest-moral_scenarios', 'hendrycksTest-nutrition', 'hendrycksTest-philosophy', 'hendrycksTest-prehistory', 'hendrycksTest-professional_accounting', 'hendrycksTest-professional_law', 'hendrycksTest-professional_medicine', 'hendrycksTest-professional_psychology', 'hendrycksTest-public_relations', 'hendrycksTest-security_studies', 'hendrycksTest-sociology', 'hendrycksTest-us_foreign_policy', 'hendrycksTest-virology', 'hendrycksTest-world_religions']"
   ]
  },
  {
   "cell_type": "code",
   "execution_count": 27,
   "id": "2b420e81-fa76-4cf5-bd09-4aea2167a1b3",
   "metadata": {},
   "outputs": [],
   "source": [
    "data = pd.read_csv('data/base_llm_benchmark_eval.csv')\n",
    "models_scaling = list(data.Model)\n",
    "models_scaling = [filter(m) for m in models_scaling]\n",
    "\n",
    "with open(data_path+'scaling_laws/old_leaderboard_processed_20240630.pickle', 'rb') as handle:\n",
    "    lb_data = pickle.load(handle)\n",
    "models_lb = lb_data['hendrycksTest-abstract_algebra']['models']\n",
    "models_lb = [filter(m) for m in models_lb]\n",
    "\n",
    "accs_mmlu = [lb_data[s]['correctness'].mean(1) for s in mmlu_subs]\n",
    "accs_mmlu = np.vstack(accs_mmlu).T"
   ]
  },
  {
   "cell_type": "code",
   "execution_count": 28,
   "id": "81ca3e81-7113-4f2f-ad10-fcc2ed1e3ffe",
   "metadata": {},
   "outputs": [],
   "source": [
    "with open(data_path+'/old_leaderboard_processed_20240630.pickle', 'rb') as handle:\n",
    "    full_lb_data = pickle.load(handle)\n",
    "asymptot = {}\n",
    "for s in full_lb_data.keys():\n",
    "    asymptot[s] = np.percentile(full_lb_data[s]['correctness'].mean(-1), 1)"
   ]
  },
  {
   "cell_type": "code",
   "execution_count": 29,
   "id": "db40b128-8ede-487c-aaaf-49db421ed256",
   "metadata": {},
   "outputs": [],
   "source": [
    "for j,s in enumerate(mmlu_subs):\n",
    "    posics = []\n",
    "    for m in models_scaling:\n",
    "        if m in models_lb:\n",
    "            posics.append(np.array(np.array(models_lb)==m).argmax())\n",
    "        else:\n",
    "            posics.append(-1)\n",
    "    \n",
    "    y = []\n",
    "    for posic in posics:\n",
    "        if posic==-1:\n",
    "            y.append(np.nan)\n",
    "        else:\n",
    "            y.append(accs_mmlu[posic,j])\n",
    "            \n",
    "    data[s] = y"
   ]
  },
  {
   "cell_type": "code",
   "execution_count": 30,
   "id": "77d2d263-bfff-4ba4-b3bc-64a1fc6a10a9",
   "metadata": {},
   "outputs": [],
   "source": [
    "fam_encoder = LabelEncoder()\n",
    "fam_encoder.fit(data['Model Family'])\n",
    "data['T'] = data['Pretraining Data Size (T)']\n",
    "data['S'] = data['Model Size (B)']\n",
    "data['F'] = data['FLOPs (1E21)']\n",
    "data['family'] = data['Model Family']\n",
    "data = data.sort_values(by=['family','S']).reset_index(drop=True)\n",
    "data['logT'] = np.log(data['T'])\n",
    "data['logS'] = np.log(data['S'])\n",
    "data['logF'] = np.log(data['F'])\n",
    "data['logS*logT'] = data['logS']*data['logT']\n",
    "data = data[['family','logT','logS','logF','logS*logT','ARC-C','HellaSwag','Winograd','TruthfulQA','GSM8K','MMLU']+mmlu_subs] \n",
    "data = data.dropna(how='any')"
   ]
  },
  {
   "cell_type": "code",
   "execution_count": 31,
   "id": "3ac0803b-e69e-4c40-8332-fa8d6a3f16fe",
   "metadata": {},
   "outputs": [
    {
     "ename": "SyntaxError",
     "evalue": "expected ':' (3473788181.py, line 1)",
     "output_type": "error",
     "traceback": [
      "\u001b[0;36m  Cell \u001b[0;32mIn[31], line 1\u001b[0;36m\u001b[0m\n\u001b[0;31m    for family in np.unique(data.family)\u001b[0m\n\u001b[0m                                        ^\u001b[0m\n\u001b[0;31mSyntaxError\u001b[0m\u001b[0;31m:\u001b[0m expected ':'\n"
     ]
    }
   ],
   "source": [
    "for family in np.unique(data.family)"
   ]
  },
  {
   "cell_type": "code",
   "execution_count": 32,
   "id": "81776a2d-c6ab-4583-840b-669d55a7683d",
   "metadata": {},
   "outputs": [],
   "source": [
    "family = np.unique(data.family)[1]"
   ]
  },
  {
   "cell_type": "code",
   "execution_count": 33,
   "id": "04c87b22-f74e-4488-9acb-f6e57d930c54",
   "metadata": {},
   "outputs": [],
   "source": []
  },
  {
   "cell_type": "code",
   "execution_count": 37,
   "id": "23ae3760-7e29-40e5-a623-0efb3bdedca9",
   "metadata": {},
   "outputs": [],
   "source": []
  },
  {
   "cell_type": "code",
   "execution_count": 56,
   "id": "684f3e7d-08be-41e9-9a5d-3e56af111e0f",
   "metadata": {},
   "outputs": [
    {
     "data": {
      "application/vnd.jupyter.widget-view+json": {
       "model_id": "94e5c5174eee47c69d247ef3dbbfa8ac",
       "version_major": 2,
       "version_minor": 0
      },
      "text/plain": [
       "  0%|          | 0/27 [00:00<?, ?it/s]"
      ]
     },
     "metadata": {},
     "output_type": "display_data"
    }
   ],
   "source": [
    "errors_rf = []\n",
    "preds_rf = []\n",
    "errors_regr = []\n",
    "preds_regr = []\n",
    "y = []\n",
    "\n",
    "for family in tqdm(np.unique(data.family)):\n",
    "    data_test = data.loc[data.family==family]\n",
    "    data_train = data.loc[~(data.family==family)]\n",
    "    \n",
    "    X_train = data_train.loc[:,['ARC-C','HellaSwag','Winograd','TruthfulQA']]\n",
    "    y_train = data_train.loc[:,['GSM8K','MMLU']+mmlu_subs]\n",
    "    X_test = data_test.loc[:,['ARC-C','HellaSwag','Winograd','TruthfulQA']]\n",
    "    y_test = data_test.loc[:,['GSM8K','MMLU']+mmlu_subs]\n",
    "    \n",
    "    rf = RandomForestRegressor(n_estimators=1000, criterion='absolute_error', max_features='sqrt', random_state=0)\n",
    "    rf.fit(X_train, y_train)\n",
    "    regr = RidgeCV(alphas=np.linspace(1e-5,10,20)) \n",
    "    regr.fit(logit(X_train), logit(y_train))\n",
    "\n",
    "    y.append(np.array(y_test))\n",
    "    preds_rf.append(rf.predict(X_test))\n",
    "    preds_regr.append(sigmoid(regr.predict(logit(X_test)), False))\n",
    "    errors_rf.append(np.abs(rf.predict(X_test)-np.array(y_test)))\n",
    "    errors_regr.append(np.abs(sigmoid(regr.predict(logit(X_test)), False)-np.array(y_test)))"
   ]
  },
  {
   "cell_type": "code",
   "execution_count": null,
   "id": "335d6dba-e6b2-42bf-8476-9284a14a25ca",
   "metadata": {},
   "outputs": [],
   "source": []
  },
  {
   "cell_type": "code",
   "execution_count": 76,
   "id": "b3618ec5-7661-4376-b6e4-d0453369844d",
   "metadata": {},
   "outputs": [
    {
     "data": {
      "text/plain": [
       "array([0.04560842, 0.03648753])"
      ]
     },
     "execution_count": 76,
     "metadata": {},
     "output_type": "execute_result"
    }
   ],
   "source": [
    "np.median(np.vstack(errors_rf),0)[:2]"
   ]
  },
  {
   "cell_type": "code",
   "execution_count": 77,
   "id": "5b214d27-1206-44c3-b457-96adb8bf4e7c",
   "metadata": {},
   "outputs": [
    {
     "data": {
      "text/plain": [
       "array([0.02465567, 0.0316862 ])"
      ]
     },
     "execution_count": 77,
     "metadata": {},
     "output_type": "execute_result"
    }
   ],
   "source": [
    "np.median(np.vstack(errors_regr),0)[:2]"
   ]
  },
  {
   "cell_type": "code",
   "execution_count": 70,
   "id": "883351a8-7183-4adf-80e3-8b6e8ea20076",
   "metadata": {},
   "outputs": [
    {
     "data": {
      "text/plain": [
       "0.04986699943937659"
      ]
     },
     "execution_count": 70,
     "metadata": {},
     "output_type": "execute_result"
    }
   ],
   "source": [
    "np.abs(np.vstack(preds_rf)[:,2:].mean(1)-np.vstack(y)[:,2:].mean(1)).mean()"
   ]
  },
  {
   "cell_type": "code",
   "execution_count": 74,
   "id": "3353a2bd-2995-4010-88e1-d91bb198272e",
   "metadata": {},
   "outputs": [
    {
     "data": {
      "text/plain": [
       "0.04006589486618949"
      ]
     },
     "execution_count": 74,
     "metadata": {},
     "output_type": "execute_result"
    }
   ],
   "source": [
    "np.abs(np.vstack(preds_regr)[:,2:].mean(1)-np.vstack(y)[:,2:].mean(1)).mean()"
   ]
  },
  {
   "cell_type": "code",
   "execution_count": null,
   "id": "5dfb9a8c-124a-40c6-93e3-8a8e139e0802",
   "metadata": {},
   "outputs": [],
   "source": []
  },
  {
   "cell_type": "code",
   "execution_count": null,
   "id": "cc408c42-ebf4-4409-9c63-d7e5b4f624b5",
   "metadata": {},
   "outputs": [],
   "source": []
  },
  {
   "cell_type": "code",
   "execution_count": null,
   "id": "ecc96c2f-88c8-4683-9f3f-dfa62799e833",
   "metadata": {},
   "outputs": [],
   "source": []
  },
  {
   "cell_type": "code",
   "execution_count": 7,
   "id": "66fe85a9-e9bc-4113-be54-8ae53b851066",
   "metadata": {},
   "outputs": [],
   "source": [
    "d = 10\n",
    "\n",
    "epochs=100\n",
    "tol=1e-8"
   ]
  },
  {
   "cell_type": "code",
   "execution_count": 8,
   "id": "266055cd-7279-417b-94dd-c1f34eaa1b29",
   "metadata": {},
   "outputs": [],
   "source": [
    "\n",
    "from sklearn.datasets import make_regression\n"
   ]
  },
  {
   "cell_type": "code",
   "execution_count": 9,
   "id": "90175b7b-a90a-4656-ab88-605394f4459d",
   "metadata": {},
   "outputs": [],
   "source": [
    "\n",
    "unique_families, counts_families = np.unique(data.family, return_counts=True)\n",
    "avail_families = unique_families[counts_families>=2]"
   ]
  },
  {
   "cell_type": "code",
   "execution_count": 12,
   "id": "b267bfd4-c75e-4092-89ed-75c9e83b77ca",
   "metadata": {},
   "outputs": [
    {
     "data": {
      "application/vnd.jupyter.widget-view+json": {
       "model_id": "e697050caf694e6aab00fb933308ffab",
       "version_major": 2,
       "version_minor": 0
      },
      "text/plain": [
       "  0%|          | 0/22 [00:00<?, ?it/s]"
      ]
     },
     "metadata": {},
     "output_type": "display_data"
    }
   ],
   "source": [
    "preds = []\n",
    "preds_baseline = []\n",
    "preds_baseline2 = []\n",
    "preds_rf = []\n",
    "ys = []\n",
    "\n",
    "for test_family in tqdm(avail_families):\n",
    "    \n",
    "    data_train = data.loc[data.family != test_family]\n",
    "    data_test = data.loc[data.family == test_family]\n",
    "    data_train = pd.concat((data_test.iloc[:1],data_train), axis=0).reset_index(drop=True)\n",
    "    data_test = data_test.iloc[1:].reset_index(drop=True)\n",
    "    \n",
    "    ###\n",
    "    Y_train = torch.tensor(logit(np.array(data_train.loc[:,['ARC-C','HellaSwag','Winograd','TruthfulQA','GSM8K']+mmlu_subs])))\n",
    "    X_train = np.array(data_train.loc[:,['logT','logS','logS*logT']])\n",
    "    X_train = torch.tensor(np.hstack((np.ones(X_train.shape[0])[:,None], X_train))).double()\n",
    "    Y_test = torch.tensor(logit(np.array(data_test.loc[:,['ARC-C','HellaSwag','Winograd','TruthfulQA','GSM8K']+mmlu_subs])))\n",
    "    X_test = np.array(data_test.loc[:,['logT','logS','logS*logT']])\n",
    "    X_test = torch.tensor(np.hstack((np.ones(X_test.shape[0])[:,None], X_test))).double()\n",
    "    D_train = torch.tensor(np.array(pd.get_dummies(np.array(data_train.family)))).double()\n",
    "    D_test = torch.tensor(np.vstack([D_train[0,:].numpy() for _ in range(Y_test.shape[0])])).double()\n",
    "\n",
    "    X2_train = torch.hstack((torch.tensor(np.array(data_train.loc[:,['logT','logS','logS*logT']])), D_train)) #torch.tensor(np.array(data_train.loc[:,['logF']]))\n",
    "    X2_test = torch.hstack((torch.tensor(np.array(data_test.loc[:,['logT','logS','logS*logT']])), D_test)) #torch.tensor(np.array(data_train.loc[:,['logF']]))\n",
    "\n",
    "    ###\n",
    "    thetas = torch.nn.Parameter(torch.normal(0, .5, size=(D_train.shape[1],d), dtype=torch.float64, device=device))\n",
    "    beta = torch.nn.Parameter(torch.normal(0, .5, size=(X_train.shape[1]+d,Y_train.shape[1]), dtype=torch.float64, device=device))\n",
    "    beta_baseline = torch.nn.Parameter(torch.normal(0, .5, size=(X_train.shape[1],Y_train.shape[1]), dtype=torch.float64, device=device))\n",
    "    beta_baseline2 = torch.nn.Parameter(torch.normal(0, .5, size=(X2_train.shape[1],Y_train.shape[1]), dtype=torch.float64, device=device))\n",
    "    \n",
    "    ###\n",
    "    optimizer = torch.optim.LBFGS([beta,thetas], lr=.1, line_search_fn='strong_wolfe')\n",
    "    losses = []\n",
    "    for epoch in range(epochs):\n",
    "        def closure():\n",
    "            optimizer.zero_grad()\n",
    "            loss = (((X_train@beta[d:] + (D_train@thetas)@beta[:d])-Y_train)**2).mean()\n",
    "            loss.backward()\n",
    "            return loss\n",
    "        loss = optimizer.step(closure)\n",
    "        abs_loss = (((X_train@beta[d:] + (D_train@thetas)@beta[:d])-Y_train).abs()).mean()\n",
    "        losses.append(abs_loss.item())\n",
    "    \n",
    "        if epoch>=1:\n",
    "            if losses[-2]-losses[-1]<=tol:\n",
    "                break\n",
    "\n",
    "    ###\n",
    "    optimizer = torch.optim.LBFGS([beta_baseline], lr=.1, line_search_fn='strong_wolfe')\n",
    "    losses = []\n",
    "    for epoch in range(epochs):\n",
    "        def closure():\n",
    "            optimizer.zero_grad()\n",
    "            loss = (((X_train@beta_baseline)-Y_train)**2).mean()\n",
    "            loss.backward()\n",
    "            return loss\n",
    "        loss = optimizer.step(closure)\n",
    "        abs_loss = (((X_train@beta_baseline)-Y_train).abs()).mean()\n",
    "        losses.append(abs_loss.item())\n",
    "    \n",
    "        if epoch>=1:\n",
    "            if losses[-2]-losses[-1]<=tol:\n",
    "                break\n",
    "\n",
    "    ###\n",
    "    optimizer = torch.optim.LBFGS([beta_baseline2], lr=.1, line_search_fn='strong_wolfe')\n",
    "    losses = []\n",
    "    for epoch in range(epochs):\n",
    "        def closure():\n",
    "            optimizer.zero_grad()\n",
    "            loss = (((X2_train@beta_baseline2)-Y_train)**2).mean()\n",
    "            loss.backward()\n",
    "            return loss\n",
    "        loss = optimizer.step(closure)\n",
    "        abs_loss = (((X2_train@beta_baseline2)-Y_train).abs()).mean()\n",
    "        losses.append(abs_loss.item())\n",
    "    \n",
    "        if epoch>=1:\n",
    "            if losses[-2]-losses[-1]<=tol:\n",
    "                break\n",
    "\n",
    "    preds.append(sigmoid(((X_test@beta[d:] + (D_test@thetas)@beta[:d]))).detach().numpy())\n",
    "    preds_baseline.append(sigmoid(((X_test@beta_baseline))).detach().numpy())\n",
    "    preds_baseline2.append(sigmoid(((X2_test@beta_baseline2))).detach().numpy())\n",
    "\n",
    "    ###\n",
    "    cols = [[0],[1],[2],[3],[4],list(range(Y_train.shape[1]))[5:]]\n",
    "    pred_rf = np.zeros((Y_test.shape[0],Y_train.shape[1]))\n",
    "    for col in cols:\n",
    "        regr = RidgeCV(alphas=np.linspace(1e-5,10,20)) #RandomForestRegressor(n_estimators=1000, max_features='sqrt', random_state=0)\n",
    "        regr.fit(Y_train[:,:4], Y_train[:,col].squeeze()) #np.delete(sigmoid(Y_train), col, axis=1), \n",
    "        pred_rf[:,col] = sigmoid(regr.predict(logit(preds_baseline2[-1])[:,:4]).reshape(-1,len(col)), use_torch=False) #np.delete(logit(preds_baseline2[-1]), col, axis=1)\n",
    "        #pred_rf[:,[i for i in range(Y_train.shape[1]) if i not in col]] = preds_baseline2[-1][:,[i for i in range(Y_train.shape[1]) if i not in col]]\n",
    "    preds_rf.append(pred_rf)\n",
    "        \n",
    "    ys.append(sigmoid(Y_test[:,:]).numpy())"
   ]
  },
  {
   "cell_type": "code",
   "execution_count": 13,
   "id": "83a287d5-5278-42d4-b0e6-76979ed15012",
   "metadata": {},
   "outputs": [
    {
     "data": {
      "text/plain": [
       "array([0.03484117, 0.04405401, 0.02929322, 0.04246133, 0.05998127])"
      ]
     },
     "execution_count": 13,
     "metadata": {},
     "output_type": "execute_result"
    }
   ],
   "source": [
    "np.mean(np.abs(np.vstack(preds)[:,:5]-np.vstack(ys)[:,:5]), axis=0)"
   ]
  },
  {
   "cell_type": "code",
   "execution_count": 14,
   "id": "68c3f764-781c-404b-b73e-c6a6f6dbbc42",
   "metadata": {},
   "outputs": [
    {
     "data": {
      "text/plain": [
       "array([0.05159197, 0.06620617, 0.04097824, 0.03716612, 0.0777711 ])"
      ]
     },
     "execution_count": 14,
     "metadata": {},
     "output_type": "execute_result"
    }
   ],
   "source": [
    "np.mean(np.abs(np.vstack(preds_baseline)[:,:5]-np.vstack(ys)[:,:5]), axis=0)"
   ]
  },
  {
   "cell_type": "code",
   "execution_count": 15,
   "id": "0a8f6d75-9ac6-4a98-865c-3a235942c8be",
   "metadata": {},
   "outputs": [
    {
     "data": {
      "text/plain": [
       "array([0.02932462, 0.046043  , 0.02988084, 0.04813632, 0.06037273])"
      ]
     },
     "execution_count": 15,
     "metadata": {},
     "output_type": "execute_result"
    }
   ],
   "source": [
    "np.mean(np.abs(np.vstack(preds_baseline2)[:,:5]-np.vstack(ys)[:,:5]), axis=0)"
   ]
  },
  {
   "cell_type": "code",
   "execution_count": 16,
   "id": "78f4e24c-ac34-4564-8a61-34111f0bee70",
   "metadata": {},
   "outputs": [
    {
     "data": {
      "text/plain": [
       "array([0.02936353, 0.04601182, 0.02983732, 0.04809264, 0.09816683])"
      ]
     },
     "execution_count": 16,
     "metadata": {},
     "output_type": "execute_result"
    }
   ],
   "source": [
    "np.mean(np.abs(np.vstack(preds_rf)[:,:5]-np.vstack(ys)[:,:5]), axis=0)"
   ]
  },
  {
   "cell_type": "code",
   "execution_count": null,
   "id": "ae7c92c9-a6e9-4c6a-bf9a-fe82e64b98d8",
   "metadata": {},
   "outputs": [],
   "source": []
  },
  {
   "cell_type": "code",
   "execution_count": 17,
   "id": "b0354c34-76f4-4e3e-bda3-9754250f6c4a",
   "metadata": {},
   "outputs": [
    {
     "data": {
      "text/plain": [
       "array([0.02349686, 0.029052  , 0.02275559, 0.03488756, 0.01179707])"
      ]
     },
     "execution_count": 17,
     "metadata": {},
     "output_type": "execute_result"
    }
   ],
   "source": [
    "np.median(np.abs(np.vstack(preds)[:,:5]-np.vstack(ys)[:,:5]), axis=0)"
   ]
  },
  {
   "cell_type": "code",
   "execution_count": 18,
   "id": "01a6367e-5f3f-4cfc-9807-7f9c10db8ac6",
   "metadata": {},
   "outputs": [
    {
     "data": {
      "text/plain": [
       "array([0.03058035, 0.04576952, 0.02934638, 0.02100441, 0.02115813])"
      ]
     },
     "execution_count": 18,
     "metadata": {},
     "output_type": "execute_result"
    }
   ],
   "source": [
    "np.median(np.abs(np.vstack(preds_baseline)[:,:5]-np.vstack(ys)[:,:5]), axis=0)"
   ]
  },
  {
   "cell_type": "code",
   "execution_count": 19,
   "id": "06b5651d-e055-4cd3-b2aa-350814b0bc83",
   "metadata": {},
   "outputs": [
    {
     "data": {
      "text/plain": [
       "array([0.01784383, 0.03382038, 0.02087774, 0.04381062, 0.01115699])"
      ]
     },
     "execution_count": 19,
     "metadata": {},
     "output_type": "execute_result"
    }
   ],
   "source": [
    "np.median(np.abs(np.vstack(preds_baseline2)[:,:5]-np.vstack(ys)[:,:5]), axis=0)"
   ]
  },
  {
   "cell_type": "code",
   "execution_count": 20,
   "id": "a2c3caa3-d9d6-4053-86d2-b4c654b7fe28",
   "metadata": {},
   "outputs": [
    {
     "data": {
      "text/plain": [
       "array([0.01797291, 0.03410773, 0.02103038, 0.04392663, 0.02196258])"
      ]
     },
     "execution_count": 20,
     "metadata": {},
     "output_type": "execute_result"
    }
   ],
   "source": [
    "np.median(np.abs(np.vstack(preds_rf)[:,:5]-np.vstack(ys)[:,:5]), axis=0)"
   ]
  },
  {
   "cell_type": "code",
   "execution_count": null,
   "id": "6930fd07-17d2-44e8-b362-1b6e0ac127c7",
   "metadata": {},
   "outputs": [],
   "source": []
  },
  {
   "cell_type": "code",
   "execution_count": null,
   "id": "a196d2e4-0366-48b2-9d9f-5c6d8db0dbe1",
   "metadata": {},
   "outputs": [],
   "source": []
  },
  {
   "cell_type": "code",
   "execution_count": 21,
   "id": "53448c99-91c4-447b-bbbd-00f1cc9173d2",
   "metadata": {},
   "outputs": [
    {
     "data": {
      "text/plain": [
       "0.05534097995038255"
      ]
     },
     "execution_count": 21,
     "metadata": {},
     "output_type": "execute_result"
    }
   ],
   "source": [
    "np.mean(np.abs(np.vstack(preds)[:,5:].mean(1)-np.vstack(ys)[:,5:].mean(1)))"
   ]
  },
  {
   "cell_type": "code",
   "execution_count": 22,
   "id": "5f18d3af-a8ac-45f7-96d3-5ad223c6b28c",
   "metadata": {},
   "outputs": [
    {
     "data": {
      "text/plain": [
       "0.07484974350315568"
      ]
     },
     "execution_count": 22,
     "metadata": {},
     "output_type": "execute_result"
    }
   ],
   "source": [
    "np.mean(np.abs(np.vstack(preds_baseline)[:,5:].mean(1)-np.vstack(ys)[:,5:].mean(1)))"
   ]
  },
  {
   "cell_type": "code",
   "execution_count": 23,
   "id": "99d6597f-f137-4d5a-bd81-473ac40b4d51",
   "metadata": {},
   "outputs": [
    {
     "data": {
      "text/plain": [
       "0.05556360186100937"
      ]
     },
     "execution_count": 23,
     "metadata": {},
     "output_type": "execute_result"
    }
   ],
   "source": [
    "np.mean(np.abs(np.vstack(preds_baseline2)[:,5:].mean(1)-np.vstack(ys)[:,5:].mean(1)))"
   ]
  },
  {
   "cell_type": "code",
   "execution_count": 24,
   "id": "a578fc5b-8e59-4f04-a352-f1ce46df403e",
   "metadata": {},
   "outputs": [
    {
     "data": {
      "text/plain": [
       "0.07491827144189878"
      ]
     },
     "execution_count": 24,
     "metadata": {},
     "output_type": "execute_result"
    }
   ],
   "source": [
    "np.mean(np.abs(np.vstack(preds_rf)[:,5:].mean(1)-np.vstack(ys)[:,5:].mean(1)), axis=0)"
   ]
  },
  {
   "cell_type": "code",
   "execution_count": null,
   "id": "a9ff9f9e-eaa7-4c7d-93f6-0d93f279dcc7",
   "metadata": {},
   "outputs": [],
   "source": []
  },
  {
   "cell_type": "code",
   "execution_count": 21,
   "id": "ff042c57-c7b8-403f-a94e-12ea2d8d66f6",
   "metadata": {},
   "outputs": [
    {
     "data": {
      "text/plain": [
       "0.04061560915989798"
      ]
     },
     "execution_count": 21,
     "metadata": {},
     "output_type": "execute_result"
    }
   ],
   "source": [
    "np.median(np.abs(np.vstack(preds)[:,5:].mean(1)-np.vstack(ys)[:,5:].mean(1)))"
   ]
  },
  {
   "cell_type": "code",
   "execution_count": 22,
   "id": "15026573-0bb3-425f-adf6-fd8ceab7789d",
   "metadata": {},
   "outputs": [
    {
     "data": {
      "text/plain": [
       "0.07036375818993645"
      ]
     },
     "execution_count": 22,
     "metadata": {},
     "output_type": "execute_result"
    }
   ],
   "source": [
    "np.median(np.abs(np.vstack(preds_baseline)[:,5:].mean(1)-np.vstack(ys)[:,5:].mean(1)))"
   ]
  },
  {
   "cell_type": "code",
   "execution_count": 23,
   "id": "cc2efb47-8250-4131-96a8-610f86e84aa5",
   "metadata": {},
   "outputs": [
    {
     "data": {
      "text/plain": [
       "0.04036635411883588"
      ]
     },
     "execution_count": 23,
     "metadata": {},
     "output_type": "execute_result"
    }
   ],
   "source": [
    "np.median(np.abs(np.vstack(preds_baseline2)[:,5:].mean(1)-np.vstack(ys)[:,5:].mean(1)))"
   ]
  },
  {
   "cell_type": "code",
   "execution_count": null,
   "id": "ec5cdf07-d10f-4e28-8758-afa4261eacc9",
   "metadata": {},
   "outputs": [],
   "source": []
  },
  {
   "cell_type": "code",
   "execution_count": null,
   "id": "7e913971-732a-420f-b2c1-1538fb08a393",
   "metadata": {},
   "outputs": [],
   "source": []
  }
 ],
 "metadata": {
  "kernelspec": {
   "display_name": "Python 3 (ipykernel)",
   "language": "python",
   "name": "python3"
  },
  "language_info": {
   "codemirror_mode": {
    "name": "ipython",
    "version": 3
   },
   "file_extension": ".py",
   "mimetype": "text/x-python",
   "name": "python",
   "nbconvert_exporter": "python",
   "pygments_lexer": "ipython3",
   "version": "3.11.7"
  }
 },
 "nbformat": 4,
 "nbformat_minor": 5
}
