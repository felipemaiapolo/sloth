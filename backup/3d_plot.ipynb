{
 "cells": [
  {
   "cell_type": "code",
   "execution_count": 10,
   "id": "e3ec3606-654a-4892-a90a-2bd342b060fa",
   "metadata": {},
   "outputs": [],
   "source": [
    "import numpy as np\n",
    "import pandas as pd\n",
    "import matplotlib.pyplot as plt\n",
    "import matplotlib.colors as mcolors\n",
    "import plotly.graph_objs as go\n",
    "import numpy as np\n",
    "import seaborn as sns\n",
    "\n",
    "def logit(x, c, eps=0):\n",
    "    x2 = (x-c)/(1-c)\n",
    "    logit = np.log((x2+eps)/(1-x2+eps))\n",
    "    return np.log((x2+eps)/(1-x2+eps)), c\n",
    "\n",
    "num_fam = 15\n",
    "start = 0"
   ]
  },
  {
   "cell_type": "code",
   "execution_count": 11,
   "id": "e58c8869-6e32-4192-9058-9b99a8046f75",
   "metadata": {},
   "outputs": [],
   "source": [
    "scenarios = ['IFEval','BBH','MATH Lvl 5','GPQA','MUSR','MMLU-PRO','MMLU','ARC','HellaSwag','Winogrande','TruthfulQA','GSM8K']"
   ]
  },
  {
   "cell_type": "code",
   "execution_count": 14,
   "id": "f3d6d704-d781-492b-ba11-85e90eda407f",
   "metadata": {},
   "outputs": [
    {
     "name": "stdout",
     "output_type": "stream",
     "text": [
      "************ IFEval ************\n"
     ]
    },
    {
     "data": {
      "application/vnd.plotly.v1+json": {
       "config": {
        "plotlyServerURL": "https://plot.ly"
       },
       "data": [
        {
         "marker": {
          "color": "#ff5f00",
          "opacity": 0.8,
          "size": 8
         },
         "mode": "markers",
         "name": "bloom",
         "type": "scatter3d",
         "x": [
          0,
          1.0986122886681096,
          -0.579818495252942,
          1.9459101490553132
         ],
         "y": [
          -1.0758728016986203,
          -1.0758728016986203,
          -1.0758728016986203,
          -1.0758728016986203
         ],
         "z": [
          0.14,
          0.13,
          0.06,
          0.13
         ]
        },
        {
         "marker": {
          "color": "#ffbd00",
          "opacity": 0.8,
          "size": 8
         },
         "mode": "markers",
         "name": "gemma",
         "type": "scatter3d",
         "x": [
          0.6931471805599453,
          1.9459101490553132
         ],
         "y": [
          1.791759469228055,
          1.791759469228055
         ],
         "z": [
          0.2,
          0.27
         ]
        },
        {
         "marker": {
          "color": "#e2ff00",
          "opacity": 0.8,
          "size": 8
         },
         "mode": "markers",
         "name": "gemma-2",
         "type": "scatter3d",
         "x": [
          0.6931471805599453,
          2.197224577336219
         ],
         "y": [
          2.0794415416798357,
          2.5649493574615367
         ],
         "z": [
          0.2,
          0.21
         ]
        },
        {
         "marker": {
          "color": "#84ff00",
          "opacity": 0.8,
          "size": 8
         },
         "mode": "markers",
         "name": "gpt-neo/j",
         "type": "scatter3d",
         "x": [
          0.26236426446749106,
          0.9932517730102834
         ],
         "y": [
          -0.9675840262617056,
          -0.8675005677047231
         ],
         "z": [
          0.21,
          0.26
         ]
        },
        {
         "marker": {
          "color": "#25ff00",
          "opacity": 0.8,
          "size": 8
         },
         "mode": "markers",
         "name": "llama",
         "type": "scatter3d",
         "x": [
          2.5649493574615367,
          4.174387269895637,
          1.9459101490553132
         ],
         "y": [
          0,
          0.33647223662121284,
          0
         ],
         "z": [
          0.24,
          0.25,
          0.25
         ]
        },
        {
         "marker": {
          "color": "#00ff39",
          "opacity": 0.8,
          "size": 8
         },
         "mode": "markers",
         "name": "llama-2",
         "type": "scatter3d",
         "x": [
          2.5649493574615367,
          4.2484952420493585,
          1.9459101490553132
         ],
         "y": [
          0.6931471805599453,
          0.6931471805599453,
          0.6931471805599453
         ],
         "z": [
          0.25,
          0.24,
          0.25
         ]
        },
        {
         "marker": {
          "color": "#00ff97",
          "opacity": 0.8,
          "size": 8
         },
         "mode": "markers",
         "name": "olmo",
         "type": "scatter3d",
         "x": [
          0,
          1.9459101490553132
         ],
         "y": [
          1.0986122886681096,
          0.916290731874155
         ],
         "z": [
          0.22,
          0.27
         ]
        },
        {
         "marker": {
          "color": "#00fff6",
          "opacity": 0.8,
          "size": 8
         },
         "mode": "markers",
         "name": "opt",
         "type": "scatter3d",
         "x": [
          0.26236426446749106,
          3.4011973816621555
         ],
         "y": [
          -1.7147984280919266,
          -1.7147984280919266
         ],
         "z": [
          0.24,
          0.25
         ]
        },
        {
         "marker": {
          "color": "#00aaff",
          "opacity": 0.8,
          "size": 8
         },
         "mode": "markers",
         "name": "pythia",
         "type": "scatter3d",
         "x": [
          2.4849066497880004,
          -1.83258146374831,
          1.0296194171811581,
          -0.8915981192837836,
          1.9315214116032138
         ],
         "y": [
          -1.3862943611198906,
          -1.3862943611198906,
          -1.3862943611198906,
          -1.3862943611198906,
          -1.3862943611198906
         ],
         "z": [
          0.25,
          0.18,
          0.22,
          0.22,
          0.23
         ]
        },
        {
         "marker": {
          "color": "#004bff",
          "opacity": 0.8,
          "size": 8
         },
         "mode": "markers",
         "name": "qwen1.5",
         "type": "scatter3d",
         "x": [
          -0.6931471805599453,
          0.5877866649021191,
          2.6390573296152584,
          3.4657359027997265,
          1.3862943611198906,
          1.9459101490553132
         ],
         "y": [
          0.8754687373538999,
          0.8754687373538999,
          1.3862943611198906,
          1.3862943611198906,
          0.8754687373538999,
          1.3862943611198906
         ],
         "z": [
          0.17,
          0.22,
          0.29,
          0.33,
          0.24,
          0.27
         ]
        },
        {
         "marker": {
          "color": "#1300ff",
          "opacity": 0.8,
          "size": 8
         },
         "mode": "markers",
         "name": "qwen2",
         "type": "scatter3d",
         "x": [
          -0.6931471805599453,
          0.4054651081081644,
          4.276666119016055,
          1.9459101490553132
         ],
         "y": [
          2.4849066497880004,
          1.9459101490553132,
          1.9459101490553132,
          1.9459101490553132
         ],
         "z": [
          0.19,
          0.21,
          0.38,
          0.31
         ]
        },
        {
         "marker": {
          "color": "#7200ff",
          "opacity": 0.8,
          "size": 8
         },
         "mode": "markers",
         "name": "smollm",
         "type": "scatter3d",
         "x": [
          0.5306282510621704,
          -2.0024805005437076,
          -1.0216512475319814
         ],
         "y": [
          0,
          -0.5108256237659907,
          -0.5108256237659907
         ],
         "z": [
          0.24,
          0.21,
          0.21
         ]
        },
        {
         "marker": {
          "color": "#d000ff",
          "opacity": 0.8,
          "size": 8
         },
         "mode": "markers",
         "name": "starcoder2",
         "type": "scatter3d",
         "x": [
          2.70805020110221,
          1.0986122886681096,
          1.9459101490553132
         ],
         "y": [
          1.4586150226995167,
          1.1939224684724343,
          1.3083328196501787
         ],
         "z": [
          0.27,
          0.2,
          0.22
         ]
        },
        {
         "marker": {
          "color": "#ff00cf",
          "opacity": 0.8,
          "size": 8
         },
         "mode": "markers",
         "name": "yi",
         "type": "scatter3d",
         "x": [
          3.526360524616161,
          1.791759469228055,
          2.197224577336219
         ],
         "y": [
          1.0986122886681096,
          1.0986122886681096,
          1.33500106673234
         ],
         "z": [
          0.3,
          0.29,
          0.27
         ]
        },
        {
         "marker": {
          "color": "#ff0071",
          "opacity": 0.8,
          "size": 8
         },
         "mode": "markers",
         "name": "yi-1.5",
         "type": "scatter3d",
         "x": [
          3.526360524616161,
          1.791759469228055,
          2.197224577336219
         ],
         "y": [
          1.252762968495368,
          1.252762968495368,
          1.252762968495368
         ],
         "z": [
          0.28,
          0.26,
          0.29
         ]
        }
       ],
       "layout": {
        "autosize": true,
        "margin": {
         "b": 0,
         "l": 0,
         "r": 0,
         "t": 0
        },
        "scene": {
         "aspectmode": "auto",
         "aspectratio": {
          "x": 1,
          "y": 1,
          "z": 1
         },
         "camera": {
          "center": {
           "x": 0,
           "y": 0,
           "z": 0
          },
          "eye": {
           "x": -1.6698173518376753,
           "y": -1.2870231044931266,
           "z": 0.4927286677297039
          },
          "projection": {
           "type": "perspective"
          },
          "up": {
           "x": 0,
           "y": 0,
           "z": 1
          }
         },
         "xaxis": {
          "title": {
           "text": "logS"
          },
          "type": "linear"
         },
         "yaxis": {
          "title": {
           "text": "logT"
          },
          "type": "linear"
         },
         "zaxis": {
          "title": {
           "text": "y"
          },
          "type": "linear"
         }
        },
        "template": {
         "data": {
          "bar": [
           {
            "error_x": {
             "color": "#2a3f5f"
            },
            "error_y": {
             "color": "#2a3f5f"
            },
            "marker": {
             "line": {
              "color": "#E5ECF6",
              "width": 0.5
             },
             "pattern": {
              "fillmode": "overlay",
              "size": 10,
              "solidity": 0.2
             }
            },
            "type": "bar"
           }
          ],
          "barpolar": [
           {
            "marker": {
             "line": {
              "color": "#E5ECF6",
              "width": 0.5
             },
             "pattern": {
              "fillmode": "overlay",
              "size": 10,
              "solidity": 0.2
             }
            },
            "type": "barpolar"
           }
          ],
          "carpet": [
           {
            "aaxis": {
             "endlinecolor": "#2a3f5f",
             "gridcolor": "white",
             "linecolor": "white",
             "minorgridcolor": "white",
             "startlinecolor": "#2a3f5f"
            },
            "baxis": {
             "endlinecolor": "#2a3f5f",
             "gridcolor": "white",
             "linecolor": "white",
             "minorgridcolor": "white",
             "startlinecolor": "#2a3f5f"
            },
            "type": "carpet"
           }
          ],
          "choropleth": [
           {
            "colorbar": {
             "outlinewidth": 0,
             "ticks": ""
            },
            "type": "choropleth"
           }
          ],
          "contour": [
           {
            "colorbar": {
             "outlinewidth": 0,
             "ticks": ""
            },
            "colorscale": [
             [
              0,
              "#0d0887"
             ],
             [
              0.1111111111111111,
              "#46039f"
             ],
             [
              0.2222222222222222,
              "#7201a8"
             ],
             [
              0.3333333333333333,
              "#9c179e"
             ],
             [
              0.4444444444444444,
              "#bd3786"
             ],
             [
              0.5555555555555556,
              "#d8576b"
             ],
             [
              0.6666666666666666,
              "#ed7953"
             ],
             [
              0.7777777777777778,
              "#fb9f3a"
             ],
             [
              0.8888888888888888,
              "#fdca26"
             ],
             [
              1,
              "#f0f921"
             ]
            ],
            "type": "contour"
           }
          ],
          "contourcarpet": [
           {
            "colorbar": {
             "outlinewidth": 0,
             "ticks": ""
            },
            "type": "contourcarpet"
           }
          ],
          "heatmap": [
           {
            "colorbar": {
             "outlinewidth": 0,
             "ticks": ""
            },
            "colorscale": [
             [
              0,
              "#0d0887"
             ],
             [
              0.1111111111111111,
              "#46039f"
             ],
             [
              0.2222222222222222,
              "#7201a8"
             ],
             [
              0.3333333333333333,
              "#9c179e"
             ],
             [
              0.4444444444444444,
              "#bd3786"
             ],
             [
              0.5555555555555556,
              "#d8576b"
             ],
             [
              0.6666666666666666,
              "#ed7953"
             ],
             [
              0.7777777777777778,
              "#fb9f3a"
             ],
             [
              0.8888888888888888,
              "#fdca26"
             ],
             [
              1,
              "#f0f921"
             ]
            ],
            "type": "heatmap"
           }
          ],
          "heatmapgl": [
           {
            "colorbar": {
             "outlinewidth": 0,
             "ticks": ""
            },
            "colorscale": [
             [
              0,
              "#0d0887"
             ],
             [
              0.1111111111111111,
              "#46039f"
             ],
             [
              0.2222222222222222,
              "#7201a8"
             ],
             [
              0.3333333333333333,
              "#9c179e"
             ],
             [
              0.4444444444444444,
              "#bd3786"
             ],
             [
              0.5555555555555556,
              "#d8576b"
             ],
             [
              0.6666666666666666,
              "#ed7953"
             ],
             [
              0.7777777777777778,
              "#fb9f3a"
             ],
             [
              0.8888888888888888,
              "#fdca26"
             ],
             [
              1,
              "#f0f921"
             ]
            ],
            "type": "heatmapgl"
           }
          ],
          "histogram": [
           {
            "marker": {
             "pattern": {
              "fillmode": "overlay",
              "size": 10,
              "solidity": 0.2
             }
            },
            "type": "histogram"
           }
          ],
          "histogram2d": [
           {
            "colorbar": {
             "outlinewidth": 0,
             "ticks": ""
            },
            "colorscale": [
             [
              0,
              "#0d0887"
             ],
             [
              0.1111111111111111,
              "#46039f"
             ],
             [
              0.2222222222222222,
              "#7201a8"
             ],
             [
              0.3333333333333333,
              "#9c179e"
             ],
             [
              0.4444444444444444,
              "#bd3786"
             ],
             [
              0.5555555555555556,
              "#d8576b"
             ],
             [
              0.6666666666666666,
              "#ed7953"
             ],
             [
              0.7777777777777778,
              "#fb9f3a"
             ],
             [
              0.8888888888888888,
              "#fdca26"
             ],
             [
              1,
              "#f0f921"
             ]
            ],
            "type": "histogram2d"
           }
          ],
          "histogram2dcontour": [
           {
            "colorbar": {
             "outlinewidth": 0,
             "ticks": ""
            },
            "colorscale": [
             [
              0,
              "#0d0887"
             ],
             [
              0.1111111111111111,
              "#46039f"
             ],
             [
              0.2222222222222222,
              "#7201a8"
             ],
             [
              0.3333333333333333,
              "#9c179e"
             ],
             [
              0.4444444444444444,
              "#bd3786"
             ],
             [
              0.5555555555555556,
              "#d8576b"
             ],
             [
              0.6666666666666666,
              "#ed7953"
             ],
             [
              0.7777777777777778,
              "#fb9f3a"
             ],
             [
              0.8888888888888888,
              "#fdca26"
             ],
             [
              1,
              "#f0f921"
             ]
            ],
            "type": "histogram2dcontour"
           }
          ],
          "mesh3d": [
           {
            "colorbar": {
             "outlinewidth": 0,
             "ticks": ""
            },
            "type": "mesh3d"
           }
          ],
          "parcoords": [
           {
            "line": {
             "colorbar": {
              "outlinewidth": 0,
              "ticks": ""
             }
            },
            "type": "parcoords"
           }
          ],
          "pie": [
           {
            "automargin": true,
            "type": "pie"
           }
          ],
          "scatter": [
           {
            "fillpattern": {
             "fillmode": "overlay",
             "size": 10,
             "solidity": 0.2
            },
            "type": "scatter"
           }
          ],
          "scatter3d": [
           {
            "line": {
             "colorbar": {
              "outlinewidth": 0,
              "ticks": ""
             }
            },
            "marker": {
             "colorbar": {
              "outlinewidth": 0,
              "ticks": ""
             }
            },
            "type": "scatter3d"
           }
          ],
          "scattercarpet": [
           {
            "marker": {
             "colorbar": {
              "outlinewidth": 0,
              "ticks": ""
             }
            },
            "type": "scattercarpet"
           }
          ],
          "scattergeo": [
           {
            "marker": {
             "colorbar": {
              "outlinewidth": 0,
              "ticks": ""
             }
            },
            "type": "scattergeo"
           }
          ],
          "scattergl": [
           {
            "marker": {
             "colorbar": {
              "outlinewidth": 0,
              "ticks": ""
             }
            },
            "type": "scattergl"
           }
          ],
          "scattermapbox": [
           {
            "marker": {
             "colorbar": {
              "outlinewidth": 0,
              "ticks": ""
             }
            },
            "type": "scattermapbox"
           }
          ],
          "scatterpolar": [
           {
            "marker": {
             "colorbar": {
              "outlinewidth": 0,
              "ticks": ""
             }
            },
            "type": "scatterpolar"
           }
          ],
          "scatterpolargl": [
           {
            "marker": {
             "colorbar": {
              "outlinewidth": 0,
              "ticks": ""
             }
            },
            "type": "scatterpolargl"
           }
          ],
          "scatterternary": [
           {
            "marker": {
             "colorbar": {
              "outlinewidth": 0,
              "ticks": ""
             }
            },
            "type": "scatterternary"
           }
          ],
          "surface": [
           {
            "colorbar": {
             "outlinewidth": 0,
             "ticks": ""
            },
            "colorscale": [
             [
              0,
              "#0d0887"
             ],
             [
              0.1111111111111111,
              "#46039f"
             ],
             [
              0.2222222222222222,
              "#7201a8"
             ],
             [
              0.3333333333333333,
              "#9c179e"
             ],
             [
              0.4444444444444444,
              "#bd3786"
             ],
             [
              0.5555555555555556,
              "#d8576b"
             ],
             [
              0.6666666666666666,
              "#ed7953"
             ],
             [
              0.7777777777777778,
              "#fb9f3a"
             ],
             [
              0.8888888888888888,
              "#fdca26"
             ],
             [
              1,
              "#f0f921"
             ]
            ],
            "type": "surface"
           }
          ],
          "table": [
           {
            "cells": {
             "fill": {
              "color": "#EBF0F8"
             },
             "line": {
              "color": "white"
             }
            },
            "header": {
             "fill": {
              "color": "#C8D4E3"
             },
             "line": {
              "color": "white"
             }
            },
            "type": "table"
           }
          ]
         },
         "layout": {
          "annotationdefaults": {
           "arrowcolor": "#2a3f5f",
           "arrowhead": 0,
           "arrowwidth": 1
          },
          "autotypenumbers": "strict",
          "coloraxis": {
           "colorbar": {
            "outlinewidth": 0,
            "ticks": ""
           }
          },
          "colorscale": {
           "diverging": [
            [
             0,
             "#8e0152"
            ],
            [
             0.1,
             "#c51b7d"
            ],
            [
             0.2,
             "#de77ae"
            ],
            [
             0.3,
             "#f1b6da"
            ],
            [
             0.4,
             "#fde0ef"
            ],
            [
             0.5,
             "#f7f7f7"
            ],
            [
             0.6,
             "#e6f5d0"
            ],
            [
             0.7,
             "#b8e186"
            ],
            [
             0.8,
             "#7fbc41"
            ],
            [
             0.9,
             "#4d9221"
            ],
            [
             1,
             "#276419"
            ]
           ],
           "sequential": [
            [
             0,
             "#0d0887"
            ],
            [
             0.1111111111111111,
             "#46039f"
            ],
            [
             0.2222222222222222,
             "#7201a8"
            ],
            [
             0.3333333333333333,
             "#9c179e"
            ],
            [
             0.4444444444444444,
             "#bd3786"
            ],
            [
             0.5555555555555556,
             "#d8576b"
            ],
            [
             0.6666666666666666,
             "#ed7953"
            ],
            [
             0.7777777777777778,
             "#fb9f3a"
            ],
            [
             0.8888888888888888,
             "#fdca26"
            ],
            [
             1,
             "#f0f921"
            ]
           ],
           "sequentialminus": [
            [
             0,
             "#0d0887"
            ],
            [
             0.1111111111111111,
             "#46039f"
            ],
            [
             0.2222222222222222,
             "#7201a8"
            ],
            [
             0.3333333333333333,
             "#9c179e"
            ],
            [
             0.4444444444444444,
             "#bd3786"
            ],
            [
             0.5555555555555556,
             "#d8576b"
            ],
            [
             0.6666666666666666,
             "#ed7953"
            ],
            [
             0.7777777777777778,
             "#fb9f3a"
            ],
            [
             0.8888888888888888,
             "#fdca26"
            ],
            [
             1,
             "#f0f921"
            ]
           ]
          },
          "colorway": [
           "#636efa",
           "#EF553B",
           "#00cc96",
           "#ab63fa",
           "#FFA15A",
           "#19d3f3",
           "#FF6692",
           "#B6E880",
           "#FF97FF",
           "#FECB52"
          ],
          "font": {
           "color": "#2a3f5f"
          },
          "geo": {
           "bgcolor": "white",
           "lakecolor": "white",
           "landcolor": "#E5ECF6",
           "showlakes": true,
           "showland": true,
           "subunitcolor": "white"
          },
          "hoverlabel": {
           "align": "left"
          },
          "hovermode": "closest",
          "mapbox": {
           "style": "light"
          },
          "paper_bgcolor": "white",
          "plot_bgcolor": "#E5ECF6",
          "polar": {
           "angularaxis": {
            "gridcolor": "white",
            "linecolor": "white",
            "ticks": ""
           },
           "bgcolor": "#E5ECF6",
           "radialaxis": {
            "gridcolor": "white",
            "linecolor": "white",
            "ticks": ""
           }
          },
          "scene": {
           "xaxis": {
            "backgroundcolor": "#E5ECF6",
            "gridcolor": "white",
            "gridwidth": 2,
            "linecolor": "white",
            "showbackground": true,
            "ticks": "",
            "zerolinecolor": "white"
           },
           "yaxis": {
            "backgroundcolor": "#E5ECF6",
            "gridcolor": "white",
            "gridwidth": 2,
            "linecolor": "white",
            "showbackground": true,
            "ticks": "",
            "zerolinecolor": "white"
           },
           "zaxis": {
            "backgroundcolor": "#E5ECF6",
            "gridcolor": "white",
            "gridwidth": 2,
            "linecolor": "white",
            "showbackground": true,
            "ticks": "",
            "zerolinecolor": "white"
           }
          },
          "shapedefaults": {
           "line": {
            "color": "#2a3f5f"
           }
          },
          "ternary": {
           "aaxis": {
            "gridcolor": "white",
            "linecolor": "white",
            "ticks": ""
           },
           "baxis": {
            "gridcolor": "white",
            "linecolor": "white",
            "ticks": ""
           },
           "bgcolor": "#E5ECF6",
           "caxis": {
            "gridcolor": "white",
            "linecolor": "white",
            "ticks": ""
           }
          },
          "title": {
           "x": 0.05
          },
          "xaxis": {
           "automargin": true,
           "gridcolor": "white",
           "linecolor": "white",
           "ticks": "",
           "title": {
            "standoff": 15
           },
           "zerolinecolor": "white",
           "zerolinewidth": 2
          },
          "yaxis": {
           "automargin": true,
           "gridcolor": "white",
           "linecolor": "white",
           "ticks": "",
           "title": {
            "standoff": 15
           },
           "zerolinecolor": "white",
           "zerolinewidth": 2
          }
         }
        }
       }
      },
      "text/html": [
       "<div>                            <div id=\"92df29e4-95f5-4b91-9e0b-0ae0c9744c50\" class=\"plotly-graph-div\" style=\"height:525px; width:100%;\"></div>            <script type=\"text/javascript\">                require([\"plotly\"], function(Plotly) {                    window.PLOTLYENV=window.PLOTLYENV || {};                                    if (document.getElementById(\"92df29e4-95f5-4b91-9e0b-0ae0c9744c50\")) {                    Plotly.newPlot(                        \"92df29e4-95f5-4b91-9e0b-0ae0c9744c50\",                        [{\"marker\":{\"color\":\"#ff5f00\",\"opacity\":0.8,\"size\":8},\"mode\":\"markers\",\"name\":\"bloom\",\"x\":[0.0,1.0986122886681096,-0.579818495252942,1.9459101490553132],\"y\":[-1.0758728016986203,-1.0758728016986203,-1.0758728016986203,-1.0758728016986203],\"z\":[0.14,0.13,0.06,0.13],\"type\":\"scatter3d\"},{\"marker\":{\"color\":\"#ffbd00\",\"opacity\":0.8,\"size\":8},\"mode\":\"markers\",\"name\":\"gemma\",\"x\":[0.6931471805599453,1.9459101490553132],\"y\":[1.791759469228055,1.791759469228055],\"z\":[0.2,0.27],\"type\":\"scatter3d\"},{\"marker\":{\"color\":\"#e2ff00\",\"opacity\":0.8,\"size\":8},\"mode\":\"markers\",\"name\":\"gemma-2\",\"x\":[0.6931471805599453,2.197224577336219],\"y\":[2.0794415416798357,2.5649493574615367],\"z\":[0.2,0.21],\"type\":\"scatter3d\"},{\"marker\":{\"color\":\"#84ff00\",\"opacity\":0.8,\"size\":8},\"mode\":\"markers\",\"name\":\"gpt-neo\\u002fj\",\"x\":[0.26236426446749106,0.9932517730102834],\"y\":[-0.9675840262617056,-0.8675005677047231],\"z\":[0.21,0.26],\"type\":\"scatter3d\"},{\"marker\":{\"color\":\"#25ff00\",\"opacity\":0.8,\"size\":8},\"mode\":\"markers\",\"name\":\"llama\",\"x\":[2.5649493574615367,4.174387269895637,1.9459101490553132],\"y\":[0.0,0.33647223662121284,0.0],\"z\":[0.24,0.25,0.25],\"type\":\"scatter3d\"},{\"marker\":{\"color\":\"#00ff39\",\"opacity\":0.8,\"size\":8},\"mode\":\"markers\",\"name\":\"llama-2\",\"x\":[2.5649493574615367,4.2484952420493585,1.9459101490553132],\"y\":[0.6931471805599453,0.6931471805599453,0.6931471805599453],\"z\":[0.25,0.24,0.25],\"type\":\"scatter3d\"},{\"marker\":{\"color\":\"#00ff97\",\"opacity\":0.8,\"size\":8},\"mode\":\"markers\",\"name\":\"olmo\",\"x\":[0.0,1.9459101490553132],\"y\":[1.0986122886681096,0.916290731874155],\"z\":[0.22,0.27],\"type\":\"scatter3d\"},{\"marker\":{\"color\":\"#00fff6\",\"opacity\":0.8,\"size\":8},\"mode\":\"markers\",\"name\":\"opt\",\"x\":[0.26236426446749106,3.4011973816621555],\"y\":[-1.7147984280919266,-1.7147984280919266],\"z\":[0.24,0.25],\"type\":\"scatter3d\"},{\"marker\":{\"color\":\"#00aaff\",\"opacity\":0.8,\"size\":8},\"mode\":\"markers\",\"name\":\"pythia\",\"x\":[2.4849066497880004,-1.83258146374831,1.0296194171811581,-0.8915981192837836,1.9315214116032138],\"y\":[-1.3862943611198906,-1.3862943611198906,-1.3862943611198906,-1.3862943611198906,-1.3862943611198906],\"z\":[0.25,0.18,0.22,0.22,0.23],\"type\":\"scatter3d\"},{\"marker\":{\"color\":\"#004bff\",\"opacity\":0.8,\"size\":8},\"mode\":\"markers\",\"name\":\"qwen1.5\",\"x\":[-0.6931471805599453,0.5877866649021191,2.6390573296152584,3.4657359027997265,1.3862943611198906,1.9459101490553132],\"y\":[0.8754687373538999,0.8754687373538999,1.3862943611198906,1.3862943611198906,0.8754687373538999,1.3862943611198906],\"z\":[0.17,0.22,0.29,0.33,0.24,0.27],\"type\":\"scatter3d\"},{\"marker\":{\"color\":\"#1300ff\",\"opacity\":0.8,\"size\":8},\"mode\":\"markers\",\"name\":\"qwen2\",\"x\":[-0.6931471805599453,0.4054651081081644,4.276666119016055,1.9459101490553132],\"y\":[2.4849066497880004,1.9459101490553132,1.9459101490553132,1.9459101490553132],\"z\":[0.19,0.21,0.38,0.31],\"type\":\"scatter3d\"},{\"marker\":{\"color\":\"#7200ff\",\"opacity\":0.8,\"size\":8},\"mode\":\"markers\",\"name\":\"smollm\",\"x\":[0.5306282510621704,-2.0024805005437076,-1.0216512475319814],\"y\":[0.0,-0.5108256237659907,-0.5108256237659907],\"z\":[0.24,0.21,0.21],\"type\":\"scatter3d\"},{\"marker\":{\"color\":\"#d000ff\",\"opacity\":0.8,\"size\":8},\"mode\":\"markers\",\"name\":\"starcoder2\",\"x\":[2.70805020110221,1.0986122886681096,1.9459101490553132],\"y\":[1.4586150226995167,1.1939224684724343,1.3083328196501787],\"z\":[0.27,0.2,0.22],\"type\":\"scatter3d\"},{\"marker\":{\"color\":\"#ff00cf\",\"opacity\":0.8,\"size\":8},\"mode\":\"markers\",\"name\":\"yi\",\"x\":[3.526360524616161,1.791759469228055,2.197224577336219],\"y\":[1.0986122886681096,1.0986122886681096,1.33500106673234],\"z\":[0.3,0.29,0.27],\"type\":\"scatter3d\"},{\"marker\":{\"color\":\"#ff0071\",\"opacity\":0.8,\"size\":8},\"mode\":\"markers\",\"name\":\"yi-1.5\",\"x\":[3.526360524616161,1.791759469228055,2.197224577336219],\"y\":[1.252762968495368,1.252762968495368,1.252762968495368],\"z\":[0.28,0.26,0.29],\"type\":\"scatter3d\"}],                        {\"margin\":{\"b\":0,\"l\":0,\"r\":0,\"t\":0},\"scene\":{\"xaxis\":{\"title\":{\"text\":\"logS\"}},\"yaxis\":{\"title\":{\"text\":\"logT\"}},\"zaxis\":{\"title\":{\"text\":\"y\"}}},\"template\":{\"data\":{\"histogram2dcontour\":[{\"type\":\"histogram2dcontour\",\"colorbar\":{\"outlinewidth\":0,\"ticks\":\"\"},\"colorscale\":[[0.0,\"#0d0887\"],[0.1111111111111111,\"#46039f\"],[0.2222222222222222,\"#7201a8\"],[0.3333333333333333,\"#9c179e\"],[0.4444444444444444,\"#bd3786\"],[0.5555555555555556,\"#d8576b\"],[0.6666666666666666,\"#ed7953\"],[0.7777777777777778,\"#fb9f3a\"],[0.8888888888888888,\"#fdca26\"],[1.0,\"#f0f921\"]]}],\"choropleth\":[{\"type\":\"choropleth\",\"colorbar\":{\"outlinewidth\":0,\"ticks\":\"\"}}],\"histogram2d\":[{\"type\":\"histogram2d\",\"colorbar\":{\"outlinewidth\":0,\"ticks\":\"\"},\"colorscale\":[[0.0,\"#0d0887\"],[0.1111111111111111,\"#46039f\"],[0.2222222222222222,\"#7201a8\"],[0.3333333333333333,\"#9c179e\"],[0.4444444444444444,\"#bd3786\"],[0.5555555555555556,\"#d8576b\"],[0.6666666666666666,\"#ed7953\"],[0.7777777777777778,\"#fb9f3a\"],[0.8888888888888888,\"#fdca26\"],[1.0,\"#f0f921\"]]}],\"heatmap\":[{\"type\":\"heatmap\",\"colorbar\":{\"outlinewidth\":0,\"ticks\":\"\"},\"colorscale\":[[0.0,\"#0d0887\"],[0.1111111111111111,\"#46039f\"],[0.2222222222222222,\"#7201a8\"],[0.3333333333333333,\"#9c179e\"],[0.4444444444444444,\"#bd3786\"],[0.5555555555555556,\"#d8576b\"],[0.6666666666666666,\"#ed7953\"],[0.7777777777777778,\"#fb9f3a\"],[0.8888888888888888,\"#fdca26\"],[1.0,\"#f0f921\"]]}],\"heatmapgl\":[{\"type\":\"heatmapgl\",\"colorbar\":{\"outlinewidth\":0,\"ticks\":\"\"},\"colorscale\":[[0.0,\"#0d0887\"],[0.1111111111111111,\"#46039f\"],[0.2222222222222222,\"#7201a8\"],[0.3333333333333333,\"#9c179e\"],[0.4444444444444444,\"#bd3786\"],[0.5555555555555556,\"#d8576b\"],[0.6666666666666666,\"#ed7953\"],[0.7777777777777778,\"#fb9f3a\"],[0.8888888888888888,\"#fdca26\"],[1.0,\"#f0f921\"]]}],\"contourcarpet\":[{\"type\":\"contourcarpet\",\"colorbar\":{\"outlinewidth\":0,\"ticks\":\"\"}}],\"contour\":[{\"type\":\"contour\",\"colorbar\":{\"outlinewidth\":0,\"ticks\":\"\"},\"colorscale\":[[0.0,\"#0d0887\"],[0.1111111111111111,\"#46039f\"],[0.2222222222222222,\"#7201a8\"],[0.3333333333333333,\"#9c179e\"],[0.4444444444444444,\"#bd3786\"],[0.5555555555555556,\"#d8576b\"],[0.6666666666666666,\"#ed7953\"],[0.7777777777777778,\"#fb9f3a\"],[0.8888888888888888,\"#fdca26\"],[1.0,\"#f0f921\"]]}],\"surface\":[{\"type\":\"surface\",\"colorbar\":{\"outlinewidth\":0,\"ticks\":\"\"},\"colorscale\":[[0.0,\"#0d0887\"],[0.1111111111111111,\"#46039f\"],[0.2222222222222222,\"#7201a8\"],[0.3333333333333333,\"#9c179e\"],[0.4444444444444444,\"#bd3786\"],[0.5555555555555556,\"#d8576b\"],[0.6666666666666666,\"#ed7953\"],[0.7777777777777778,\"#fb9f3a\"],[0.8888888888888888,\"#fdca26\"],[1.0,\"#f0f921\"]]}],\"mesh3d\":[{\"type\":\"mesh3d\",\"colorbar\":{\"outlinewidth\":0,\"ticks\":\"\"}}],\"scatter\":[{\"fillpattern\":{\"fillmode\":\"overlay\",\"size\":10,\"solidity\":0.2},\"type\":\"scatter\"}],\"parcoords\":[{\"type\":\"parcoords\",\"line\":{\"colorbar\":{\"outlinewidth\":0,\"ticks\":\"\"}}}],\"scatterpolargl\":[{\"type\":\"scatterpolargl\",\"marker\":{\"colorbar\":{\"outlinewidth\":0,\"ticks\":\"\"}}}],\"bar\":[{\"error_x\":{\"color\":\"#2a3f5f\"},\"error_y\":{\"color\":\"#2a3f5f\"},\"marker\":{\"line\":{\"color\":\"#E5ECF6\",\"width\":0.5},\"pattern\":{\"fillmode\":\"overlay\",\"size\":10,\"solidity\":0.2}},\"type\":\"bar\"}],\"scattergeo\":[{\"type\":\"scattergeo\",\"marker\":{\"colorbar\":{\"outlinewidth\":0,\"ticks\":\"\"}}}],\"scatterpolar\":[{\"type\":\"scatterpolar\",\"marker\":{\"colorbar\":{\"outlinewidth\":0,\"ticks\":\"\"}}}],\"histogram\":[{\"marker\":{\"pattern\":{\"fillmode\":\"overlay\",\"size\":10,\"solidity\":0.2}},\"type\":\"histogram\"}],\"scattergl\":[{\"type\":\"scattergl\",\"marker\":{\"colorbar\":{\"outlinewidth\":0,\"ticks\":\"\"}}}],\"scatter3d\":[{\"type\":\"scatter3d\",\"line\":{\"colorbar\":{\"outlinewidth\":0,\"ticks\":\"\"}},\"marker\":{\"colorbar\":{\"outlinewidth\":0,\"ticks\":\"\"}}}],\"scattermapbox\":[{\"type\":\"scattermapbox\",\"marker\":{\"colorbar\":{\"outlinewidth\":0,\"ticks\":\"\"}}}],\"scatterternary\":[{\"type\":\"scatterternary\",\"marker\":{\"colorbar\":{\"outlinewidth\":0,\"ticks\":\"\"}}}],\"scattercarpet\":[{\"type\":\"scattercarpet\",\"marker\":{\"colorbar\":{\"outlinewidth\":0,\"ticks\":\"\"}}}],\"carpet\":[{\"aaxis\":{\"endlinecolor\":\"#2a3f5f\",\"gridcolor\":\"white\",\"linecolor\":\"white\",\"minorgridcolor\":\"white\",\"startlinecolor\":\"#2a3f5f\"},\"baxis\":{\"endlinecolor\":\"#2a3f5f\",\"gridcolor\":\"white\",\"linecolor\":\"white\",\"minorgridcolor\":\"white\",\"startlinecolor\":\"#2a3f5f\"},\"type\":\"carpet\"}],\"table\":[{\"cells\":{\"fill\":{\"color\":\"#EBF0F8\"},\"line\":{\"color\":\"white\"}},\"header\":{\"fill\":{\"color\":\"#C8D4E3\"},\"line\":{\"color\":\"white\"}},\"type\":\"table\"}],\"barpolar\":[{\"marker\":{\"line\":{\"color\":\"#E5ECF6\",\"width\":0.5},\"pattern\":{\"fillmode\":\"overlay\",\"size\":10,\"solidity\":0.2}},\"type\":\"barpolar\"}],\"pie\":[{\"automargin\":true,\"type\":\"pie\"}]},\"layout\":{\"autotypenumbers\":\"strict\",\"colorway\":[\"#636efa\",\"#EF553B\",\"#00cc96\",\"#ab63fa\",\"#FFA15A\",\"#19d3f3\",\"#FF6692\",\"#B6E880\",\"#FF97FF\",\"#FECB52\"],\"font\":{\"color\":\"#2a3f5f\"},\"hovermode\":\"closest\",\"hoverlabel\":{\"align\":\"left\"},\"paper_bgcolor\":\"white\",\"plot_bgcolor\":\"#E5ECF6\",\"polar\":{\"bgcolor\":\"#E5ECF6\",\"angularaxis\":{\"gridcolor\":\"white\",\"linecolor\":\"white\",\"ticks\":\"\"},\"radialaxis\":{\"gridcolor\":\"white\",\"linecolor\":\"white\",\"ticks\":\"\"}},\"ternary\":{\"bgcolor\":\"#E5ECF6\",\"aaxis\":{\"gridcolor\":\"white\",\"linecolor\":\"white\",\"ticks\":\"\"},\"baxis\":{\"gridcolor\":\"white\",\"linecolor\":\"white\",\"ticks\":\"\"},\"caxis\":{\"gridcolor\":\"white\",\"linecolor\":\"white\",\"ticks\":\"\"}},\"coloraxis\":{\"colorbar\":{\"outlinewidth\":0,\"ticks\":\"\"}},\"colorscale\":{\"sequential\":[[0.0,\"#0d0887\"],[0.1111111111111111,\"#46039f\"],[0.2222222222222222,\"#7201a8\"],[0.3333333333333333,\"#9c179e\"],[0.4444444444444444,\"#bd3786\"],[0.5555555555555556,\"#d8576b\"],[0.6666666666666666,\"#ed7953\"],[0.7777777777777778,\"#fb9f3a\"],[0.8888888888888888,\"#fdca26\"],[1.0,\"#f0f921\"]],\"sequentialminus\":[[0.0,\"#0d0887\"],[0.1111111111111111,\"#46039f\"],[0.2222222222222222,\"#7201a8\"],[0.3333333333333333,\"#9c179e\"],[0.4444444444444444,\"#bd3786\"],[0.5555555555555556,\"#d8576b\"],[0.6666666666666666,\"#ed7953\"],[0.7777777777777778,\"#fb9f3a\"],[0.8888888888888888,\"#fdca26\"],[1.0,\"#f0f921\"]],\"diverging\":[[0,\"#8e0152\"],[0.1,\"#c51b7d\"],[0.2,\"#de77ae\"],[0.3,\"#f1b6da\"],[0.4,\"#fde0ef\"],[0.5,\"#f7f7f7\"],[0.6,\"#e6f5d0\"],[0.7,\"#b8e186\"],[0.8,\"#7fbc41\"],[0.9,\"#4d9221\"],[1,\"#276419\"]]},\"xaxis\":{\"gridcolor\":\"white\",\"linecolor\":\"white\",\"ticks\":\"\",\"title\":{\"standoff\":15},\"zerolinecolor\":\"white\",\"automargin\":true,\"zerolinewidth\":2},\"yaxis\":{\"gridcolor\":\"white\",\"linecolor\":\"white\",\"ticks\":\"\",\"title\":{\"standoff\":15},\"zerolinecolor\":\"white\",\"automargin\":true,\"zerolinewidth\":2},\"scene\":{\"xaxis\":{\"backgroundcolor\":\"#E5ECF6\",\"gridcolor\":\"white\",\"linecolor\":\"white\",\"showbackground\":true,\"ticks\":\"\",\"zerolinecolor\":\"white\",\"gridwidth\":2},\"yaxis\":{\"backgroundcolor\":\"#E5ECF6\",\"gridcolor\":\"white\",\"linecolor\":\"white\",\"showbackground\":true,\"ticks\":\"\",\"zerolinecolor\":\"white\",\"gridwidth\":2},\"zaxis\":{\"backgroundcolor\":\"#E5ECF6\",\"gridcolor\":\"white\",\"linecolor\":\"white\",\"showbackground\":true,\"ticks\":\"\",\"zerolinecolor\":\"white\",\"gridwidth\":2}},\"shapedefaults\":{\"line\":{\"color\":\"#2a3f5f\"}},\"annotationdefaults\":{\"arrowcolor\":\"#2a3f5f\",\"arrowhead\":0,\"arrowwidth\":1},\"geo\":{\"bgcolor\":\"white\",\"landcolor\":\"#E5ECF6\",\"subunitcolor\":\"white\",\"showland\":true,\"showlakes\":true,\"lakecolor\":\"white\"},\"title\":{\"x\":0.05},\"mapbox\":{\"style\":\"light\"}}}},                        {\"responsive\": true}                    ).then(function(){\n",
       "                            \n",
       "var gd = document.getElementById('92df29e4-95f5-4b91-9e0b-0ae0c9744c50');\n",
       "var x = new MutationObserver(function (mutations, observer) {{\n",
       "        var display = window.getComputedStyle(gd).display;\n",
       "        if (!display || display === 'none') {{\n",
       "            console.log([gd, 'removed!']);\n",
       "            Plotly.purge(gd);\n",
       "            observer.disconnect();\n",
       "        }}\n",
       "}});\n",
       "\n",
       "// Listen for the removal of the full notebook cells\n",
       "var notebookContainer = gd.closest('#notebook-container');\n",
       "if (notebookContainer) {{\n",
       "    x.observe(notebookContainer, {childList: true});\n",
       "}}\n",
       "\n",
       "// Listen for the clearing of the current output cell\n",
       "var outputEl = gd.closest('.output');\n",
       "if (outputEl) {{\n",
       "    x.observe(outputEl, {childList: true});\n",
       "}}\n",
       "\n",
       "                        })                };                });            </script>        </div>"
      ]
     },
     "metadata": {},
     "output_type": "display_data"
    },
    {
     "name": "stdout",
     "output_type": "stream",
     "text": [
      "************ BBH ************\n"
     ]
    },
    {
     "data": {
      "application/vnd.plotly.v1+json": {
       "config": {
        "plotlyServerURL": "https://plot.ly"
       },
       "data": [
        {
         "marker": {
          "color": "#ff5f00",
          "opacity": 0.8,
          "size": 8
         },
         "mode": "markers",
         "name": "bloom",
         "type": "scatter3d",
         "x": [
          0,
          1.0986122886681096,
          -0.579818495252942,
          1.9459101490553132
         ],
         "y": [
          -1.0758728016986203,
          -1.0758728016986203,
          -1.0758728016986203,
          -1.0758728016986203
         ],
         "z": [
          0.31,
          0.31,
          0.3,
          0.31
         ]
        },
        {
         "marker": {
          "color": "#ffbd00",
          "opacity": 0.8,
          "size": 8
         },
         "mode": "markers",
         "name": "gemma",
         "type": "scatter3d",
         "x": [
          0.6931471805599453,
          1.9459101490553132
         ],
         "y": [
          1.791759469228055,
          1.791759469228055
         ],
         "z": [
          0.34,
          0.44
         ]
        },
        {
         "marker": {
          "color": "#e2ff00",
          "opacity": 0.8,
          "size": 8
         },
         "mode": "markers",
         "name": "gemma-2",
         "type": "scatter3d",
         "x": [
          0.6931471805599453,
          2.197224577336219
         ],
         "y": [
          2.0794415416798357,
          2.5649493574615367
         ],
         "z": [
          0.37,
          0.54
         ]
        },
        {
         "marker": {
          "color": "#84ff00",
          "opacity": 0.8,
          "size": 8
         },
         "mode": "markers",
         "name": "gpt-neo/j",
         "type": "scatter3d",
         "x": [
          0.26236426446749106,
          0.9932517730102834
         ],
         "y": [
          -0.9675840262617056,
          -0.8675005677047231
         ],
         "z": [
          0.3,
          0.31
         ]
        },
        {
         "marker": {
          "color": "#25ff00",
          "opacity": 0.8,
          "size": 8
         },
         "mode": "markers",
         "name": "llama",
         "type": "scatter3d",
         "x": [
          2.5649493574615367,
          4.174387269895637,
          1.9459101490553132
         ],
         "y": [
          0,
          0.33647223662121284,
          0
         ],
         "z": [
          0.4,
          0.47,
          0.33
         ]
        },
        {
         "marker": {
          "color": "#00ff39",
          "opacity": 0.8,
          "size": 8
         },
         "mode": "markers",
         "name": "llama-2",
         "type": "scatter3d",
         "x": [
          2.5649493574615367,
          4.2484952420493585,
          1.9459101490553132
         ],
         "y": [
          0.6931471805599453,
          0.6931471805599453,
          0.6931471805599453
         ],
         "z": [
          0.41,
          0.55,
          0.35
         ]
        },
        {
         "marker": {
          "color": "#00ff97",
          "opacity": 0.8,
          "size": 8
         },
         "mode": "markers",
         "name": "olmo",
         "type": "scatter3d",
         "x": [
          0,
          1.9459101490553132
         ],
         "y": [
          1.0986122886681096,
          0.916290731874155
         ],
         "z": [
          0.31,
          0.33
         ]
        },
        {
         "marker": {
          "color": "#00fff6",
          "opacity": 0.8,
          "size": 8
         },
         "mode": "markers",
         "name": "opt",
         "type": "scatter3d",
         "x": [
          0.26236426446749106,
          3.4011973816621555
         ],
         "y": [
          -1.7147984280919266,
          -1.7147984280919266
         ],
         "z": [
          0.31,
          0.31
         ]
        },
        {
         "marker": {
          "color": "#00aaff",
          "opacity": 0.8,
          "size": 8
         },
         "mode": "markers",
         "name": "pythia",
         "type": "scatter3d",
         "x": [
          2.4849066497880004,
          -1.83258146374831,
          1.0296194171811581,
          -0.8915981192837836,
          1.9315214116032138
         ],
         "y": [
          -1.3862943611198906,
          -1.3862943611198906,
          -1.3862943611198906,
          -1.3862943611198906,
          -1.3862943611198906
         ],
         "z": [
          0.32,
          0.3,
          0.32,
          0.3,
          0.32
         ]
        },
        {
         "marker": {
          "color": "#004bff",
          "opacity": 0.8,
          "size": 8
         },
         "mode": "markers",
         "name": "qwen1.5",
         "type": "scatter3d",
         "x": [
          -0.6931471805599453,
          0.5877866649021191,
          2.6390573296152584,
          3.4657359027997265,
          1.3862943611198906,
          1.9459101490553132
         ],
         "y": [
          0.8754687373538999,
          0.8754687373538999,
          1.3862943611198906,
          1.3862943611198906,
          0.8754687373538999,
          1.3862943611198906
         ],
         "z": [
          0.32,
          0.35,
          0.51,
          0.57,
          0.41,
          0.46
         ]
        },
        {
         "marker": {
          "color": "#1300ff",
          "opacity": 0.8,
          "size": 8
         },
         "mode": "markers",
         "name": "qwen2",
         "type": "scatter3d",
         "x": [
          -0.6931471805599453,
          0.4054651081081644,
          4.276666119016055,
          1.9459101490553132
         ],
         "y": [
          2.4849066497880004,
          1.9459101490553132,
          1.9459101490553132,
          1.9459101490553132
         ],
         "z": [
          0.33,
          0.36,
          0.66,
          0.53
         ]
        },
        {
         "marker": {
          "color": "#7200ff",
          "opacity": 0.8,
          "size": 8
         },
         "mode": "markers",
         "name": "smollm",
         "type": "scatter3d",
         "x": [
          0.5306282510621704,
          -2.0024805005437076,
          -1.0216512475319814
         ],
         "y": [
          0,
          -0.5108256237659907,
          -0.5108256237659907
         ],
         "z": [
          0.32,
          0.3,
          0.31
         ]
        },
        {
         "marker": {
          "color": "#d000ff",
          "opacity": 0.8,
          "size": 8
         },
         "mode": "markers",
         "name": "starcoder2",
         "type": "scatter3d",
         "x": [
          2.70805020110221,
          1.0986122886681096,
          1.9459101490553132
         ],
         "y": [
          1.4586150226995167,
          1.1939224684724343,
          1.3083328196501787
         ],
         "z": [
          0.44,
          0.35,
          0.37
         ]
        },
        {
         "marker": {
          "color": "#ff00cf",
          "opacity": 0.8,
          "size": 8
         },
         "mode": "markers",
         "name": "yi",
         "type": "scatter3d",
         "x": [
          3.526360524616161,
          1.791759469228055,
          2.197224577336219
         ],
         "y": [
          1.0986122886681096,
          1.0986122886681096,
          1.33500106673234
         ],
         "z": [
          0.55,
          0.43,
          0.49
         ]
        },
        {
         "marker": {
          "color": "#ff0071",
          "opacity": 0.8,
          "size": 8
         },
         "mode": "markers",
         "name": "yi-1.5",
         "type": "scatter3d",
         "x": [
          3.526360524616161,
          1.791759469228055,
          2.197224577336219
         ],
         "y": [
          1.252762968495368,
          1.252762968495368,
          1.252762968495368
         ],
         "z": [
          0.6,
          0.45,
          0.51
         ]
        }
       ],
       "layout": {
        "autosize": true,
        "margin": {
         "b": 0,
         "l": 0,
         "r": 0,
         "t": 0
        },
        "scene": {
         "aspectmode": "auto",
         "aspectratio": {
          "x": 1,
          "y": 1,
          "z": 1
         },
         "camera": {
          "center": {
           "x": 0,
           "y": 0,
           "z": 0
          },
          "eye": {
           "x": 1.262763068273845,
           "y": -1.7307900844835993,
           "z": 0.3119216517923694
          },
          "projection": {
           "type": "perspective"
          },
          "up": {
           "x": 0,
           "y": 0,
           "z": 1
          }
         },
         "xaxis": {
          "title": {
           "text": "logS"
          },
          "type": "linear"
         },
         "yaxis": {
          "title": {
           "text": "logT"
          },
          "type": "linear"
         },
         "zaxis": {
          "title": {
           "text": "y"
          },
          "type": "linear"
         }
        },
        "template": {
         "data": {
          "bar": [
           {
            "error_x": {
             "color": "#2a3f5f"
            },
            "error_y": {
             "color": "#2a3f5f"
            },
            "marker": {
             "line": {
              "color": "#E5ECF6",
              "width": 0.5
             },
             "pattern": {
              "fillmode": "overlay",
              "size": 10,
              "solidity": 0.2
             }
            },
            "type": "bar"
           }
          ],
          "barpolar": [
           {
            "marker": {
             "line": {
              "color": "#E5ECF6",
              "width": 0.5
             },
             "pattern": {
              "fillmode": "overlay",
              "size": 10,
              "solidity": 0.2
             }
            },
            "type": "barpolar"
           }
          ],
          "carpet": [
           {
            "aaxis": {
             "endlinecolor": "#2a3f5f",
             "gridcolor": "white",
             "linecolor": "white",
             "minorgridcolor": "white",
             "startlinecolor": "#2a3f5f"
            },
            "baxis": {
             "endlinecolor": "#2a3f5f",
             "gridcolor": "white",
             "linecolor": "white",
             "minorgridcolor": "white",
             "startlinecolor": "#2a3f5f"
            },
            "type": "carpet"
           }
          ],
          "choropleth": [
           {
            "colorbar": {
             "outlinewidth": 0,
             "ticks": ""
            },
            "type": "choropleth"
           }
          ],
          "contour": [
           {
            "colorbar": {
             "outlinewidth": 0,
             "ticks": ""
            },
            "colorscale": [
             [
              0,
              "#0d0887"
             ],
             [
              0.1111111111111111,
              "#46039f"
             ],
             [
              0.2222222222222222,
              "#7201a8"
             ],
             [
              0.3333333333333333,
              "#9c179e"
             ],
             [
              0.4444444444444444,
              "#bd3786"
             ],
             [
              0.5555555555555556,
              "#d8576b"
             ],
             [
              0.6666666666666666,
              "#ed7953"
             ],
             [
              0.7777777777777778,
              "#fb9f3a"
             ],
             [
              0.8888888888888888,
              "#fdca26"
             ],
             [
              1,
              "#f0f921"
             ]
            ],
            "type": "contour"
           }
          ],
          "contourcarpet": [
           {
            "colorbar": {
             "outlinewidth": 0,
             "ticks": ""
            },
            "type": "contourcarpet"
           }
          ],
          "heatmap": [
           {
            "colorbar": {
             "outlinewidth": 0,
             "ticks": ""
            },
            "colorscale": [
             [
              0,
              "#0d0887"
             ],
             [
              0.1111111111111111,
              "#46039f"
             ],
             [
              0.2222222222222222,
              "#7201a8"
             ],
             [
              0.3333333333333333,
              "#9c179e"
             ],
             [
              0.4444444444444444,
              "#bd3786"
             ],
             [
              0.5555555555555556,
              "#d8576b"
             ],
             [
              0.6666666666666666,
              "#ed7953"
             ],
             [
              0.7777777777777778,
              "#fb9f3a"
             ],
             [
              0.8888888888888888,
              "#fdca26"
             ],
             [
              1,
              "#f0f921"
             ]
            ],
            "type": "heatmap"
           }
          ],
          "heatmapgl": [
           {
            "colorbar": {
             "outlinewidth": 0,
             "ticks": ""
            },
            "colorscale": [
             [
              0,
              "#0d0887"
             ],
             [
              0.1111111111111111,
              "#46039f"
             ],
             [
              0.2222222222222222,
              "#7201a8"
             ],
             [
              0.3333333333333333,
              "#9c179e"
             ],
             [
              0.4444444444444444,
              "#bd3786"
             ],
             [
              0.5555555555555556,
              "#d8576b"
             ],
             [
              0.6666666666666666,
              "#ed7953"
             ],
             [
              0.7777777777777778,
              "#fb9f3a"
             ],
             [
              0.8888888888888888,
              "#fdca26"
             ],
             [
              1,
              "#f0f921"
             ]
            ],
            "type": "heatmapgl"
           }
          ],
          "histogram": [
           {
            "marker": {
             "pattern": {
              "fillmode": "overlay",
              "size": 10,
              "solidity": 0.2
             }
            },
            "type": "histogram"
           }
          ],
          "histogram2d": [
           {
            "colorbar": {
             "outlinewidth": 0,
             "ticks": ""
            },
            "colorscale": [
             [
              0,
              "#0d0887"
             ],
             [
              0.1111111111111111,
              "#46039f"
             ],
             [
              0.2222222222222222,
              "#7201a8"
             ],
             [
              0.3333333333333333,
              "#9c179e"
             ],
             [
              0.4444444444444444,
              "#bd3786"
             ],
             [
              0.5555555555555556,
              "#d8576b"
             ],
             [
              0.6666666666666666,
              "#ed7953"
             ],
             [
              0.7777777777777778,
              "#fb9f3a"
             ],
             [
              0.8888888888888888,
              "#fdca26"
             ],
             [
              1,
              "#f0f921"
             ]
            ],
            "type": "histogram2d"
           }
          ],
          "histogram2dcontour": [
           {
            "colorbar": {
             "outlinewidth": 0,
             "ticks": ""
            },
            "colorscale": [
             [
              0,
              "#0d0887"
             ],
             [
              0.1111111111111111,
              "#46039f"
             ],
             [
              0.2222222222222222,
              "#7201a8"
             ],
             [
              0.3333333333333333,
              "#9c179e"
             ],
             [
              0.4444444444444444,
              "#bd3786"
             ],
             [
              0.5555555555555556,
              "#d8576b"
             ],
             [
              0.6666666666666666,
              "#ed7953"
             ],
             [
              0.7777777777777778,
              "#fb9f3a"
             ],
             [
              0.8888888888888888,
              "#fdca26"
             ],
             [
              1,
              "#f0f921"
             ]
            ],
            "type": "histogram2dcontour"
           }
          ],
          "mesh3d": [
           {
            "colorbar": {
             "outlinewidth": 0,
             "ticks": ""
            },
            "type": "mesh3d"
           }
          ],
          "parcoords": [
           {
            "line": {
             "colorbar": {
              "outlinewidth": 0,
              "ticks": ""
             }
            },
            "type": "parcoords"
           }
          ],
          "pie": [
           {
            "automargin": true,
            "type": "pie"
           }
          ],
          "scatter": [
           {
            "fillpattern": {
             "fillmode": "overlay",
             "size": 10,
             "solidity": 0.2
            },
            "type": "scatter"
           }
          ],
          "scatter3d": [
           {
            "line": {
             "colorbar": {
              "outlinewidth": 0,
              "ticks": ""
             }
            },
            "marker": {
             "colorbar": {
              "outlinewidth": 0,
              "ticks": ""
             }
            },
            "type": "scatter3d"
           }
          ],
          "scattercarpet": [
           {
            "marker": {
             "colorbar": {
              "outlinewidth": 0,
              "ticks": ""
             }
            },
            "type": "scattercarpet"
           }
          ],
          "scattergeo": [
           {
            "marker": {
             "colorbar": {
              "outlinewidth": 0,
              "ticks": ""
             }
            },
            "type": "scattergeo"
           }
          ],
          "scattergl": [
           {
            "marker": {
             "colorbar": {
              "outlinewidth": 0,
              "ticks": ""
             }
            },
            "type": "scattergl"
           }
          ],
          "scattermapbox": [
           {
            "marker": {
             "colorbar": {
              "outlinewidth": 0,
              "ticks": ""
             }
            },
            "type": "scattermapbox"
           }
          ],
          "scatterpolar": [
           {
            "marker": {
             "colorbar": {
              "outlinewidth": 0,
              "ticks": ""
             }
            },
            "type": "scatterpolar"
           }
          ],
          "scatterpolargl": [
           {
            "marker": {
             "colorbar": {
              "outlinewidth": 0,
              "ticks": ""
             }
            },
            "type": "scatterpolargl"
           }
          ],
          "scatterternary": [
           {
            "marker": {
             "colorbar": {
              "outlinewidth": 0,
              "ticks": ""
             }
            },
            "type": "scatterternary"
           }
          ],
          "surface": [
           {
            "colorbar": {
             "outlinewidth": 0,
             "ticks": ""
            },
            "colorscale": [
             [
              0,
              "#0d0887"
             ],
             [
              0.1111111111111111,
              "#46039f"
             ],
             [
              0.2222222222222222,
              "#7201a8"
             ],
             [
              0.3333333333333333,
              "#9c179e"
             ],
             [
              0.4444444444444444,
              "#bd3786"
             ],
             [
              0.5555555555555556,
              "#d8576b"
             ],
             [
              0.6666666666666666,
              "#ed7953"
             ],
             [
              0.7777777777777778,
              "#fb9f3a"
             ],
             [
              0.8888888888888888,
              "#fdca26"
             ],
             [
              1,
              "#f0f921"
             ]
            ],
            "type": "surface"
           }
          ],
          "table": [
           {
            "cells": {
             "fill": {
              "color": "#EBF0F8"
             },
             "line": {
              "color": "white"
             }
            },
            "header": {
             "fill": {
              "color": "#C8D4E3"
             },
             "line": {
              "color": "white"
             }
            },
            "type": "table"
           }
          ]
         },
         "layout": {
          "annotationdefaults": {
           "arrowcolor": "#2a3f5f",
           "arrowhead": 0,
           "arrowwidth": 1
          },
          "autotypenumbers": "strict",
          "coloraxis": {
           "colorbar": {
            "outlinewidth": 0,
            "ticks": ""
           }
          },
          "colorscale": {
           "diverging": [
            [
             0,
             "#8e0152"
            ],
            [
             0.1,
             "#c51b7d"
            ],
            [
             0.2,
             "#de77ae"
            ],
            [
             0.3,
             "#f1b6da"
            ],
            [
             0.4,
             "#fde0ef"
            ],
            [
             0.5,
             "#f7f7f7"
            ],
            [
             0.6,
             "#e6f5d0"
            ],
            [
             0.7,
             "#b8e186"
            ],
            [
             0.8,
             "#7fbc41"
            ],
            [
             0.9,
             "#4d9221"
            ],
            [
             1,
             "#276419"
            ]
           ],
           "sequential": [
            [
             0,
             "#0d0887"
            ],
            [
             0.1111111111111111,
             "#46039f"
            ],
            [
             0.2222222222222222,
             "#7201a8"
            ],
            [
             0.3333333333333333,
             "#9c179e"
            ],
            [
             0.4444444444444444,
             "#bd3786"
            ],
            [
             0.5555555555555556,
             "#d8576b"
            ],
            [
             0.6666666666666666,
             "#ed7953"
            ],
            [
             0.7777777777777778,
             "#fb9f3a"
            ],
            [
             0.8888888888888888,
             "#fdca26"
            ],
            [
             1,
             "#f0f921"
            ]
           ],
           "sequentialminus": [
            [
             0,
             "#0d0887"
            ],
            [
             0.1111111111111111,
             "#46039f"
            ],
            [
             0.2222222222222222,
             "#7201a8"
            ],
            [
             0.3333333333333333,
             "#9c179e"
            ],
            [
             0.4444444444444444,
             "#bd3786"
            ],
            [
             0.5555555555555556,
             "#d8576b"
            ],
            [
             0.6666666666666666,
             "#ed7953"
            ],
            [
             0.7777777777777778,
             "#fb9f3a"
            ],
            [
             0.8888888888888888,
             "#fdca26"
            ],
            [
             1,
             "#f0f921"
            ]
           ]
          },
          "colorway": [
           "#636efa",
           "#EF553B",
           "#00cc96",
           "#ab63fa",
           "#FFA15A",
           "#19d3f3",
           "#FF6692",
           "#B6E880",
           "#FF97FF",
           "#FECB52"
          ],
          "font": {
           "color": "#2a3f5f"
          },
          "geo": {
           "bgcolor": "white",
           "lakecolor": "white",
           "landcolor": "#E5ECF6",
           "showlakes": true,
           "showland": true,
           "subunitcolor": "white"
          },
          "hoverlabel": {
           "align": "left"
          },
          "hovermode": "closest",
          "mapbox": {
           "style": "light"
          },
          "paper_bgcolor": "white",
          "plot_bgcolor": "#E5ECF6",
          "polar": {
           "angularaxis": {
            "gridcolor": "white",
            "linecolor": "white",
            "ticks": ""
           },
           "bgcolor": "#E5ECF6",
           "radialaxis": {
            "gridcolor": "white",
            "linecolor": "white",
            "ticks": ""
           }
          },
          "scene": {
           "xaxis": {
            "backgroundcolor": "#E5ECF6",
            "gridcolor": "white",
            "gridwidth": 2,
            "linecolor": "white",
            "showbackground": true,
            "ticks": "",
            "zerolinecolor": "white"
           },
           "yaxis": {
            "backgroundcolor": "#E5ECF6",
            "gridcolor": "white",
            "gridwidth": 2,
            "linecolor": "white",
            "showbackground": true,
            "ticks": "",
            "zerolinecolor": "white"
           },
           "zaxis": {
            "backgroundcolor": "#E5ECF6",
            "gridcolor": "white",
            "gridwidth": 2,
            "linecolor": "white",
            "showbackground": true,
            "ticks": "",
            "zerolinecolor": "white"
           }
          },
          "shapedefaults": {
           "line": {
            "color": "#2a3f5f"
           }
          },
          "ternary": {
           "aaxis": {
            "gridcolor": "white",
            "linecolor": "white",
            "ticks": ""
           },
           "baxis": {
            "gridcolor": "white",
            "linecolor": "white",
            "ticks": ""
           },
           "bgcolor": "#E5ECF6",
           "caxis": {
            "gridcolor": "white",
            "linecolor": "white",
            "ticks": ""
           }
          },
          "title": {
           "x": 0.05
          },
          "xaxis": {
           "automargin": true,
           "gridcolor": "white",
           "linecolor": "white",
           "ticks": "",
           "title": {
            "standoff": 15
           },
           "zerolinecolor": "white",
           "zerolinewidth": 2
          },
          "yaxis": {
           "automargin": true,
           "gridcolor": "white",
           "linecolor": "white",
           "ticks": "",
           "title": {
            "standoff": 15
           },
           "zerolinecolor": "white",
           "zerolinewidth": 2
          }
         }
        }
       }
      },
      "text/html": [
       "<div>                            <div id=\"16ad352e-8512-4466-8bf5-4f0d7d752ccb\" class=\"plotly-graph-div\" style=\"height:525px; width:100%;\"></div>            <script type=\"text/javascript\">                require([\"plotly\"], function(Plotly) {                    window.PLOTLYENV=window.PLOTLYENV || {};                                    if (document.getElementById(\"16ad352e-8512-4466-8bf5-4f0d7d752ccb\")) {                    Plotly.newPlot(                        \"16ad352e-8512-4466-8bf5-4f0d7d752ccb\",                        [{\"marker\":{\"color\":\"#ff5f00\",\"opacity\":0.8,\"size\":8},\"mode\":\"markers\",\"name\":\"bloom\",\"x\":[0.0,1.0986122886681096,-0.579818495252942,1.9459101490553132],\"y\":[-1.0758728016986203,-1.0758728016986203,-1.0758728016986203,-1.0758728016986203],\"z\":[0.31,0.31,0.3,0.31],\"type\":\"scatter3d\"},{\"marker\":{\"color\":\"#ffbd00\",\"opacity\":0.8,\"size\":8},\"mode\":\"markers\",\"name\":\"gemma\",\"x\":[0.6931471805599453,1.9459101490553132],\"y\":[1.791759469228055,1.791759469228055],\"z\":[0.34,0.44],\"type\":\"scatter3d\"},{\"marker\":{\"color\":\"#e2ff00\",\"opacity\":0.8,\"size\":8},\"mode\":\"markers\",\"name\":\"gemma-2\",\"x\":[0.6931471805599453,2.197224577336219],\"y\":[2.0794415416798357,2.5649493574615367],\"z\":[0.37,0.54],\"type\":\"scatter3d\"},{\"marker\":{\"color\":\"#84ff00\",\"opacity\":0.8,\"size\":8},\"mode\":\"markers\",\"name\":\"gpt-neo\\u002fj\",\"x\":[0.26236426446749106,0.9932517730102834],\"y\":[-0.9675840262617056,-0.8675005677047231],\"z\":[0.3,0.31],\"type\":\"scatter3d\"},{\"marker\":{\"color\":\"#25ff00\",\"opacity\":0.8,\"size\":8},\"mode\":\"markers\",\"name\":\"llama\",\"x\":[2.5649493574615367,4.174387269895637,1.9459101490553132],\"y\":[0.0,0.33647223662121284,0.0],\"z\":[0.4,0.47,0.33],\"type\":\"scatter3d\"},{\"marker\":{\"color\":\"#00ff39\",\"opacity\":0.8,\"size\":8},\"mode\":\"markers\",\"name\":\"llama-2\",\"x\":[2.5649493574615367,4.2484952420493585,1.9459101490553132],\"y\":[0.6931471805599453,0.6931471805599453,0.6931471805599453],\"z\":[0.41,0.55,0.35],\"type\":\"scatter3d\"},{\"marker\":{\"color\":\"#00ff97\",\"opacity\":0.8,\"size\":8},\"mode\":\"markers\",\"name\":\"olmo\",\"x\":[0.0,1.9459101490553132],\"y\":[1.0986122886681096,0.916290731874155],\"z\":[0.31,0.33],\"type\":\"scatter3d\"},{\"marker\":{\"color\":\"#00fff6\",\"opacity\":0.8,\"size\":8},\"mode\":\"markers\",\"name\":\"opt\",\"x\":[0.26236426446749106,3.4011973816621555],\"y\":[-1.7147984280919266,-1.7147984280919266],\"z\":[0.31,0.31],\"type\":\"scatter3d\"},{\"marker\":{\"color\":\"#00aaff\",\"opacity\":0.8,\"size\":8},\"mode\":\"markers\",\"name\":\"pythia\",\"x\":[2.4849066497880004,-1.83258146374831,1.0296194171811581,-0.8915981192837836,1.9315214116032138],\"y\":[-1.3862943611198906,-1.3862943611198906,-1.3862943611198906,-1.3862943611198906,-1.3862943611198906],\"z\":[0.32,0.3,0.32,0.3,0.32],\"type\":\"scatter3d\"},{\"marker\":{\"color\":\"#004bff\",\"opacity\":0.8,\"size\":8},\"mode\":\"markers\",\"name\":\"qwen1.5\",\"x\":[-0.6931471805599453,0.5877866649021191,2.6390573296152584,3.4657359027997265,1.3862943611198906,1.9459101490553132],\"y\":[0.8754687373538999,0.8754687373538999,1.3862943611198906,1.3862943611198906,0.8754687373538999,1.3862943611198906],\"z\":[0.32,0.35,0.51,0.57,0.41,0.46],\"type\":\"scatter3d\"},{\"marker\":{\"color\":\"#1300ff\",\"opacity\":0.8,\"size\":8},\"mode\":\"markers\",\"name\":\"qwen2\",\"x\":[-0.6931471805599453,0.4054651081081644,4.276666119016055,1.9459101490553132],\"y\":[2.4849066497880004,1.9459101490553132,1.9459101490553132,1.9459101490553132],\"z\":[0.33,0.36,0.66,0.53],\"type\":\"scatter3d\"},{\"marker\":{\"color\":\"#7200ff\",\"opacity\":0.8,\"size\":8},\"mode\":\"markers\",\"name\":\"smollm\",\"x\":[0.5306282510621704,-2.0024805005437076,-1.0216512475319814],\"y\":[0.0,-0.5108256237659907,-0.5108256237659907],\"z\":[0.32,0.3,0.31],\"type\":\"scatter3d\"},{\"marker\":{\"color\":\"#d000ff\",\"opacity\":0.8,\"size\":8},\"mode\":\"markers\",\"name\":\"starcoder2\",\"x\":[2.70805020110221,1.0986122886681096,1.9459101490553132],\"y\":[1.4586150226995167,1.1939224684724343,1.3083328196501787],\"z\":[0.44,0.35,0.37],\"type\":\"scatter3d\"},{\"marker\":{\"color\":\"#ff00cf\",\"opacity\":0.8,\"size\":8},\"mode\":\"markers\",\"name\":\"yi\",\"x\":[3.526360524616161,1.791759469228055,2.197224577336219],\"y\":[1.0986122886681096,1.0986122886681096,1.33500106673234],\"z\":[0.55,0.43,0.49],\"type\":\"scatter3d\"},{\"marker\":{\"color\":\"#ff0071\",\"opacity\":0.8,\"size\":8},\"mode\":\"markers\",\"name\":\"yi-1.5\",\"x\":[3.526360524616161,1.791759469228055,2.197224577336219],\"y\":[1.252762968495368,1.252762968495368,1.252762968495368],\"z\":[0.6,0.45,0.51],\"type\":\"scatter3d\"}],                        {\"margin\":{\"b\":0,\"l\":0,\"r\":0,\"t\":0},\"scene\":{\"xaxis\":{\"title\":{\"text\":\"logS\"}},\"yaxis\":{\"title\":{\"text\":\"logT\"}},\"zaxis\":{\"title\":{\"text\":\"y\"}}},\"template\":{\"data\":{\"histogram2dcontour\":[{\"type\":\"histogram2dcontour\",\"colorbar\":{\"outlinewidth\":0,\"ticks\":\"\"},\"colorscale\":[[0.0,\"#0d0887\"],[0.1111111111111111,\"#46039f\"],[0.2222222222222222,\"#7201a8\"],[0.3333333333333333,\"#9c179e\"],[0.4444444444444444,\"#bd3786\"],[0.5555555555555556,\"#d8576b\"],[0.6666666666666666,\"#ed7953\"],[0.7777777777777778,\"#fb9f3a\"],[0.8888888888888888,\"#fdca26\"],[1.0,\"#f0f921\"]]}],\"choropleth\":[{\"type\":\"choropleth\",\"colorbar\":{\"outlinewidth\":0,\"ticks\":\"\"}}],\"histogram2d\":[{\"type\":\"histogram2d\",\"colorbar\":{\"outlinewidth\":0,\"ticks\":\"\"},\"colorscale\":[[0.0,\"#0d0887\"],[0.1111111111111111,\"#46039f\"],[0.2222222222222222,\"#7201a8\"],[0.3333333333333333,\"#9c179e\"],[0.4444444444444444,\"#bd3786\"],[0.5555555555555556,\"#d8576b\"],[0.6666666666666666,\"#ed7953\"],[0.7777777777777778,\"#fb9f3a\"],[0.8888888888888888,\"#fdca26\"],[1.0,\"#f0f921\"]]}],\"heatmap\":[{\"type\":\"heatmap\",\"colorbar\":{\"outlinewidth\":0,\"ticks\":\"\"},\"colorscale\":[[0.0,\"#0d0887\"],[0.1111111111111111,\"#46039f\"],[0.2222222222222222,\"#7201a8\"],[0.3333333333333333,\"#9c179e\"],[0.4444444444444444,\"#bd3786\"],[0.5555555555555556,\"#d8576b\"],[0.6666666666666666,\"#ed7953\"],[0.7777777777777778,\"#fb9f3a\"],[0.8888888888888888,\"#fdca26\"],[1.0,\"#f0f921\"]]}],\"heatmapgl\":[{\"type\":\"heatmapgl\",\"colorbar\":{\"outlinewidth\":0,\"ticks\":\"\"},\"colorscale\":[[0.0,\"#0d0887\"],[0.1111111111111111,\"#46039f\"],[0.2222222222222222,\"#7201a8\"],[0.3333333333333333,\"#9c179e\"],[0.4444444444444444,\"#bd3786\"],[0.5555555555555556,\"#d8576b\"],[0.6666666666666666,\"#ed7953\"],[0.7777777777777778,\"#fb9f3a\"],[0.8888888888888888,\"#fdca26\"],[1.0,\"#f0f921\"]]}],\"contourcarpet\":[{\"type\":\"contourcarpet\",\"colorbar\":{\"outlinewidth\":0,\"ticks\":\"\"}}],\"contour\":[{\"type\":\"contour\",\"colorbar\":{\"outlinewidth\":0,\"ticks\":\"\"},\"colorscale\":[[0.0,\"#0d0887\"],[0.1111111111111111,\"#46039f\"],[0.2222222222222222,\"#7201a8\"],[0.3333333333333333,\"#9c179e\"],[0.4444444444444444,\"#bd3786\"],[0.5555555555555556,\"#d8576b\"],[0.6666666666666666,\"#ed7953\"],[0.7777777777777778,\"#fb9f3a\"],[0.8888888888888888,\"#fdca26\"],[1.0,\"#f0f921\"]]}],\"surface\":[{\"type\":\"surface\",\"colorbar\":{\"outlinewidth\":0,\"ticks\":\"\"},\"colorscale\":[[0.0,\"#0d0887\"],[0.1111111111111111,\"#46039f\"],[0.2222222222222222,\"#7201a8\"],[0.3333333333333333,\"#9c179e\"],[0.4444444444444444,\"#bd3786\"],[0.5555555555555556,\"#d8576b\"],[0.6666666666666666,\"#ed7953\"],[0.7777777777777778,\"#fb9f3a\"],[0.8888888888888888,\"#fdca26\"],[1.0,\"#f0f921\"]]}],\"mesh3d\":[{\"type\":\"mesh3d\",\"colorbar\":{\"outlinewidth\":0,\"ticks\":\"\"}}],\"scatter\":[{\"fillpattern\":{\"fillmode\":\"overlay\",\"size\":10,\"solidity\":0.2},\"type\":\"scatter\"}],\"parcoords\":[{\"type\":\"parcoords\",\"line\":{\"colorbar\":{\"outlinewidth\":0,\"ticks\":\"\"}}}],\"scatterpolargl\":[{\"type\":\"scatterpolargl\",\"marker\":{\"colorbar\":{\"outlinewidth\":0,\"ticks\":\"\"}}}],\"bar\":[{\"error_x\":{\"color\":\"#2a3f5f\"},\"error_y\":{\"color\":\"#2a3f5f\"},\"marker\":{\"line\":{\"color\":\"#E5ECF6\",\"width\":0.5},\"pattern\":{\"fillmode\":\"overlay\",\"size\":10,\"solidity\":0.2}},\"type\":\"bar\"}],\"scattergeo\":[{\"type\":\"scattergeo\",\"marker\":{\"colorbar\":{\"outlinewidth\":0,\"ticks\":\"\"}}}],\"scatterpolar\":[{\"type\":\"scatterpolar\",\"marker\":{\"colorbar\":{\"outlinewidth\":0,\"ticks\":\"\"}}}],\"histogram\":[{\"marker\":{\"pattern\":{\"fillmode\":\"overlay\",\"size\":10,\"solidity\":0.2}},\"type\":\"histogram\"}],\"scattergl\":[{\"type\":\"scattergl\",\"marker\":{\"colorbar\":{\"outlinewidth\":0,\"ticks\":\"\"}}}],\"scatter3d\":[{\"type\":\"scatter3d\",\"line\":{\"colorbar\":{\"outlinewidth\":0,\"ticks\":\"\"}},\"marker\":{\"colorbar\":{\"outlinewidth\":0,\"ticks\":\"\"}}}],\"scattermapbox\":[{\"type\":\"scattermapbox\",\"marker\":{\"colorbar\":{\"outlinewidth\":0,\"ticks\":\"\"}}}],\"scatterternary\":[{\"type\":\"scatterternary\",\"marker\":{\"colorbar\":{\"outlinewidth\":0,\"ticks\":\"\"}}}],\"scattercarpet\":[{\"type\":\"scattercarpet\",\"marker\":{\"colorbar\":{\"outlinewidth\":0,\"ticks\":\"\"}}}],\"carpet\":[{\"aaxis\":{\"endlinecolor\":\"#2a3f5f\",\"gridcolor\":\"white\",\"linecolor\":\"white\",\"minorgridcolor\":\"white\",\"startlinecolor\":\"#2a3f5f\"},\"baxis\":{\"endlinecolor\":\"#2a3f5f\",\"gridcolor\":\"white\",\"linecolor\":\"white\",\"minorgridcolor\":\"white\",\"startlinecolor\":\"#2a3f5f\"},\"type\":\"carpet\"}],\"table\":[{\"cells\":{\"fill\":{\"color\":\"#EBF0F8\"},\"line\":{\"color\":\"white\"}},\"header\":{\"fill\":{\"color\":\"#C8D4E3\"},\"line\":{\"color\":\"white\"}},\"type\":\"table\"}],\"barpolar\":[{\"marker\":{\"line\":{\"color\":\"#E5ECF6\",\"width\":0.5},\"pattern\":{\"fillmode\":\"overlay\",\"size\":10,\"solidity\":0.2}},\"type\":\"barpolar\"}],\"pie\":[{\"automargin\":true,\"type\":\"pie\"}]},\"layout\":{\"autotypenumbers\":\"strict\",\"colorway\":[\"#636efa\",\"#EF553B\",\"#00cc96\",\"#ab63fa\",\"#FFA15A\",\"#19d3f3\",\"#FF6692\",\"#B6E880\",\"#FF97FF\",\"#FECB52\"],\"font\":{\"color\":\"#2a3f5f\"},\"hovermode\":\"closest\",\"hoverlabel\":{\"align\":\"left\"},\"paper_bgcolor\":\"white\",\"plot_bgcolor\":\"#E5ECF6\",\"polar\":{\"bgcolor\":\"#E5ECF6\",\"angularaxis\":{\"gridcolor\":\"white\",\"linecolor\":\"white\",\"ticks\":\"\"},\"radialaxis\":{\"gridcolor\":\"white\",\"linecolor\":\"white\",\"ticks\":\"\"}},\"ternary\":{\"bgcolor\":\"#E5ECF6\",\"aaxis\":{\"gridcolor\":\"white\",\"linecolor\":\"white\",\"ticks\":\"\"},\"baxis\":{\"gridcolor\":\"white\",\"linecolor\":\"white\",\"ticks\":\"\"},\"caxis\":{\"gridcolor\":\"white\",\"linecolor\":\"white\",\"ticks\":\"\"}},\"coloraxis\":{\"colorbar\":{\"outlinewidth\":0,\"ticks\":\"\"}},\"colorscale\":{\"sequential\":[[0.0,\"#0d0887\"],[0.1111111111111111,\"#46039f\"],[0.2222222222222222,\"#7201a8\"],[0.3333333333333333,\"#9c179e\"],[0.4444444444444444,\"#bd3786\"],[0.5555555555555556,\"#d8576b\"],[0.6666666666666666,\"#ed7953\"],[0.7777777777777778,\"#fb9f3a\"],[0.8888888888888888,\"#fdca26\"],[1.0,\"#f0f921\"]],\"sequentialminus\":[[0.0,\"#0d0887\"],[0.1111111111111111,\"#46039f\"],[0.2222222222222222,\"#7201a8\"],[0.3333333333333333,\"#9c179e\"],[0.4444444444444444,\"#bd3786\"],[0.5555555555555556,\"#d8576b\"],[0.6666666666666666,\"#ed7953\"],[0.7777777777777778,\"#fb9f3a\"],[0.8888888888888888,\"#fdca26\"],[1.0,\"#f0f921\"]],\"diverging\":[[0,\"#8e0152\"],[0.1,\"#c51b7d\"],[0.2,\"#de77ae\"],[0.3,\"#f1b6da\"],[0.4,\"#fde0ef\"],[0.5,\"#f7f7f7\"],[0.6,\"#e6f5d0\"],[0.7,\"#b8e186\"],[0.8,\"#7fbc41\"],[0.9,\"#4d9221\"],[1,\"#276419\"]]},\"xaxis\":{\"gridcolor\":\"white\",\"linecolor\":\"white\",\"ticks\":\"\",\"title\":{\"standoff\":15},\"zerolinecolor\":\"white\",\"automargin\":true,\"zerolinewidth\":2},\"yaxis\":{\"gridcolor\":\"white\",\"linecolor\":\"white\",\"ticks\":\"\",\"title\":{\"standoff\":15},\"zerolinecolor\":\"white\",\"automargin\":true,\"zerolinewidth\":2},\"scene\":{\"xaxis\":{\"backgroundcolor\":\"#E5ECF6\",\"gridcolor\":\"white\",\"linecolor\":\"white\",\"showbackground\":true,\"ticks\":\"\",\"zerolinecolor\":\"white\",\"gridwidth\":2},\"yaxis\":{\"backgroundcolor\":\"#E5ECF6\",\"gridcolor\":\"white\",\"linecolor\":\"white\",\"showbackground\":true,\"ticks\":\"\",\"zerolinecolor\":\"white\",\"gridwidth\":2},\"zaxis\":{\"backgroundcolor\":\"#E5ECF6\",\"gridcolor\":\"white\",\"linecolor\":\"white\",\"showbackground\":true,\"ticks\":\"\",\"zerolinecolor\":\"white\",\"gridwidth\":2}},\"shapedefaults\":{\"line\":{\"color\":\"#2a3f5f\"}},\"annotationdefaults\":{\"arrowcolor\":\"#2a3f5f\",\"arrowhead\":0,\"arrowwidth\":1},\"geo\":{\"bgcolor\":\"white\",\"landcolor\":\"#E5ECF6\",\"subunitcolor\":\"white\",\"showland\":true,\"showlakes\":true,\"lakecolor\":\"white\"},\"title\":{\"x\":0.05},\"mapbox\":{\"style\":\"light\"}}}},                        {\"responsive\": true}                    ).then(function(){\n",
       "                            \n",
       "var gd = document.getElementById('16ad352e-8512-4466-8bf5-4f0d7d752ccb');\n",
       "var x = new MutationObserver(function (mutations, observer) {{\n",
       "        var display = window.getComputedStyle(gd).display;\n",
       "        if (!display || display === 'none') {{\n",
       "            console.log([gd, 'removed!']);\n",
       "            Plotly.purge(gd);\n",
       "            observer.disconnect();\n",
       "        }}\n",
       "}});\n",
       "\n",
       "// Listen for the removal of the full notebook cells\n",
       "var notebookContainer = gd.closest('#notebook-container');\n",
       "if (notebookContainer) {{\n",
       "    x.observe(notebookContainer, {childList: true});\n",
       "}}\n",
       "\n",
       "// Listen for the clearing of the current output cell\n",
       "var outputEl = gd.closest('.output');\n",
       "if (outputEl) {{\n",
       "    x.observe(outputEl, {childList: true});\n",
       "}}\n",
       "\n",
       "                        })                };                });            </script>        </div>"
      ]
     },
     "metadata": {},
     "output_type": "display_data"
    },
    {
     "name": "stdout",
     "output_type": "stream",
     "text": [
      "************ MATH Lvl 5 ************\n"
     ]
    },
    {
     "data": {
      "application/vnd.plotly.v1+json": {
       "config": {
        "plotlyServerURL": "https://plot.ly"
       },
       "data": [
        {
         "marker": {
          "color": "#ff5f00",
          "opacity": 0.8,
          "size": 8
         },
         "mode": "markers",
         "name": "bloom",
         "type": "scatter3d",
         "x": [
          0,
          1.0986122886681096,
          -0.579818495252942,
          1.9459101490553132
         ],
         "y": [
          -1.0758728016986203,
          -1.0758728016986203,
          -1.0758728016986203,
          -1.0758728016986203
         ],
         "z": [
          0,
          0,
          0,
          0
         ]
        },
        {
         "marker": {
          "color": "#ffbd00",
          "opacity": 0.8,
          "size": 8
         },
         "mode": "markers",
         "name": "gemma",
         "type": "scatter3d",
         "x": [
          0.6931471805599453,
          1.9459101490553132
         ],
         "y": [
          1.791759469228055,
          1.791759469228055
         ],
         "z": [
          0.03,
          0.06
         ]
        },
        {
         "marker": {
          "color": "#e2ff00",
          "opacity": 0.8,
          "size": 8
         },
         "mode": "markers",
         "name": "gemma-2",
         "type": "scatter3d",
         "x": [
          0.6931471805599453,
          2.197224577336219
         ],
         "y": [
          2.0794415416798357,
          2.5649493574615367
         ],
         "z": [
          0.02,
          0.11
         ]
        },
        {
         "marker": {
          "color": "#84ff00",
          "opacity": 0.8,
          "size": 8
         },
         "mode": "markers",
         "name": "gpt-neo/j",
         "type": "scatter3d",
         "x": [
          0.26236426446749106,
          0.9932517730102834
         ],
         "y": [
          -0.9675840262617056,
          -0.8675005677047231
         ],
         "z": [
          0.01,
          0.01
         ]
        },
        {
         "marker": {
          "color": "#25ff00",
          "opacity": 0.8,
          "size": 8
         },
         "mode": "markers",
         "name": "llama",
         "type": "scatter3d",
         "x": [
          2.5649493574615367,
          4.174387269895637,
          1.9459101490553132
         ],
         "y": [
          0,
          0.33647223662121284,
          0
         ],
         "z": [
          0.01,
          0.02,
          0.01
         ]
        },
        {
         "marker": {
          "color": "#00ff39",
          "opacity": 0.8,
          "size": 8
         },
         "mode": "markers",
         "name": "llama-2",
         "type": "scatter3d",
         "x": [
          2.5649493574615367,
          4.2484952420493585,
          1.9459101490553132
         ],
         "y": [
          0.6931471805599453,
          0.6931471805599453,
          0.6931471805599453
         ],
         "z": [
          0.01,
          0.02,
          0.01
         ]
        },
        {
         "marker": {
          "color": "#00ff97",
          "opacity": 0.8,
          "size": 8
         },
         "mode": "markers",
         "name": "olmo",
         "type": "scatter3d",
         "x": [
          0,
          1.9459101490553132
         ],
         "y": [
          1.0986122886681096,
          0.916290731874155
         ],
         "z": [
          0.01,
          0.01
         ]
        },
        {
         "marker": {
          "color": "#00fff6",
          "opacity": 0.8,
          "size": 8
         },
         "mode": "markers",
         "name": "opt",
         "type": "scatter3d",
         "x": [
          0.26236426446749106,
          3.4011973816621555
         ],
         "y": [
          -1.7147984280919266,
          -1.7147984280919266
         ],
         "z": [
          0.01,
          0.01
         ]
        },
        {
         "marker": {
          "color": "#00aaff",
          "opacity": 0.8,
          "size": 8
         },
         "mode": "markers",
         "name": "pythia",
         "type": "scatter3d",
         "x": [
          2.4849066497880004,
          -1.83258146374831,
          1.0296194171811581,
          -0.8915981192837836,
          1.9315214116032138
         ],
         "y": [
          -1.3862943611198906,
          -1.3862943611198906,
          -1.3862943611198906,
          -1.3862943611198906,
          -1.3862943611198906
         ],
         "z": [
          0.01,
          0,
          0.01,
          0,
          0.01
         ]
        },
        {
         "marker": {
          "color": "#004bff",
          "opacity": 0.8,
          "size": 8
         },
         "mode": "markers",
         "name": "qwen1.5",
         "type": "scatter3d",
         "x": [
          -0.6931471805599453,
          0.5877866649021191,
          2.6390573296152584,
          3.4657359027997265,
          1.3862943611198906,
          1.9459101490553132
         ],
         "y": [
          0.8754687373538999,
          0.8754687373538999,
          1.3862943611198906,
          1.3862943611198906,
          0.8754687373538999,
          1.3862943611198906
         ],
         "z": [
          0,
          0.02,
          0.16,
          0.27,
          0.02,
          0.04
         ]
        },
        {
         "marker": {
          "color": "#1300ff",
          "opacity": 0.8,
          "size": 8
         },
         "mode": "markers",
         "name": "qwen2",
         "type": "scatter3d",
         "x": [
          -0.6931471805599453,
          0.4054651081081644,
          4.276666119016055,
          1.9459101490553132
         ],
         "y": [
          2.4849066497880004,
          1.9459101490553132,
          1.9459101490553132,
          1.9459101490553132
         ],
         "z": [
          0.03,
          0.06,
          0.29,
          0.19
         ]
        },
        {
         "marker": {
          "color": "#7200ff",
          "opacity": 0.8,
          "size": 8
         },
         "mode": "markers",
         "name": "smollm",
         "type": "scatter3d",
         "x": [
          0.5306282510621704,
          -2.0024805005437076,
          -1.0216512475319814
         ],
         "y": [
          0,
          -0.5108256237659907,
          -0.5108256237659907
         ],
         "z": [
          0.01,
          0.01,
          0
         ]
        },
        {
         "marker": {
          "color": "#d000ff",
          "opacity": 0.8,
          "size": 8
         },
         "mode": "markers",
         "name": "starcoder2",
         "type": "scatter3d",
         "x": [
          2.70805020110221,
          1.0986122886681096,
          1.9459101490553132
         ],
         "y": [
          1.4586150226995167,
          1.1939224684724343,
          1.3083328196501787
         ],
         "z": [
          0.05,
          0.01,
          0.03
         ]
        },
        {
         "marker": {
          "color": "#ff00cf",
          "opacity": 0.8,
          "size": 8
         },
         "mode": "markers",
         "name": "yi",
         "type": "scatter3d",
         "x": [
          3.526360524616161,
          1.791759469228055,
          2.197224577336219
         ],
         "y": [
          1.0986122886681096,
          1.0986122886681096,
          1.33500106673234
         ],
         "z": [
          0.04,
          0.02,
          0.04
         ]
        },
        {
         "marker": {
          "color": "#ff0071",
          "opacity": 0.8,
          "size": 8
         },
         "mode": "markers",
         "name": "yi-1.5",
         "type": "scatter3d",
         "x": [
          3.526360524616161,
          1.791759469228055,
          2.197224577336219
         ],
         "y": [
          1.252762968495368,
          1.252762968495368,
          1.252762968495368
         ],
         "z": [
          0.14,
          0.06,
          0.1
         ]
        }
       ],
       "layout": {
        "autosize": true,
        "margin": {
         "b": 0,
         "l": 0,
         "r": 0,
         "t": 0
        },
        "scene": {
         "aspectmode": "auto",
         "aspectratio": {
          "x": 1,
          "y": 1,
          "z": 1
         },
         "xaxis": {
          "title": {
           "text": "logS"
          },
          "type": "linear"
         },
         "yaxis": {
          "title": {
           "text": "logT"
          },
          "type": "linear"
         },
         "zaxis": {
          "title": {
           "text": "y"
          },
          "type": "linear"
         }
        },
        "template": {
         "data": {
          "bar": [
           {
            "error_x": {
             "color": "#2a3f5f"
            },
            "error_y": {
             "color": "#2a3f5f"
            },
            "marker": {
             "line": {
              "color": "#E5ECF6",
              "width": 0.5
             },
             "pattern": {
              "fillmode": "overlay",
              "size": 10,
              "solidity": 0.2
             }
            },
            "type": "bar"
           }
          ],
          "barpolar": [
           {
            "marker": {
             "line": {
              "color": "#E5ECF6",
              "width": 0.5
             },
             "pattern": {
              "fillmode": "overlay",
              "size": 10,
              "solidity": 0.2
             }
            },
            "type": "barpolar"
           }
          ],
          "carpet": [
           {
            "aaxis": {
             "endlinecolor": "#2a3f5f",
             "gridcolor": "white",
             "linecolor": "white",
             "minorgridcolor": "white",
             "startlinecolor": "#2a3f5f"
            },
            "baxis": {
             "endlinecolor": "#2a3f5f",
             "gridcolor": "white",
             "linecolor": "white",
             "minorgridcolor": "white",
             "startlinecolor": "#2a3f5f"
            },
            "type": "carpet"
           }
          ],
          "choropleth": [
           {
            "colorbar": {
             "outlinewidth": 0,
             "ticks": ""
            },
            "type": "choropleth"
           }
          ],
          "contour": [
           {
            "colorbar": {
             "outlinewidth": 0,
             "ticks": ""
            },
            "colorscale": [
             [
              0,
              "#0d0887"
             ],
             [
              0.1111111111111111,
              "#46039f"
             ],
             [
              0.2222222222222222,
              "#7201a8"
             ],
             [
              0.3333333333333333,
              "#9c179e"
             ],
             [
              0.4444444444444444,
              "#bd3786"
             ],
             [
              0.5555555555555556,
              "#d8576b"
             ],
             [
              0.6666666666666666,
              "#ed7953"
             ],
             [
              0.7777777777777778,
              "#fb9f3a"
             ],
             [
              0.8888888888888888,
              "#fdca26"
             ],
             [
              1,
              "#f0f921"
             ]
            ],
            "type": "contour"
           }
          ],
          "contourcarpet": [
           {
            "colorbar": {
             "outlinewidth": 0,
             "ticks": ""
            },
            "type": "contourcarpet"
           }
          ],
          "heatmap": [
           {
            "colorbar": {
             "outlinewidth": 0,
             "ticks": ""
            },
            "colorscale": [
             [
              0,
              "#0d0887"
             ],
             [
              0.1111111111111111,
              "#46039f"
             ],
             [
              0.2222222222222222,
              "#7201a8"
             ],
             [
              0.3333333333333333,
              "#9c179e"
             ],
             [
              0.4444444444444444,
              "#bd3786"
             ],
             [
              0.5555555555555556,
              "#d8576b"
             ],
             [
              0.6666666666666666,
              "#ed7953"
             ],
             [
              0.7777777777777778,
              "#fb9f3a"
             ],
             [
              0.8888888888888888,
              "#fdca26"
             ],
             [
              1,
              "#f0f921"
             ]
            ],
            "type": "heatmap"
           }
          ],
          "heatmapgl": [
           {
            "colorbar": {
             "outlinewidth": 0,
             "ticks": ""
            },
            "colorscale": [
             [
              0,
              "#0d0887"
             ],
             [
              0.1111111111111111,
              "#46039f"
             ],
             [
              0.2222222222222222,
              "#7201a8"
             ],
             [
              0.3333333333333333,
              "#9c179e"
             ],
             [
              0.4444444444444444,
              "#bd3786"
             ],
             [
              0.5555555555555556,
              "#d8576b"
             ],
             [
              0.6666666666666666,
              "#ed7953"
             ],
             [
              0.7777777777777778,
              "#fb9f3a"
             ],
             [
              0.8888888888888888,
              "#fdca26"
             ],
             [
              1,
              "#f0f921"
             ]
            ],
            "type": "heatmapgl"
           }
          ],
          "histogram": [
           {
            "marker": {
             "pattern": {
              "fillmode": "overlay",
              "size": 10,
              "solidity": 0.2
             }
            },
            "type": "histogram"
           }
          ],
          "histogram2d": [
           {
            "colorbar": {
             "outlinewidth": 0,
             "ticks": ""
            },
            "colorscale": [
             [
              0,
              "#0d0887"
             ],
             [
              0.1111111111111111,
              "#46039f"
             ],
             [
              0.2222222222222222,
              "#7201a8"
             ],
             [
              0.3333333333333333,
              "#9c179e"
             ],
             [
              0.4444444444444444,
              "#bd3786"
             ],
             [
              0.5555555555555556,
              "#d8576b"
             ],
             [
              0.6666666666666666,
              "#ed7953"
             ],
             [
              0.7777777777777778,
              "#fb9f3a"
             ],
             [
              0.8888888888888888,
              "#fdca26"
             ],
             [
              1,
              "#f0f921"
             ]
            ],
            "type": "histogram2d"
           }
          ],
          "histogram2dcontour": [
           {
            "colorbar": {
             "outlinewidth": 0,
             "ticks": ""
            },
            "colorscale": [
             [
              0,
              "#0d0887"
             ],
             [
              0.1111111111111111,
              "#46039f"
             ],
             [
              0.2222222222222222,
              "#7201a8"
             ],
             [
              0.3333333333333333,
              "#9c179e"
             ],
             [
              0.4444444444444444,
              "#bd3786"
             ],
             [
              0.5555555555555556,
              "#d8576b"
             ],
             [
              0.6666666666666666,
              "#ed7953"
             ],
             [
              0.7777777777777778,
              "#fb9f3a"
             ],
             [
              0.8888888888888888,
              "#fdca26"
             ],
             [
              1,
              "#f0f921"
             ]
            ],
            "type": "histogram2dcontour"
           }
          ],
          "mesh3d": [
           {
            "colorbar": {
             "outlinewidth": 0,
             "ticks": ""
            },
            "type": "mesh3d"
           }
          ],
          "parcoords": [
           {
            "line": {
             "colorbar": {
              "outlinewidth": 0,
              "ticks": ""
             }
            },
            "type": "parcoords"
           }
          ],
          "pie": [
           {
            "automargin": true,
            "type": "pie"
           }
          ],
          "scatter": [
           {
            "fillpattern": {
             "fillmode": "overlay",
             "size": 10,
             "solidity": 0.2
            },
            "type": "scatter"
           }
          ],
          "scatter3d": [
           {
            "line": {
             "colorbar": {
              "outlinewidth": 0,
              "ticks": ""
             }
            },
            "marker": {
             "colorbar": {
              "outlinewidth": 0,
              "ticks": ""
             }
            },
            "type": "scatter3d"
           }
          ],
          "scattercarpet": [
           {
            "marker": {
             "colorbar": {
              "outlinewidth": 0,
              "ticks": ""
             }
            },
            "type": "scattercarpet"
           }
          ],
          "scattergeo": [
           {
            "marker": {
             "colorbar": {
              "outlinewidth": 0,
              "ticks": ""
             }
            },
            "type": "scattergeo"
           }
          ],
          "scattergl": [
           {
            "marker": {
             "colorbar": {
              "outlinewidth": 0,
              "ticks": ""
             }
            },
            "type": "scattergl"
           }
          ],
          "scattermapbox": [
           {
            "marker": {
             "colorbar": {
              "outlinewidth": 0,
              "ticks": ""
             }
            },
            "type": "scattermapbox"
           }
          ],
          "scatterpolar": [
           {
            "marker": {
             "colorbar": {
              "outlinewidth": 0,
              "ticks": ""
             }
            },
            "type": "scatterpolar"
           }
          ],
          "scatterpolargl": [
           {
            "marker": {
             "colorbar": {
              "outlinewidth": 0,
              "ticks": ""
             }
            },
            "type": "scatterpolargl"
           }
          ],
          "scatterternary": [
           {
            "marker": {
             "colorbar": {
              "outlinewidth": 0,
              "ticks": ""
             }
            },
            "type": "scatterternary"
           }
          ],
          "surface": [
           {
            "colorbar": {
             "outlinewidth": 0,
             "ticks": ""
            },
            "colorscale": [
             [
              0,
              "#0d0887"
             ],
             [
              0.1111111111111111,
              "#46039f"
             ],
             [
              0.2222222222222222,
              "#7201a8"
             ],
             [
              0.3333333333333333,
              "#9c179e"
             ],
             [
              0.4444444444444444,
              "#bd3786"
             ],
             [
              0.5555555555555556,
              "#d8576b"
             ],
             [
              0.6666666666666666,
              "#ed7953"
             ],
             [
              0.7777777777777778,
              "#fb9f3a"
             ],
             [
              0.8888888888888888,
              "#fdca26"
             ],
             [
              1,
              "#f0f921"
             ]
            ],
            "type": "surface"
           }
          ],
          "table": [
           {
            "cells": {
             "fill": {
              "color": "#EBF0F8"
             },
             "line": {
              "color": "white"
             }
            },
            "header": {
             "fill": {
              "color": "#C8D4E3"
             },
             "line": {
              "color": "white"
             }
            },
            "type": "table"
           }
          ]
         },
         "layout": {
          "annotationdefaults": {
           "arrowcolor": "#2a3f5f",
           "arrowhead": 0,
           "arrowwidth": 1
          },
          "autotypenumbers": "strict",
          "coloraxis": {
           "colorbar": {
            "outlinewidth": 0,
            "ticks": ""
           }
          },
          "colorscale": {
           "diverging": [
            [
             0,
             "#8e0152"
            ],
            [
             0.1,
             "#c51b7d"
            ],
            [
             0.2,
             "#de77ae"
            ],
            [
             0.3,
             "#f1b6da"
            ],
            [
             0.4,
             "#fde0ef"
            ],
            [
             0.5,
             "#f7f7f7"
            ],
            [
             0.6,
             "#e6f5d0"
            ],
            [
             0.7,
             "#b8e186"
            ],
            [
             0.8,
             "#7fbc41"
            ],
            [
             0.9,
             "#4d9221"
            ],
            [
             1,
             "#276419"
            ]
           ],
           "sequential": [
            [
             0,
             "#0d0887"
            ],
            [
             0.1111111111111111,
             "#46039f"
            ],
            [
             0.2222222222222222,
             "#7201a8"
            ],
            [
             0.3333333333333333,
             "#9c179e"
            ],
            [
             0.4444444444444444,
             "#bd3786"
            ],
            [
             0.5555555555555556,
             "#d8576b"
            ],
            [
             0.6666666666666666,
             "#ed7953"
            ],
            [
             0.7777777777777778,
             "#fb9f3a"
            ],
            [
             0.8888888888888888,
             "#fdca26"
            ],
            [
             1,
             "#f0f921"
            ]
           ],
           "sequentialminus": [
            [
             0,
             "#0d0887"
            ],
            [
             0.1111111111111111,
             "#46039f"
            ],
            [
             0.2222222222222222,
             "#7201a8"
            ],
            [
             0.3333333333333333,
             "#9c179e"
            ],
            [
             0.4444444444444444,
             "#bd3786"
            ],
            [
             0.5555555555555556,
             "#d8576b"
            ],
            [
             0.6666666666666666,
             "#ed7953"
            ],
            [
             0.7777777777777778,
             "#fb9f3a"
            ],
            [
             0.8888888888888888,
             "#fdca26"
            ],
            [
             1,
             "#f0f921"
            ]
           ]
          },
          "colorway": [
           "#636efa",
           "#EF553B",
           "#00cc96",
           "#ab63fa",
           "#FFA15A",
           "#19d3f3",
           "#FF6692",
           "#B6E880",
           "#FF97FF",
           "#FECB52"
          ],
          "font": {
           "color": "#2a3f5f"
          },
          "geo": {
           "bgcolor": "white",
           "lakecolor": "white",
           "landcolor": "#E5ECF6",
           "showlakes": true,
           "showland": true,
           "subunitcolor": "white"
          },
          "hoverlabel": {
           "align": "left"
          },
          "hovermode": "closest",
          "mapbox": {
           "style": "light"
          },
          "paper_bgcolor": "white",
          "plot_bgcolor": "#E5ECF6",
          "polar": {
           "angularaxis": {
            "gridcolor": "white",
            "linecolor": "white",
            "ticks": ""
           },
           "bgcolor": "#E5ECF6",
           "radialaxis": {
            "gridcolor": "white",
            "linecolor": "white",
            "ticks": ""
           }
          },
          "scene": {
           "xaxis": {
            "backgroundcolor": "#E5ECF6",
            "gridcolor": "white",
            "gridwidth": 2,
            "linecolor": "white",
            "showbackground": true,
            "ticks": "",
            "zerolinecolor": "white"
           },
           "yaxis": {
            "backgroundcolor": "#E5ECF6",
            "gridcolor": "white",
            "gridwidth": 2,
            "linecolor": "white",
            "showbackground": true,
            "ticks": "",
            "zerolinecolor": "white"
           },
           "zaxis": {
            "backgroundcolor": "#E5ECF6",
            "gridcolor": "white",
            "gridwidth": 2,
            "linecolor": "white",
            "showbackground": true,
            "ticks": "",
            "zerolinecolor": "white"
           }
          },
          "shapedefaults": {
           "line": {
            "color": "#2a3f5f"
           }
          },
          "ternary": {
           "aaxis": {
            "gridcolor": "white",
            "linecolor": "white",
            "ticks": ""
           },
           "baxis": {
            "gridcolor": "white",
            "linecolor": "white",
            "ticks": ""
           },
           "bgcolor": "#E5ECF6",
           "caxis": {
            "gridcolor": "white",
            "linecolor": "white",
            "ticks": ""
           }
          },
          "title": {
           "x": 0.05
          },
          "xaxis": {
           "automargin": true,
           "gridcolor": "white",
           "linecolor": "white",
           "ticks": "",
           "title": {
            "standoff": 15
           },
           "zerolinecolor": "white",
           "zerolinewidth": 2
          },
          "yaxis": {
           "automargin": true,
           "gridcolor": "white",
           "linecolor": "white",
           "ticks": "",
           "title": {
            "standoff": 15
           },
           "zerolinecolor": "white",
           "zerolinewidth": 2
          }
         }
        }
       }
      },
      "text/html": [
       "<div>                            <div id=\"bdbc2c4c-f4a8-4d03-8db4-93557d6fb6ba\" class=\"plotly-graph-div\" style=\"height:525px; width:100%;\"></div>            <script type=\"text/javascript\">                require([\"plotly\"], function(Plotly) {                    window.PLOTLYENV=window.PLOTLYENV || {};                                    if (document.getElementById(\"bdbc2c4c-f4a8-4d03-8db4-93557d6fb6ba\")) {                    Plotly.newPlot(                        \"bdbc2c4c-f4a8-4d03-8db4-93557d6fb6ba\",                        [{\"marker\":{\"color\":\"#ff5f00\",\"opacity\":0.8,\"size\":8},\"mode\":\"markers\",\"name\":\"bloom\",\"x\":[0.0,1.0986122886681096,-0.579818495252942,1.9459101490553132],\"y\":[-1.0758728016986203,-1.0758728016986203,-1.0758728016986203,-1.0758728016986203],\"z\":[0.0,0.0,0.0,0.0],\"type\":\"scatter3d\"},{\"marker\":{\"color\":\"#ffbd00\",\"opacity\":0.8,\"size\":8},\"mode\":\"markers\",\"name\":\"gemma\",\"x\":[0.6931471805599453,1.9459101490553132],\"y\":[1.791759469228055,1.791759469228055],\"z\":[0.03,0.06],\"type\":\"scatter3d\"},{\"marker\":{\"color\":\"#e2ff00\",\"opacity\":0.8,\"size\":8},\"mode\":\"markers\",\"name\":\"gemma-2\",\"x\":[0.6931471805599453,2.197224577336219],\"y\":[2.0794415416798357,2.5649493574615367],\"z\":[0.02,0.11],\"type\":\"scatter3d\"},{\"marker\":{\"color\":\"#84ff00\",\"opacity\":0.8,\"size\":8},\"mode\":\"markers\",\"name\":\"gpt-neo\\u002fj\",\"x\":[0.26236426446749106,0.9932517730102834],\"y\":[-0.9675840262617056,-0.8675005677047231],\"z\":[0.01,0.01],\"type\":\"scatter3d\"},{\"marker\":{\"color\":\"#25ff00\",\"opacity\":0.8,\"size\":8},\"mode\":\"markers\",\"name\":\"llama\",\"x\":[2.5649493574615367,4.174387269895637,1.9459101490553132],\"y\":[0.0,0.33647223662121284,0.0],\"z\":[0.01,0.02,0.01],\"type\":\"scatter3d\"},{\"marker\":{\"color\":\"#00ff39\",\"opacity\":0.8,\"size\":8},\"mode\":\"markers\",\"name\":\"llama-2\",\"x\":[2.5649493574615367,4.2484952420493585,1.9459101490553132],\"y\":[0.6931471805599453,0.6931471805599453,0.6931471805599453],\"z\":[0.01,0.02,0.01],\"type\":\"scatter3d\"},{\"marker\":{\"color\":\"#00ff97\",\"opacity\":0.8,\"size\":8},\"mode\":\"markers\",\"name\":\"olmo\",\"x\":[0.0,1.9459101490553132],\"y\":[1.0986122886681096,0.916290731874155],\"z\":[0.01,0.01],\"type\":\"scatter3d\"},{\"marker\":{\"color\":\"#00fff6\",\"opacity\":0.8,\"size\":8},\"mode\":\"markers\",\"name\":\"opt\",\"x\":[0.26236426446749106,3.4011973816621555],\"y\":[-1.7147984280919266,-1.7147984280919266],\"z\":[0.01,0.01],\"type\":\"scatter3d\"},{\"marker\":{\"color\":\"#00aaff\",\"opacity\":0.8,\"size\":8},\"mode\":\"markers\",\"name\":\"pythia\",\"x\":[2.4849066497880004,-1.83258146374831,1.0296194171811581,-0.8915981192837836,1.9315214116032138],\"y\":[-1.3862943611198906,-1.3862943611198906,-1.3862943611198906,-1.3862943611198906,-1.3862943611198906],\"z\":[0.01,0.0,0.01,0.0,0.01],\"type\":\"scatter3d\"},{\"marker\":{\"color\":\"#004bff\",\"opacity\":0.8,\"size\":8},\"mode\":\"markers\",\"name\":\"qwen1.5\",\"x\":[-0.6931471805599453,0.5877866649021191,2.6390573296152584,3.4657359027997265,1.3862943611198906,1.9459101490553132],\"y\":[0.8754687373538999,0.8754687373538999,1.3862943611198906,1.3862943611198906,0.8754687373538999,1.3862943611198906],\"z\":[0.0,0.02,0.16,0.27,0.02,0.04],\"type\":\"scatter3d\"},{\"marker\":{\"color\":\"#1300ff\",\"opacity\":0.8,\"size\":8},\"mode\":\"markers\",\"name\":\"qwen2\",\"x\":[-0.6931471805599453,0.4054651081081644,4.276666119016055,1.9459101490553132],\"y\":[2.4849066497880004,1.9459101490553132,1.9459101490553132,1.9459101490553132],\"z\":[0.03,0.06,0.29,0.19],\"type\":\"scatter3d\"},{\"marker\":{\"color\":\"#7200ff\",\"opacity\":0.8,\"size\":8},\"mode\":\"markers\",\"name\":\"smollm\",\"x\":[0.5306282510621704,-2.0024805005437076,-1.0216512475319814],\"y\":[0.0,-0.5108256237659907,-0.5108256237659907],\"z\":[0.01,0.01,0.0],\"type\":\"scatter3d\"},{\"marker\":{\"color\":\"#d000ff\",\"opacity\":0.8,\"size\":8},\"mode\":\"markers\",\"name\":\"starcoder2\",\"x\":[2.70805020110221,1.0986122886681096,1.9459101490553132],\"y\":[1.4586150226995167,1.1939224684724343,1.3083328196501787],\"z\":[0.05,0.01,0.03],\"type\":\"scatter3d\"},{\"marker\":{\"color\":\"#ff00cf\",\"opacity\":0.8,\"size\":8},\"mode\":\"markers\",\"name\":\"yi\",\"x\":[3.526360524616161,1.791759469228055,2.197224577336219],\"y\":[1.0986122886681096,1.0986122886681096,1.33500106673234],\"z\":[0.04,0.02,0.04],\"type\":\"scatter3d\"},{\"marker\":{\"color\":\"#ff0071\",\"opacity\":0.8,\"size\":8},\"mode\":\"markers\",\"name\":\"yi-1.5\",\"x\":[3.526360524616161,1.791759469228055,2.197224577336219],\"y\":[1.252762968495368,1.252762968495368,1.252762968495368],\"z\":[0.14,0.06,0.1],\"type\":\"scatter3d\"}],                        {\"margin\":{\"b\":0,\"l\":0,\"r\":0,\"t\":0},\"scene\":{\"xaxis\":{\"title\":{\"text\":\"logS\"}},\"yaxis\":{\"title\":{\"text\":\"logT\"}},\"zaxis\":{\"title\":{\"text\":\"y\"}}},\"template\":{\"data\":{\"histogram2dcontour\":[{\"type\":\"histogram2dcontour\",\"colorbar\":{\"outlinewidth\":0,\"ticks\":\"\"},\"colorscale\":[[0.0,\"#0d0887\"],[0.1111111111111111,\"#46039f\"],[0.2222222222222222,\"#7201a8\"],[0.3333333333333333,\"#9c179e\"],[0.4444444444444444,\"#bd3786\"],[0.5555555555555556,\"#d8576b\"],[0.6666666666666666,\"#ed7953\"],[0.7777777777777778,\"#fb9f3a\"],[0.8888888888888888,\"#fdca26\"],[1.0,\"#f0f921\"]]}],\"choropleth\":[{\"type\":\"choropleth\",\"colorbar\":{\"outlinewidth\":0,\"ticks\":\"\"}}],\"histogram2d\":[{\"type\":\"histogram2d\",\"colorbar\":{\"outlinewidth\":0,\"ticks\":\"\"},\"colorscale\":[[0.0,\"#0d0887\"],[0.1111111111111111,\"#46039f\"],[0.2222222222222222,\"#7201a8\"],[0.3333333333333333,\"#9c179e\"],[0.4444444444444444,\"#bd3786\"],[0.5555555555555556,\"#d8576b\"],[0.6666666666666666,\"#ed7953\"],[0.7777777777777778,\"#fb9f3a\"],[0.8888888888888888,\"#fdca26\"],[1.0,\"#f0f921\"]]}],\"heatmap\":[{\"type\":\"heatmap\",\"colorbar\":{\"outlinewidth\":0,\"ticks\":\"\"},\"colorscale\":[[0.0,\"#0d0887\"],[0.1111111111111111,\"#46039f\"],[0.2222222222222222,\"#7201a8\"],[0.3333333333333333,\"#9c179e\"],[0.4444444444444444,\"#bd3786\"],[0.5555555555555556,\"#d8576b\"],[0.6666666666666666,\"#ed7953\"],[0.7777777777777778,\"#fb9f3a\"],[0.8888888888888888,\"#fdca26\"],[1.0,\"#f0f921\"]]}],\"heatmapgl\":[{\"type\":\"heatmapgl\",\"colorbar\":{\"outlinewidth\":0,\"ticks\":\"\"},\"colorscale\":[[0.0,\"#0d0887\"],[0.1111111111111111,\"#46039f\"],[0.2222222222222222,\"#7201a8\"],[0.3333333333333333,\"#9c179e\"],[0.4444444444444444,\"#bd3786\"],[0.5555555555555556,\"#d8576b\"],[0.6666666666666666,\"#ed7953\"],[0.7777777777777778,\"#fb9f3a\"],[0.8888888888888888,\"#fdca26\"],[1.0,\"#f0f921\"]]}],\"contourcarpet\":[{\"type\":\"contourcarpet\",\"colorbar\":{\"outlinewidth\":0,\"ticks\":\"\"}}],\"contour\":[{\"type\":\"contour\",\"colorbar\":{\"outlinewidth\":0,\"ticks\":\"\"},\"colorscale\":[[0.0,\"#0d0887\"],[0.1111111111111111,\"#46039f\"],[0.2222222222222222,\"#7201a8\"],[0.3333333333333333,\"#9c179e\"],[0.4444444444444444,\"#bd3786\"],[0.5555555555555556,\"#d8576b\"],[0.6666666666666666,\"#ed7953\"],[0.7777777777777778,\"#fb9f3a\"],[0.8888888888888888,\"#fdca26\"],[1.0,\"#f0f921\"]]}],\"surface\":[{\"type\":\"surface\",\"colorbar\":{\"outlinewidth\":0,\"ticks\":\"\"},\"colorscale\":[[0.0,\"#0d0887\"],[0.1111111111111111,\"#46039f\"],[0.2222222222222222,\"#7201a8\"],[0.3333333333333333,\"#9c179e\"],[0.4444444444444444,\"#bd3786\"],[0.5555555555555556,\"#d8576b\"],[0.6666666666666666,\"#ed7953\"],[0.7777777777777778,\"#fb9f3a\"],[0.8888888888888888,\"#fdca26\"],[1.0,\"#f0f921\"]]}],\"mesh3d\":[{\"type\":\"mesh3d\",\"colorbar\":{\"outlinewidth\":0,\"ticks\":\"\"}}],\"scatter\":[{\"fillpattern\":{\"fillmode\":\"overlay\",\"size\":10,\"solidity\":0.2},\"type\":\"scatter\"}],\"parcoords\":[{\"type\":\"parcoords\",\"line\":{\"colorbar\":{\"outlinewidth\":0,\"ticks\":\"\"}}}],\"scatterpolargl\":[{\"type\":\"scatterpolargl\",\"marker\":{\"colorbar\":{\"outlinewidth\":0,\"ticks\":\"\"}}}],\"bar\":[{\"error_x\":{\"color\":\"#2a3f5f\"},\"error_y\":{\"color\":\"#2a3f5f\"},\"marker\":{\"line\":{\"color\":\"#E5ECF6\",\"width\":0.5},\"pattern\":{\"fillmode\":\"overlay\",\"size\":10,\"solidity\":0.2}},\"type\":\"bar\"}],\"scattergeo\":[{\"type\":\"scattergeo\",\"marker\":{\"colorbar\":{\"outlinewidth\":0,\"ticks\":\"\"}}}],\"scatterpolar\":[{\"type\":\"scatterpolar\",\"marker\":{\"colorbar\":{\"outlinewidth\":0,\"ticks\":\"\"}}}],\"histogram\":[{\"marker\":{\"pattern\":{\"fillmode\":\"overlay\",\"size\":10,\"solidity\":0.2}},\"type\":\"histogram\"}],\"scattergl\":[{\"type\":\"scattergl\",\"marker\":{\"colorbar\":{\"outlinewidth\":0,\"ticks\":\"\"}}}],\"scatter3d\":[{\"type\":\"scatter3d\",\"line\":{\"colorbar\":{\"outlinewidth\":0,\"ticks\":\"\"}},\"marker\":{\"colorbar\":{\"outlinewidth\":0,\"ticks\":\"\"}}}],\"scattermapbox\":[{\"type\":\"scattermapbox\",\"marker\":{\"colorbar\":{\"outlinewidth\":0,\"ticks\":\"\"}}}],\"scatterternary\":[{\"type\":\"scatterternary\",\"marker\":{\"colorbar\":{\"outlinewidth\":0,\"ticks\":\"\"}}}],\"scattercarpet\":[{\"type\":\"scattercarpet\",\"marker\":{\"colorbar\":{\"outlinewidth\":0,\"ticks\":\"\"}}}],\"carpet\":[{\"aaxis\":{\"endlinecolor\":\"#2a3f5f\",\"gridcolor\":\"white\",\"linecolor\":\"white\",\"minorgridcolor\":\"white\",\"startlinecolor\":\"#2a3f5f\"},\"baxis\":{\"endlinecolor\":\"#2a3f5f\",\"gridcolor\":\"white\",\"linecolor\":\"white\",\"minorgridcolor\":\"white\",\"startlinecolor\":\"#2a3f5f\"},\"type\":\"carpet\"}],\"table\":[{\"cells\":{\"fill\":{\"color\":\"#EBF0F8\"},\"line\":{\"color\":\"white\"}},\"header\":{\"fill\":{\"color\":\"#C8D4E3\"},\"line\":{\"color\":\"white\"}},\"type\":\"table\"}],\"barpolar\":[{\"marker\":{\"line\":{\"color\":\"#E5ECF6\",\"width\":0.5},\"pattern\":{\"fillmode\":\"overlay\",\"size\":10,\"solidity\":0.2}},\"type\":\"barpolar\"}],\"pie\":[{\"automargin\":true,\"type\":\"pie\"}]},\"layout\":{\"autotypenumbers\":\"strict\",\"colorway\":[\"#636efa\",\"#EF553B\",\"#00cc96\",\"#ab63fa\",\"#FFA15A\",\"#19d3f3\",\"#FF6692\",\"#B6E880\",\"#FF97FF\",\"#FECB52\"],\"font\":{\"color\":\"#2a3f5f\"},\"hovermode\":\"closest\",\"hoverlabel\":{\"align\":\"left\"},\"paper_bgcolor\":\"white\",\"plot_bgcolor\":\"#E5ECF6\",\"polar\":{\"bgcolor\":\"#E5ECF6\",\"angularaxis\":{\"gridcolor\":\"white\",\"linecolor\":\"white\",\"ticks\":\"\"},\"radialaxis\":{\"gridcolor\":\"white\",\"linecolor\":\"white\",\"ticks\":\"\"}},\"ternary\":{\"bgcolor\":\"#E5ECF6\",\"aaxis\":{\"gridcolor\":\"white\",\"linecolor\":\"white\",\"ticks\":\"\"},\"baxis\":{\"gridcolor\":\"white\",\"linecolor\":\"white\",\"ticks\":\"\"},\"caxis\":{\"gridcolor\":\"white\",\"linecolor\":\"white\",\"ticks\":\"\"}},\"coloraxis\":{\"colorbar\":{\"outlinewidth\":0,\"ticks\":\"\"}},\"colorscale\":{\"sequential\":[[0.0,\"#0d0887\"],[0.1111111111111111,\"#46039f\"],[0.2222222222222222,\"#7201a8\"],[0.3333333333333333,\"#9c179e\"],[0.4444444444444444,\"#bd3786\"],[0.5555555555555556,\"#d8576b\"],[0.6666666666666666,\"#ed7953\"],[0.7777777777777778,\"#fb9f3a\"],[0.8888888888888888,\"#fdca26\"],[1.0,\"#f0f921\"]],\"sequentialminus\":[[0.0,\"#0d0887\"],[0.1111111111111111,\"#46039f\"],[0.2222222222222222,\"#7201a8\"],[0.3333333333333333,\"#9c179e\"],[0.4444444444444444,\"#bd3786\"],[0.5555555555555556,\"#d8576b\"],[0.6666666666666666,\"#ed7953\"],[0.7777777777777778,\"#fb9f3a\"],[0.8888888888888888,\"#fdca26\"],[1.0,\"#f0f921\"]],\"diverging\":[[0,\"#8e0152\"],[0.1,\"#c51b7d\"],[0.2,\"#de77ae\"],[0.3,\"#f1b6da\"],[0.4,\"#fde0ef\"],[0.5,\"#f7f7f7\"],[0.6,\"#e6f5d0\"],[0.7,\"#b8e186\"],[0.8,\"#7fbc41\"],[0.9,\"#4d9221\"],[1,\"#276419\"]]},\"xaxis\":{\"gridcolor\":\"white\",\"linecolor\":\"white\",\"ticks\":\"\",\"title\":{\"standoff\":15},\"zerolinecolor\":\"white\",\"automargin\":true,\"zerolinewidth\":2},\"yaxis\":{\"gridcolor\":\"white\",\"linecolor\":\"white\",\"ticks\":\"\",\"title\":{\"standoff\":15},\"zerolinecolor\":\"white\",\"automargin\":true,\"zerolinewidth\":2},\"scene\":{\"xaxis\":{\"backgroundcolor\":\"#E5ECF6\",\"gridcolor\":\"white\",\"linecolor\":\"white\",\"showbackground\":true,\"ticks\":\"\",\"zerolinecolor\":\"white\",\"gridwidth\":2},\"yaxis\":{\"backgroundcolor\":\"#E5ECF6\",\"gridcolor\":\"white\",\"linecolor\":\"white\",\"showbackground\":true,\"ticks\":\"\",\"zerolinecolor\":\"white\",\"gridwidth\":2},\"zaxis\":{\"backgroundcolor\":\"#E5ECF6\",\"gridcolor\":\"white\",\"linecolor\":\"white\",\"showbackground\":true,\"ticks\":\"\",\"zerolinecolor\":\"white\",\"gridwidth\":2}},\"shapedefaults\":{\"line\":{\"color\":\"#2a3f5f\"}},\"annotationdefaults\":{\"arrowcolor\":\"#2a3f5f\",\"arrowhead\":0,\"arrowwidth\":1},\"geo\":{\"bgcolor\":\"white\",\"landcolor\":\"#E5ECF6\",\"subunitcolor\":\"white\",\"showland\":true,\"showlakes\":true,\"lakecolor\":\"white\"},\"title\":{\"x\":0.05},\"mapbox\":{\"style\":\"light\"}}}},                        {\"responsive\": true}                    ).then(function(){\n",
       "                            \n",
       "var gd = document.getElementById('bdbc2c4c-f4a8-4d03-8db4-93557d6fb6ba');\n",
       "var x = new MutationObserver(function (mutations, observer) {{\n",
       "        var display = window.getComputedStyle(gd).display;\n",
       "        if (!display || display === 'none') {{\n",
       "            console.log([gd, 'removed!']);\n",
       "            Plotly.purge(gd);\n",
       "            observer.disconnect();\n",
       "        }}\n",
       "}});\n",
       "\n",
       "// Listen for the removal of the full notebook cells\n",
       "var notebookContainer = gd.closest('#notebook-container');\n",
       "if (notebookContainer) {{\n",
       "    x.observe(notebookContainer, {childList: true});\n",
       "}}\n",
       "\n",
       "// Listen for the clearing of the current output cell\n",
       "var outputEl = gd.closest('.output');\n",
       "if (outputEl) {{\n",
       "    x.observe(outputEl, {childList: true});\n",
       "}}\n",
       "\n",
       "                        })                };                });            </script>        </div>"
      ]
     },
     "metadata": {},
     "output_type": "display_data"
    },
    {
     "name": "stdout",
     "output_type": "stream",
     "text": [
      "************ GPQA ************\n"
     ]
    },
    {
     "data": {
      "application/vnd.plotly.v1+json": {
       "config": {
        "plotlyServerURL": "https://plot.ly"
       },
       "data": [
        {
         "marker": {
          "color": "#ff5f00",
          "opacity": 0.8,
          "size": 8
         },
         "mode": "markers",
         "name": "bloom",
         "type": "scatter3d",
         "x": [
          0,
          1.0986122886681096,
          -0.579818495252942,
          1.9459101490553132
         ],
         "y": [
          -1.0758728016986203,
          -1.0758728016986203,
          -1.0758728016986203,
          -1.0758728016986203
         ],
         "z": [
          0.26,
          0.24,
          0.26,
          0.26
         ]
        },
        {
         "marker": {
          "color": "#ffbd00",
          "opacity": 0.8,
          "size": 8
         },
         "mode": "markers",
         "name": "gemma",
         "type": "scatter3d",
         "x": [
          0.6931471805599453,
          1.9459101490553132
         ],
         "y": [
          1.791759469228055,
          1.791759469228055
         ],
         "z": [
          0.26,
          0.29
         ]
        },
        {
         "marker": {
          "color": "#e2ff00",
          "opacity": 0.8,
          "size": 8
         },
         "mode": "markers",
         "name": "gemma-2",
         "type": "scatter3d",
         "x": [
          0.6931471805599453,
          2.197224577336219
         ],
         "y": [
          2.0794415416798357,
          2.5649493574615367
         ],
         "z": [
          0.26,
          0.33
         ]
        },
        {
         "marker": {
          "color": "#84ff00",
          "opacity": 0.8,
          "size": 8
         },
         "mode": "markers",
         "name": "gpt-neo/j",
         "type": "scatter3d",
         "x": [
          0.26236426446749106,
          0.9932517730102834
         ],
         "y": [
          -0.9675840262617056,
          -0.8675005677047231
         ],
         "z": [
          0.26,
          0.27
         ]
        },
        {
         "marker": {
          "color": "#25ff00",
          "opacity": 0.8,
          "size": 8
         },
         "mode": "markers",
         "name": "llama",
         "type": "scatter3d",
         "x": [
          2.5649493574615367,
          4.174387269895637,
          1.9459101490553132
         ],
         "y": [
          0,
          0.33647223662121284,
          0
         ],
         "z": [
          0.26,
          0.28,
          0.25
         ]
        },
        {
         "marker": {
          "color": "#00ff39",
          "opacity": 0.8,
          "size": 8
         },
         "mode": "markers",
         "name": "llama-2",
         "type": "scatter3d",
         "x": [
          2.5649493574615367,
          4.2484952420493585,
          1.9459101490553132
         ],
         "y": [
          0.6931471805599453,
          0.6931471805599453,
          0.6931471805599453
         ],
         "z": [
          0.28,
          0.3,
          0.27
         ]
        },
        {
         "marker": {
          "color": "#00ff97",
          "opacity": 0.8,
          "size": 8
         },
         "mode": "markers",
         "name": "olmo",
         "type": "scatter3d",
         "x": [
          0,
          1.9459101490553132
         ],
         "y": [
          1.0986122886681096,
          0.916290731874155
         ],
         "z": [
          0.26,
          0.27
         ]
        },
        {
         "marker": {
          "color": "#00fff6",
          "opacity": 0.8,
          "size": 8
         },
         "mode": "markers",
         "name": "opt",
         "type": "scatter3d",
         "x": [
          0.26236426446749106,
          3.4011973816621555
         ],
         "y": [
          -1.7147984280919266,
          -1.7147984280919266
         ],
         "z": [
          0.24,
          0.27
         ]
        },
        {
         "marker": {
          "color": "#00aaff",
          "opacity": 0.8,
          "size": 8
         },
         "mode": "markers",
         "name": "pythia",
         "type": "scatter3d",
         "x": [
          2.4849066497880004,
          -1.83258146374831,
          1.0296194171811581,
          -0.8915981192837836,
          1.9315214116032138
         ],
         "y": [
          -1.3862943611198906,
          -1.3862943611198906,
          -1.3862943611198906,
          -1.3862943611198906,
          -1.3862943611198906
         ],
         "z": [
          0.25,
          0.26,
          0.25,
          0.26,
          0.25
         ]
        },
        {
         "marker": {
          "color": "#004bff",
          "opacity": 0.8,
          "size": 8
         },
         "mode": "markers",
         "name": "qwen1.5",
         "type": "scatter3d",
         "x": [
          -0.6931471805599453,
          0.5877866649021191,
          2.6390573296152584,
          3.4657359027997265,
          1.3862943611198906,
          1.9459101490553132
         ],
         "y": [
          0.8754687373538999,
          0.8754687373538999,
          1.3862943611198906,
          1.3862943611198906,
          0.8754687373538999,
          1.3862943611198906
         ],
         "z": [
          0.25,
          0.31,
          0.29,
          0.33,
          0.28,
          0.3
         ]
        },
        {
         "marker": {
          "color": "#1300ff",
          "opacity": 0.8,
          "size": 8
         },
         "mode": "markers",
         "name": "qwen2",
         "type": "scatter3d",
         "x": [
          -0.6931471805599453,
          0.4054651081081644,
          4.276666119016055,
          1.9459101490553132
         ],
         "y": [
          2.4849066497880004,
          1.9459101490553132,
          1.9459101490553132,
          1.9459101490553132
         ],
         "z": [
          0.26,
          0.26,
          0.39,
          0.3
         ]
        },
        {
         "marker": {
          "color": "#7200ff",
          "opacity": 0.8,
          "size": 8
         },
         "mode": "markers",
         "name": "smollm",
         "type": "scatter3d",
         "x": [
          0.5306282510621704,
          -2.0024805005437076,
          -1.0216512475319814
         ],
         "y": [
          0,
          -0.5108256237659907,
          -0.5108256237659907
         ],
         "z": [
          0.24,
          0.26,
          0.27
         ]
        },
        {
         "marker": {
          "color": "#d000ff",
          "opacity": 0.8,
          "size": 8
         },
         "mode": "markers",
         "name": "starcoder2",
         "type": "scatter3d",
         "x": [
          2.70805020110221,
          1.0986122886681096,
          1.9459101490553132
         ],
         "y": [
          1.4586150226995167,
          1.1939224684724343,
          1.3083328196501787
         ],
         "z": [
          0.27,
          0.24,
          0.25
         ]
        },
        {
         "marker": {
          "color": "#ff00cf",
          "opacity": 0.8,
          "size": 8
         },
         "mode": "markers",
         "name": "yi",
         "type": "scatter3d",
         "x": [
          3.526360524616161,
          1.791759469228055,
          2.197224577336219
         ],
         "y": [
          1.0986122886681096,
          1.0986122886681096,
          1.33500106673234
         ],
         "z": [
          0.37,
          0.27,
          0.32
         ]
        },
        {
         "marker": {
          "color": "#ff0071",
          "opacity": 0.8,
          "size": 8
         },
         "mode": "markers",
         "name": "yi-1.5",
         "type": "scatter3d",
         "x": [
          3.526360524616161,
          1.791759469228055,
          2.197224577336219
         ],
         "y": [
          1.252762968495368,
          1.252762968495368,
          1.252762968495368
         ],
         "z": [
          0.37,
          0.31,
          0.38
         ]
        }
       ],
       "layout": {
        "autosize": true,
        "margin": {
         "b": 0,
         "l": 0,
         "r": 0,
         "t": 0
        },
        "scene": {
         "aspectmode": "auto",
         "aspectratio": {
          "x": 1,
          "y": 1,
          "z": 1
         },
         "xaxis": {
          "title": {
           "text": "logS"
          },
          "type": "linear"
         },
         "yaxis": {
          "title": {
           "text": "logT"
          },
          "type": "linear"
         },
         "zaxis": {
          "title": {
           "text": "y"
          },
          "type": "linear"
         }
        },
        "template": {
         "data": {
          "bar": [
           {
            "error_x": {
             "color": "#2a3f5f"
            },
            "error_y": {
             "color": "#2a3f5f"
            },
            "marker": {
             "line": {
              "color": "#E5ECF6",
              "width": 0.5
             },
             "pattern": {
              "fillmode": "overlay",
              "size": 10,
              "solidity": 0.2
             }
            },
            "type": "bar"
           }
          ],
          "barpolar": [
           {
            "marker": {
             "line": {
              "color": "#E5ECF6",
              "width": 0.5
             },
             "pattern": {
              "fillmode": "overlay",
              "size": 10,
              "solidity": 0.2
             }
            },
            "type": "barpolar"
           }
          ],
          "carpet": [
           {
            "aaxis": {
             "endlinecolor": "#2a3f5f",
             "gridcolor": "white",
             "linecolor": "white",
             "minorgridcolor": "white",
             "startlinecolor": "#2a3f5f"
            },
            "baxis": {
             "endlinecolor": "#2a3f5f",
             "gridcolor": "white",
             "linecolor": "white",
             "minorgridcolor": "white",
             "startlinecolor": "#2a3f5f"
            },
            "type": "carpet"
           }
          ],
          "choropleth": [
           {
            "colorbar": {
             "outlinewidth": 0,
             "ticks": ""
            },
            "type": "choropleth"
           }
          ],
          "contour": [
           {
            "colorbar": {
             "outlinewidth": 0,
             "ticks": ""
            },
            "colorscale": [
             [
              0,
              "#0d0887"
             ],
             [
              0.1111111111111111,
              "#46039f"
             ],
             [
              0.2222222222222222,
              "#7201a8"
             ],
             [
              0.3333333333333333,
              "#9c179e"
             ],
             [
              0.4444444444444444,
              "#bd3786"
             ],
             [
              0.5555555555555556,
              "#d8576b"
             ],
             [
              0.6666666666666666,
              "#ed7953"
             ],
             [
              0.7777777777777778,
              "#fb9f3a"
             ],
             [
              0.8888888888888888,
              "#fdca26"
             ],
             [
              1,
              "#f0f921"
             ]
            ],
            "type": "contour"
           }
          ],
          "contourcarpet": [
           {
            "colorbar": {
             "outlinewidth": 0,
             "ticks": ""
            },
            "type": "contourcarpet"
           }
          ],
          "heatmap": [
           {
            "colorbar": {
             "outlinewidth": 0,
             "ticks": ""
            },
            "colorscale": [
             [
              0,
              "#0d0887"
             ],
             [
              0.1111111111111111,
              "#46039f"
             ],
             [
              0.2222222222222222,
              "#7201a8"
             ],
             [
              0.3333333333333333,
              "#9c179e"
             ],
             [
              0.4444444444444444,
              "#bd3786"
             ],
             [
              0.5555555555555556,
              "#d8576b"
             ],
             [
              0.6666666666666666,
              "#ed7953"
             ],
             [
              0.7777777777777778,
              "#fb9f3a"
             ],
             [
              0.8888888888888888,
              "#fdca26"
             ],
             [
              1,
              "#f0f921"
             ]
            ],
            "type": "heatmap"
           }
          ],
          "heatmapgl": [
           {
            "colorbar": {
             "outlinewidth": 0,
             "ticks": ""
            },
            "colorscale": [
             [
              0,
              "#0d0887"
             ],
             [
              0.1111111111111111,
              "#46039f"
             ],
             [
              0.2222222222222222,
              "#7201a8"
             ],
             [
              0.3333333333333333,
              "#9c179e"
             ],
             [
              0.4444444444444444,
              "#bd3786"
             ],
             [
              0.5555555555555556,
              "#d8576b"
             ],
             [
              0.6666666666666666,
              "#ed7953"
             ],
             [
              0.7777777777777778,
              "#fb9f3a"
             ],
             [
              0.8888888888888888,
              "#fdca26"
             ],
             [
              1,
              "#f0f921"
             ]
            ],
            "type": "heatmapgl"
           }
          ],
          "histogram": [
           {
            "marker": {
             "pattern": {
              "fillmode": "overlay",
              "size": 10,
              "solidity": 0.2
             }
            },
            "type": "histogram"
           }
          ],
          "histogram2d": [
           {
            "colorbar": {
             "outlinewidth": 0,
             "ticks": ""
            },
            "colorscale": [
             [
              0,
              "#0d0887"
             ],
             [
              0.1111111111111111,
              "#46039f"
             ],
             [
              0.2222222222222222,
              "#7201a8"
             ],
             [
              0.3333333333333333,
              "#9c179e"
             ],
             [
              0.4444444444444444,
              "#bd3786"
             ],
             [
              0.5555555555555556,
              "#d8576b"
             ],
             [
              0.6666666666666666,
              "#ed7953"
             ],
             [
              0.7777777777777778,
              "#fb9f3a"
             ],
             [
              0.8888888888888888,
              "#fdca26"
             ],
             [
              1,
              "#f0f921"
             ]
            ],
            "type": "histogram2d"
           }
          ],
          "histogram2dcontour": [
           {
            "colorbar": {
             "outlinewidth": 0,
             "ticks": ""
            },
            "colorscale": [
             [
              0,
              "#0d0887"
             ],
             [
              0.1111111111111111,
              "#46039f"
             ],
             [
              0.2222222222222222,
              "#7201a8"
             ],
             [
              0.3333333333333333,
              "#9c179e"
             ],
             [
              0.4444444444444444,
              "#bd3786"
             ],
             [
              0.5555555555555556,
              "#d8576b"
             ],
             [
              0.6666666666666666,
              "#ed7953"
             ],
             [
              0.7777777777777778,
              "#fb9f3a"
             ],
             [
              0.8888888888888888,
              "#fdca26"
             ],
             [
              1,
              "#f0f921"
             ]
            ],
            "type": "histogram2dcontour"
           }
          ],
          "mesh3d": [
           {
            "colorbar": {
             "outlinewidth": 0,
             "ticks": ""
            },
            "type": "mesh3d"
           }
          ],
          "parcoords": [
           {
            "line": {
             "colorbar": {
              "outlinewidth": 0,
              "ticks": ""
             }
            },
            "type": "parcoords"
           }
          ],
          "pie": [
           {
            "automargin": true,
            "type": "pie"
           }
          ],
          "scatter": [
           {
            "fillpattern": {
             "fillmode": "overlay",
             "size": 10,
             "solidity": 0.2
            },
            "type": "scatter"
           }
          ],
          "scatter3d": [
           {
            "line": {
             "colorbar": {
              "outlinewidth": 0,
              "ticks": ""
             }
            },
            "marker": {
             "colorbar": {
              "outlinewidth": 0,
              "ticks": ""
             }
            },
            "type": "scatter3d"
           }
          ],
          "scattercarpet": [
           {
            "marker": {
             "colorbar": {
              "outlinewidth": 0,
              "ticks": ""
             }
            },
            "type": "scattercarpet"
           }
          ],
          "scattergeo": [
           {
            "marker": {
             "colorbar": {
              "outlinewidth": 0,
              "ticks": ""
             }
            },
            "type": "scattergeo"
           }
          ],
          "scattergl": [
           {
            "marker": {
             "colorbar": {
              "outlinewidth": 0,
              "ticks": ""
             }
            },
            "type": "scattergl"
           }
          ],
          "scattermapbox": [
           {
            "marker": {
             "colorbar": {
              "outlinewidth": 0,
              "ticks": ""
             }
            },
            "type": "scattermapbox"
           }
          ],
          "scatterpolar": [
           {
            "marker": {
             "colorbar": {
              "outlinewidth": 0,
              "ticks": ""
             }
            },
            "type": "scatterpolar"
           }
          ],
          "scatterpolargl": [
           {
            "marker": {
             "colorbar": {
              "outlinewidth": 0,
              "ticks": ""
             }
            },
            "type": "scatterpolargl"
           }
          ],
          "scatterternary": [
           {
            "marker": {
             "colorbar": {
              "outlinewidth": 0,
              "ticks": ""
             }
            },
            "type": "scatterternary"
           }
          ],
          "surface": [
           {
            "colorbar": {
             "outlinewidth": 0,
             "ticks": ""
            },
            "colorscale": [
             [
              0,
              "#0d0887"
             ],
             [
              0.1111111111111111,
              "#46039f"
             ],
             [
              0.2222222222222222,
              "#7201a8"
             ],
             [
              0.3333333333333333,
              "#9c179e"
             ],
             [
              0.4444444444444444,
              "#bd3786"
             ],
             [
              0.5555555555555556,
              "#d8576b"
             ],
             [
              0.6666666666666666,
              "#ed7953"
             ],
             [
              0.7777777777777778,
              "#fb9f3a"
             ],
             [
              0.8888888888888888,
              "#fdca26"
             ],
             [
              1,
              "#f0f921"
             ]
            ],
            "type": "surface"
           }
          ],
          "table": [
           {
            "cells": {
             "fill": {
              "color": "#EBF0F8"
             },
             "line": {
              "color": "white"
             }
            },
            "header": {
             "fill": {
              "color": "#C8D4E3"
             },
             "line": {
              "color": "white"
             }
            },
            "type": "table"
           }
          ]
         },
         "layout": {
          "annotationdefaults": {
           "arrowcolor": "#2a3f5f",
           "arrowhead": 0,
           "arrowwidth": 1
          },
          "autotypenumbers": "strict",
          "coloraxis": {
           "colorbar": {
            "outlinewidth": 0,
            "ticks": ""
           }
          },
          "colorscale": {
           "diverging": [
            [
             0,
             "#8e0152"
            ],
            [
             0.1,
             "#c51b7d"
            ],
            [
             0.2,
             "#de77ae"
            ],
            [
             0.3,
             "#f1b6da"
            ],
            [
             0.4,
             "#fde0ef"
            ],
            [
             0.5,
             "#f7f7f7"
            ],
            [
             0.6,
             "#e6f5d0"
            ],
            [
             0.7,
             "#b8e186"
            ],
            [
             0.8,
             "#7fbc41"
            ],
            [
             0.9,
             "#4d9221"
            ],
            [
             1,
             "#276419"
            ]
           ],
           "sequential": [
            [
             0,
             "#0d0887"
            ],
            [
             0.1111111111111111,
             "#46039f"
            ],
            [
             0.2222222222222222,
             "#7201a8"
            ],
            [
             0.3333333333333333,
             "#9c179e"
            ],
            [
             0.4444444444444444,
             "#bd3786"
            ],
            [
             0.5555555555555556,
             "#d8576b"
            ],
            [
             0.6666666666666666,
             "#ed7953"
            ],
            [
             0.7777777777777778,
             "#fb9f3a"
            ],
            [
             0.8888888888888888,
             "#fdca26"
            ],
            [
             1,
             "#f0f921"
            ]
           ],
           "sequentialminus": [
            [
             0,
             "#0d0887"
            ],
            [
             0.1111111111111111,
             "#46039f"
            ],
            [
             0.2222222222222222,
             "#7201a8"
            ],
            [
             0.3333333333333333,
             "#9c179e"
            ],
            [
             0.4444444444444444,
             "#bd3786"
            ],
            [
             0.5555555555555556,
             "#d8576b"
            ],
            [
             0.6666666666666666,
             "#ed7953"
            ],
            [
             0.7777777777777778,
             "#fb9f3a"
            ],
            [
             0.8888888888888888,
             "#fdca26"
            ],
            [
             1,
             "#f0f921"
            ]
           ]
          },
          "colorway": [
           "#636efa",
           "#EF553B",
           "#00cc96",
           "#ab63fa",
           "#FFA15A",
           "#19d3f3",
           "#FF6692",
           "#B6E880",
           "#FF97FF",
           "#FECB52"
          ],
          "font": {
           "color": "#2a3f5f"
          },
          "geo": {
           "bgcolor": "white",
           "lakecolor": "white",
           "landcolor": "#E5ECF6",
           "showlakes": true,
           "showland": true,
           "subunitcolor": "white"
          },
          "hoverlabel": {
           "align": "left"
          },
          "hovermode": "closest",
          "mapbox": {
           "style": "light"
          },
          "paper_bgcolor": "white",
          "plot_bgcolor": "#E5ECF6",
          "polar": {
           "angularaxis": {
            "gridcolor": "white",
            "linecolor": "white",
            "ticks": ""
           },
           "bgcolor": "#E5ECF6",
           "radialaxis": {
            "gridcolor": "white",
            "linecolor": "white",
            "ticks": ""
           }
          },
          "scene": {
           "xaxis": {
            "backgroundcolor": "#E5ECF6",
            "gridcolor": "white",
            "gridwidth": 2,
            "linecolor": "white",
            "showbackground": true,
            "ticks": "",
            "zerolinecolor": "white"
           },
           "yaxis": {
            "backgroundcolor": "#E5ECF6",
            "gridcolor": "white",
            "gridwidth": 2,
            "linecolor": "white",
            "showbackground": true,
            "ticks": "",
            "zerolinecolor": "white"
           },
           "zaxis": {
            "backgroundcolor": "#E5ECF6",
            "gridcolor": "white",
            "gridwidth": 2,
            "linecolor": "white",
            "showbackground": true,
            "ticks": "",
            "zerolinecolor": "white"
           }
          },
          "shapedefaults": {
           "line": {
            "color": "#2a3f5f"
           }
          },
          "ternary": {
           "aaxis": {
            "gridcolor": "white",
            "linecolor": "white",
            "ticks": ""
           },
           "baxis": {
            "gridcolor": "white",
            "linecolor": "white",
            "ticks": ""
           },
           "bgcolor": "#E5ECF6",
           "caxis": {
            "gridcolor": "white",
            "linecolor": "white",
            "ticks": ""
           }
          },
          "title": {
           "x": 0.05
          },
          "xaxis": {
           "automargin": true,
           "gridcolor": "white",
           "linecolor": "white",
           "ticks": "",
           "title": {
            "standoff": 15
           },
           "zerolinecolor": "white",
           "zerolinewidth": 2
          },
          "yaxis": {
           "automargin": true,
           "gridcolor": "white",
           "linecolor": "white",
           "ticks": "",
           "title": {
            "standoff": 15
           },
           "zerolinecolor": "white",
           "zerolinewidth": 2
          }
         }
        }
       }
      },
      "text/html": [
       "<div>                            <div id=\"69a204f6-48c7-455e-90e1-1f32a4e3ff68\" class=\"plotly-graph-div\" style=\"height:525px; width:100%;\"></div>            <script type=\"text/javascript\">                require([\"plotly\"], function(Plotly) {                    window.PLOTLYENV=window.PLOTLYENV || {};                                    if (document.getElementById(\"69a204f6-48c7-455e-90e1-1f32a4e3ff68\")) {                    Plotly.newPlot(                        \"69a204f6-48c7-455e-90e1-1f32a4e3ff68\",                        [{\"marker\":{\"color\":\"#ff5f00\",\"opacity\":0.8,\"size\":8},\"mode\":\"markers\",\"name\":\"bloom\",\"x\":[0.0,1.0986122886681096,-0.579818495252942,1.9459101490553132],\"y\":[-1.0758728016986203,-1.0758728016986203,-1.0758728016986203,-1.0758728016986203],\"z\":[0.26,0.24,0.26,0.26],\"type\":\"scatter3d\"},{\"marker\":{\"color\":\"#ffbd00\",\"opacity\":0.8,\"size\":8},\"mode\":\"markers\",\"name\":\"gemma\",\"x\":[0.6931471805599453,1.9459101490553132],\"y\":[1.791759469228055,1.791759469228055],\"z\":[0.26,0.29],\"type\":\"scatter3d\"},{\"marker\":{\"color\":\"#e2ff00\",\"opacity\":0.8,\"size\":8},\"mode\":\"markers\",\"name\":\"gemma-2\",\"x\":[0.6931471805599453,2.197224577336219],\"y\":[2.0794415416798357,2.5649493574615367],\"z\":[0.26,0.33],\"type\":\"scatter3d\"},{\"marker\":{\"color\":\"#84ff00\",\"opacity\":0.8,\"size\":8},\"mode\":\"markers\",\"name\":\"gpt-neo\\u002fj\",\"x\":[0.26236426446749106,0.9932517730102834],\"y\":[-0.9675840262617056,-0.8675005677047231],\"z\":[0.26,0.27],\"type\":\"scatter3d\"},{\"marker\":{\"color\":\"#25ff00\",\"opacity\":0.8,\"size\":8},\"mode\":\"markers\",\"name\":\"llama\",\"x\":[2.5649493574615367,4.174387269895637,1.9459101490553132],\"y\":[0.0,0.33647223662121284,0.0],\"z\":[0.26,0.28,0.25],\"type\":\"scatter3d\"},{\"marker\":{\"color\":\"#00ff39\",\"opacity\":0.8,\"size\":8},\"mode\":\"markers\",\"name\":\"llama-2\",\"x\":[2.5649493574615367,4.2484952420493585,1.9459101490553132],\"y\":[0.6931471805599453,0.6931471805599453,0.6931471805599453],\"z\":[0.28,0.3,0.27],\"type\":\"scatter3d\"},{\"marker\":{\"color\":\"#00ff97\",\"opacity\":0.8,\"size\":8},\"mode\":\"markers\",\"name\":\"olmo\",\"x\":[0.0,1.9459101490553132],\"y\":[1.0986122886681096,0.916290731874155],\"z\":[0.26,0.27],\"type\":\"scatter3d\"},{\"marker\":{\"color\":\"#00fff6\",\"opacity\":0.8,\"size\":8},\"mode\":\"markers\",\"name\":\"opt\",\"x\":[0.26236426446749106,3.4011973816621555],\"y\":[-1.7147984280919266,-1.7147984280919266],\"z\":[0.24,0.27],\"type\":\"scatter3d\"},{\"marker\":{\"color\":\"#00aaff\",\"opacity\":0.8,\"size\":8},\"mode\":\"markers\",\"name\":\"pythia\",\"x\":[2.4849066497880004,-1.83258146374831,1.0296194171811581,-0.8915981192837836,1.9315214116032138],\"y\":[-1.3862943611198906,-1.3862943611198906,-1.3862943611198906,-1.3862943611198906,-1.3862943611198906],\"z\":[0.25,0.26,0.25,0.26,0.25],\"type\":\"scatter3d\"},{\"marker\":{\"color\":\"#004bff\",\"opacity\":0.8,\"size\":8},\"mode\":\"markers\",\"name\":\"qwen1.5\",\"x\":[-0.6931471805599453,0.5877866649021191,2.6390573296152584,3.4657359027997265,1.3862943611198906,1.9459101490553132],\"y\":[0.8754687373538999,0.8754687373538999,1.3862943611198906,1.3862943611198906,0.8754687373538999,1.3862943611198906],\"z\":[0.25,0.31,0.29,0.33,0.28,0.3],\"type\":\"scatter3d\"},{\"marker\":{\"color\":\"#1300ff\",\"opacity\":0.8,\"size\":8},\"mode\":\"markers\",\"name\":\"qwen2\",\"x\":[-0.6931471805599453,0.4054651081081644,4.276666119016055,1.9459101490553132],\"y\":[2.4849066497880004,1.9459101490553132,1.9459101490553132,1.9459101490553132],\"z\":[0.26,0.26,0.39,0.3],\"type\":\"scatter3d\"},{\"marker\":{\"color\":\"#7200ff\",\"opacity\":0.8,\"size\":8},\"mode\":\"markers\",\"name\":\"smollm\",\"x\":[0.5306282510621704,-2.0024805005437076,-1.0216512475319814],\"y\":[0.0,-0.5108256237659907,-0.5108256237659907],\"z\":[0.24,0.26,0.27],\"type\":\"scatter3d\"},{\"marker\":{\"color\":\"#d000ff\",\"opacity\":0.8,\"size\":8},\"mode\":\"markers\",\"name\":\"starcoder2\",\"x\":[2.70805020110221,1.0986122886681096,1.9459101490553132],\"y\":[1.4586150226995167,1.1939224684724343,1.3083328196501787],\"z\":[0.27,0.24,0.25],\"type\":\"scatter3d\"},{\"marker\":{\"color\":\"#ff00cf\",\"opacity\":0.8,\"size\":8},\"mode\":\"markers\",\"name\":\"yi\",\"x\":[3.526360524616161,1.791759469228055,2.197224577336219],\"y\":[1.0986122886681096,1.0986122886681096,1.33500106673234],\"z\":[0.37,0.27,0.32],\"type\":\"scatter3d\"},{\"marker\":{\"color\":\"#ff0071\",\"opacity\":0.8,\"size\":8},\"mode\":\"markers\",\"name\":\"yi-1.5\",\"x\":[3.526360524616161,1.791759469228055,2.197224577336219],\"y\":[1.252762968495368,1.252762968495368,1.252762968495368],\"z\":[0.37,0.31,0.38],\"type\":\"scatter3d\"}],                        {\"margin\":{\"b\":0,\"l\":0,\"r\":0,\"t\":0},\"scene\":{\"xaxis\":{\"title\":{\"text\":\"logS\"}},\"yaxis\":{\"title\":{\"text\":\"logT\"}},\"zaxis\":{\"title\":{\"text\":\"y\"}}},\"template\":{\"data\":{\"histogram2dcontour\":[{\"type\":\"histogram2dcontour\",\"colorbar\":{\"outlinewidth\":0,\"ticks\":\"\"},\"colorscale\":[[0.0,\"#0d0887\"],[0.1111111111111111,\"#46039f\"],[0.2222222222222222,\"#7201a8\"],[0.3333333333333333,\"#9c179e\"],[0.4444444444444444,\"#bd3786\"],[0.5555555555555556,\"#d8576b\"],[0.6666666666666666,\"#ed7953\"],[0.7777777777777778,\"#fb9f3a\"],[0.8888888888888888,\"#fdca26\"],[1.0,\"#f0f921\"]]}],\"choropleth\":[{\"type\":\"choropleth\",\"colorbar\":{\"outlinewidth\":0,\"ticks\":\"\"}}],\"histogram2d\":[{\"type\":\"histogram2d\",\"colorbar\":{\"outlinewidth\":0,\"ticks\":\"\"},\"colorscale\":[[0.0,\"#0d0887\"],[0.1111111111111111,\"#46039f\"],[0.2222222222222222,\"#7201a8\"],[0.3333333333333333,\"#9c179e\"],[0.4444444444444444,\"#bd3786\"],[0.5555555555555556,\"#d8576b\"],[0.6666666666666666,\"#ed7953\"],[0.7777777777777778,\"#fb9f3a\"],[0.8888888888888888,\"#fdca26\"],[1.0,\"#f0f921\"]]}],\"heatmap\":[{\"type\":\"heatmap\",\"colorbar\":{\"outlinewidth\":0,\"ticks\":\"\"},\"colorscale\":[[0.0,\"#0d0887\"],[0.1111111111111111,\"#46039f\"],[0.2222222222222222,\"#7201a8\"],[0.3333333333333333,\"#9c179e\"],[0.4444444444444444,\"#bd3786\"],[0.5555555555555556,\"#d8576b\"],[0.6666666666666666,\"#ed7953\"],[0.7777777777777778,\"#fb9f3a\"],[0.8888888888888888,\"#fdca26\"],[1.0,\"#f0f921\"]]}],\"heatmapgl\":[{\"type\":\"heatmapgl\",\"colorbar\":{\"outlinewidth\":0,\"ticks\":\"\"},\"colorscale\":[[0.0,\"#0d0887\"],[0.1111111111111111,\"#46039f\"],[0.2222222222222222,\"#7201a8\"],[0.3333333333333333,\"#9c179e\"],[0.4444444444444444,\"#bd3786\"],[0.5555555555555556,\"#d8576b\"],[0.6666666666666666,\"#ed7953\"],[0.7777777777777778,\"#fb9f3a\"],[0.8888888888888888,\"#fdca26\"],[1.0,\"#f0f921\"]]}],\"contourcarpet\":[{\"type\":\"contourcarpet\",\"colorbar\":{\"outlinewidth\":0,\"ticks\":\"\"}}],\"contour\":[{\"type\":\"contour\",\"colorbar\":{\"outlinewidth\":0,\"ticks\":\"\"},\"colorscale\":[[0.0,\"#0d0887\"],[0.1111111111111111,\"#46039f\"],[0.2222222222222222,\"#7201a8\"],[0.3333333333333333,\"#9c179e\"],[0.4444444444444444,\"#bd3786\"],[0.5555555555555556,\"#d8576b\"],[0.6666666666666666,\"#ed7953\"],[0.7777777777777778,\"#fb9f3a\"],[0.8888888888888888,\"#fdca26\"],[1.0,\"#f0f921\"]]}],\"surface\":[{\"type\":\"surface\",\"colorbar\":{\"outlinewidth\":0,\"ticks\":\"\"},\"colorscale\":[[0.0,\"#0d0887\"],[0.1111111111111111,\"#46039f\"],[0.2222222222222222,\"#7201a8\"],[0.3333333333333333,\"#9c179e\"],[0.4444444444444444,\"#bd3786\"],[0.5555555555555556,\"#d8576b\"],[0.6666666666666666,\"#ed7953\"],[0.7777777777777778,\"#fb9f3a\"],[0.8888888888888888,\"#fdca26\"],[1.0,\"#f0f921\"]]}],\"mesh3d\":[{\"type\":\"mesh3d\",\"colorbar\":{\"outlinewidth\":0,\"ticks\":\"\"}}],\"scatter\":[{\"fillpattern\":{\"fillmode\":\"overlay\",\"size\":10,\"solidity\":0.2},\"type\":\"scatter\"}],\"parcoords\":[{\"type\":\"parcoords\",\"line\":{\"colorbar\":{\"outlinewidth\":0,\"ticks\":\"\"}}}],\"scatterpolargl\":[{\"type\":\"scatterpolargl\",\"marker\":{\"colorbar\":{\"outlinewidth\":0,\"ticks\":\"\"}}}],\"bar\":[{\"error_x\":{\"color\":\"#2a3f5f\"},\"error_y\":{\"color\":\"#2a3f5f\"},\"marker\":{\"line\":{\"color\":\"#E5ECF6\",\"width\":0.5},\"pattern\":{\"fillmode\":\"overlay\",\"size\":10,\"solidity\":0.2}},\"type\":\"bar\"}],\"scattergeo\":[{\"type\":\"scattergeo\",\"marker\":{\"colorbar\":{\"outlinewidth\":0,\"ticks\":\"\"}}}],\"scatterpolar\":[{\"type\":\"scatterpolar\",\"marker\":{\"colorbar\":{\"outlinewidth\":0,\"ticks\":\"\"}}}],\"histogram\":[{\"marker\":{\"pattern\":{\"fillmode\":\"overlay\",\"size\":10,\"solidity\":0.2}},\"type\":\"histogram\"}],\"scattergl\":[{\"type\":\"scattergl\",\"marker\":{\"colorbar\":{\"outlinewidth\":0,\"ticks\":\"\"}}}],\"scatter3d\":[{\"type\":\"scatter3d\",\"line\":{\"colorbar\":{\"outlinewidth\":0,\"ticks\":\"\"}},\"marker\":{\"colorbar\":{\"outlinewidth\":0,\"ticks\":\"\"}}}],\"scattermapbox\":[{\"type\":\"scattermapbox\",\"marker\":{\"colorbar\":{\"outlinewidth\":0,\"ticks\":\"\"}}}],\"scatterternary\":[{\"type\":\"scatterternary\",\"marker\":{\"colorbar\":{\"outlinewidth\":0,\"ticks\":\"\"}}}],\"scattercarpet\":[{\"type\":\"scattercarpet\",\"marker\":{\"colorbar\":{\"outlinewidth\":0,\"ticks\":\"\"}}}],\"carpet\":[{\"aaxis\":{\"endlinecolor\":\"#2a3f5f\",\"gridcolor\":\"white\",\"linecolor\":\"white\",\"minorgridcolor\":\"white\",\"startlinecolor\":\"#2a3f5f\"},\"baxis\":{\"endlinecolor\":\"#2a3f5f\",\"gridcolor\":\"white\",\"linecolor\":\"white\",\"minorgridcolor\":\"white\",\"startlinecolor\":\"#2a3f5f\"},\"type\":\"carpet\"}],\"table\":[{\"cells\":{\"fill\":{\"color\":\"#EBF0F8\"},\"line\":{\"color\":\"white\"}},\"header\":{\"fill\":{\"color\":\"#C8D4E3\"},\"line\":{\"color\":\"white\"}},\"type\":\"table\"}],\"barpolar\":[{\"marker\":{\"line\":{\"color\":\"#E5ECF6\",\"width\":0.5},\"pattern\":{\"fillmode\":\"overlay\",\"size\":10,\"solidity\":0.2}},\"type\":\"barpolar\"}],\"pie\":[{\"automargin\":true,\"type\":\"pie\"}]},\"layout\":{\"autotypenumbers\":\"strict\",\"colorway\":[\"#636efa\",\"#EF553B\",\"#00cc96\",\"#ab63fa\",\"#FFA15A\",\"#19d3f3\",\"#FF6692\",\"#B6E880\",\"#FF97FF\",\"#FECB52\"],\"font\":{\"color\":\"#2a3f5f\"},\"hovermode\":\"closest\",\"hoverlabel\":{\"align\":\"left\"},\"paper_bgcolor\":\"white\",\"plot_bgcolor\":\"#E5ECF6\",\"polar\":{\"bgcolor\":\"#E5ECF6\",\"angularaxis\":{\"gridcolor\":\"white\",\"linecolor\":\"white\",\"ticks\":\"\"},\"radialaxis\":{\"gridcolor\":\"white\",\"linecolor\":\"white\",\"ticks\":\"\"}},\"ternary\":{\"bgcolor\":\"#E5ECF6\",\"aaxis\":{\"gridcolor\":\"white\",\"linecolor\":\"white\",\"ticks\":\"\"},\"baxis\":{\"gridcolor\":\"white\",\"linecolor\":\"white\",\"ticks\":\"\"},\"caxis\":{\"gridcolor\":\"white\",\"linecolor\":\"white\",\"ticks\":\"\"}},\"coloraxis\":{\"colorbar\":{\"outlinewidth\":0,\"ticks\":\"\"}},\"colorscale\":{\"sequential\":[[0.0,\"#0d0887\"],[0.1111111111111111,\"#46039f\"],[0.2222222222222222,\"#7201a8\"],[0.3333333333333333,\"#9c179e\"],[0.4444444444444444,\"#bd3786\"],[0.5555555555555556,\"#d8576b\"],[0.6666666666666666,\"#ed7953\"],[0.7777777777777778,\"#fb9f3a\"],[0.8888888888888888,\"#fdca26\"],[1.0,\"#f0f921\"]],\"sequentialminus\":[[0.0,\"#0d0887\"],[0.1111111111111111,\"#46039f\"],[0.2222222222222222,\"#7201a8\"],[0.3333333333333333,\"#9c179e\"],[0.4444444444444444,\"#bd3786\"],[0.5555555555555556,\"#d8576b\"],[0.6666666666666666,\"#ed7953\"],[0.7777777777777778,\"#fb9f3a\"],[0.8888888888888888,\"#fdca26\"],[1.0,\"#f0f921\"]],\"diverging\":[[0,\"#8e0152\"],[0.1,\"#c51b7d\"],[0.2,\"#de77ae\"],[0.3,\"#f1b6da\"],[0.4,\"#fde0ef\"],[0.5,\"#f7f7f7\"],[0.6,\"#e6f5d0\"],[0.7,\"#b8e186\"],[0.8,\"#7fbc41\"],[0.9,\"#4d9221\"],[1,\"#276419\"]]},\"xaxis\":{\"gridcolor\":\"white\",\"linecolor\":\"white\",\"ticks\":\"\",\"title\":{\"standoff\":15},\"zerolinecolor\":\"white\",\"automargin\":true,\"zerolinewidth\":2},\"yaxis\":{\"gridcolor\":\"white\",\"linecolor\":\"white\",\"ticks\":\"\",\"title\":{\"standoff\":15},\"zerolinecolor\":\"white\",\"automargin\":true,\"zerolinewidth\":2},\"scene\":{\"xaxis\":{\"backgroundcolor\":\"#E5ECF6\",\"gridcolor\":\"white\",\"linecolor\":\"white\",\"showbackground\":true,\"ticks\":\"\",\"zerolinecolor\":\"white\",\"gridwidth\":2},\"yaxis\":{\"backgroundcolor\":\"#E5ECF6\",\"gridcolor\":\"white\",\"linecolor\":\"white\",\"showbackground\":true,\"ticks\":\"\",\"zerolinecolor\":\"white\",\"gridwidth\":2},\"zaxis\":{\"backgroundcolor\":\"#E5ECF6\",\"gridcolor\":\"white\",\"linecolor\":\"white\",\"showbackground\":true,\"ticks\":\"\",\"zerolinecolor\":\"white\",\"gridwidth\":2}},\"shapedefaults\":{\"line\":{\"color\":\"#2a3f5f\"}},\"annotationdefaults\":{\"arrowcolor\":\"#2a3f5f\",\"arrowhead\":0,\"arrowwidth\":1},\"geo\":{\"bgcolor\":\"white\",\"landcolor\":\"#E5ECF6\",\"subunitcolor\":\"white\",\"showland\":true,\"showlakes\":true,\"lakecolor\":\"white\"},\"title\":{\"x\":0.05},\"mapbox\":{\"style\":\"light\"}}}},                        {\"responsive\": true}                    ).then(function(){\n",
       "                            \n",
       "var gd = document.getElementById('69a204f6-48c7-455e-90e1-1f32a4e3ff68');\n",
       "var x = new MutationObserver(function (mutations, observer) {{\n",
       "        var display = window.getComputedStyle(gd).display;\n",
       "        if (!display || display === 'none') {{\n",
       "            console.log([gd, 'removed!']);\n",
       "            Plotly.purge(gd);\n",
       "            observer.disconnect();\n",
       "        }}\n",
       "}});\n",
       "\n",
       "// Listen for the removal of the full notebook cells\n",
       "var notebookContainer = gd.closest('#notebook-container');\n",
       "if (notebookContainer) {{\n",
       "    x.observe(notebookContainer, {childList: true});\n",
       "}}\n",
       "\n",
       "// Listen for the clearing of the current output cell\n",
       "var outputEl = gd.closest('.output');\n",
       "if (outputEl) {{\n",
       "    x.observe(outputEl, {childList: true});\n",
       "}}\n",
       "\n",
       "                        })                };                });            </script>        </div>"
      ]
     },
     "metadata": {},
     "output_type": "display_data"
    },
    {
     "name": "stdout",
     "output_type": "stream",
     "text": [
      "************ MUSR ************\n"
     ]
    },
    {
     "data": {
      "application/vnd.plotly.v1+json": {
       "config": {
        "plotlyServerURL": "https://plot.ly"
       },
       "data": [
        {
         "marker": {
          "color": "#ff5f00",
          "opacity": 0.8,
          "size": 8
         },
         "mode": "markers",
         "name": "bloom",
         "type": "scatter3d",
         "x": [
          0,
          1.0986122886681096,
          -0.579818495252942,
          1.9459101490553132
         ],
         "y": [
          -1.0758728016986203,
          -1.0758728016986203,
          -1.0758728016986203,
          -1.0758728016986203
         ],
         "z": [
          0.37,
          0.4,
          0.4,
          0.35
         ]
        },
        {
         "marker": {
          "color": "#ffbd00",
          "opacity": 0.8,
          "size": 8
         },
         "mode": "markers",
         "name": "gemma",
         "type": "scatter3d",
         "x": [
          0.6931471805599453,
          1.9459101490553132
         ],
         "y": [
          1.791759469228055,
          1.791759469228055
         ],
         "z": [
          0.4,
          0.41
         ]
        },
        {
         "marker": {
          "color": "#e2ff00",
          "opacity": 0.8,
          "size": 8
         },
         "mode": "markers",
         "name": "gemma-2",
         "type": "scatter3d",
         "x": [
          0.6931471805599453,
          2.197224577336219
         ],
         "y": [
          2.0794415416798357,
          2.5649493574615367
         ],
         "z": [
          0.42,
          0.45
         ]
        },
        {
         "marker": {
          "color": "#84ff00",
          "opacity": 0.8,
          "size": 8
         },
         "mode": "markers",
         "name": "gpt-neo/j",
         "type": "scatter3d",
         "x": [
          0.26236426446749106,
          0.9932517730102834
         ],
         "y": [
          -0.9675840262617056,
          -0.8675005677047231
         ],
         "z": [
          0.38,
          0.36
         ]
        },
        {
         "marker": {
          "color": "#25ff00",
          "opacity": 0.8,
          "size": 8
         },
         "mode": "markers",
         "name": "llama",
         "type": "scatter3d",
         "x": [
          2.5649493574615367,
          4.174387269895637,
          1.9459101490553132
         ],
         "y": [
          0,
          0.33647223662121284,
          0
         ],
         "z": [
          0.35,
          0.36,
          0.34
         ]
        },
        {
         "marker": {
          "color": "#00ff39",
          "opacity": 0.8,
          "size": 8
         },
         "mode": "markers",
         "name": "llama-2",
         "type": "scatter3d",
         "x": [
          2.5649493574615367,
          4.2484952420493585,
          1.9459101490553132
         ],
         "y": [
          0.6931471805599453,
          0.6931471805599453,
          0.6931471805599453
         ],
         "z": [
          0.35,
          0.41,
          0.37
         ]
        },
        {
         "marker": {
          "color": "#00ff97",
          "opacity": 0.8,
          "size": 8
         },
         "mode": "markers",
         "name": "olmo",
         "type": "scatter3d",
         "x": [
          0,
          1.9459101490553132
         ],
         "y": [
          1.0986122886681096,
          0.916290731874155
         ],
         "z": [
          0.41,
          0.35
         ]
        },
        {
         "marker": {
          "color": "#00fff6",
          "opacity": 0.8,
          "size": 8
         },
         "mode": "markers",
         "name": "opt",
         "type": "scatter3d",
         "x": [
          0.26236426446749106,
          3.4011973816621555
         ],
         "y": [
          -1.7147984280919266,
          -1.7147984280919266
         ],
         "z": [
          0.34,
          0.36
         ]
        },
        {
         "marker": {
          "color": "#00aaff",
          "opacity": 0.8,
          "size": 8
         },
         "mode": "markers",
         "name": "pythia",
         "type": "scatter3d",
         "x": [
          2.4849066497880004,
          -1.83258146374831,
          1.0296194171811581,
          -0.8915981192837836,
          1.9315214116032138
         ],
         "y": [
          -1.3862943611198906,
          -1.3862943611198906,
          -1.3862943611198906,
          -1.3862943611198906,
          -1.3862943611198906
         ],
         "z": [
          0.36,
          0.42,
          0.35,
          0.36,
          0.36
         ]
        },
        {
         "marker": {
          "color": "#004bff",
          "opacity": 0.8,
          "size": 8
         },
         "mode": "markers",
         "name": "qwen1.5",
         "type": "scatter3d",
         "x": [
          -0.6931471805599453,
          0.5877866649021191,
          2.6390573296152584,
          3.4657359027997265,
          1.3862943611198906,
          1.9459101490553132
         ],
         "y": [
          0.8754687373538999,
          0.8754687373538999,
          1.3862943611198906,
          1.3862943611198906,
          0.8754687373538999,
          1.3862943611198906
         ],
         "z": [
          0.36,
          0.36,
          0.42,
          0.43,
          0.36,
          0.41
         ]
        },
        {
         "marker": {
          "color": "#1300ff",
          "opacity": 0.8,
          "size": 8
         },
         "mode": "markers",
         "name": "qwen2",
         "type": "scatter3d",
         "x": [
          -0.6931471805599453,
          0.4054651081081644,
          4.276666119016055,
          1.9459101490553132
         ],
         "y": [
          2.4849066497880004,
          1.9459101490553132,
          1.9459101490553132,
          1.9459101490553132
         ],
         "z": [
          0.38,
          0.37,
          0.47,
          0.44
         ]
        },
        {
         "marker": {
          "color": "#7200ff",
          "opacity": 0.8,
          "size": 8
         },
         "mode": "markers",
         "name": "smollm",
         "type": "scatter3d",
         "x": [
          0.5306282510621704,
          -2.0024805005437076,
          -1.0216512475319814
         ],
         "y": [
          0,
          -0.5108256237659907,
          -0.5108256237659907
         ],
         "z": [
          0.34,
          0.44,
          0.4
         ]
        },
        {
         "marker": {
          "color": "#d000ff",
          "opacity": 0.8,
          "size": 8
         },
         "mode": "markers",
         "name": "starcoder2",
         "type": "scatter3d",
         "x": [
          2.70805020110221,
          1.0986122886681096,
          1.9459101490553132
         ],
         "y": [
          1.4586150226995167,
          1.1939224684724343,
          1.3083328196501787
         ],
         "z": [
          0.35,
          0.34,
          0.38
         ]
        },
        {
         "marker": {
          "color": "#ff00cf",
          "opacity": 0.8,
          "size": 8
         },
         "mode": "markers",
         "name": "yi",
         "type": "scatter3d",
         "x": [
          3.526360524616161,
          1.791759469228055,
          2.197224577336219
         ],
         "y": [
          1.0986122886681096,
          1.0986122886681096,
          1.33500106673234
         ],
         "z": [
          0.41,
          0.39,
          0.41
         ]
        },
        {
         "marker": {
          "color": "#ff0071",
          "opacity": 0.8,
          "size": 8
         },
         "mode": "markers",
         "name": "yi-1.5",
         "type": "scatter3d",
         "x": [
          3.526360524616161,
          1.791759469228055,
          2.197224577336219
         ],
         "y": [
          1.252762968495368,
          1.252762968495368,
          1.252762968495368
         ],
         "z": [
          0.42,
          0.44,
          0.43
         ]
        }
       ],
       "layout": {
        "autosize": true,
        "margin": {
         "b": 0,
         "l": 0,
         "r": 0,
         "t": 0
        },
        "scene": {
         "aspectmode": "auto",
         "aspectratio": {
          "x": 1,
          "y": 1,
          "z": 1
         },
         "xaxis": {
          "title": {
           "text": "logS"
          },
          "type": "linear"
         },
         "yaxis": {
          "title": {
           "text": "logT"
          },
          "type": "linear"
         },
         "zaxis": {
          "title": {
           "text": "y"
          },
          "type": "linear"
         }
        },
        "template": {
         "data": {
          "bar": [
           {
            "error_x": {
             "color": "#2a3f5f"
            },
            "error_y": {
             "color": "#2a3f5f"
            },
            "marker": {
             "line": {
              "color": "#E5ECF6",
              "width": 0.5
             },
             "pattern": {
              "fillmode": "overlay",
              "size": 10,
              "solidity": 0.2
             }
            },
            "type": "bar"
           }
          ],
          "barpolar": [
           {
            "marker": {
             "line": {
              "color": "#E5ECF6",
              "width": 0.5
             },
             "pattern": {
              "fillmode": "overlay",
              "size": 10,
              "solidity": 0.2
             }
            },
            "type": "barpolar"
           }
          ],
          "carpet": [
           {
            "aaxis": {
             "endlinecolor": "#2a3f5f",
             "gridcolor": "white",
             "linecolor": "white",
             "minorgridcolor": "white",
             "startlinecolor": "#2a3f5f"
            },
            "baxis": {
             "endlinecolor": "#2a3f5f",
             "gridcolor": "white",
             "linecolor": "white",
             "minorgridcolor": "white",
             "startlinecolor": "#2a3f5f"
            },
            "type": "carpet"
           }
          ],
          "choropleth": [
           {
            "colorbar": {
             "outlinewidth": 0,
             "ticks": ""
            },
            "type": "choropleth"
           }
          ],
          "contour": [
           {
            "colorbar": {
             "outlinewidth": 0,
             "ticks": ""
            },
            "colorscale": [
             [
              0,
              "#0d0887"
             ],
             [
              0.1111111111111111,
              "#46039f"
             ],
             [
              0.2222222222222222,
              "#7201a8"
             ],
             [
              0.3333333333333333,
              "#9c179e"
             ],
             [
              0.4444444444444444,
              "#bd3786"
             ],
             [
              0.5555555555555556,
              "#d8576b"
             ],
             [
              0.6666666666666666,
              "#ed7953"
             ],
             [
              0.7777777777777778,
              "#fb9f3a"
             ],
             [
              0.8888888888888888,
              "#fdca26"
             ],
             [
              1,
              "#f0f921"
             ]
            ],
            "type": "contour"
           }
          ],
          "contourcarpet": [
           {
            "colorbar": {
             "outlinewidth": 0,
             "ticks": ""
            },
            "type": "contourcarpet"
           }
          ],
          "heatmap": [
           {
            "colorbar": {
             "outlinewidth": 0,
             "ticks": ""
            },
            "colorscale": [
             [
              0,
              "#0d0887"
             ],
             [
              0.1111111111111111,
              "#46039f"
             ],
             [
              0.2222222222222222,
              "#7201a8"
             ],
             [
              0.3333333333333333,
              "#9c179e"
             ],
             [
              0.4444444444444444,
              "#bd3786"
             ],
             [
              0.5555555555555556,
              "#d8576b"
             ],
             [
              0.6666666666666666,
              "#ed7953"
             ],
             [
              0.7777777777777778,
              "#fb9f3a"
             ],
             [
              0.8888888888888888,
              "#fdca26"
             ],
             [
              1,
              "#f0f921"
             ]
            ],
            "type": "heatmap"
           }
          ],
          "heatmapgl": [
           {
            "colorbar": {
             "outlinewidth": 0,
             "ticks": ""
            },
            "colorscale": [
             [
              0,
              "#0d0887"
             ],
             [
              0.1111111111111111,
              "#46039f"
             ],
             [
              0.2222222222222222,
              "#7201a8"
             ],
             [
              0.3333333333333333,
              "#9c179e"
             ],
             [
              0.4444444444444444,
              "#bd3786"
             ],
             [
              0.5555555555555556,
              "#d8576b"
             ],
             [
              0.6666666666666666,
              "#ed7953"
             ],
             [
              0.7777777777777778,
              "#fb9f3a"
             ],
             [
              0.8888888888888888,
              "#fdca26"
             ],
             [
              1,
              "#f0f921"
             ]
            ],
            "type": "heatmapgl"
           }
          ],
          "histogram": [
           {
            "marker": {
             "pattern": {
              "fillmode": "overlay",
              "size": 10,
              "solidity": 0.2
             }
            },
            "type": "histogram"
           }
          ],
          "histogram2d": [
           {
            "colorbar": {
             "outlinewidth": 0,
             "ticks": ""
            },
            "colorscale": [
             [
              0,
              "#0d0887"
             ],
             [
              0.1111111111111111,
              "#46039f"
             ],
             [
              0.2222222222222222,
              "#7201a8"
             ],
             [
              0.3333333333333333,
              "#9c179e"
             ],
             [
              0.4444444444444444,
              "#bd3786"
             ],
             [
              0.5555555555555556,
              "#d8576b"
             ],
             [
              0.6666666666666666,
              "#ed7953"
             ],
             [
              0.7777777777777778,
              "#fb9f3a"
             ],
             [
              0.8888888888888888,
              "#fdca26"
             ],
             [
              1,
              "#f0f921"
             ]
            ],
            "type": "histogram2d"
           }
          ],
          "histogram2dcontour": [
           {
            "colorbar": {
             "outlinewidth": 0,
             "ticks": ""
            },
            "colorscale": [
             [
              0,
              "#0d0887"
             ],
             [
              0.1111111111111111,
              "#46039f"
             ],
             [
              0.2222222222222222,
              "#7201a8"
             ],
             [
              0.3333333333333333,
              "#9c179e"
             ],
             [
              0.4444444444444444,
              "#bd3786"
             ],
             [
              0.5555555555555556,
              "#d8576b"
             ],
             [
              0.6666666666666666,
              "#ed7953"
             ],
             [
              0.7777777777777778,
              "#fb9f3a"
             ],
             [
              0.8888888888888888,
              "#fdca26"
             ],
             [
              1,
              "#f0f921"
             ]
            ],
            "type": "histogram2dcontour"
           }
          ],
          "mesh3d": [
           {
            "colorbar": {
             "outlinewidth": 0,
             "ticks": ""
            },
            "type": "mesh3d"
           }
          ],
          "parcoords": [
           {
            "line": {
             "colorbar": {
              "outlinewidth": 0,
              "ticks": ""
             }
            },
            "type": "parcoords"
           }
          ],
          "pie": [
           {
            "automargin": true,
            "type": "pie"
           }
          ],
          "scatter": [
           {
            "fillpattern": {
             "fillmode": "overlay",
             "size": 10,
             "solidity": 0.2
            },
            "type": "scatter"
           }
          ],
          "scatter3d": [
           {
            "line": {
             "colorbar": {
              "outlinewidth": 0,
              "ticks": ""
             }
            },
            "marker": {
             "colorbar": {
              "outlinewidth": 0,
              "ticks": ""
             }
            },
            "type": "scatter3d"
           }
          ],
          "scattercarpet": [
           {
            "marker": {
             "colorbar": {
              "outlinewidth": 0,
              "ticks": ""
             }
            },
            "type": "scattercarpet"
           }
          ],
          "scattergeo": [
           {
            "marker": {
             "colorbar": {
              "outlinewidth": 0,
              "ticks": ""
             }
            },
            "type": "scattergeo"
           }
          ],
          "scattergl": [
           {
            "marker": {
             "colorbar": {
              "outlinewidth": 0,
              "ticks": ""
             }
            },
            "type": "scattergl"
           }
          ],
          "scattermapbox": [
           {
            "marker": {
             "colorbar": {
              "outlinewidth": 0,
              "ticks": ""
             }
            },
            "type": "scattermapbox"
           }
          ],
          "scatterpolar": [
           {
            "marker": {
             "colorbar": {
              "outlinewidth": 0,
              "ticks": ""
             }
            },
            "type": "scatterpolar"
           }
          ],
          "scatterpolargl": [
           {
            "marker": {
             "colorbar": {
              "outlinewidth": 0,
              "ticks": ""
             }
            },
            "type": "scatterpolargl"
           }
          ],
          "scatterternary": [
           {
            "marker": {
             "colorbar": {
              "outlinewidth": 0,
              "ticks": ""
             }
            },
            "type": "scatterternary"
           }
          ],
          "surface": [
           {
            "colorbar": {
             "outlinewidth": 0,
             "ticks": ""
            },
            "colorscale": [
             [
              0,
              "#0d0887"
             ],
             [
              0.1111111111111111,
              "#46039f"
             ],
             [
              0.2222222222222222,
              "#7201a8"
             ],
             [
              0.3333333333333333,
              "#9c179e"
             ],
             [
              0.4444444444444444,
              "#bd3786"
             ],
             [
              0.5555555555555556,
              "#d8576b"
             ],
             [
              0.6666666666666666,
              "#ed7953"
             ],
             [
              0.7777777777777778,
              "#fb9f3a"
             ],
             [
              0.8888888888888888,
              "#fdca26"
             ],
             [
              1,
              "#f0f921"
             ]
            ],
            "type": "surface"
           }
          ],
          "table": [
           {
            "cells": {
             "fill": {
              "color": "#EBF0F8"
             },
             "line": {
              "color": "white"
             }
            },
            "header": {
             "fill": {
              "color": "#C8D4E3"
             },
             "line": {
              "color": "white"
             }
            },
            "type": "table"
           }
          ]
         },
         "layout": {
          "annotationdefaults": {
           "arrowcolor": "#2a3f5f",
           "arrowhead": 0,
           "arrowwidth": 1
          },
          "autotypenumbers": "strict",
          "coloraxis": {
           "colorbar": {
            "outlinewidth": 0,
            "ticks": ""
           }
          },
          "colorscale": {
           "diverging": [
            [
             0,
             "#8e0152"
            ],
            [
             0.1,
             "#c51b7d"
            ],
            [
             0.2,
             "#de77ae"
            ],
            [
             0.3,
             "#f1b6da"
            ],
            [
             0.4,
             "#fde0ef"
            ],
            [
             0.5,
             "#f7f7f7"
            ],
            [
             0.6,
             "#e6f5d0"
            ],
            [
             0.7,
             "#b8e186"
            ],
            [
             0.8,
             "#7fbc41"
            ],
            [
             0.9,
             "#4d9221"
            ],
            [
             1,
             "#276419"
            ]
           ],
           "sequential": [
            [
             0,
             "#0d0887"
            ],
            [
             0.1111111111111111,
             "#46039f"
            ],
            [
             0.2222222222222222,
             "#7201a8"
            ],
            [
             0.3333333333333333,
             "#9c179e"
            ],
            [
             0.4444444444444444,
             "#bd3786"
            ],
            [
             0.5555555555555556,
             "#d8576b"
            ],
            [
             0.6666666666666666,
             "#ed7953"
            ],
            [
             0.7777777777777778,
             "#fb9f3a"
            ],
            [
             0.8888888888888888,
             "#fdca26"
            ],
            [
             1,
             "#f0f921"
            ]
           ],
           "sequentialminus": [
            [
             0,
             "#0d0887"
            ],
            [
             0.1111111111111111,
             "#46039f"
            ],
            [
             0.2222222222222222,
             "#7201a8"
            ],
            [
             0.3333333333333333,
             "#9c179e"
            ],
            [
             0.4444444444444444,
             "#bd3786"
            ],
            [
             0.5555555555555556,
             "#d8576b"
            ],
            [
             0.6666666666666666,
             "#ed7953"
            ],
            [
             0.7777777777777778,
             "#fb9f3a"
            ],
            [
             0.8888888888888888,
             "#fdca26"
            ],
            [
             1,
             "#f0f921"
            ]
           ]
          },
          "colorway": [
           "#636efa",
           "#EF553B",
           "#00cc96",
           "#ab63fa",
           "#FFA15A",
           "#19d3f3",
           "#FF6692",
           "#B6E880",
           "#FF97FF",
           "#FECB52"
          ],
          "font": {
           "color": "#2a3f5f"
          },
          "geo": {
           "bgcolor": "white",
           "lakecolor": "white",
           "landcolor": "#E5ECF6",
           "showlakes": true,
           "showland": true,
           "subunitcolor": "white"
          },
          "hoverlabel": {
           "align": "left"
          },
          "hovermode": "closest",
          "mapbox": {
           "style": "light"
          },
          "paper_bgcolor": "white",
          "plot_bgcolor": "#E5ECF6",
          "polar": {
           "angularaxis": {
            "gridcolor": "white",
            "linecolor": "white",
            "ticks": ""
           },
           "bgcolor": "#E5ECF6",
           "radialaxis": {
            "gridcolor": "white",
            "linecolor": "white",
            "ticks": ""
           }
          },
          "scene": {
           "xaxis": {
            "backgroundcolor": "#E5ECF6",
            "gridcolor": "white",
            "gridwidth": 2,
            "linecolor": "white",
            "showbackground": true,
            "ticks": "",
            "zerolinecolor": "white"
           },
           "yaxis": {
            "backgroundcolor": "#E5ECF6",
            "gridcolor": "white",
            "gridwidth": 2,
            "linecolor": "white",
            "showbackground": true,
            "ticks": "",
            "zerolinecolor": "white"
           },
           "zaxis": {
            "backgroundcolor": "#E5ECF6",
            "gridcolor": "white",
            "gridwidth": 2,
            "linecolor": "white",
            "showbackground": true,
            "ticks": "",
            "zerolinecolor": "white"
           }
          },
          "shapedefaults": {
           "line": {
            "color": "#2a3f5f"
           }
          },
          "ternary": {
           "aaxis": {
            "gridcolor": "white",
            "linecolor": "white",
            "ticks": ""
           },
           "baxis": {
            "gridcolor": "white",
            "linecolor": "white",
            "ticks": ""
           },
           "bgcolor": "#E5ECF6",
           "caxis": {
            "gridcolor": "white",
            "linecolor": "white",
            "ticks": ""
           }
          },
          "title": {
           "x": 0.05
          },
          "xaxis": {
           "automargin": true,
           "gridcolor": "white",
           "linecolor": "white",
           "ticks": "",
           "title": {
            "standoff": 15
           },
           "zerolinecolor": "white",
           "zerolinewidth": 2
          },
          "yaxis": {
           "automargin": true,
           "gridcolor": "white",
           "linecolor": "white",
           "ticks": "",
           "title": {
            "standoff": 15
           },
           "zerolinecolor": "white",
           "zerolinewidth": 2
          }
         }
        }
       }
      },
      "text/html": [
       "<div>                            <div id=\"9ca4cb6c-9dbf-4efd-b756-1f879d463da8\" class=\"plotly-graph-div\" style=\"height:525px; width:100%;\"></div>            <script type=\"text/javascript\">                require([\"plotly\"], function(Plotly) {                    window.PLOTLYENV=window.PLOTLYENV || {};                                    if (document.getElementById(\"9ca4cb6c-9dbf-4efd-b756-1f879d463da8\")) {                    Plotly.newPlot(                        \"9ca4cb6c-9dbf-4efd-b756-1f879d463da8\",                        [{\"marker\":{\"color\":\"#ff5f00\",\"opacity\":0.8,\"size\":8},\"mode\":\"markers\",\"name\":\"bloom\",\"x\":[0.0,1.0986122886681096,-0.579818495252942,1.9459101490553132],\"y\":[-1.0758728016986203,-1.0758728016986203,-1.0758728016986203,-1.0758728016986203],\"z\":[0.37,0.4,0.4,0.35],\"type\":\"scatter3d\"},{\"marker\":{\"color\":\"#ffbd00\",\"opacity\":0.8,\"size\":8},\"mode\":\"markers\",\"name\":\"gemma\",\"x\":[0.6931471805599453,1.9459101490553132],\"y\":[1.791759469228055,1.791759469228055],\"z\":[0.4,0.41],\"type\":\"scatter3d\"},{\"marker\":{\"color\":\"#e2ff00\",\"opacity\":0.8,\"size\":8},\"mode\":\"markers\",\"name\":\"gemma-2\",\"x\":[0.6931471805599453,2.197224577336219],\"y\":[2.0794415416798357,2.5649493574615367],\"z\":[0.42,0.45],\"type\":\"scatter3d\"},{\"marker\":{\"color\":\"#84ff00\",\"opacity\":0.8,\"size\":8},\"mode\":\"markers\",\"name\":\"gpt-neo\\u002fj\",\"x\":[0.26236426446749106,0.9932517730102834],\"y\":[-0.9675840262617056,-0.8675005677047231],\"z\":[0.38,0.36],\"type\":\"scatter3d\"},{\"marker\":{\"color\":\"#25ff00\",\"opacity\":0.8,\"size\":8},\"mode\":\"markers\",\"name\":\"llama\",\"x\":[2.5649493574615367,4.174387269895637,1.9459101490553132],\"y\":[0.0,0.33647223662121284,0.0],\"z\":[0.35,0.36,0.34],\"type\":\"scatter3d\"},{\"marker\":{\"color\":\"#00ff39\",\"opacity\":0.8,\"size\":8},\"mode\":\"markers\",\"name\":\"llama-2\",\"x\":[2.5649493574615367,4.2484952420493585,1.9459101490553132],\"y\":[0.6931471805599453,0.6931471805599453,0.6931471805599453],\"z\":[0.35,0.41,0.37],\"type\":\"scatter3d\"},{\"marker\":{\"color\":\"#00ff97\",\"opacity\":0.8,\"size\":8},\"mode\":\"markers\",\"name\":\"olmo\",\"x\":[0.0,1.9459101490553132],\"y\":[1.0986122886681096,0.916290731874155],\"z\":[0.41,0.35],\"type\":\"scatter3d\"},{\"marker\":{\"color\":\"#00fff6\",\"opacity\":0.8,\"size\":8},\"mode\":\"markers\",\"name\":\"opt\",\"x\":[0.26236426446749106,3.4011973816621555],\"y\":[-1.7147984280919266,-1.7147984280919266],\"z\":[0.34,0.36],\"type\":\"scatter3d\"},{\"marker\":{\"color\":\"#00aaff\",\"opacity\":0.8,\"size\":8},\"mode\":\"markers\",\"name\":\"pythia\",\"x\":[2.4849066497880004,-1.83258146374831,1.0296194171811581,-0.8915981192837836,1.9315214116032138],\"y\":[-1.3862943611198906,-1.3862943611198906,-1.3862943611198906,-1.3862943611198906,-1.3862943611198906],\"z\":[0.36,0.42,0.35,0.36,0.36],\"type\":\"scatter3d\"},{\"marker\":{\"color\":\"#004bff\",\"opacity\":0.8,\"size\":8},\"mode\":\"markers\",\"name\":\"qwen1.5\",\"x\":[-0.6931471805599453,0.5877866649021191,2.6390573296152584,3.4657359027997265,1.3862943611198906,1.9459101490553132],\"y\":[0.8754687373538999,0.8754687373538999,1.3862943611198906,1.3862943611198906,0.8754687373538999,1.3862943611198906],\"z\":[0.36,0.36,0.42,0.43,0.36,0.41],\"type\":\"scatter3d\"},{\"marker\":{\"color\":\"#1300ff\",\"opacity\":0.8,\"size\":8},\"mode\":\"markers\",\"name\":\"qwen2\",\"x\":[-0.6931471805599453,0.4054651081081644,4.276666119016055,1.9459101490553132],\"y\":[2.4849066497880004,1.9459101490553132,1.9459101490553132,1.9459101490553132],\"z\":[0.38,0.37,0.47,0.44],\"type\":\"scatter3d\"},{\"marker\":{\"color\":\"#7200ff\",\"opacity\":0.8,\"size\":8},\"mode\":\"markers\",\"name\":\"smollm\",\"x\":[0.5306282510621704,-2.0024805005437076,-1.0216512475319814],\"y\":[0.0,-0.5108256237659907,-0.5108256237659907],\"z\":[0.34,0.44,0.4],\"type\":\"scatter3d\"},{\"marker\":{\"color\":\"#d000ff\",\"opacity\":0.8,\"size\":8},\"mode\":\"markers\",\"name\":\"starcoder2\",\"x\":[2.70805020110221,1.0986122886681096,1.9459101490553132],\"y\":[1.4586150226995167,1.1939224684724343,1.3083328196501787],\"z\":[0.35,0.34,0.38],\"type\":\"scatter3d\"},{\"marker\":{\"color\":\"#ff00cf\",\"opacity\":0.8,\"size\":8},\"mode\":\"markers\",\"name\":\"yi\",\"x\":[3.526360524616161,1.791759469228055,2.197224577336219],\"y\":[1.0986122886681096,1.0986122886681096,1.33500106673234],\"z\":[0.41,0.39,0.41],\"type\":\"scatter3d\"},{\"marker\":{\"color\":\"#ff0071\",\"opacity\":0.8,\"size\":8},\"mode\":\"markers\",\"name\":\"yi-1.5\",\"x\":[3.526360524616161,1.791759469228055,2.197224577336219],\"y\":[1.252762968495368,1.252762968495368,1.252762968495368],\"z\":[0.42,0.44,0.43],\"type\":\"scatter3d\"}],                        {\"margin\":{\"b\":0,\"l\":0,\"r\":0,\"t\":0},\"scene\":{\"xaxis\":{\"title\":{\"text\":\"logS\"}},\"yaxis\":{\"title\":{\"text\":\"logT\"}},\"zaxis\":{\"title\":{\"text\":\"y\"}}},\"template\":{\"data\":{\"histogram2dcontour\":[{\"type\":\"histogram2dcontour\",\"colorbar\":{\"outlinewidth\":0,\"ticks\":\"\"},\"colorscale\":[[0.0,\"#0d0887\"],[0.1111111111111111,\"#46039f\"],[0.2222222222222222,\"#7201a8\"],[0.3333333333333333,\"#9c179e\"],[0.4444444444444444,\"#bd3786\"],[0.5555555555555556,\"#d8576b\"],[0.6666666666666666,\"#ed7953\"],[0.7777777777777778,\"#fb9f3a\"],[0.8888888888888888,\"#fdca26\"],[1.0,\"#f0f921\"]]}],\"choropleth\":[{\"type\":\"choropleth\",\"colorbar\":{\"outlinewidth\":0,\"ticks\":\"\"}}],\"histogram2d\":[{\"type\":\"histogram2d\",\"colorbar\":{\"outlinewidth\":0,\"ticks\":\"\"},\"colorscale\":[[0.0,\"#0d0887\"],[0.1111111111111111,\"#46039f\"],[0.2222222222222222,\"#7201a8\"],[0.3333333333333333,\"#9c179e\"],[0.4444444444444444,\"#bd3786\"],[0.5555555555555556,\"#d8576b\"],[0.6666666666666666,\"#ed7953\"],[0.7777777777777778,\"#fb9f3a\"],[0.8888888888888888,\"#fdca26\"],[1.0,\"#f0f921\"]]}],\"heatmap\":[{\"type\":\"heatmap\",\"colorbar\":{\"outlinewidth\":0,\"ticks\":\"\"},\"colorscale\":[[0.0,\"#0d0887\"],[0.1111111111111111,\"#46039f\"],[0.2222222222222222,\"#7201a8\"],[0.3333333333333333,\"#9c179e\"],[0.4444444444444444,\"#bd3786\"],[0.5555555555555556,\"#d8576b\"],[0.6666666666666666,\"#ed7953\"],[0.7777777777777778,\"#fb9f3a\"],[0.8888888888888888,\"#fdca26\"],[1.0,\"#f0f921\"]]}],\"heatmapgl\":[{\"type\":\"heatmapgl\",\"colorbar\":{\"outlinewidth\":0,\"ticks\":\"\"},\"colorscale\":[[0.0,\"#0d0887\"],[0.1111111111111111,\"#46039f\"],[0.2222222222222222,\"#7201a8\"],[0.3333333333333333,\"#9c179e\"],[0.4444444444444444,\"#bd3786\"],[0.5555555555555556,\"#d8576b\"],[0.6666666666666666,\"#ed7953\"],[0.7777777777777778,\"#fb9f3a\"],[0.8888888888888888,\"#fdca26\"],[1.0,\"#f0f921\"]]}],\"contourcarpet\":[{\"type\":\"contourcarpet\",\"colorbar\":{\"outlinewidth\":0,\"ticks\":\"\"}}],\"contour\":[{\"type\":\"contour\",\"colorbar\":{\"outlinewidth\":0,\"ticks\":\"\"},\"colorscale\":[[0.0,\"#0d0887\"],[0.1111111111111111,\"#46039f\"],[0.2222222222222222,\"#7201a8\"],[0.3333333333333333,\"#9c179e\"],[0.4444444444444444,\"#bd3786\"],[0.5555555555555556,\"#d8576b\"],[0.6666666666666666,\"#ed7953\"],[0.7777777777777778,\"#fb9f3a\"],[0.8888888888888888,\"#fdca26\"],[1.0,\"#f0f921\"]]}],\"surface\":[{\"type\":\"surface\",\"colorbar\":{\"outlinewidth\":0,\"ticks\":\"\"},\"colorscale\":[[0.0,\"#0d0887\"],[0.1111111111111111,\"#46039f\"],[0.2222222222222222,\"#7201a8\"],[0.3333333333333333,\"#9c179e\"],[0.4444444444444444,\"#bd3786\"],[0.5555555555555556,\"#d8576b\"],[0.6666666666666666,\"#ed7953\"],[0.7777777777777778,\"#fb9f3a\"],[0.8888888888888888,\"#fdca26\"],[1.0,\"#f0f921\"]]}],\"mesh3d\":[{\"type\":\"mesh3d\",\"colorbar\":{\"outlinewidth\":0,\"ticks\":\"\"}}],\"scatter\":[{\"fillpattern\":{\"fillmode\":\"overlay\",\"size\":10,\"solidity\":0.2},\"type\":\"scatter\"}],\"parcoords\":[{\"type\":\"parcoords\",\"line\":{\"colorbar\":{\"outlinewidth\":0,\"ticks\":\"\"}}}],\"scatterpolargl\":[{\"type\":\"scatterpolargl\",\"marker\":{\"colorbar\":{\"outlinewidth\":0,\"ticks\":\"\"}}}],\"bar\":[{\"error_x\":{\"color\":\"#2a3f5f\"},\"error_y\":{\"color\":\"#2a3f5f\"},\"marker\":{\"line\":{\"color\":\"#E5ECF6\",\"width\":0.5},\"pattern\":{\"fillmode\":\"overlay\",\"size\":10,\"solidity\":0.2}},\"type\":\"bar\"}],\"scattergeo\":[{\"type\":\"scattergeo\",\"marker\":{\"colorbar\":{\"outlinewidth\":0,\"ticks\":\"\"}}}],\"scatterpolar\":[{\"type\":\"scatterpolar\",\"marker\":{\"colorbar\":{\"outlinewidth\":0,\"ticks\":\"\"}}}],\"histogram\":[{\"marker\":{\"pattern\":{\"fillmode\":\"overlay\",\"size\":10,\"solidity\":0.2}},\"type\":\"histogram\"}],\"scattergl\":[{\"type\":\"scattergl\",\"marker\":{\"colorbar\":{\"outlinewidth\":0,\"ticks\":\"\"}}}],\"scatter3d\":[{\"type\":\"scatter3d\",\"line\":{\"colorbar\":{\"outlinewidth\":0,\"ticks\":\"\"}},\"marker\":{\"colorbar\":{\"outlinewidth\":0,\"ticks\":\"\"}}}],\"scattermapbox\":[{\"type\":\"scattermapbox\",\"marker\":{\"colorbar\":{\"outlinewidth\":0,\"ticks\":\"\"}}}],\"scatterternary\":[{\"type\":\"scatterternary\",\"marker\":{\"colorbar\":{\"outlinewidth\":0,\"ticks\":\"\"}}}],\"scattercarpet\":[{\"type\":\"scattercarpet\",\"marker\":{\"colorbar\":{\"outlinewidth\":0,\"ticks\":\"\"}}}],\"carpet\":[{\"aaxis\":{\"endlinecolor\":\"#2a3f5f\",\"gridcolor\":\"white\",\"linecolor\":\"white\",\"minorgridcolor\":\"white\",\"startlinecolor\":\"#2a3f5f\"},\"baxis\":{\"endlinecolor\":\"#2a3f5f\",\"gridcolor\":\"white\",\"linecolor\":\"white\",\"minorgridcolor\":\"white\",\"startlinecolor\":\"#2a3f5f\"},\"type\":\"carpet\"}],\"table\":[{\"cells\":{\"fill\":{\"color\":\"#EBF0F8\"},\"line\":{\"color\":\"white\"}},\"header\":{\"fill\":{\"color\":\"#C8D4E3\"},\"line\":{\"color\":\"white\"}},\"type\":\"table\"}],\"barpolar\":[{\"marker\":{\"line\":{\"color\":\"#E5ECF6\",\"width\":0.5},\"pattern\":{\"fillmode\":\"overlay\",\"size\":10,\"solidity\":0.2}},\"type\":\"barpolar\"}],\"pie\":[{\"automargin\":true,\"type\":\"pie\"}]},\"layout\":{\"autotypenumbers\":\"strict\",\"colorway\":[\"#636efa\",\"#EF553B\",\"#00cc96\",\"#ab63fa\",\"#FFA15A\",\"#19d3f3\",\"#FF6692\",\"#B6E880\",\"#FF97FF\",\"#FECB52\"],\"font\":{\"color\":\"#2a3f5f\"},\"hovermode\":\"closest\",\"hoverlabel\":{\"align\":\"left\"},\"paper_bgcolor\":\"white\",\"plot_bgcolor\":\"#E5ECF6\",\"polar\":{\"bgcolor\":\"#E5ECF6\",\"angularaxis\":{\"gridcolor\":\"white\",\"linecolor\":\"white\",\"ticks\":\"\"},\"radialaxis\":{\"gridcolor\":\"white\",\"linecolor\":\"white\",\"ticks\":\"\"}},\"ternary\":{\"bgcolor\":\"#E5ECF6\",\"aaxis\":{\"gridcolor\":\"white\",\"linecolor\":\"white\",\"ticks\":\"\"},\"baxis\":{\"gridcolor\":\"white\",\"linecolor\":\"white\",\"ticks\":\"\"},\"caxis\":{\"gridcolor\":\"white\",\"linecolor\":\"white\",\"ticks\":\"\"}},\"coloraxis\":{\"colorbar\":{\"outlinewidth\":0,\"ticks\":\"\"}},\"colorscale\":{\"sequential\":[[0.0,\"#0d0887\"],[0.1111111111111111,\"#46039f\"],[0.2222222222222222,\"#7201a8\"],[0.3333333333333333,\"#9c179e\"],[0.4444444444444444,\"#bd3786\"],[0.5555555555555556,\"#d8576b\"],[0.6666666666666666,\"#ed7953\"],[0.7777777777777778,\"#fb9f3a\"],[0.8888888888888888,\"#fdca26\"],[1.0,\"#f0f921\"]],\"sequentialminus\":[[0.0,\"#0d0887\"],[0.1111111111111111,\"#46039f\"],[0.2222222222222222,\"#7201a8\"],[0.3333333333333333,\"#9c179e\"],[0.4444444444444444,\"#bd3786\"],[0.5555555555555556,\"#d8576b\"],[0.6666666666666666,\"#ed7953\"],[0.7777777777777778,\"#fb9f3a\"],[0.8888888888888888,\"#fdca26\"],[1.0,\"#f0f921\"]],\"diverging\":[[0,\"#8e0152\"],[0.1,\"#c51b7d\"],[0.2,\"#de77ae\"],[0.3,\"#f1b6da\"],[0.4,\"#fde0ef\"],[0.5,\"#f7f7f7\"],[0.6,\"#e6f5d0\"],[0.7,\"#b8e186\"],[0.8,\"#7fbc41\"],[0.9,\"#4d9221\"],[1,\"#276419\"]]},\"xaxis\":{\"gridcolor\":\"white\",\"linecolor\":\"white\",\"ticks\":\"\",\"title\":{\"standoff\":15},\"zerolinecolor\":\"white\",\"automargin\":true,\"zerolinewidth\":2},\"yaxis\":{\"gridcolor\":\"white\",\"linecolor\":\"white\",\"ticks\":\"\",\"title\":{\"standoff\":15},\"zerolinecolor\":\"white\",\"automargin\":true,\"zerolinewidth\":2},\"scene\":{\"xaxis\":{\"backgroundcolor\":\"#E5ECF6\",\"gridcolor\":\"white\",\"linecolor\":\"white\",\"showbackground\":true,\"ticks\":\"\",\"zerolinecolor\":\"white\",\"gridwidth\":2},\"yaxis\":{\"backgroundcolor\":\"#E5ECF6\",\"gridcolor\":\"white\",\"linecolor\":\"white\",\"showbackground\":true,\"ticks\":\"\",\"zerolinecolor\":\"white\",\"gridwidth\":2},\"zaxis\":{\"backgroundcolor\":\"#E5ECF6\",\"gridcolor\":\"white\",\"linecolor\":\"white\",\"showbackground\":true,\"ticks\":\"\",\"zerolinecolor\":\"white\",\"gridwidth\":2}},\"shapedefaults\":{\"line\":{\"color\":\"#2a3f5f\"}},\"annotationdefaults\":{\"arrowcolor\":\"#2a3f5f\",\"arrowhead\":0,\"arrowwidth\":1},\"geo\":{\"bgcolor\":\"white\",\"landcolor\":\"#E5ECF6\",\"subunitcolor\":\"white\",\"showland\":true,\"showlakes\":true,\"lakecolor\":\"white\"},\"title\":{\"x\":0.05},\"mapbox\":{\"style\":\"light\"}}}},                        {\"responsive\": true}                    ).then(function(){\n",
       "                            \n",
       "var gd = document.getElementById('9ca4cb6c-9dbf-4efd-b756-1f879d463da8');\n",
       "var x = new MutationObserver(function (mutations, observer) {{\n",
       "        var display = window.getComputedStyle(gd).display;\n",
       "        if (!display || display === 'none') {{\n",
       "            console.log([gd, 'removed!']);\n",
       "            Plotly.purge(gd);\n",
       "            observer.disconnect();\n",
       "        }}\n",
       "}});\n",
       "\n",
       "// Listen for the removal of the full notebook cells\n",
       "var notebookContainer = gd.closest('#notebook-container');\n",
       "if (notebookContainer) {{\n",
       "    x.observe(notebookContainer, {childList: true});\n",
       "}}\n",
       "\n",
       "// Listen for the clearing of the current output cell\n",
       "var outputEl = gd.closest('.output');\n",
       "if (outputEl) {{\n",
       "    x.observe(outputEl, {childList: true});\n",
       "}}\n",
       "\n",
       "                        })                };                });            </script>        </div>"
      ]
     },
     "metadata": {},
     "output_type": "display_data"
    },
    {
     "name": "stdout",
     "output_type": "stream",
     "text": [
      "************ MMLU-PRO ************\n"
     ]
    },
    {
     "data": {
      "application/vnd.plotly.v1+json": {
       "config": {
        "plotlyServerURL": "https://plot.ly"
       },
       "data": [
        {
         "marker": {
          "color": "#ff5f00",
          "opacity": 0.8,
          "size": 8
         },
         "mode": "markers",
         "name": "bloom",
         "type": "scatter3d",
         "x": [
          0,
          1.0986122886681096,
          -0.579818495252942,
          1.9459101490553132
         ],
         "y": [
          -1.0758728016986203,
          -1.0758728016986203,
          -1.0758728016986203,
          -1.0758728016986203
         ],
         "z": [
          0.11,
          0.11,
          0.12,
          0.11
         ]
        },
        {
         "marker": {
          "color": "#ffbd00",
          "opacity": 0.8,
          "size": 8
         },
         "mode": "markers",
         "name": "gemma",
         "type": "scatter3d",
         "x": [
          0.6931471805599453,
          1.9459101490553132
         ],
         "y": [
          1.791759469228055,
          1.791759469228055
         ],
         "z": [
          0.14,
          0.29
         ]
        },
        {
         "marker": {
          "color": "#e2ff00",
          "opacity": 0.8,
          "size": 8
         },
         "mode": "markers",
         "name": "gemma-2",
         "type": "scatter3d",
         "x": [
          0.6931471805599453,
          2.197224577336219
         ],
         "y": [
          2.0794415416798357,
          2.5649493574615367
         ],
         "z": [
          0.22,
          0.41
         ]
        },
        {
         "marker": {
          "color": "#84ff00",
          "opacity": 0.8,
          "size": 8
         },
         "mode": "markers",
         "name": "gpt-neo/j",
         "type": "scatter3d",
         "x": [
          0.26236426446749106,
          0.9932517730102834
         ],
         "y": [
          -0.9675840262617056,
          -0.8675005677047231
         ],
         "z": [
          0.12,
          0.12
         ]
        },
        {
         "marker": {
          "color": "#25ff00",
          "opacity": 0.8,
          "size": 8
         },
         "mode": "markers",
         "name": "llama",
         "type": "scatter3d",
         "x": [
          2.5649493574615367,
          4.174387269895637,
          1.9459101490553132
         ],
         "y": [
          0,
          0.33647223662121284,
          0
         ],
         "z": [
          0.2,
          0.31,
          0.13
         ]
        },
        {
         "marker": {
          "color": "#00ff39",
          "opacity": 0.8,
          "size": 8
         },
         "mode": "markers",
         "name": "llama-2",
         "type": "scatter3d",
         "x": [
          2.5649493574615367,
          4.2484952420493585,
          1.9459101490553132
         ],
         "y": [
          0.6931471805599453,
          0.6931471805599453,
          0.6931471805599453
         ],
         "z": [
          0.24,
          0.37,
          0.19
         ]
        },
        {
         "marker": {
          "color": "#00ff97",
          "opacity": 0.8,
          "size": 8
         },
         "mode": "markers",
         "name": "olmo",
         "type": "scatter3d",
         "x": [
          0,
          1.9459101490553132
         ],
         "y": [
          1.0986122886681096,
          0.916290731874155
         ],
         "z": [
          0.12,
          0.12
         ]
        },
        {
         "marker": {
          "color": "#00fff6",
          "opacity": 0.8,
          "size": 8
         },
         "mode": "markers",
         "name": "opt",
         "type": "scatter3d",
         "x": [
          0.26236426446749106,
          3.4011973816621555
         ],
         "y": [
          -1.7147984280919266,
          -1.7147984280919266
         ],
         "z": [
          0.11,
          0.12
         ]
        },
        {
         "marker": {
          "color": "#00aaff",
          "opacity": 0.8,
          "size": 8
         },
         "mode": "markers",
         "name": "pythia",
         "type": "scatter3d",
         "x": [
          2.4849066497880004,
          -1.83258146374831,
          1.0296194171811581,
          -0.8915981192837836,
          1.9315214116032138
         ],
         "y": [
          -1.3862943611198906,
          -1.3862943611198906,
          -1.3862943611198906,
          -1.3862943611198906,
          -1.3862943611198906
         ],
         "z": [
          0.11,
          0.11,
          0.11,
          0.11,
          0.11
         ]
        },
        {
         "marker": {
          "color": "#004bff",
          "opacity": 0.8,
          "size": 8
         },
         "mode": "markers",
         "name": "qwen1.5",
         "type": "scatter3d",
         "x": [
          -0.6931471805599453,
          0.5877866649021191,
          2.6390573296152584,
          3.4657359027997265,
          1.3862943611198906,
          1.9459101490553132
         ],
         "y": [
          0.8754687373538999,
          0.8754687373538999,
          1.3862943611198906,
          1.3862943611198906,
          0.8754687373538999,
          1.3862943611198906
         ],
         "z": [
          0.13,
          0.19,
          0.36,
          0.45,
          0.25,
          0.29
         ]
        },
        {
         "marker": {
          "color": "#1300ff",
          "opacity": 0.8,
          "size": 8
         },
         "mode": "markers",
         "name": "qwen2",
         "type": "scatter3d",
         "x": [
          -0.6931471805599453,
          0.4054651081081644,
          4.276666119016055,
          1.9459101490553132
         ],
         "y": [
          2.4849066497880004,
          1.9459101490553132,
          1.9459101490553132,
          1.9459101490553132
         ],
         "z": [
          0.17,
          0.26,
          0.57,
          0.42
         ]
        },
        {
         "marker": {
          "color": "#7200ff",
          "opacity": 0.8,
          "size": 8
         },
         "mode": "markers",
         "name": "smollm",
         "type": "scatter3d",
         "x": [
          0.5306282510621704,
          -2.0024805005437076,
          -1.0216512475319814
         ],
         "y": [
          0,
          -0.5108256237659907,
          -0.5108256237659907
         ],
         "z": [
          0.11,
          0.11,
          0.11
         ]
        },
        {
         "marker": {
          "color": "#d000ff",
          "opacity": 0.8,
          "size": 8
         },
         "mode": "markers",
         "name": "starcoder2",
         "type": "scatter3d",
         "x": [
          2.70805020110221,
          1.0986122886681096,
          1.9459101490553132
         ],
         "y": [
          1.4586150226995167,
          1.1939224684724343,
          1.3083328196501787
         ],
         "z": [
          0.24,
          0.16,
          0.16
         ]
        },
        {
         "marker": {
          "color": "#ff00cf",
          "opacity": 0.8,
          "size": 8
         },
         "mode": "markers",
         "name": "yi",
         "type": "scatter3d",
         "x": [
          3.526360524616161,
          1.791759469228055,
          2.197224577336219
         ],
         "y": [
          1.0986122886681096,
          1.0986122886681096,
          1.33500106673234
         ],
         "z": [
          0.44,
          0.3,
          0.36
         ]
        },
        {
         "marker": {
          "color": "#ff0071",
          "opacity": 0.8,
          "size": 8
         },
         "mode": "markers",
         "name": "yi-1.5",
         "type": "scatter3d",
         "x": [
          3.526360524616161,
          1.791759469228055,
          2.197224577336219
         ],
         "y": [
          1.252762968495368,
          1.252762968495368,
          1.252762968495368
         ],
         "z": [
          0.47,
          0.31,
          0.39
         ]
        }
       ],
       "layout": {
        "autosize": true,
        "margin": {
         "b": 0,
         "l": 0,
         "r": 0,
         "t": 0
        },
        "scene": {
         "aspectmode": "auto",
         "aspectratio": {
          "x": 1,
          "y": 1,
          "z": 1
         },
         "camera": {
          "center": {
           "x": 0,
           "y": 0,
           "z": 0
          },
          "eye": {
           "x": -0.6576522524913804,
           "y": -1.9661142790553825,
           "z": 0.624009740699252
          },
          "projection": {
           "type": "perspective"
          },
          "up": {
           "x": 0,
           "y": 0,
           "z": 1
          }
         },
         "xaxis": {
          "title": {
           "text": "logS"
          },
          "type": "linear"
         },
         "yaxis": {
          "title": {
           "text": "logT"
          },
          "type": "linear"
         },
         "zaxis": {
          "title": {
           "text": "y"
          },
          "type": "linear"
         }
        },
        "template": {
         "data": {
          "bar": [
           {
            "error_x": {
             "color": "#2a3f5f"
            },
            "error_y": {
             "color": "#2a3f5f"
            },
            "marker": {
             "line": {
              "color": "#E5ECF6",
              "width": 0.5
             },
             "pattern": {
              "fillmode": "overlay",
              "size": 10,
              "solidity": 0.2
             }
            },
            "type": "bar"
           }
          ],
          "barpolar": [
           {
            "marker": {
             "line": {
              "color": "#E5ECF6",
              "width": 0.5
             },
             "pattern": {
              "fillmode": "overlay",
              "size": 10,
              "solidity": 0.2
             }
            },
            "type": "barpolar"
           }
          ],
          "carpet": [
           {
            "aaxis": {
             "endlinecolor": "#2a3f5f",
             "gridcolor": "white",
             "linecolor": "white",
             "minorgridcolor": "white",
             "startlinecolor": "#2a3f5f"
            },
            "baxis": {
             "endlinecolor": "#2a3f5f",
             "gridcolor": "white",
             "linecolor": "white",
             "minorgridcolor": "white",
             "startlinecolor": "#2a3f5f"
            },
            "type": "carpet"
           }
          ],
          "choropleth": [
           {
            "colorbar": {
             "outlinewidth": 0,
             "ticks": ""
            },
            "type": "choropleth"
           }
          ],
          "contour": [
           {
            "colorbar": {
             "outlinewidth": 0,
             "ticks": ""
            },
            "colorscale": [
             [
              0,
              "#0d0887"
             ],
             [
              0.1111111111111111,
              "#46039f"
             ],
             [
              0.2222222222222222,
              "#7201a8"
             ],
             [
              0.3333333333333333,
              "#9c179e"
             ],
             [
              0.4444444444444444,
              "#bd3786"
             ],
             [
              0.5555555555555556,
              "#d8576b"
             ],
             [
              0.6666666666666666,
              "#ed7953"
             ],
             [
              0.7777777777777778,
              "#fb9f3a"
             ],
             [
              0.8888888888888888,
              "#fdca26"
             ],
             [
              1,
              "#f0f921"
             ]
            ],
            "type": "contour"
           }
          ],
          "contourcarpet": [
           {
            "colorbar": {
             "outlinewidth": 0,
             "ticks": ""
            },
            "type": "contourcarpet"
           }
          ],
          "heatmap": [
           {
            "colorbar": {
             "outlinewidth": 0,
             "ticks": ""
            },
            "colorscale": [
             [
              0,
              "#0d0887"
             ],
             [
              0.1111111111111111,
              "#46039f"
             ],
             [
              0.2222222222222222,
              "#7201a8"
             ],
             [
              0.3333333333333333,
              "#9c179e"
             ],
             [
              0.4444444444444444,
              "#bd3786"
             ],
             [
              0.5555555555555556,
              "#d8576b"
             ],
             [
              0.6666666666666666,
              "#ed7953"
             ],
             [
              0.7777777777777778,
              "#fb9f3a"
             ],
             [
              0.8888888888888888,
              "#fdca26"
             ],
             [
              1,
              "#f0f921"
             ]
            ],
            "type": "heatmap"
           }
          ],
          "heatmapgl": [
           {
            "colorbar": {
             "outlinewidth": 0,
             "ticks": ""
            },
            "colorscale": [
             [
              0,
              "#0d0887"
             ],
             [
              0.1111111111111111,
              "#46039f"
             ],
             [
              0.2222222222222222,
              "#7201a8"
             ],
             [
              0.3333333333333333,
              "#9c179e"
             ],
             [
              0.4444444444444444,
              "#bd3786"
             ],
             [
              0.5555555555555556,
              "#d8576b"
             ],
             [
              0.6666666666666666,
              "#ed7953"
             ],
             [
              0.7777777777777778,
              "#fb9f3a"
             ],
             [
              0.8888888888888888,
              "#fdca26"
             ],
             [
              1,
              "#f0f921"
             ]
            ],
            "type": "heatmapgl"
           }
          ],
          "histogram": [
           {
            "marker": {
             "pattern": {
              "fillmode": "overlay",
              "size": 10,
              "solidity": 0.2
             }
            },
            "type": "histogram"
           }
          ],
          "histogram2d": [
           {
            "colorbar": {
             "outlinewidth": 0,
             "ticks": ""
            },
            "colorscale": [
             [
              0,
              "#0d0887"
             ],
             [
              0.1111111111111111,
              "#46039f"
             ],
             [
              0.2222222222222222,
              "#7201a8"
             ],
             [
              0.3333333333333333,
              "#9c179e"
             ],
             [
              0.4444444444444444,
              "#bd3786"
             ],
             [
              0.5555555555555556,
              "#d8576b"
             ],
             [
              0.6666666666666666,
              "#ed7953"
             ],
             [
              0.7777777777777778,
              "#fb9f3a"
             ],
             [
              0.8888888888888888,
              "#fdca26"
             ],
             [
              1,
              "#f0f921"
             ]
            ],
            "type": "histogram2d"
           }
          ],
          "histogram2dcontour": [
           {
            "colorbar": {
             "outlinewidth": 0,
             "ticks": ""
            },
            "colorscale": [
             [
              0,
              "#0d0887"
             ],
             [
              0.1111111111111111,
              "#46039f"
             ],
             [
              0.2222222222222222,
              "#7201a8"
             ],
             [
              0.3333333333333333,
              "#9c179e"
             ],
             [
              0.4444444444444444,
              "#bd3786"
             ],
             [
              0.5555555555555556,
              "#d8576b"
             ],
             [
              0.6666666666666666,
              "#ed7953"
             ],
             [
              0.7777777777777778,
              "#fb9f3a"
             ],
             [
              0.8888888888888888,
              "#fdca26"
             ],
             [
              1,
              "#f0f921"
             ]
            ],
            "type": "histogram2dcontour"
           }
          ],
          "mesh3d": [
           {
            "colorbar": {
             "outlinewidth": 0,
             "ticks": ""
            },
            "type": "mesh3d"
           }
          ],
          "parcoords": [
           {
            "line": {
             "colorbar": {
              "outlinewidth": 0,
              "ticks": ""
             }
            },
            "type": "parcoords"
           }
          ],
          "pie": [
           {
            "automargin": true,
            "type": "pie"
           }
          ],
          "scatter": [
           {
            "fillpattern": {
             "fillmode": "overlay",
             "size": 10,
             "solidity": 0.2
            },
            "type": "scatter"
           }
          ],
          "scatter3d": [
           {
            "line": {
             "colorbar": {
              "outlinewidth": 0,
              "ticks": ""
             }
            },
            "marker": {
             "colorbar": {
              "outlinewidth": 0,
              "ticks": ""
             }
            },
            "type": "scatter3d"
           }
          ],
          "scattercarpet": [
           {
            "marker": {
             "colorbar": {
              "outlinewidth": 0,
              "ticks": ""
             }
            },
            "type": "scattercarpet"
           }
          ],
          "scattergeo": [
           {
            "marker": {
             "colorbar": {
              "outlinewidth": 0,
              "ticks": ""
             }
            },
            "type": "scattergeo"
           }
          ],
          "scattergl": [
           {
            "marker": {
             "colorbar": {
              "outlinewidth": 0,
              "ticks": ""
             }
            },
            "type": "scattergl"
           }
          ],
          "scattermapbox": [
           {
            "marker": {
             "colorbar": {
              "outlinewidth": 0,
              "ticks": ""
             }
            },
            "type": "scattermapbox"
           }
          ],
          "scatterpolar": [
           {
            "marker": {
             "colorbar": {
              "outlinewidth": 0,
              "ticks": ""
             }
            },
            "type": "scatterpolar"
           }
          ],
          "scatterpolargl": [
           {
            "marker": {
             "colorbar": {
              "outlinewidth": 0,
              "ticks": ""
             }
            },
            "type": "scatterpolargl"
           }
          ],
          "scatterternary": [
           {
            "marker": {
             "colorbar": {
              "outlinewidth": 0,
              "ticks": ""
             }
            },
            "type": "scatterternary"
           }
          ],
          "surface": [
           {
            "colorbar": {
             "outlinewidth": 0,
             "ticks": ""
            },
            "colorscale": [
             [
              0,
              "#0d0887"
             ],
             [
              0.1111111111111111,
              "#46039f"
             ],
             [
              0.2222222222222222,
              "#7201a8"
             ],
             [
              0.3333333333333333,
              "#9c179e"
             ],
             [
              0.4444444444444444,
              "#bd3786"
             ],
             [
              0.5555555555555556,
              "#d8576b"
             ],
             [
              0.6666666666666666,
              "#ed7953"
             ],
             [
              0.7777777777777778,
              "#fb9f3a"
             ],
             [
              0.8888888888888888,
              "#fdca26"
             ],
             [
              1,
              "#f0f921"
             ]
            ],
            "type": "surface"
           }
          ],
          "table": [
           {
            "cells": {
             "fill": {
              "color": "#EBF0F8"
             },
             "line": {
              "color": "white"
             }
            },
            "header": {
             "fill": {
              "color": "#C8D4E3"
             },
             "line": {
              "color": "white"
             }
            },
            "type": "table"
           }
          ]
         },
         "layout": {
          "annotationdefaults": {
           "arrowcolor": "#2a3f5f",
           "arrowhead": 0,
           "arrowwidth": 1
          },
          "autotypenumbers": "strict",
          "coloraxis": {
           "colorbar": {
            "outlinewidth": 0,
            "ticks": ""
           }
          },
          "colorscale": {
           "diverging": [
            [
             0,
             "#8e0152"
            ],
            [
             0.1,
             "#c51b7d"
            ],
            [
             0.2,
             "#de77ae"
            ],
            [
             0.3,
             "#f1b6da"
            ],
            [
             0.4,
             "#fde0ef"
            ],
            [
             0.5,
             "#f7f7f7"
            ],
            [
             0.6,
             "#e6f5d0"
            ],
            [
             0.7,
             "#b8e186"
            ],
            [
             0.8,
             "#7fbc41"
            ],
            [
             0.9,
             "#4d9221"
            ],
            [
             1,
             "#276419"
            ]
           ],
           "sequential": [
            [
             0,
             "#0d0887"
            ],
            [
             0.1111111111111111,
             "#46039f"
            ],
            [
             0.2222222222222222,
             "#7201a8"
            ],
            [
             0.3333333333333333,
             "#9c179e"
            ],
            [
             0.4444444444444444,
             "#bd3786"
            ],
            [
             0.5555555555555556,
             "#d8576b"
            ],
            [
             0.6666666666666666,
             "#ed7953"
            ],
            [
             0.7777777777777778,
             "#fb9f3a"
            ],
            [
             0.8888888888888888,
             "#fdca26"
            ],
            [
             1,
             "#f0f921"
            ]
           ],
           "sequentialminus": [
            [
             0,
             "#0d0887"
            ],
            [
             0.1111111111111111,
             "#46039f"
            ],
            [
             0.2222222222222222,
             "#7201a8"
            ],
            [
             0.3333333333333333,
             "#9c179e"
            ],
            [
             0.4444444444444444,
             "#bd3786"
            ],
            [
             0.5555555555555556,
             "#d8576b"
            ],
            [
             0.6666666666666666,
             "#ed7953"
            ],
            [
             0.7777777777777778,
             "#fb9f3a"
            ],
            [
             0.8888888888888888,
             "#fdca26"
            ],
            [
             1,
             "#f0f921"
            ]
           ]
          },
          "colorway": [
           "#636efa",
           "#EF553B",
           "#00cc96",
           "#ab63fa",
           "#FFA15A",
           "#19d3f3",
           "#FF6692",
           "#B6E880",
           "#FF97FF",
           "#FECB52"
          ],
          "font": {
           "color": "#2a3f5f"
          },
          "geo": {
           "bgcolor": "white",
           "lakecolor": "white",
           "landcolor": "#E5ECF6",
           "showlakes": true,
           "showland": true,
           "subunitcolor": "white"
          },
          "hoverlabel": {
           "align": "left"
          },
          "hovermode": "closest",
          "mapbox": {
           "style": "light"
          },
          "paper_bgcolor": "white",
          "plot_bgcolor": "#E5ECF6",
          "polar": {
           "angularaxis": {
            "gridcolor": "white",
            "linecolor": "white",
            "ticks": ""
           },
           "bgcolor": "#E5ECF6",
           "radialaxis": {
            "gridcolor": "white",
            "linecolor": "white",
            "ticks": ""
           }
          },
          "scene": {
           "xaxis": {
            "backgroundcolor": "#E5ECF6",
            "gridcolor": "white",
            "gridwidth": 2,
            "linecolor": "white",
            "showbackground": true,
            "ticks": "",
            "zerolinecolor": "white"
           },
           "yaxis": {
            "backgroundcolor": "#E5ECF6",
            "gridcolor": "white",
            "gridwidth": 2,
            "linecolor": "white",
            "showbackground": true,
            "ticks": "",
            "zerolinecolor": "white"
           },
           "zaxis": {
            "backgroundcolor": "#E5ECF6",
            "gridcolor": "white",
            "gridwidth": 2,
            "linecolor": "white",
            "showbackground": true,
            "ticks": "",
            "zerolinecolor": "white"
           }
          },
          "shapedefaults": {
           "line": {
            "color": "#2a3f5f"
           }
          },
          "ternary": {
           "aaxis": {
            "gridcolor": "white",
            "linecolor": "white",
            "ticks": ""
           },
           "baxis": {
            "gridcolor": "white",
            "linecolor": "white",
            "ticks": ""
           },
           "bgcolor": "#E5ECF6",
           "caxis": {
            "gridcolor": "white",
            "linecolor": "white",
            "ticks": ""
           }
          },
          "title": {
           "x": 0.05
          },
          "xaxis": {
           "automargin": true,
           "gridcolor": "white",
           "linecolor": "white",
           "ticks": "",
           "title": {
            "standoff": 15
           },
           "zerolinecolor": "white",
           "zerolinewidth": 2
          },
          "yaxis": {
           "automargin": true,
           "gridcolor": "white",
           "linecolor": "white",
           "ticks": "",
           "title": {
            "standoff": 15
           },
           "zerolinecolor": "white",
           "zerolinewidth": 2
          }
         }
        }
       }
      },
      "text/html": [
       "<div>                            <div id=\"83eb5f0e-49a5-41b5-92d5-1377cb2311df\" class=\"plotly-graph-div\" style=\"height:525px; width:100%;\"></div>            <script type=\"text/javascript\">                require([\"plotly\"], function(Plotly) {                    window.PLOTLYENV=window.PLOTLYENV || {};                                    if (document.getElementById(\"83eb5f0e-49a5-41b5-92d5-1377cb2311df\")) {                    Plotly.newPlot(                        \"83eb5f0e-49a5-41b5-92d5-1377cb2311df\",                        [{\"marker\":{\"color\":\"#ff5f00\",\"opacity\":0.8,\"size\":8},\"mode\":\"markers\",\"name\":\"bloom\",\"x\":[0.0,1.0986122886681096,-0.579818495252942,1.9459101490553132],\"y\":[-1.0758728016986203,-1.0758728016986203,-1.0758728016986203,-1.0758728016986203],\"z\":[0.11,0.11,0.12,0.11],\"type\":\"scatter3d\"},{\"marker\":{\"color\":\"#ffbd00\",\"opacity\":0.8,\"size\":8},\"mode\":\"markers\",\"name\":\"gemma\",\"x\":[0.6931471805599453,1.9459101490553132],\"y\":[1.791759469228055,1.791759469228055],\"z\":[0.14,0.29],\"type\":\"scatter3d\"},{\"marker\":{\"color\":\"#e2ff00\",\"opacity\":0.8,\"size\":8},\"mode\":\"markers\",\"name\":\"gemma-2\",\"x\":[0.6931471805599453,2.197224577336219],\"y\":[2.0794415416798357,2.5649493574615367],\"z\":[0.22,0.41],\"type\":\"scatter3d\"},{\"marker\":{\"color\":\"#84ff00\",\"opacity\":0.8,\"size\":8},\"mode\":\"markers\",\"name\":\"gpt-neo\\u002fj\",\"x\":[0.26236426446749106,0.9932517730102834],\"y\":[-0.9675840262617056,-0.8675005677047231],\"z\":[0.12,0.12],\"type\":\"scatter3d\"},{\"marker\":{\"color\":\"#25ff00\",\"opacity\":0.8,\"size\":8},\"mode\":\"markers\",\"name\":\"llama\",\"x\":[2.5649493574615367,4.174387269895637,1.9459101490553132],\"y\":[0.0,0.33647223662121284,0.0],\"z\":[0.2,0.31,0.13],\"type\":\"scatter3d\"},{\"marker\":{\"color\":\"#00ff39\",\"opacity\":0.8,\"size\":8},\"mode\":\"markers\",\"name\":\"llama-2\",\"x\":[2.5649493574615367,4.2484952420493585,1.9459101490553132],\"y\":[0.6931471805599453,0.6931471805599453,0.6931471805599453],\"z\":[0.24,0.37,0.19],\"type\":\"scatter3d\"},{\"marker\":{\"color\":\"#00ff97\",\"opacity\":0.8,\"size\":8},\"mode\":\"markers\",\"name\":\"olmo\",\"x\":[0.0,1.9459101490553132],\"y\":[1.0986122886681096,0.916290731874155],\"z\":[0.12,0.12],\"type\":\"scatter3d\"},{\"marker\":{\"color\":\"#00fff6\",\"opacity\":0.8,\"size\":8},\"mode\":\"markers\",\"name\":\"opt\",\"x\":[0.26236426446749106,3.4011973816621555],\"y\":[-1.7147984280919266,-1.7147984280919266],\"z\":[0.11,0.12],\"type\":\"scatter3d\"},{\"marker\":{\"color\":\"#00aaff\",\"opacity\":0.8,\"size\":8},\"mode\":\"markers\",\"name\":\"pythia\",\"x\":[2.4849066497880004,-1.83258146374831,1.0296194171811581,-0.8915981192837836,1.9315214116032138],\"y\":[-1.3862943611198906,-1.3862943611198906,-1.3862943611198906,-1.3862943611198906,-1.3862943611198906],\"z\":[0.11,0.11,0.11,0.11,0.11],\"type\":\"scatter3d\"},{\"marker\":{\"color\":\"#004bff\",\"opacity\":0.8,\"size\":8},\"mode\":\"markers\",\"name\":\"qwen1.5\",\"x\":[-0.6931471805599453,0.5877866649021191,2.6390573296152584,3.4657359027997265,1.3862943611198906,1.9459101490553132],\"y\":[0.8754687373538999,0.8754687373538999,1.3862943611198906,1.3862943611198906,0.8754687373538999,1.3862943611198906],\"z\":[0.13,0.19,0.36,0.45,0.25,0.29],\"type\":\"scatter3d\"},{\"marker\":{\"color\":\"#1300ff\",\"opacity\":0.8,\"size\":8},\"mode\":\"markers\",\"name\":\"qwen2\",\"x\":[-0.6931471805599453,0.4054651081081644,4.276666119016055,1.9459101490553132],\"y\":[2.4849066497880004,1.9459101490553132,1.9459101490553132,1.9459101490553132],\"z\":[0.17,0.26,0.57,0.42],\"type\":\"scatter3d\"},{\"marker\":{\"color\":\"#7200ff\",\"opacity\":0.8,\"size\":8},\"mode\":\"markers\",\"name\":\"smollm\",\"x\":[0.5306282510621704,-2.0024805005437076,-1.0216512475319814],\"y\":[0.0,-0.5108256237659907,-0.5108256237659907],\"z\":[0.11,0.11,0.11],\"type\":\"scatter3d\"},{\"marker\":{\"color\":\"#d000ff\",\"opacity\":0.8,\"size\":8},\"mode\":\"markers\",\"name\":\"starcoder2\",\"x\":[2.70805020110221,1.0986122886681096,1.9459101490553132],\"y\":[1.4586150226995167,1.1939224684724343,1.3083328196501787],\"z\":[0.24,0.16,0.16],\"type\":\"scatter3d\"},{\"marker\":{\"color\":\"#ff00cf\",\"opacity\":0.8,\"size\":8},\"mode\":\"markers\",\"name\":\"yi\",\"x\":[3.526360524616161,1.791759469228055,2.197224577336219],\"y\":[1.0986122886681096,1.0986122886681096,1.33500106673234],\"z\":[0.44,0.3,0.36],\"type\":\"scatter3d\"},{\"marker\":{\"color\":\"#ff0071\",\"opacity\":0.8,\"size\":8},\"mode\":\"markers\",\"name\":\"yi-1.5\",\"x\":[3.526360524616161,1.791759469228055,2.197224577336219],\"y\":[1.252762968495368,1.252762968495368,1.252762968495368],\"z\":[0.47,0.31,0.39],\"type\":\"scatter3d\"}],                        {\"margin\":{\"b\":0,\"l\":0,\"r\":0,\"t\":0},\"scene\":{\"xaxis\":{\"title\":{\"text\":\"logS\"}},\"yaxis\":{\"title\":{\"text\":\"logT\"}},\"zaxis\":{\"title\":{\"text\":\"y\"}}},\"template\":{\"data\":{\"histogram2dcontour\":[{\"type\":\"histogram2dcontour\",\"colorbar\":{\"outlinewidth\":0,\"ticks\":\"\"},\"colorscale\":[[0.0,\"#0d0887\"],[0.1111111111111111,\"#46039f\"],[0.2222222222222222,\"#7201a8\"],[0.3333333333333333,\"#9c179e\"],[0.4444444444444444,\"#bd3786\"],[0.5555555555555556,\"#d8576b\"],[0.6666666666666666,\"#ed7953\"],[0.7777777777777778,\"#fb9f3a\"],[0.8888888888888888,\"#fdca26\"],[1.0,\"#f0f921\"]]}],\"choropleth\":[{\"type\":\"choropleth\",\"colorbar\":{\"outlinewidth\":0,\"ticks\":\"\"}}],\"histogram2d\":[{\"type\":\"histogram2d\",\"colorbar\":{\"outlinewidth\":0,\"ticks\":\"\"},\"colorscale\":[[0.0,\"#0d0887\"],[0.1111111111111111,\"#46039f\"],[0.2222222222222222,\"#7201a8\"],[0.3333333333333333,\"#9c179e\"],[0.4444444444444444,\"#bd3786\"],[0.5555555555555556,\"#d8576b\"],[0.6666666666666666,\"#ed7953\"],[0.7777777777777778,\"#fb9f3a\"],[0.8888888888888888,\"#fdca26\"],[1.0,\"#f0f921\"]]}],\"heatmap\":[{\"type\":\"heatmap\",\"colorbar\":{\"outlinewidth\":0,\"ticks\":\"\"},\"colorscale\":[[0.0,\"#0d0887\"],[0.1111111111111111,\"#46039f\"],[0.2222222222222222,\"#7201a8\"],[0.3333333333333333,\"#9c179e\"],[0.4444444444444444,\"#bd3786\"],[0.5555555555555556,\"#d8576b\"],[0.6666666666666666,\"#ed7953\"],[0.7777777777777778,\"#fb9f3a\"],[0.8888888888888888,\"#fdca26\"],[1.0,\"#f0f921\"]]}],\"heatmapgl\":[{\"type\":\"heatmapgl\",\"colorbar\":{\"outlinewidth\":0,\"ticks\":\"\"},\"colorscale\":[[0.0,\"#0d0887\"],[0.1111111111111111,\"#46039f\"],[0.2222222222222222,\"#7201a8\"],[0.3333333333333333,\"#9c179e\"],[0.4444444444444444,\"#bd3786\"],[0.5555555555555556,\"#d8576b\"],[0.6666666666666666,\"#ed7953\"],[0.7777777777777778,\"#fb9f3a\"],[0.8888888888888888,\"#fdca26\"],[1.0,\"#f0f921\"]]}],\"contourcarpet\":[{\"type\":\"contourcarpet\",\"colorbar\":{\"outlinewidth\":0,\"ticks\":\"\"}}],\"contour\":[{\"type\":\"contour\",\"colorbar\":{\"outlinewidth\":0,\"ticks\":\"\"},\"colorscale\":[[0.0,\"#0d0887\"],[0.1111111111111111,\"#46039f\"],[0.2222222222222222,\"#7201a8\"],[0.3333333333333333,\"#9c179e\"],[0.4444444444444444,\"#bd3786\"],[0.5555555555555556,\"#d8576b\"],[0.6666666666666666,\"#ed7953\"],[0.7777777777777778,\"#fb9f3a\"],[0.8888888888888888,\"#fdca26\"],[1.0,\"#f0f921\"]]}],\"surface\":[{\"type\":\"surface\",\"colorbar\":{\"outlinewidth\":0,\"ticks\":\"\"},\"colorscale\":[[0.0,\"#0d0887\"],[0.1111111111111111,\"#46039f\"],[0.2222222222222222,\"#7201a8\"],[0.3333333333333333,\"#9c179e\"],[0.4444444444444444,\"#bd3786\"],[0.5555555555555556,\"#d8576b\"],[0.6666666666666666,\"#ed7953\"],[0.7777777777777778,\"#fb9f3a\"],[0.8888888888888888,\"#fdca26\"],[1.0,\"#f0f921\"]]}],\"mesh3d\":[{\"type\":\"mesh3d\",\"colorbar\":{\"outlinewidth\":0,\"ticks\":\"\"}}],\"scatter\":[{\"fillpattern\":{\"fillmode\":\"overlay\",\"size\":10,\"solidity\":0.2},\"type\":\"scatter\"}],\"parcoords\":[{\"type\":\"parcoords\",\"line\":{\"colorbar\":{\"outlinewidth\":0,\"ticks\":\"\"}}}],\"scatterpolargl\":[{\"type\":\"scatterpolargl\",\"marker\":{\"colorbar\":{\"outlinewidth\":0,\"ticks\":\"\"}}}],\"bar\":[{\"error_x\":{\"color\":\"#2a3f5f\"},\"error_y\":{\"color\":\"#2a3f5f\"},\"marker\":{\"line\":{\"color\":\"#E5ECF6\",\"width\":0.5},\"pattern\":{\"fillmode\":\"overlay\",\"size\":10,\"solidity\":0.2}},\"type\":\"bar\"}],\"scattergeo\":[{\"type\":\"scattergeo\",\"marker\":{\"colorbar\":{\"outlinewidth\":0,\"ticks\":\"\"}}}],\"scatterpolar\":[{\"type\":\"scatterpolar\",\"marker\":{\"colorbar\":{\"outlinewidth\":0,\"ticks\":\"\"}}}],\"histogram\":[{\"marker\":{\"pattern\":{\"fillmode\":\"overlay\",\"size\":10,\"solidity\":0.2}},\"type\":\"histogram\"}],\"scattergl\":[{\"type\":\"scattergl\",\"marker\":{\"colorbar\":{\"outlinewidth\":0,\"ticks\":\"\"}}}],\"scatter3d\":[{\"type\":\"scatter3d\",\"line\":{\"colorbar\":{\"outlinewidth\":0,\"ticks\":\"\"}},\"marker\":{\"colorbar\":{\"outlinewidth\":0,\"ticks\":\"\"}}}],\"scattermapbox\":[{\"type\":\"scattermapbox\",\"marker\":{\"colorbar\":{\"outlinewidth\":0,\"ticks\":\"\"}}}],\"scatterternary\":[{\"type\":\"scatterternary\",\"marker\":{\"colorbar\":{\"outlinewidth\":0,\"ticks\":\"\"}}}],\"scattercarpet\":[{\"type\":\"scattercarpet\",\"marker\":{\"colorbar\":{\"outlinewidth\":0,\"ticks\":\"\"}}}],\"carpet\":[{\"aaxis\":{\"endlinecolor\":\"#2a3f5f\",\"gridcolor\":\"white\",\"linecolor\":\"white\",\"minorgridcolor\":\"white\",\"startlinecolor\":\"#2a3f5f\"},\"baxis\":{\"endlinecolor\":\"#2a3f5f\",\"gridcolor\":\"white\",\"linecolor\":\"white\",\"minorgridcolor\":\"white\",\"startlinecolor\":\"#2a3f5f\"},\"type\":\"carpet\"}],\"table\":[{\"cells\":{\"fill\":{\"color\":\"#EBF0F8\"},\"line\":{\"color\":\"white\"}},\"header\":{\"fill\":{\"color\":\"#C8D4E3\"},\"line\":{\"color\":\"white\"}},\"type\":\"table\"}],\"barpolar\":[{\"marker\":{\"line\":{\"color\":\"#E5ECF6\",\"width\":0.5},\"pattern\":{\"fillmode\":\"overlay\",\"size\":10,\"solidity\":0.2}},\"type\":\"barpolar\"}],\"pie\":[{\"automargin\":true,\"type\":\"pie\"}]},\"layout\":{\"autotypenumbers\":\"strict\",\"colorway\":[\"#636efa\",\"#EF553B\",\"#00cc96\",\"#ab63fa\",\"#FFA15A\",\"#19d3f3\",\"#FF6692\",\"#B6E880\",\"#FF97FF\",\"#FECB52\"],\"font\":{\"color\":\"#2a3f5f\"},\"hovermode\":\"closest\",\"hoverlabel\":{\"align\":\"left\"},\"paper_bgcolor\":\"white\",\"plot_bgcolor\":\"#E5ECF6\",\"polar\":{\"bgcolor\":\"#E5ECF6\",\"angularaxis\":{\"gridcolor\":\"white\",\"linecolor\":\"white\",\"ticks\":\"\"},\"radialaxis\":{\"gridcolor\":\"white\",\"linecolor\":\"white\",\"ticks\":\"\"}},\"ternary\":{\"bgcolor\":\"#E5ECF6\",\"aaxis\":{\"gridcolor\":\"white\",\"linecolor\":\"white\",\"ticks\":\"\"},\"baxis\":{\"gridcolor\":\"white\",\"linecolor\":\"white\",\"ticks\":\"\"},\"caxis\":{\"gridcolor\":\"white\",\"linecolor\":\"white\",\"ticks\":\"\"}},\"coloraxis\":{\"colorbar\":{\"outlinewidth\":0,\"ticks\":\"\"}},\"colorscale\":{\"sequential\":[[0.0,\"#0d0887\"],[0.1111111111111111,\"#46039f\"],[0.2222222222222222,\"#7201a8\"],[0.3333333333333333,\"#9c179e\"],[0.4444444444444444,\"#bd3786\"],[0.5555555555555556,\"#d8576b\"],[0.6666666666666666,\"#ed7953\"],[0.7777777777777778,\"#fb9f3a\"],[0.8888888888888888,\"#fdca26\"],[1.0,\"#f0f921\"]],\"sequentialminus\":[[0.0,\"#0d0887\"],[0.1111111111111111,\"#46039f\"],[0.2222222222222222,\"#7201a8\"],[0.3333333333333333,\"#9c179e\"],[0.4444444444444444,\"#bd3786\"],[0.5555555555555556,\"#d8576b\"],[0.6666666666666666,\"#ed7953\"],[0.7777777777777778,\"#fb9f3a\"],[0.8888888888888888,\"#fdca26\"],[1.0,\"#f0f921\"]],\"diverging\":[[0,\"#8e0152\"],[0.1,\"#c51b7d\"],[0.2,\"#de77ae\"],[0.3,\"#f1b6da\"],[0.4,\"#fde0ef\"],[0.5,\"#f7f7f7\"],[0.6,\"#e6f5d0\"],[0.7,\"#b8e186\"],[0.8,\"#7fbc41\"],[0.9,\"#4d9221\"],[1,\"#276419\"]]},\"xaxis\":{\"gridcolor\":\"white\",\"linecolor\":\"white\",\"ticks\":\"\",\"title\":{\"standoff\":15},\"zerolinecolor\":\"white\",\"automargin\":true,\"zerolinewidth\":2},\"yaxis\":{\"gridcolor\":\"white\",\"linecolor\":\"white\",\"ticks\":\"\",\"title\":{\"standoff\":15},\"zerolinecolor\":\"white\",\"automargin\":true,\"zerolinewidth\":2},\"scene\":{\"xaxis\":{\"backgroundcolor\":\"#E5ECF6\",\"gridcolor\":\"white\",\"linecolor\":\"white\",\"showbackground\":true,\"ticks\":\"\",\"zerolinecolor\":\"white\",\"gridwidth\":2},\"yaxis\":{\"backgroundcolor\":\"#E5ECF6\",\"gridcolor\":\"white\",\"linecolor\":\"white\",\"showbackground\":true,\"ticks\":\"\",\"zerolinecolor\":\"white\",\"gridwidth\":2},\"zaxis\":{\"backgroundcolor\":\"#E5ECF6\",\"gridcolor\":\"white\",\"linecolor\":\"white\",\"showbackground\":true,\"ticks\":\"\",\"zerolinecolor\":\"white\",\"gridwidth\":2}},\"shapedefaults\":{\"line\":{\"color\":\"#2a3f5f\"}},\"annotationdefaults\":{\"arrowcolor\":\"#2a3f5f\",\"arrowhead\":0,\"arrowwidth\":1},\"geo\":{\"bgcolor\":\"white\",\"landcolor\":\"#E5ECF6\",\"subunitcolor\":\"white\",\"showland\":true,\"showlakes\":true,\"lakecolor\":\"white\"},\"title\":{\"x\":0.05},\"mapbox\":{\"style\":\"light\"}}}},                        {\"responsive\": true}                    ).then(function(){\n",
       "                            \n",
       "var gd = document.getElementById('83eb5f0e-49a5-41b5-92d5-1377cb2311df');\n",
       "var x = new MutationObserver(function (mutations, observer) {{\n",
       "        var display = window.getComputedStyle(gd).display;\n",
       "        if (!display || display === 'none') {{\n",
       "            console.log([gd, 'removed!']);\n",
       "            Plotly.purge(gd);\n",
       "            observer.disconnect();\n",
       "        }}\n",
       "}});\n",
       "\n",
       "// Listen for the removal of the full notebook cells\n",
       "var notebookContainer = gd.closest('#notebook-container');\n",
       "if (notebookContainer) {{\n",
       "    x.observe(notebookContainer, {childList: true});\n",
       "}}\n",
       "\n",
       "// Listen for the clearing of the current output cell\n",
       "var outputEl = gd.closest('.output');\n",
       "if (outputEl) {{\n",
       "    x.observe(outputEl, {childList: true});\n",
       "}}\n",
       "\n",
       "                        })                };                });            </script>        </div>"
      ]
     },
     "metadata": {},
     "output_type": "display_data"
    },
    {
     "name": "stdout",
     "output_type": "stream",
     "text": [
      "************ MMLU ************\n"
     ]
    },
    {
     "data": {
      "application/vnd.plotly.v1+json": {
       "config": {
        "plotlyServerURL": "https://plot.ly"
       },
       "data": [
        {
         "marker": {
          "color": "#ff5f00",
          "opacity": 0.8,
          "size": 8
         },
         "mode": "markers",
         "name": "bloom",
         "type": "scatter3d",
         "x": [
          5.170483995038151,
          0,
          1.0986122886681096,
          -0.579818495252942,
          1.9459101490553132
         ],
         "y": [
          -1.0051219455807707,
          -1.0758728016986203,
          -1.0758728016986203,
          -1.0758728016986203,
          -1.0758728016986203
         ],
         "z": [
          0.3085400905932378,
          0.2670214825620786,
          0.2659250919932785,
          0.2421541212062042,
          0.262462223757257
         ]
        },
        {
         "marker": {
          "color": "#ffbd00",
          "opacity": 0.8,
          "size": 8
         },
         "mode": "markers",
         "name": "codellama",
         "type": "scatter3d",
         "x": [
          2.5649493574615367,
          3.526360524616161,
          4.2484952420493585,
          1.9459101490553132
         ],
         "y": [
          0.9242589015233319,
          0.9242589015233319,
          1.1052568313867783,
          0.9242589015233319
         ],
         "z": [
          0.3280883582272197,
          0.5502083994428889,
          0.5966658993115309,
          0.3112206482914894
         ]
        },
        {
         "marker": {
          "color": "#e2ff00",
          "opacity": 0.8,
          "size": 8
         },
         "mode": "markers",
         "name": "falcon",
         "type": "scatter3d",
         "x": [
          5.19295685089021,
          3.6888794541139363,
          1.9459101490553132,
          0
         ],
         "y": [
          1.252762968495368,
          0,
          0.4054651081081644,
          -1.0498221244986778
         ],
         "z": [
          0.6958661043208202,
          0.5697970049781053,
          0.2778547015328594,
          0.2528031884754075
         ]
        },
        {
         "marker": {
          "color": "#84ff00",
          "opacity": 0.8,
          "size": 8
         },
         "mode": "markers",
         "name": "gpt-neo/j",
         "type": "scatter3d",
         "x": [
          1.791759469228055,
          0.26236426446749106,
          -2.0794415416798357,
          0.9932517730102834,
          2.995732273553991
         ],
         "y": [
          -0.9113031903631159,
          -0.9675840262617056,
          -1.203972804325936,
          -0.8675005677047231,
          -0.7507762933965817
         ],
         "z": [
          0.2678399935864076,
          0.2482165549913705,
          0.2597039137782334,
          0.2645397884474629,
          0.2500259529523574
         ]
        },
        {
         "marker": {
          "color": "#25ff00",
          "opacity": 0.8,
          "size": 8
         },
         "mode": "markers",
         "name": "llama",
         "type": "scatter3d",
         "x": [
          2.5649493574615367,
          3.4011973816621555,
          4.174387269895637,
          1.9459101490553132
         ],
         "y": [
          0,
          0.33647223662121284,
          0.33647223662121284,
          0
         ],
         "z": [
          0.4761058830217011,
          0.5844661283793138,
          0.6393064176395022,
          0.3569330638795117
         ]
        },
        {
         "marker": {
          "color": "#00ff39",
          "opacity": 0.8,
          "size": 8
         },
         "mode": "markers",
         "name": "opt",
         "type": "scatter3d",
         "x": [
          0.26236426446749106,
          -2.0794415416798357,
          2.5649493574615367,
          0.9932517730102834,
          3.4011973816621555,
          -1.0498221244986778,
          1.9021075263969203,
          4.189654742026425
         ],
         "y": [
          -1.7147984280919266,
          -1.7147984280919266,
          -1.7147984280919266,
          -1.7147984280919266,
          -1.7147984280919266,
          -1.7147984280919266,
          -1.7147984280919266,
          -1.7147984280919266
         ],
         "z": [
          0.2496304582561669,
          0.2601558755564414,
          0.2489566224323808,
          0.2543197294843227,
          0.2665873003529109,
          0.2602309674346793,
          0.2456740659904941,
          0.2699300206480994
         ]
        },
        {
         "marker": {
          "color": "#00ff97",
          "opacity": 0.8,
          "size": 8
         },
         "mode": "markers",
         "name": "pythia-deduped",
         "type": "scatter3d",
         "x": [
          0.33647223662121284,
          2.4849066497880004,
          -1.83258146374831,
          0,
          1.0296194171811581,
          -0.8915981192837836,
          1.9315214116032138,
          -2.659260036932778
         ],
         "y": [
          -1.203972804325936,
          -1.203972804325936,
          -1.203972804325936,
          -1.203972804325936,
          -1.203972804325936,
          -1.203972804325936,
          -1.203972804325936,
          -1.203972804325936
         ],
         "z": [
          0.2555549665134659,
          0.2563060289695223,
          0.248605749975484,
          0.2427106456015119,
          0.2678463743419206,
          0.2598881956235394,
          0.2648094407333687,
          0.2526050703920223
         ]
        },
        {
         "marker": {
          "color": "#00fff6",
          "opacity": 0.8,
          "size": 8
         },
         "mode": "markers",
         "name": "qwen1.5",
         "type": "scatter3d",
         "x": [
          -0.6931471805599453,
          0.5877866649021191,
          2.6390573296152584,
          3.4657359027997265,
          1.3862943611198906,
          4.276666119016055,
          1.9459101490553132
         ],
         "y": [
          0.8754687373538999,
          0.8754687373538999,
          1.3862943611198906,
          1.3862943611198906,
          0.8754687373538999,
          1.0986122886681096,
          1.3862943611198906
         ],
         "z": [
          0.3935334081217579,
          0.4670838530175782,
          0.6936026470831474,
          0.7429961283965313,
          0.5652351963993337,
          0.7720145830851977,
          0.6197002168140558
         ]
        },
        {
         "marker": {
          "color": "#00aaff",
          "opacity": 0.8,
          "size": 8
         },
         "mode": "markers",
         "name": "qwen2",
         "type": "scatter3d",
         "x": [
          -0.6931471805599453,
          0.4054651081081644,
          4.276666119016055,
          1.9459101490553132
         ],
         "y": [
          2.4849066497880004,
          1.9459101490553132,
          1.9459101490553132,
          1.9459101490553132
         ],
         "z": [
          0.4517,
          0.5726,
          0.8379000000000001,
          0.7045
         ]
        },
        {
         "marker": {
          "color": "#004bff",
          "opacity": 0.8,
          "size": 8
         },
         "mode": "markers",
         "name": "rwkv",
         "type": "scatter3d",
         "x": [
          2.6390573296152584,
          -1.7778565640590633,
          0,
          1.0986122886681096,
          -0.843970070294529,
          1.9459101490553132,
          2.6390573296152584
         ],
         "y": [
          -1.1086626245216111,
          -1.1086626245216111,
          -1.1086626245216111,
          -1.1086626245216111,
          -1.1086626245216111,
          -1.1086626245216111,
          -1.1086626245216111
         ],
         "z": [
          0.261243635346663,
          0.2317624001359681,
          0.2577446960818849,
          0.2467087224756061,
          0.2485496977528651,
          0.2495936335118899,
          0.2591933098533766
         ]
        },
        {
         "marker": {
          "color": "#1300ff",
          "opacity": 0.8,
          "size": 8
         },
         "mode": "markers",
         "name": "stablelm",
         "type": "scatter3d",
         "x": [
          1.791759469228055,
          1.0986122886681096,
          1.9459101490553132,
          1.9459101490553132
         ],
         "y": [
          0.6931471805599453,
          0.4054651081081644,
          0.4054651081081644,
          0.09531017980432495
         ],
         "z": [
          0.3894657259915194,
          0.2543052660318274,
          0.2620516094803125,
          0.4509893993249705
         ]
        },
        {
         "marker": {
          "color": "#7200ff",
          "opacity": 0.8,
          "size": 8
         },
         "mode": "markers",
         "name": "starcoder",
         "type": "scatter3d",
         "x": [
          2.740840023925201,
          0,
          1.0986122886681096,
          1.9459101490553132
         ],
         "y": [
          0,
          0,
          0,
          0
         ],
         "z": [
          0.3211709749222222,
          0.266738815642615,
          0.2735280049306773,
          0.2844643845271117
         ]
        },
        {
         "marker": {
          "color": "#d000ff",
          "opacity": 0.8,
          "size": 8
         },
         "mode": "markers",
         "name": "xglm",
         "type": "scatter3d",
         "x": [
          0.5306282510621704,
          1.504077396776274,
          -0.5727010274840783,
          2.0149030205422647
         ],
         "y": [
          -0.6931471805599453,
          -0.6931471805599453,
          -0.6931471805599453,
          -0.6931471805599453
         ],
         "z": [
          0.2510041645690995,
          0.254299777191496,
          0.2517966357007282,
          0.2778866807166943
         ]
        },
        {
         "marker": {
          "color": "#ff00cf",
          "opacity": 0.8,
          "size": 8
         },
         "mode": "markers",
         "name": "yi",
         "type": "scatter3d",
         "x": [
          3.526360524616161,
          1.791759469228055,
          2.197224577336219
         ],
         "y": [
          1.0986122886681096,
          1.0986122886681096,
          1.33500106673234
         ],
         "z": [
          0.7635156727391681,
          0.6410709139827397,
          0.7006
         ]
        },
        {
         "marker": {
          "color": "#ff0071",
          "opacity": 0.8,
          "size": 8
         },
         "mode": "markers",
         "name": "yi-1.5",
         "type": "scatter3d",
         "x": [
          3.526360524616161,
          1.791759469228055,
          2.197224577336219
         ],
         "y": [
          1.252762968495368,
          1.252762968495368,
          1.252762968495368
         ],
         "z": [
          0.78,
          0.6473,
          0.7073
         ]
        }
       ],
       "layout": {
        "autosize": true,
        "margin": {
         "b": 0,
         "l": 0,
         "r": 0,
         "t": 0
        },
        "scene": {
         "aspectmode": "auto",
         "aspectratio": {
          "x": 1,
          "y": 1,
          "z": 1
         },
         "xaxis": {
          "title": {
           "text": "logS"
          },
          "type": "linear"
         },
         "yaxis": {
          "title": {
           "text": "logT"
          },
          "type": "linear"
         },
         "zaxis": {
          "title": {
           "text": "y"
          },
          "type": "linear"
         }
        },
        "template": {
         "data": {
          "bar": [
           {
            "error_x": {
             "color": "#2a3f5f"
            },
            "error_y": {
             "color": "#2a3f5f"
            },
            "marker": {
             "line": {
              "color": "#E5ECF6",
              "width": 0.5
             },
             "pattern": {
              "fillmode": "overlay",
              "size": 10,
              "solidity": 0.2
             }
            },
            "type": "bar"
           }
          ],
          "barpolar": [
           {
            "marker": {
             "line": {
              "color": "#E5ECF6",
              "width": 0.5
             },
             "pattern": {
              "fillmode": "overlay",
              "size": 10,
              "solidity": 0.2
             }
            },
            "type": "barpolar"
           }
          ],
          "carpet": [
           {
            "aaxis": {
             "endlinecolor": "#2a3f5f",
             "gridcolor": "white",
             "linecolor": "white",
             "minorgridcolor": "white",
             "startlinecolor": "#2a3f5f"
            },
            "baxis": {
             "endlinecolor": "#2a3f5f",
             "gridcolor": "white",
             "linecolor": "white",
             "minorgridcolor": "white",
             "startlinecolor": "#2a3f5f"
            },
            "type": "carpet"
           }
          ],
          "choropleth": [
           {
            "colorbar": {
             "outlinewidth": 0,
             "ticks": ""
            },
            "type": "choropleth"
           }
          ],
          "contour": [
           {
            "colorbar": {
             "outlinewidth": 0,
             "ticks": ""
            },
            "colorscale": [
             [
              0,
              "#0d0887"
             ],
             [
              0.1111111111111111,
              "#46039f"
             ],
             [
              0.2222222222222222,
              "#7201a8"
             ],
             [
              0.3333333333333333,
              "#9c179e"
             ],
             [
              0.4444444444444444,
              "#bd3786"
             ],
             [
              0.5555555555555556,
              "#d8576b"
             ],
             [
              0.6666666666666666,
              "#ed7953"
             ],
             [
              0.7777777777777778,
              "#fb9f3a"
             ],
             [
              0.8888888888888888,
              "#fdca26"
             ],
             [
              1,
              "#f0f921"
             ]
            ],
            "type": "contour"
           }
          ],
          "contourcarpet": [
           {
            "colorbar": {
             "outlinewidth": 0,
             "ticks": ""
            },
            "type": "contourcarpet"
           }
          ],
          "heatmap": [
           {
            "colorbar": {
             "outlinewidth": 0,
             "ticks": ""
            },
            "colorscale": [
             [
              0,
              "#0d0887"
             ],
             [
              0.1111111111111111,
              "#46039f"
             ],
             [
              0.2222222222222222,
              "#7201a8"
             ],
             [
              0.3333333333333333,
              "#9c179e"
             ],
             [
              0.4444444444444444,
              "#bd3786"
             ],
             [
              0.5555555555555556,
              "#d8576b"
             ],
             [
              0.6666666666666666,
              "#ed7953"
             ],
             [
              0.7777777777777778,
              "#fb9f3a"
             ],
             [
              0.8888888888888888,
              "#fdca26"
             ],
             [
              1,
              "#f0f921"
             ]
            ],
            "type": "heatmap"
           }
          ],
          "heatmapgl": [
           {
            "colorbar": {
             "outlinewidth": 0,
             "ticks": ""
            },
            "colorscale": [
             [
              0,
              "#0d0887"
             ],
             [
              0.1111111111111111,
              "#46039f"
             ],
             [
              0.2222222222222222,
              "#7201a8"
             ],
             [
              0.3333333333333333,
              "#9c179e"
             ],
             [
              0.4444444444444444,
              "#bd3786"
             ],
             [
              0.5555555555555556,
              "#d8576b"
             ],
             [
              0.6666666666666666,
              "#ed7953"
             ],
             [
              0.7777777777777778,
              "#fb9f3a"
             ],
             [
              0.8888888888888888,
              "#fdca26"
             ],
             [
              1,
              "#f0f921"
             ]
            ],
            "type": "heatmapgl"
           }
          ],
          "histogram": [
           {
            "marker": {
             "pattern": {
              "fillmode": "overlay",
              "size": 10,
              "solidity": 0.2
             }
            },
            "type": "histogram"
           }
          ],
          "histogram2d": [
           {
            "colorbar": {
             "outlinewidth": 0,
             "ticks": ""
            },
            "colorscale": [
             [
              0,
              "#0d0887"
             ],
             [
              0.1111111111111111,
              "#46039f"
             ],
             [
              0.2222222222222222,
              "#7201a8"
             ],
             [
              0.3333333333333333,
              "#9c179e"
             ],
             [
              0.4444444444444444,
              "#bd3786"
             ],
             [
              0.5555555555555556,
              "#d8576b"
             ],
             [
              0.6666666666666666,
              "#ed7953"
             ],
             [
              0.7777777777777778,
              "#fb9f3a"
             ],
             [
              0.8888888888888888,
              "#fdca26"
             ],
             [
              1,
              "#f0f921"
             ]
            ],
            "type": "histogram2d"
           }
          ],
          "histogram2dcontour": [
           {
            "colorbar": {
             "outlinewidth": 0,
             "ticks": ""
            },
            "colorscale": [
             [
              0,
              "#0d0887"
             ],
             [
              0.1111111111111111,
              "#46039f"
             ],
             [
              0.2222222222222222,
              "#7201a8"
             ],
             [
              0.3333333333333333,
              "#9c179e"
             ],
             [
              0.4444444444444444,
              "#bd3786"
             ],
             [
              0.5555555555555556,
              "#d8576b"
             ],
             [
              0.6666666666666666,
              "#ed7953"
             ],
             [
              0.7777777777777778,
              "#fb9f3a"
             ],
             [
              0.8888888888888888,
              "#fdca26"
             ],
             [
              1,
              "#f0f921"
             ]
            ],
            "type": "histogram2dcontour"
           }
          ],
          "mesh3d": [
           {
            "colorbar": {
             "outlinewidth": 0,
             "ticks": ""
            },
            "type": "mesh3d"
           }
          ],
          "parcoords": [
           {
            "line": {
             "colorbar": {
              "outlinewidth": 0,
              "ticks": ""
             }
            },
            "type": "parcoords"
           }
          ],
          "pie": [
           {
            "automargin": true,
            "type": "pie"
           }
          ],
          "scatter": [
           {
            "fillpattern": {
             "fillmode": "overlay",
             "size": 10,
             "solidity": 0.2
            },
            "type": "scatter"
           }
          ],
          "scatter3d": [
           {
            "line": {
             "colorbar": {
              "outlinewidth": 0,
              "ticks": ""
             }
            },
            "marker": {
             "colorbar": {
              "outlinewidth": 0,
              "ticks": ""
             }
            },
            "type": "scatter3d"
           }
          ],
          "scattercarpet": [
           {
            "marker": {
             "colorbar": {
              "outlinewidth": 0,
              "ticks": ""
             }
            },
            "type": "scattercarpet"
           }
          ],
          "scattergeo": [
           {
            "marker": {
             "colorbar": {
              "outlinewidth": 0,
              "ticks": ""
             }
            },
            "type": "scattergeo"
           }
          ],
          "scattergl": [
           {
            "marker": {
             "colorbar": {
              "outlinewidth": 0,
              "ticks": ""
             }
            },
            "type": "scattergl"
           }
          ],
          "scattermapbox": [
           {
            "marker": {
             "colorbar": {
              "outlinewidth": 0,
              "ticks": ""
             }
            },
            "type": "scattermapbox"
           }
          ],
          "scatterpolar": [
           {
            "marker": {
             "colorbar": {
              "outlinewidth": 0,
              "ticks": ""
             }
            },
            "type": "scatterpolar"
           }
          ],
          "scatterpolargl": [
           {
            "marker": {
             "colorbar": {
              "outlinewidth": 0,
              "ticks": ""
             }
            },
            "type": "scatterpolargl"
           }
          ],
          "scatterternary": [
           {
            "marker": {
             "colorbar": {
              "outlinewidth": 0,
              "ticks": ""
             }
            },
            "type": "scatterternary"
           }
          ],
          "surface": [
           {
            "colorbar": {
             "outlinewidth": 0,
             "ticks": ""
            },
            "colorscale": [
             [
              0,
              "#0d0887"
             ],
             [
              0.1111111111111111,
              "#46039f"
             ],
             [
              0.2222222222222222,
              "#7201a8"
             ],
             [
              0.3333333333333333,
              "#9c179e"
             ],
             [
              0.4444444444444444,
              "#bd3786"
             ],
             [
              0.5555555555555556,
              "#d8576b"
             ],
             [
              0.6666666666666666,
              "#ed7953"
             ],
             [
              0.7777777777777778,
              "#fb9f3a"
             ],
             [
              0.8888888888888888,
              "#fdca26"
             ],
             [
              1,
              "#f0f921"
             ]
            ],
            "type": "surface"
           }
          ],
          "table": [
           {
            "cells": {
             "fill": {
              "color": "#EBF0F8"
             },
             "line": {
              "color": "white"
             }
            },
            "header": {
             "fill": {
              "color": "#C8D4E3"
             },
             "line": {
              "color": "white"
             }
            },
            "type": "table"
           }
          ]
         },
         "layout": {
          "annotationdefaults": {
           "arrowcolor": "#2a3f5f",
           "arrowhead": 0,
           "arrowwidth": 1
          },
          "autotypenumbers": "strict",
          "coloraxis": {
           "colorbar": {
            "outlinewidth": 0,
            "ticks": ""
           }
          },
          "colorscale": {
           "diverging": [
            [
             0,
             "#8e0152"
            ],
            [
             0.1,
             "#c51b7d"
            ],
            [
             0.2,
             "#de77ae"
            ],
            [
             0.3,
             "#f1b6da"
            ],
            [
             0.4,
             "#fde0ef"
            ],
            [
             0.5,
             "#f7f7f7"
            ],
            [
             0.6,
             "#e6f5d0"
            ],
            [
             0.7,
             "#b8e186"
            ],
            [
             0.8,
             "#7fbc41"
            ],
            [
             0.9,
             "#4d9221"
            ],
            [
             1,
             "#276419"
            ]
           ],
           "sequential": [
            [
             0,
             "#0d0887"
            ],
            [
             0.1111111111111111,
             "#46039f"
            ],
            [
             0.2222222222222222,
             "#7201a8"
            ],
            [
             0.3333333333333333,
             "#9c179e"
            ],
            [
             0.4444444444444444,
             "#bd3786"
            ],
            [
             0.5555555555555556,
             "#d8576b"
            ],
            [
             0.6666666666666666,
             "#ed7953"
            ],
            [
             0.7777777777777778,
             "#fb9f3a"
            ],
            [
             0.8888888888888888,
             "#fdca26"
            ],
            [
             1,
             "#f0f921"
            ]
           ],
           "sequentialminus": [
            [
             0,
             "#0d0887"
            ],
            [
             0.1111111111111111,
             "#46039f"
            ],
            [
             0.2222222222222222,
             "#7201a8"
            ],
            [
             0.3333333333333333,
             "#9c179e"
            ],
            [
             0.4444444444444444,
             "#bd3786"
            ],
            [
             0.5555555555555556,
             "#d8576b"
            ],
            [
             0.6666666666666666,
             "#ed7953"
            ],
            [
             0.7777777777777778,
             "#fb9f3a"
            ],
            [
             0.8888888888888888,
             "#fdca26"
            ],
            [
             1,
             "#f0f921"
            ]
           ]
          },
          "colorway": [
           "#636efa",
           "#EF553B",
           "#00cc96",
           "#ab63fa",
           "#FFA15A",
           "#19d3f3",
           "#FF6692",
           "#B6E880",
           "#FF97FF",
           "#FECB52"
          ],
          "font": {
           "color": "#2a3f5f"
          },
          "geo": {
           "bgcolor": "white",
           "lakecolor": "white",
           "landcolor": "#E5ECF6",
           "showlakes": true,
           "showland": true,
           "subunitcolor": "white"
          },
          "hoverlabel": {
           "align": "left"
          },
          "hovermode": "closest",
          "mapbox": {
           "style": "light"
          },
          "paper_bgcolor": "white",
          "plot_bgcolor": "#E5ECF6",
          "polar": {
           "angularaxis": {
            "gridcolor": "white",
            "linecolor": "white",
            "ticks": ""
           },
           "bgcolor": "#E5ECF6",
           "radialaxis": {
            "gridcolor": "white",
            "linecolor": "white",
            "ticks": ""
           }
          },
          "scene": {
           "xaxis": {
            "backgroundcolor": "#E5ECF6",
            "gridcolor": "white",
            "gridwidth": 2,
            "linecolor": "white",
            "showbackground": true,
            "ticks": "",
            "zerolinecolor": "white"
           },
           "yaxis": {
            "backgroundcolor": "#E5ECF6",
            "gridcolor": "white",
            "gridwidth": 2,
            "linecolor": "white",
            "showbackground": true,
            "ticks": "",
            "zerolinecolor": "white"
           },
           "zaxis": {
            "backgroundcolor": "#E5ECF6",
            "gridcolor": "white",
            "gridwidth": 2,
            "linecolor": "white",
            "showbackground": true,
            "ticks": "",
            "zerolinecolor": "white"
           }
          },
          "shapedefaults": {
           "line": {
            "color": "#2a3f5f"
           }
          },
          "ternary": {
           "aaxis": {
            "gridcolor": "white",
            "linecolor": "white",
            "ticks": ""
           },
           "baxis": {
            "gridcolor": "white",
            "linecolor": "white",
            "ticks": ""
           },
           "bgcolor": "#E5ECF6",
           "caxis": {
            "gridcolor": "white",
            "linecolor": "white",
            "ticks": ""
           }
          },
          "title": {
           "x": 0.05
          },
          "xaxis": {
           "automargin": true,
           "gridcolor": "white",
           "linecolor": "white",
           "ticks": "",
           "title": {
            "standoff": 15
           },
           "zerolinecolor": "white",
           "zerolinewidth": 2
          },
          "yaxis": {
           "automargin": true,
           "gridcolor": "white",
           "linecolor": "white",
           "ticks": "",
           "title": {
            "standoff": 15
           },
           "zerolinecolor": "white",
           "zerolinewidth": 2
          }
         }
        }
       }
      },
      "text/html": [
       "<div>                            <div id=\"53b81407-10c3-4bc9-b5e2-122f636bb791\" class=\"plotly-graph-div\" style=\"height:525px; width:100%;\"></div>            <script type=\"text/javascript\">                require([\"plotly\"], function(Plotly) {                    window.PLOTLYENV=window.PLOTLYENV || {};                                    if (document.getElementById(\"53b81407-10c3-4bc9-b5e2-122f636bb791\")) {                    Plotly.newPlot(                        \"53b81407-10c3-4bc9-b5e2-122f636bb791\",                        [{\"marker\":{\"color\":\"#ff5f00\",\"opacity\":0.8,\"size\":8},\"mode\":\"markers\",\"name\":\"bloom\",\"x\":[5.170483995038151,0.0,1.0986122886681096,-0.579818495252942,1.9459101490553132],\"y\":[-1.0051219455807707,-1.0758728016986203,-1.0758728016986203,-1.0758728016986203,-1.0758728016986203],\"z\":[0.3085400905932378,0.2670214825620786,0.2659250919932785,0.2421541212062042,0.262462223757257],\"type\":\"scatter3d\"},{\"marker\":{\"color\":\"#ffbd00\",\"opacity\":0.8,\"size\":8},\"mode\":\"markers\",\"name\":\"codellama\",\"x\":[2.5649493574615367,3.526360524616161,4.2484952420493585,1.9459101490553132],\"y\":[0.9242589015233319,0.9242589015233319,1.1052568313867783,0.9242589015233319],\"z\":[0.3280883582272197,0.5502083994428889,0.5966658993115309,0.3112206482914894],\"type\":\"scatter3d\"},{\"marker\":{\"color\":\"#e2ff00\",\"opacity\":0.8,\"size\":8},\"mode\":\"markers\",\"name\":\"falcon\",\"x\":[5.19295685089021,3.6888794541139363,1.9459101490553132,0.0],\"y\":[1.252762968495368,0.0,0.4054651081081644,-1.0498221244986778],\"z\":[0.6958661043208202,0.5697970049781053,0.2778547015328594,0.2528031884754075],\"type\":\"scatter3d\"},{\"marker\":{\"color\":\"#84ff00\",\"opacity\":0.8,\"size\":8},\"mode\":\"markers\",\"name\":\"gpt-neo\\u002fj\",\"x\":[1.791759469228055,0.26236426446749106,-2.0794415416798357,0.9932517730102834,2.995732273553991],\"y\":[-0.9113031903631159,-0.9675840262617056,-1.203972804325936,-0.8675005677047231,-0.7507762933965817],\"z\":[0.2678399935864076,0.2482165549913705,0.2597039137782334,0.2645397884474629,0.2500259529523574],\"type\":\"scatter3d\"},{\"marker\":{\"color\":\"#25ff00\",\"opacity\":0.8,\"size\":8},\"mode\":\"markers\",\"name\":\"llama\",\"x\":[2.5649493574615367,3.4011973816621555,4.174387269895637,1.9459101490553132],\"y\":[0.0,0.33647223662121284,0.33647223662121284,0.0],\"z\":[0.4761058830217011,0.5844661283793138,0.6393064176395022,0.3569330638795117],\"type\":\"scatter3d\"},{\"marker\":{\"color\":\"#00ff39\",\"opacity\":0.8,\"size\":8},\"mode\":\"markers\",\"name\":\"opt\",\"x\":[0.26236426446749106,-2.0794415416798357,2.5649493574615367,0.9932517730102834,3.4011973816621555,-1.0498221244986778,1.9021075263969203,4.189654742026425],\"y\":[-1.7147984280919266,-1.7147984280919266,-1.7147984280919266,-1.7147984280919266,-1.7147984280919266,-1.7147984280919266,-1.7147984280919266,-1.7147984280919266],\"z\":[0.2496304582561669,0.2601558755564414,0.2489566224323808,0.2543197294843227,0.2665873003529109,0.2602309674346793,0.2456740659904941,0.2699300206480994],\"type\":\"scatter3d\"},{\"marker\":{\"color\":\"#00ff97\",\"opacity\":0.8,\"size\":8},\"mode\":\"markers\",\"name\":\"pythia-deduped\",\"x\":[0.33647223662121284,2.4849066497880004,-1.83258146374831,0.0,1.0296194171811581,-0.8915981192837836,1.9315214116032138,-2.659260036932778],\"y\":[-1.203972804325936,-1.203972804325936,-1.203972804325936,-1.203972804325936,-1.203972804325936,-1.203972804325936,-1.203972804325936,-1.203972804325936],\"z\":[0.2555549665134659,0.2563060289695223,0.248605749975484,0.2427106456015119,0.2678463743419206,0.2598881956235394,0.2648094407333687,0.2526050703920223],\"type\":\"scatter3d\"},{\"marker\":{\"color\":\"#00fff6\",\"opacity\":0.8,\"size\":8},\"mode\":\"markers\",\"name\":\"qwen1.5\",\"x\":[-0.6931471805599453,0.5877866649021191,2.6390573296152584,3.4657359027997265,1.3862943611198906,4.276666119016055,1.9459101490553132],\"y\":[0.8754687373538999,0.8754687373538999,1.3862943611198906,1.3862943611198906,0.8754687373538999,1.0986122886681096,1.3862943611198906],\"z\":[0.3935334081217579,0.4670838530175782,0.6936026470831474,0.7429961283965313,0.5652351963993337,0.7720145830851977,0.6197002168140558],\"type\":\"scatter3d\"},{\"marker\":{\"color\":\"#00aaff\",\"opacity\":0.8,\"size\":8},\"mode\":\"markers\",\"name\":\"qwen2\",\"x\":[-0.6931471805599453,0.4054651081081644,4.276666119016055,1.9459101490553132],\"y\":[2.4849066497880004,1.9459101490553132,1.9459101490553132,1.9459101490553132],\"z\":[0.4517,0.5726,0.8379000000000001,0.7045],\"type\":\"scatter3d\"},{\"marker\":{\"color\":\"#004bff\",\"opacity\":0.8,\"size\":8},\"mode\":\"markers\",\"name\":\"rwkv\",\"x\":[2.6390573296152584,-1.7778565640590633,0.0,1.0986122886681096,-0.843970070294529,1.9459101490553132,2.6390573296152584],\"y\":[-1.1086626245216111,-1.1086626245216111,-1.1086626245216111,-1.1086626245216111,-1.1086626245216111,-1.1086626245216111,-1.1086626245216111],\"z\":[0.261243635346663,0.2317624001359681,0.2577446960818849,0.2467087224756061,0.2485496977528651,0.2495936335118899,0.2591933098533766],\"type\":\"scatter3d\"},{\"marker\":{\"color\":\"#1300ff\",\"opacity\":0.8,\"size\":8},\"mode\":\"markers\",\"name\":\"stablelm\",\"x\":[1.791759469228055,1.0986122886681096,1.9459101490553132,1.9459101490553132],\"y\":[0.6931471805599453,0.4054651081081644,0.4054651081081644,0.09531017980432495],\"z\":[0.3894657259915194,0.2543052660318274,0.2620516094803125,0.4509893993249705],\"type\":\"scatter3d\"},{\"marker\":{\"color\":\"#7200ff\",\"opacity\":0.8,\"size\":8},\"mode\":\"markers\",\"name\":\"starcoder\",\"x\":[2.740840023925201,0.0,1.0986122886681096,1.9459101490553132],\"y\":[0.0,0.0,0.0,0.0],\"z\":[0.3211709749222222,0.266738815642615,0.2735280049306773,0.2844643845271117],\"type\":\"scatter3d\"},{\"marker\":{\"color\":\"#d000ff\",\"opacity\":0.8,\"size\":8},\"mode\":\"markers\",\"name\":\"xglm\",\"x\":[0.5306282510621704,1.504077396776274,-0.5727010274840783,2.0149030205422647],\"y\":[-0.6931471805599453,-0.6931471805599453,-0.6931471805599453,-0.6931471805599453],\"z\":[0.2510041645690995,0.254299777191496,0.2517966357007282,0.2778866807166943],\"type\":\"scatter3d\"},{\"marker\":{\"color\":\"#ff00cf\",\"opacity\":0.8,\"size\":8},\"mode\":\"markers\",\"name\":\"yi\",\"x\":[3.526360524616161,1.791759469228055,2.197224577336219],\"y\":[1.0986122886681096,1.0986122886681096,1.33500106673234],\"z\":[0.7635156727391681,0.6410709139827397,0.7006],\"type\":\"scatter3d\"},{\"marker\":{\"color\":\"#ff0071\",\"opacity\":0.8,\"size\":8},\"mode\":\"markers\",\"name\":\"yi-1.5\",\"x\":[3.526360524616161,1.791759469228055,2.197224577336219],\"y\":[1.252762968495368,1.252762968495368,1.252762968495368],\"z\":[0.78,0.6473,0.7073],\"type\":\"scatter3d\"}],                        {\"margin\":{\"b\":0,\"l\":0,\"r\":0,\"t\":0},\"scene\":{\"xaxis\":{\"title\":{\"text\":\"logS\"}},\"yaxis\":{\"title\":{\"text\":\"logT\"}},\"zaxis\":{\"title\":{\"text\":\"y\"}}},\"template\":{\"data\":{\"histogram2dcontour\":[{\"type\":\"histogram2dcontour\",\"colorbar\":{\"outlinewidth\":0,\"ticks\":\"\"},\"colorscale\":[[0.0,\"#0d0887\"],[0.1111111111111111,\"#46039f\"],[0.2222222222222222,\"#7201a8\"],[0.3333333333333333,\"#9c179e\"],[0.4444444444444444,\"#bd3786\"],[0.5555555555555556,\"#d8576b\"],[0.6666666666666666,\"#ed7953\"],[0.7777777777777778,\"#fb9f3a\"],[0.8888888888888888,\"#fdca26\"],[1.0,\"#f0f921\"]]}],\"choropleth\":[{\"type\":\"choropleth\",\"colorbar\":{\"outlinewidth\":0,\"ticks\":\"\"}}],\"histogram2d\":[{\"type\":\"histogram2d\",\"colorbar\":{\"outlinewidth\":0,\"ticks\":\"\"},\"colorscale\":[[0.0,\"#0d0887\"],[0.1111111111111111,\"#46039f\"],[0.2222222222222222,\"#7201a8\"],[0.3333333333333333,\"#9c179e\"],[0.4444444444444444,\"#bd3786\"],[0.5555555555555556,\"#d8576b\"],[0.6666666666666666,\"#ed7953\"],[0.7777777777777778,\"#fb9f3a\"],[0.8888888888888888,\"#fdca26\"],[1.0,\"#f0f921\"]]}],\"heatmap\":[{\"type\":\"heatmap\",\"colorbar\":{\"outlinewidth\":0,\"ticks\":\"\"},\"colorscale\":[[0.0,\"#0d0887\"],[0.1111111111111111,\"#46039f\"],[0.2222222222222222,\"#7201a8\"],[0.3333333333333333,\"#9c179e\"],[0.4444444444444444,\"#bd3786\"],[0.5555555555555556,\"#d8576b\"],[0.6666666666666666,\"#ed7953\"],[0.7777777777777778,\"#fb9f3a\"],[0.8888888888888888,\"#fdca26\"],[1.0,\"#f0f921\"]]}],\"heatmapgl\":[{\"type\":\"heatmapgl\",\"colorbar\":{\"outlinewidth\":0,\"ticks\":\"\"},\"colorscale\":[[0.0,\"#0d0887\"],[0.1111111111111111,\"#46039f\"],[0.2222222222222222,\"#7201a8\"],[0.3333333333333333,\"#9c179e\"],[0.4444444444444444,\"#bd3786\"],[0.5555555555555556,\"#d8576b\"],[0.6666666666666666,\"#ed7953\"],[0.7777777777777778,\"#fb9f3a\"],[0.8888888888888888,\"#fdca26\"],[1.0,\"#f0f921\"]]}],\"contourcarpet\":[{\"type\":\"contourcarpet\",\"colorbar\":{\"outlinewidth\":0,\"ticks\":\"\"}}],\"contour\":[{\"type\":\"contour\",\"colorbar\":{\"outlinewidth\":0,\"ticks\":\"\"},\"colorscale\":[[0.0,\"#0d0887\"],[0.1111111111111111,\"#46039f\"],[0.2222222222222222,\"#7201a8\"],[0.3333333333333333,\"#9c179e\"],[0.4444444444444444,\"#bd3786\"],[0.5555555555555556,\"#d8576b\"],[0.6666666666666666,\"#ed7953\"],[0.7777777777777778,\"#fb9f3a\"],[0.8888888888888888,\"#fdca26\"],[1.0,\"#f0f921\"]]}],\"surface\":[{\"type\":\"surface\",\"colorbar\":{\"outlinewidth\":0,\"ticks\":\"\"},\"colorscale\":[[0.0,\"#0d0887\"],[0.1111111111111111,\"#46039f\"],[0.2222222222222222,\"#7201a8\"],[0.3333333333333333,\"#9c179e\"],[0.4444444444444444,\"#bd3786\"],[0.5555555555555556,\"#d8576b\"],[0.6666666666666666,\"#ed7953\"],[0.7777777777777778,\"#fb9f3a\"],[0.8888888888888888,\"#fdca26\"],[1.0,\"#f0f921\"]]}],\"mesh3d\":[{\"type\":\"mesh3d\",\"colorbar\":{\"outlinewidth\":0,\"ticks\":\"\"}}],\"scatter\":[{\"fillpattern\":{\"fillmode\":\"overlay\",\"size\":10,\"solidity\":0.2},\"type\":\"scatter\"}],\"parcoords\":[{\"type\":\"parcoords\",\"line\":{\"colorbar\":{\"outlinewidth\":0,\"ticks\":\"\"}}}],\"scatterpolargl\":[{\"type\":\"scatterpolargl\",\"marker\":{\"colorbar\":{\"outlinewidth\":0,\"ticks\":\"\"}}}],\"bar\":[{\"error_x\":{\"color\":\"#2a3f5f\"},\"error_y\":{\"color\":\"#2a3f5f\"},\"marker\":{\"line\":{\"color\":\"#E5ECF6\",\"width\":0.5},\"pattern\":{\"fillmode\":\"overlay\",\"size\":10,\"solidity\":0.2}},\"type\":\"bar\"}],\"scattergeo\":[{\"type\":\"scattergeo\",\"marker\":{\"colorbar\":{\"outlinewidth\":0,\"ticks\":\"\"}}}],\"scatterpolar\":[{\"type\":\"scatterpolar\",\"marker\":{\"colorbar\":{\"outlinewidth\":0,\"ticks\":\"\"}}}],\"histogram\":[{\"marker\":{\"pattern\":{\"fillmode\":\"overlay\",\"size\":10,\"solidity\":0.2}},\"type\":\"histogram\"}],\"scattergl\":[{\"type\":\"scattergl\",\"marker\":{\"colorbar\":{\"outlinewidth\":0,\"ticks\":\"\"}}}],\"scatter3d\":[{\"type\":\"scatter3d\",\"line\":{\"colorbar\":{\"outlinewidth\":0,\"ticks\":\"\"}},\"marker\":{\"colorbar\":{\"outlinewidth\":0,\"ticks\":\"\"}}}],\"scattermapbox\":[{\"type\":\"scattermapbox\",\"marker\":{\"colorbar\":{\"outlinewidth\":0,\"ticks\":\"\"}}}],\"scatterternary\":[{\"type\":\"scatterternary\",\"marker\":{\"colorbar\":{\"outlinewidth\":0,\"ticks\":\"\"}}}],\"scattercarpet\":[{\"type\":\"scattercarpet\",\"marker\":{\"colorbar\":{\"outlinewidth\":0,\"ticks\":\"\"}}}],\"carpet\":[{\"aaxis\":{\"endlinecolor\":\"#2a3f5f\",\"gridcolor\":\"white\",\"linecolor\":\"white\",\"minorgridcolor\":\"white\",\"startlinecolor\":\"#2a3f5f\"},\"baxis\":{\"endlinecolor\":\"#2a3f5f\",\"gridcolor\":\"white\",\"linecolor\":\"white\",\"minorgridcolor\":\"white\",\"startlinecolor\":\"#2a3f5f\"},\"type\":\"carpet\"}],\"table\":[{\"cells\":{\"fill\":{\"color\":\"#EBF0F8\"},\"line\":{\"color\":\"white\"}},\"header\":{\"fill\":{\"color\":\"#C8D4E3\"},\"line\":{\"color\":\"white\"}},\"type\":\"table\"}],\"barpolar\":[{\"marker\":{\"line\":{\"color\":\"#E5ECF6\",\"width\":0.5},\"pattern\":{\"fillmode\":\"overlay\",\"size\":10,\"solidity\":0.2}},\"type\":\"barpolar\"}],\"pie\":[{\"automargin\":true,\"type\":\"pie\"}]},\"layout\":{\"autotypenumbers\":\"strict\",\"colorway\":[\"#636efa\",\"#EF553B\",\"#00cc96\",\"#ab63fa\",\"#FFA15A\",\"#19d3f3\",\"#FF6692\",\"#B6E880\",\"#FF97FF\",\"#FECB52\"],\"font\":{\"color\":\"#2a3f5f\"},\"hovermode\":\"closest\",\"hoverlabel\":{\"align\":\"left\"},\"paper_bgcolor\":\"white\",\"plot_bgcolor\":\"#E5ECF6\",\"polar\":{\"bgcolor\":\"#E5ECF6\",\"angularaxis\":{\"gridcolor\":\"white\",\"linecolor\":\"white\",\"ticks\":\"\"},\"radialaxis\":{\"gridcolor\":\"white\",\"linecolor\":\"white\",\"ticks\":\"\"}},\"ternary\":{\"bgcolor\":\"#E5ECF6\",\"aaxis\":{\"gridcolor\":\"white\",\"linecolor\":\"white\",\"ticks\":\"\"},\"baxis\":{\"gridcolor\":\"white\",\"linecolor\":\"white\",\"ticks\":\"\"},\"caxis\":{\"gridcolor\":\"white\",\"linecolor\":\"white\",\"ticks\":\"\"}},\"coloraxis\":{\"colorbar\":{\"outlinewidth\":0,\"ticks\":\"\"}},\"colorscale\":{\"sequential\":[[0.0,\"#0d0887\"],[0.1111111111111111,\"#46039f\"],[0.2222222222222222,\"#7201a8\"],[0.3333333333333333,\"#9c179e\"],[0.4444444444444444,\"#bd3786\"],[0.5555555555555556,\"#d8576b\"],[0.6666666666666666,\"#ed7953\"],[0.7777777777777778,\"#fb9f3a\"],[0.8888888888888888,\"#fdca26\"],[1.0,\"#f0f921\"]],\"sequentialminus\":[[0.0,\"#0d0887\"],[0.1111111111111111,\"#46039f\"],[0.2222222222222222,\"#7201a8\"],[0.3333333333333333,\"#9c179e\"],[0.4444444444444444,\"#bd3786\"],[0.5555555555555556,\"#d8576b\"],[0.6666666666666666,\"#ed7953\"],[0.7777777777777778,\"#fb9f3a\"],[0.8888888888888888,\"#fdca26\"],[1.0,\"#f0f921\"]],\"diverging\":[[0,\"#8e0152\"],[0.1,\"#c51b7d\"],[0.2,\"#de77ae\"],[0.3,\"#f1b6da\"],[0.4,\"#fde0ef\"],[0.5,\"#f7f7f7\"],[0.6,\"#e6f5d0\"],[0.7,\"#b8e186\"],[0.8,\"#7fbc41\"],[0.9,\"#4d9221\"],[1,\"#276419\"]]},\"xaxis\":{\"gridcolor\":\"white\",\"linecolor\":\"white\",\"ticks\":\"\",\"title\":{\"standoff\":15},\"zerolinecolor\":\"white\",\"automargin\":true,\"zerolinewidth\":2},\"yaxis\":{\"gridcolor\":\"white\",\"linecolor\":\"white\",\"ticks\":\"\",\"title\":{\"standoff\":15},\"zerolinecolor\":\"white\",\"automargin\":true,\"zerolinewidth\":2},\"scene\":{\"xaxis\":{\"backgroundcolor\":\"#E5ECF6\",\"gridcolor\":\"white\",\"linecolor\":\"white\",\"showbackground\":true,\"ticks\":\"\",\"zerolinecolor\":\"white\",\"gridwidth\":2},\"yaxis\":{\"backgroundcolor\":\"#E5ECF6\",\"gridcolor\":\"white\",\"linecolor\":\"white\",\"showbackground\":true,\"ticks\":\"\",\"zerolinecolor\":\"white\",\"gridwidth\":2},\"zaxis\":{\"backgroundcolor\":\"#E5ECF6\",\"gridcolor\":\"white\",\"linecolor\":\"white\",\"showbackground\":true,\"ticks\":\"\",\"zerolinecolor\":\"white\",\"gridwidth\":2}},\"shapedefaults\":{\"line\":{\"color\":\"#2a3f5f\"}},\"annotationdefaults\":{\"arrowcolor\":\"#2a3f5f\",\"arrowhead\":0,\"arrowwidth\":1},\"geo\":{\"bgcolor\":\"white\",\"landcolor\":\"#E5ECF6\",\"subunitcolor\":\"white\",\"showland\":true,\"showlakes\":true,\"lakecolor\":\"white\"},\"title\":{\"x\":0.05},\"mapbox\":{\"style\":\"light\"}}}},                        {\"responsive\": true}                    ).then(function(){\n",
       "                            \n",
       "var gd = document.getElementById('53b81407-10c3-4bc9-b5e2-122f636bb791');\n",
       "var x = new MutationObserver(function (mutations, observer) {{\n",
       "        var display = window.getComputedStyle(gd).display;\n",
       "        if (!display || display === 'none') {{\n",
       "            console.log([gd, 'removed!']);\n",
       "            Plotly.purge(gd);\n",
       "            observer.disconnect();\n",
       "        }}\n",
       "}});\n",
       "\n",
       "// Listen for the removal of the full notebook cells\n",
       "var notebookContainer = gd.closest('#notebook-container');\n",
       "if (notebookContainer) {{\n",
       "    x.observe(notebookContainer, {childList: true});\n",
       "}}\n",
       "\n",
       "// Listen for the clearing of the current output cell\n",
       "var outputEl = gd.closest('.output');\n",
       "if (outputEl) {{\n",
       "    x.observe(outputEl, {childList: true});\n",
       "}}\n",
       "\n",
       "                        })                };                });            </script>        </div>"
      ]
     },
     "metadata": {},
     "output_type": "display_data"
    },
    {
     "name": "stdout",
     "output_type": "stream",
     "text": [
      "************ ARC ************\n"
     ]
    },
    {
     "data": {
      "application/vnd.plotly.v1+json": {
       "config": {
        "plotlyServerURL": "https://plot.ly"
       },
       "data": [
        {
         "marker": {
          "color": "#ff5f00",
          "opacity": 0.8,
          "size": 8
         },
         "mode": "markers",
         "name": "bloom",
         "type": "scatter3d",
         "x": [
          5.170483995038151,
          0,
          1.0986122886681096,
          -0.579818495252942,
          1.9459101490553132
         ],
         "y": [
          -1.0051219455807707,
          -1.0758728016986203,
          -1.0758728016986203,
          -1.0758728016986203,
          -1.0758728016986203
         ],
         "z": [
          0.5042662116040956,
          0.2832764505119454,
          0.3575085324232082,
          0.2474402730375426,
          0.4112627986348123
         ]
        },
        {
         "marker": {
          "color": "#ffbd00",
          "opacity": 0.8,
          "size": 8
         },
         "mode": "markers",
         "name": "codellama",
         "type": "scatter3d",
         "x": [
          2.5649493574615367,
          3.526360524616161,
          4.2484952420493585,
          1.9459101490553132
         ],
         "y": [
          0.9242589015233319,
          0.9242589015233319,
          1.1052568313867783,
          0.9242589015233319
         ],
         "z": [
          0.4087030716723549,
          0.5409556313993175,
          0.5674061433447098,
          0.3993174061433447
         ]
        },
        {
         "marker": {
          "color": "#e2ff00",
          "opacity": 0.8,
          "size": 8
         },
         "mode": "markers",
         "name": "falcon",
         "type": "scatter3d",
         "x": [
          5.19295685089021,
          3.6888794541139363,
          1.9459101490553132,
          0
         ],
         "y": [
          1.252762968495368,
          0,
          0.4054651081081644,
          -1.0498221244986778
         ],
         "z": [
          0.6919795221843004,
          0.6194539249146758,
          0.4786689419795222,
          0.3506825938566553
         ]
        },
        {
         "marker": {
          "color": "#84ff00",
          "opacity": 0.8,
          "size": 8
         },
         "mode": "markers",
         "name": "gpt-neo/j",
         "type": "scatter3d",
         "x": [
          1.791759469228055,
          0.26236426446749106,
          -2.0794415416798357,
          0.9932517730102834,
          2.995732273553991
         ],
         "y": [
          -0.9113031903631159,
          -0.9675840262617056,
          -1.203972804325936,
          -0.8675005677047231,
          -0.7507762933965817
         ],
         "z": [
          0.4138225255972696,
          0.3122866894197952,
          0.2295221843003413,
          0.333617747440273,
          0.4573378839590443
         ]
        },
        {
         "marker": {
          "color": "#25ff00",
          "opacity": 0.8,
          "size": 8
         },
         "mode": "markers",
         "name": "llama",
         "type": "scatter3d",
         "x": [
          2.5649493574615367,
          3.4011973816621555,
          4.174387269895637,
          1.9459101490553132
         ],
         "y": [
          0,
          0.33647223662121284,
          0.33647223662121284,
          0
         ],
         "z": [
          0.5614334470989761,
          0.6143344709897611,
          0.6348122866894198,
          0.5093856655290102
         ]
        },
        {
         "marker": {
          "color": "#00ff39",
          "opacity": 0.8,
          "size": 8
         },
         "mode": "markers",
         "name": "opt",
         "type": "scatter3d",
         "x": [
          0.26236426446749106,
          -2.0794415416798357,
          2.5649493574615367,
          0.9932517730102834,
          3.4011973816621555,
          -1.0498221244986778,
          1.9021075263969203,
          4.189654742026425
         ],
         "y": [
          -1.7147984280919266,
          -1.7147984280919266,
          -1.7147984280919266,
          -1.7147984280919266,
          -1.7147984280919266,
          -1.7147984280919266,
          -1.7147984280919266,
          -1.7147984280919266
         ],
         "z": [
          0.295221843003413,
          0.2286689419795221,
          0.3993174061433447,
          0.3395904436860068,
          0.4325938566552901,
          0.2354948805460751,
          0.3916382252559727,
          0.4633105802047781
         ]
        },
        {
         "marker": {
          "color": "#00ff97",
          "opacity": 0.8,
          "size": 8
         },
         "mode": "markers",
         "name": "pythia-deduped",
         "type": "scatter3d",
         "x": [
          0.33647223662121284,
          2.4849066497880004,
          -1.83258146374831,
          0,
          1.0296194171811581,
          -0.8915981192837836,
          1.9315214116032138,
          -2.659260036932778
         ],
         "y": [
          -1.203972804325936,
          -1.203972804325936,
          -1.203972804325936,
          -1.203972804325936,
          -1.203972804325936,
          -1.203972804325936,
          -1.203972804325936,
          -1.203972804325936
         ],
         "z": [
          0.3267918088737201,
          0.4138225255972696,
          0.2406143344709897,
          0.2909556313993174,
          0.3626279863481229,
          0.2482935153583617,
          0.4129692832764505,
          0.2107508532423208
         ]
        },
        {
         "marker": {
          "color": "#00fff6",
          "opacity": 0.8,
          "size": 8
         },
         "mode": "markers",
         "name": "qwen1.5",
         "type": "scatter3d",
         "x": [
          -0.6931471805599453,
          0.5877866649021191,
          2.6390573296152584,
          3.4657359027997265,
          1.3862943611198906,
          4.276666119016055,
          1.9459101490553132
         ],
         "y": [
          0.8754687373538999,
          0.8754687373538999,
          1.3862943611198906,
          1.3862943611198906,
          0.8754687373538999,
          1.0986122886681096,
          1.3862943611198906
         ],
         "z": [
          0.3148464163822526,
          0.378839590443686,
          0.5656996587030717,
          0.6356655290102389,
          0.4846416382252559,
          0.658703071672355,
          0.5418088737201365
         ]
        },
        {
         "marker": {
          "color": "#00aaff",
          "opacity": 0.8,
          "size": 8
         },
         "mode": "markers",
         "name": "qwen2",
         "type": "scatter3d",
         "x": [
          -0.6931471805599453,
          0.4054651081081644,
          4.276666119016055,
          1.9459101490553132
         ],
         "y": [
          2.4849066497880004,
          1.9459101490553132,
          1.9459101490553132,
          1.9459101490553132
         ],
         "z": [
          0.3191,
          0.4428,
          0.6877,
          0.5972999999999999
         ]
        },
        {
         "marker": {
          "color": "#004bff",
          "opacity": 0.8,
          "size": 8
         },
         "mode": "markers",
         "name": "rwkv",
         "type": "scatter3d",
         "x": [
          2.6390573296152584,
          -1.7778565640590633,
          0,
          1.0986122886681096,
          -0.843970070294529,
          1.9459101490553132,
          2.6390573296152584
         ],
         "y": [
          -1.1086626245216111,
          -1.1086626245216111,
          -1.1086626245216111,
          -1.1086626245216111,
          -1.1086626245216111,
          -1.1086626245216111,
          -1.1086626245216111
         ],
         "z": [
          0.4445392491467577,
          0.2363481228668942,
          0.318259385665529,
          0.3600682593856655,
          0.2670648464163822,
          0.3967576791808874,
          0.4462457337883959
         ]
        },
        {
         "marker": {
          "color": "#1300ff",
          "opacity": 0.8,
          "size": 8
         },
         "mode": "markers",
         "name": "stablelm",
         "type": "scatter3d",
         "x": [
          1.791759469228055,
          1.0986122886681096,
          1.9459101490553132,
          1.9459101490553132
         ],
         "y": [
          0.6931471805599453,
          0.4054651081081644,
          0.4054651081081644,
          0.09531017980432495
         ],
         "z": [
          0.4334470989761092,
          0.2645051194539249,
          0.3199658703071672,
          0.4735494880546075
         ]
        },
        {
         "marker": {
          "color": "#7200ff",
          "opacity": 0.8,
          "size": 8
         },
         "mode": "markers",
         "name": "starcoder",
         "type": "scatter3d",
         "x": [
          2.740840023925201,
          0,
          1.0986122886681096,
          1.9459101490553132
         ],
         "y": [
          0,
          0,
          0,
          0
         ],
         "z": [
          0.302901023890785,
          0.2269624573378839,
          0.2585324232081911,
          0.2986348122866894
         ]
        },
        {
         "marker": {
          "color": "#d000ff",
          "opacity": 0.8,
          "size": 8
         },
         "mode": "markers",
         "name": "xglm",
         "type": "scatter3d",
         "x": [
          0.5306282510621704,
          1.504077396776274,
          -0.5727010274840783,
          2.0149030205422647
         ],
         "y": [
          -0.6931471805599453,
          -0.6931471805599453,
          -0.6931471805599453,
          -0.6931471805599453
         ],
         "z": [
          0.2585324232081911,
          0.3148464163822526,
          0.2457337883959044,
          0.3412969283276451
         ]
        },
        {
         "marker": {
          "color": "#ff00cf",
          "opacity": 0.8,
          "size": 8
         },
         "mode": "markers",
         "name": "yi",
         "type": "scatter3d",
         "x": [
          3.526360524616161,
          1.791759469228055,
          2.197224577336219
         ],
         "y": [
          1.0986122886681096,
          1.0986122886681096,
          1.33500106673234
         ],
         "z": [
          0.6459044368600683,
          0.5554607508532423,
          0.6118
         ]
        },
        {
         "marker": {
          "color": "#ff0071",
          "opacity": 0.8,
          "size": 8
         },
         "mode": "markers",
         "name": "yi-1.5",
         "type": "scatter3d",
         "x": [
          3.526360524616161,
          1.791759469228055,
          2.197224577336219
         ],
         "y": [
          1.252762968495368,
          1.252762968495368,
          1.252762968495368
         ],
         "z": [
          0.6578,
          0.5725,
          0.6186
         ]
        }
       ],
       "layout": {
        "autosize": true,
        "margin": {
         "b": 0,
         "l": 0,
         "r": 0,
         "t": 0
        },
        "scene": {
         "aspectmode": "auto",
         "aspectratio": {
          "x": 1,
          "y": 1,
          "z": 1
         },
         "xaxis": {
          "title": {
           "text": "logS"
          },
          "type": "linear"
         },
         "yaxis": {
          "title": {
           "text": "logT"
          },
          "type": "linear"
         },
         "zaxis": {
          "title": {
           "text": "y"
          },
          "type": "linear"
         }
        },
        "template": {
         "data": {
          "bar": [
           {
            "error_x": {
             "color": "#2a3f5f"
            },
            "error_y": {
             "color": "#2a3f5f"
            },
            "marker": {
             "line": {
              "color": "#E5ECF6",
              "width": 0.5
             },
             "pattern": {
              "fillmode": "overlay",
              "size": 10,
              "solidity": 0.2
             }
            },
            "type": "bar"
           }
          ],
          "barpolar": [
           {
            "marker": {
             "line": {
              "color": "#E5ECF6",
              "width": 0.5
             },
             "pattern": {
              "fillmode": "overlay",
              "size": 10,
              "solidity": 0.2
             }
            },
            "type": "barpolar"
           }
          ],
          "carpet": [
           {
            "aaxis": {
             "endlinecolor": "#2a3f5f",
             "gridcolor": "white",
             "linecolor": "white",
             "minorgridcolor": "white",
             "startlinecolor": "#2a3f5f"
            },
            "baxis": {
             "endlinecolor": "#2a3f5f",
             "gridcolor": "white",
             "linecolor": "white",
             "minorgridcolor": "white",
             "startlinecolor": "#2a3f5f"
            },
            "type": "carpet"
           }
          ],
          "choropleth": [
           {
            "colorbar": {
             "outlinewidth": 0,
             "ticks": ""
            },
            "type": "choropleth"
           }
          ],
          "contour": [
           {
            "colorbar": {
             "outlinewidth": 0,
             "ticks": ""
            },
            "colorscale": [
             [
              0,
              "#0d0887"
             ],
             [
              0.1111111111111111,
              "#46039f"
             ],
             [
              0.2222222222222222,
              "#7201a8"
             ],
             [
              0.3333333333333333,
              "#9c179e"
             ],
             [
              0.4444444444444444,
              "#bd3786"
             ],
             [
              0.5555555555555556,
              "#d8576b"
             ],
             [
              0.6666666666666666,
              "#ed7953"
             ],
             [
              0.7777777777777778,
              "#fb9f3a"
             ],
             [
              0.8888888888888888,
              "#fdca26"
             ],
             [
              1,
              "#f0f921"
             ]
            ],
            "type": "contour"
           }
          ],
          "contourcarpet": [
           {
            "colorbar": {
             "outlinewidth": 0,
             "ticks": ""
            },
            "type": "contourcarpet"
           }
          ],
          "heatmap": [
           {
            "colorbar": {
             "outlinewidth": 0,
             "ticks": ""
            },
            "colorscale": [
             [
              0,
              "#0d0887"
             ],
             [
              0.1111111111111111,
              "#46039f"
             ],
             [
              0.2222222222222222,
              "#7201a8"
             ],
             [
              0.3333333333333333,
              "#9c179e"
             ],
             [
              0.4444444444444444,
              "#bd3786"
             ],
             [
              0.5555555555555556,
              "#d8576b"
             ],
             [
              0.6666666666666666,
              "#ed7953"
             ],
             [
              0.7777777777777778,
              "#fb9f3a"
             ],
             [
              0.8888888888888888,
              "#fdca26"
             ],
             [
              1,
              "#f0f921"
             ]
            ],
            "type": "heatmap"
           }
          ],
          "heatmapgl": [
           {
            "colorbar": {
             "outlinewidth": 0,
             "ticks": ""
            },
            "colorscale": [
             [
              0,
              "#0d0887"
             ],
             [
              0.1111111111111111,
              "#46039f"
             ],
             [
              0.2222222222222222,
              "#7201a8"
             ],
             [
              0.3333333333333333,
              "#9c179e"
             ],
             [
              0.4444444444444444,
              "#bd3786"
             ],
             [
              0.5555555555555556,
              "#d8576b"
             ],
             [
              0.6666666666666666,
              "#ed7953"
             ],
             [
              0.7777777777777778,
              "#fb9f3a"
             ],
             [
              0.8888888888888888,
              "#fdca26"
             ],
             [
              1,
              "#f0f921"
             ]
            ],
            "type": "heatmapgl"
           }
          ],
          "histogram": [
           {
            "marker": {
             "pattern": {
              "fillmode": "overlay",
              "size": 10,
              "solidity": 0.2
             }
            },
            "type": "histogram"
           }
          ],
          "histogram2d": [
           {
            "colorbar": {
             "outlinewidth": 0,
             "ticks": ""
            },
            "colorscale": [
             [
              0,
              "#0d0887"
             ],
             [
              0.1111111111111111,
              "#46039f"
             ],
             [
              0.2222222222222222,
              "#7201a8"
             ],
             [
              0.3333333333333333,
              "#9c179e"
             ],
             [
              0.4444444444444444,
              "#bd3786"
             ],
             [
              0.5555555555555556,
              "#d8576b"
             ],
             [
              0.6666666666666666,
              "#ed7953"
             ],
             [
              0.7777777777777778,
              "#fb9f3a"
             ],
             [
              0.8888888888888888,
              "#fdca26"
             ],
             [
              1,
              "#f0f921"
             ]
            ],
            "type": "histogram2d"
           }
          ],
          "histogram2dcontour": [
           {
            "colorbar": {
             "outlinewidth": 0,
             "ticks": ""
            },
            "colorscale": [
             [
              0,
              "#0d0887"
             ],
             [
              0.1111111111111111,
              "#46039f"
             ],
             [
              0.2222222222222222,
              "#7201a8"
             ],
             [
              0.3333333333333333,
              "#9c179e"
             ],
             [
              0.4444444444444444,
              "#bd3786"
             ],
             [
              0.5555555555555556,
              "#d8576b"
             ],
             [
              0.6666666666666666,
              "#ed7953"
             ],
             [
              0.7777777777777778,
              "#fb9f3a"
             ],
             [
              0.8888888888888888,
              "#fdca26"
             ],
             [
              1,
              "#f0f921"
             ]
            ],
            "type": "histogram2dcontour"
           }
          ],
          "mesh3d": [
           {
            "colorbar": {
             "outlinewidth": 0,
             "ticks": ""
            },
            "type": "mesh3d"
           }
          ],
          "parcoords": [
           {
            "line": {
             "colorbar": {
              "outlinewidth": 0,
              "ticks": ""
             }
            },
            "type": "parcoords"
           }
          ],
          "pie": [
           {
            "automargin": true,
            "type": "pie"
           }
          ],
          "scatter": [
           {
            "fillpattern": {
             "fillmode": "overlay",
             "size": 10,
             "solidity": 0.2
            },
            "type": "scatter"
           }
          ],
          "scatter3d": [
           {
            "line": {
             "colorbar": {
              "outlinewidth": 0,
              "ticks": ""
             }
            },
            "marker": {
             "colorbar": {
              "outlinewidth": 0,
              "ticks": ""
             }
            },
            "type": "scatter3d"
           }
          ],
          "scattercarpet": [
           {
            "marker": {
             "colorbar": {
              "outlinewidth": 0,
              "ticks": ""
             }
            },
            "type": "scattercarpet"
           }
          ],
          "scattergeo": [
           {
            "marker": {
             "colorbar": {
              "outlinewidth": 0,
              "ticks": ""
             }
            },
            "type": "scattergeo"
           }
          ],
          "scattergl": [
           {
            "marker": {
             "colorbar": {
              "outlinewidth": 0,
              "ticks": ""
             }
            },
            "type": "scattergl"
           }
          ],
          "scattermapbox": [
           {
            "marker": {
             "colorbar": {
              "outlinewidth": 0,
              "ticks": ""
             }
            },
            "type": "scattermapbox"
           }
          ],
          "scatterpolar": [
           {
            "marker": {
             "colorbar": {
              "outlinewidth": 0,
              "ticks": ""
             }
            },
            "type": "scatterpolar"
           }
          ],
          "scatterpolargl": [
           {
            "marker": {
             "colorbar": {
              "outlinewidth": 0,
              "ticks": ""
             }
            },
            "type": "scatterpolargl"
           }
          ],
          "scatterternary": [
           {
            "marker": {
             "colorbar": {
              "outlinewidth": 0,
              "ticks": ""
             }
            },
            "type": "scatterternary"
           }
          ],
          "surface": [
           {
            "colorbar": {
             "outlinewidth": 0,
             "ticks": ""
            },
            "colorscale": [
             [
              0,
              "#0d0887"
             ],
             [
              0.1111111111111111,
              "#46039f"
             ],
             [
              0.2222222222222222,
              "#7201a8"
             ],
             [
              0.3333333333333333,
              "#9c179e"
             ],
             [
              0.4444444444444444,
              "#bd3786"
             ],
             [
              0.5555555555555556,
              "#d8576b"
             ],
             [
              0.6666666666666666,
              "#ed7953"
             ],
             [
              0.7777777777777778,
              "#fb9f3a"
             ],
             [
              0.8888888888888888,
              "#fdca26"
             ],
             [
              1,
              "#f0f921"
             ]
            ],
            "type": "surface"
           }
          ],
          "table": [
           {
            "cells": {
             "fill": {
              "color": "#EBF0F8"
             },
             "line": {
              "color": "white"
             }
            },
            "header": {
             "fill": {
              "color": "#C8D4E3"
             },
             "line": {
              "color": "white"
             }
            },
            "type": "table"
           }
          ]
         },
         "layout": {
          "annotationdefaults": {
           "arrowcolor": "#2a3f5f",
           "arrowhead": 0,
           "arrowwidth": 1
          },
          "autotypenumbers": "strict",
          "coloraxis": {
           "colorbar": {
            "outlinewidth": 0,
            "ticks": ""
           }
          },
          "colorscale": {
           "diverging": [
            [
             0,
             "#8e0152"
            ],
            [
             0.1,
             "#c51b7d"
            ],
            [
             0.2,
             "#de77ae"
            ],
            [
             0.3,
             "#f1b6da"
            ],
            [
             0.4,
             "#fde0ef"
            ],
            [
             0.5,
             "#f7f7f7"
            ],
            [
             0.6,
             "#e6f5d0"
            ],
            [
             0.7,
             "#b8e186"
            ],
            [
             0.8,
             "#7fbc41"
            ],
            [
             0.9,
             "#4d9221"
            ],
            [
             1,
             "#276419"
            ]
           ],
           "sequential": [
            [
             0,
             "#0d0887"
            ],
            [
             0.1111111111111111,
             "#46039f"
            ],
            [
             0.2222222222222222,
             "#7201a8"
            ],
            [
             0.3333333333333333,
             "#9c179e"
            ],
            [
             0.4444444444444444,
             "#bd3786"
            ],
            [
             0.5555555555555556,
             "#d8576b"
            ],
            [
             0.6666666666666666,
             "#ed7953"
            ],
            [
             0.7777777777777778,
             "#fb9f3a"
            ],
            [
             0.8888888888888888,
             "#fdca26"
            ],
            [
             1,
             "#f0f921"
            ]
           ],
           "sequentialminus": [
            [
             0,
             "#0d0887"
            ],
            [
             0.1111111111111111,
             "#46039f"
            ],
            [
             0.2222222222222222,
             "#7201a8"
            ],
            [
             0.3333333333333333,
             "#9c179e"
            ],
            [
             0.4444444444444444,
             "#bd3786"
            ],
            [
             0.5555555555555556,
             "#d8576b"
            ],
            [
             0.6666666666666666,
             "#ed7953"
            ],
            [
             0.7777777777777778,
             "#fb9f3a"
            ],
            [
             0.8888888888888888,
             "#fdca26"
            ],
            [
             1,
             "#f0f921"
            ]
           ]
          },
          "colorway": [
           "#636efa",
           "#EF553B",
           "#00cc96",
           "#ab63fa",
           "#FFA15A",
           "#19d3f3",
           "#FF6692",
           "#B6E880",
           "#FF97FF",
           "#FECB52"
          ],
          "font": {
           "color": "#2a3f5f"
          },
          "geo": {
           "bgcolor": "white",
           "lakecolor": "white",
           "landcolor": "#E5ECF6",
           "showlakes": true,
           "showland": true,
           "subunitcolor": "white"
          },
          "hoverlabel": {
           "align": "left"
          },
          "hovermode": "closest",
          "mapbox": {
           "style": "light"
          },
          "paper_bgcolor": "white",
          "plot_bgcolor": "#E5ECF6",
          "polar": {
           "angularaxis": {
            "gridcolor": "white",
            "linecolor": "white",
            "ticks": ""
           },
           "bgcolor": "#E5ECF6",
           "radialaxis": {
            "gridcolor": "white",
            "linecolor": "white",
            "ticks": ""
           }
          },
          "scene": {
           "xaxis": {
            "backgroundcolor": "#E5ECF6",
            "gridcolor": "white",
            "gridwidth": 2,
            "linecolor": "white",
            "showbackground": true,
            "ticks": "",
            "zerolinecolor": "white"
           },
           "yaxis": {
            "backgroundcolor": "#E5ECF6",
            "gridcolor": "white",
            "gridwidth": 2,
            "linecolor": "white",
            "showbackground": true,
            "ticks": "",
            "zerolinecolor": "white"
           },
           "zaxis": {
            "backgroundcolor": "#E5ECF6",
            "gridcolor": "white",
            "gridwidth": 2,
            "linecolor": "white",
            "showbackground": true,
            "ticks": "",
            "zerolinecolor": "white"
           }
          },
          "shapedefaults": {
           "line": {
            "color": "#2a3f5f"
           }
          },
          "ternary": {
           "aaxis": {
            "gridcolor": "white",
            "linecolor": "white",
            "ticks": ""
           },
           "baxis": {
            "gridcolor": "white",
            "linecolor": "white",
            "ticks": ""
           },
           "bgcolor": "#E5ECF6",
           "caxis": {
            "gridcolor": "white",
            "linecolor": "white",
            "ticks": ""
           }
          },
          "title": {
           "x": 0.05
          },
          "xaxis": {
           "automargin": true,
           "gridcolor": "white",
           "linecolor": "white",
           "ticks": "",
           "title": {
            "standoff": 15
           },
           "zerolinecolor": "white",
           "zerolinewidth": 2
          },
          "yaxis": {
           "automargin": true,
           "gridcolor": "white",
           "linecolor": "white",
           "ticks": "",
           "title": {
            "standoff": 15
           },
           "zerolinecolor": "white",
           "zerolinewidth": 2
          }
         }
        }
       }
      },
      "text/html": [
       "<div>                            <div id=\"f90981ce-48be-4221-a3af-a49138ee7974\" class=\"plotly-graph-div\" style=\"height:525px; width:100%;\"></div>            <script type=\"text/javascript\">                require([\"plotly\"], function(Plotly) {                    window.PLOTLYENV=window.PLOTLYENV || {};                                    if (document.getElementById(\"f90981ce-48be-4221-a3af-a49138ee7974\")) {                    Plotly.newPlot(                        \"f90981ce-48be-4221-a3af-a49138ee7974\",                        [{\"marker\":{\"color\":\"#ff5f00\",\"opacity\":0.8,\"size\":8},\"mode\":\"markers\",\"name\":\"bloom\",\"x\":[5.170483995038151,0.0,1.0986122886681096,-0.579818495252942,1.9459101490553132],\"y\":[-1.0051219455807707,-1.0758728016986203,-1.0758728016986203,-1.0758728016986203,-1.0758728016986203],\"z\":[0.5042662116040956,0.2832764505119454,0.3575085324232082,0.2474402730375426,0.4112627986348123],\"type\":\"scatter3d\"},{\"marker\":{\"color\":\"#ffbd00\",\"opacity\":0.8,\"size\":8},\"mode\":\"markers\",\"name\":\"codellama\",\"x\":[2.5649493574615367,3.526360524616161,4.2484952420493585,1.9459101490553132],\"y\":[0.9242589015233319,0.9242589015233319,1.1052568313867783,0.9242589015233319],\"z\":[0.4087030716723549,0.5409556313993175,0.5674061433447098,0.3993174061433447],\"type\":\"scatter3d\"},{\"marker\":{\"color\":\"#e2ff00\",\"opacity\":0.8,\"size\":8},\"mode\":\"markers\",\"name\":\"falcon\",\"x\":[5.19295685089021,3.6888794541139363,1.9459101490553132,0.0],\"y\":[1.252762968495368,0.0,0.4054651081081644,-1.0498221244986778],\"z\":[0.6919795221843004,0.6194539249146758,0.4786689419795222,0.3506825938566553],\"type\":\"scatter3d\"},{\"marker\":{\"color\":\"#84ff00\",\"opacity\":0.8,\"size\":8},\"mode\":\"markers\",\"name\":\"gpt-neo\\u002fj\",\"x\":[1.791759469228055,0.26236426446749106,-2.0794415416798357,0.9932517730102834,2.995732273553991],\"y\":[-0.9113031903631159,-0.9675840262617056,-1.203972804325936,-0.8675005677047231,-0.7507762933965817],\"z\":[0.4138225255972696,0.3122866894197952,0.2295221843003413,0.333617747440273,0.4573378839590443],\"type\":\"scatter3d\"},{\"marker\":{\"color\":\"#25ff00\",\"opacity\":0.8,\"size\":8},\"mode\":\"markers\",\"name\":\"llama\",\"x\":[2.5649493574615367,3.4011973816621555,4.174387269895637,1.9459101490553132],\"y\":[0.0,0.33647223662121284,0.33647223662121284,0.0],\"z\":[0.5614334470989761,0.6143344709897611,0.6348122866894198,0.5093856655290102],\"type\":\"scatter3d\"},{\"marker\":{\"color\":\"#00ff39\",\"opacity\":0.8,\"size\":8},\"mode\":\"markers\",\"name\":\"opt\",\"x\":[0.26236426446749106,-2.0794415416798357,2.5649493574615367,0.9932517730102834,3.4011973816621555,-1.0498221244986778,1.9021075263969203,4.189654742026425],\"y\":[-1.7147984280919266,-1.7147984280919266,-1.7147984280919266,-1.7147984280919266,-1.7147984280919266,-1.7147984280919266,-1.7147984280919266,-1.7147984280919266],\"z\":[0.295221843003413,0.2286689419795221,0.3993174061433447,0.3395904436860068,0.4325938566552901,0.2354948805460751,0.3916382252559727,0.4633105802047781],\"type\":\"scatter3d\"},{\"marker\":{\"color\":\"#00ff97\",\"opacity\":0.8,\"size\":8},\"mode\":\"markers\",\"name\":\"pythia-deduped\",\"x\":[0.33647223662121284,2.4849066497880004,-1.83258146374831,0.0,1.0296194171811581,-0.8915981192837836,1.9315214116032138,-2.659260036932778],\"y\":[-1.203972804325936,-1.203972804325936,-1.203972804325936,-1.203972804325936,-1.203972804325936,-1.203972804325936,-1.203972804325936,-1.203972804325936],\"z\":[0.3267918088737201,0.4138225255972696,0.2406143344709897,0.2909556313993174,0.3626279863481229,0.2482935153583617,0.4129692832764505,0.2107508532423208],\"type\":\"scatter3d\"},{\"marker\":{\"color\":\"#00fff6\",\"opacity\":0.8,\"size\":8},\"mode\":\"markers\",\"name\":\"qwen1.5\",\"x\":[-0.6931471805599453,0.5877866649021191,2.6390573296152584,3.4657359027997265,1.3862943611198906,4.276666119016055,1.9459101490553132],\"y\":[0.8754687373538999,0.8754687373538999,1.3862943611198906,1.3862943611198906,0.8754687373538999,1.0986122886681096,1.3862943611198906],\"z\":[0.3148464163822526,0.378839590443686,0.5656996587030717,0.6356655290102389,0.4846416382252559,0.658703071672355,0.5418088737201365],\"type\":\"scatter3d\"},{\"marker\":{\"color\":\"#00aaff\",\"opacity\":0.8,\"size\":8},\"mode\":\"markers\",\"name\":\"qwen2\",\"x\":[-0.6931471805599453,0.4054651081081644,4.276666119016055,1.9459101490553132],\"y\":[2.4849066497880004,1.9459101490553132,1.9459101490553132,1.9459101490553132],\"z\":[0.3191,0.4428,0.6877,0.5972999999999999],\"type\":\"scatter3d\"},{\"marker\":{\"color\":\"#004bff\",\"opacity\":0.8,\"size\":8},\"mode\":\"markers\",\"name\":\"rwkv\",\"x\":[2.6390573296152584,-1.7778565640590633,0.0,1.0986122886681096,-0.843970070294529,1.9459101490553132,2.6390573296152584],\"y\":[-1.1086626245216111,-1.1086626245216111,-1.1086626245216111,-1.1086626245216111,-1.1086626245216111,-1.1086626245216111,-1.1086626245216111],\"z\":[0.4445392491467577,0.2363481228668942,0.318259385665529,0.3600682593856655,0.2670648464163822,0.3967576791808874,0.4462457337883959],\"type\":\"scatter3d\"},{\"marker\":{\"color\":\"#1300ff\",\"opacity\":0.8,\"size\":8},\"mode\":\"markers\",\"name\":\"stablelm\",\"x\":[1.791759469228055,1.0986122886681096,1.9459101490553132,1.9459101490553132],\"y\":[0.6931471805599453,0.4054651081081644,0.4054651081081644,0.09531017980432495],\"z\":[0.4334470989761092,0.2645051194539249,0.3199658703071672,0.4735494880546075],\"type\":\"scatter3d\"},{\"marker\":{\"color\":\"#7200ff\",\"opacity\":0.8,\"size\":8},\"mode\":\"markers\",\"name\":\"starcoder\",\"x\":[2.740840023925201,0.0,1.0986122886681096,1.9459101490553132],\"y\":[0.0,0.0,0.0,0.0],\"z\":[0.302901023890785,0.2269624573378839,0.2585324232081911,0.2986348122866894],\"type\":\"scatter3d\"},{\"marker\":{\"color\":\"#d000ff\",\"opacity\":0.8,\"size\":8},\"mode\":\"markers\",\"name\":\"xglm\",\"x\":[0.5306282510621704,1.504077396776274,-0.5727010274840783,2.0149030205422647],\"y\":[-0.6931471805599453,-0.6931471805599453,-0.6931471805599453,-0.6931471805599453],\"z\":[0.2585324232081911,0.3148464163822526,0.2457337883959044,0.3412969283276451],\"type\":\"scatter3d\"},{\"marker\":{\"color\":\"#ff00cf\",\"opacity\":0.8,\"size\":8},\"mode\":\"markers\",\"name\":\"yi\",\"x\":[3.526360524616161,1.791759469228055,2.197224577336219],\"y\":[1.0986122886681096,1.0986122886681096,1.33500106673234],\"z\":[0.6459044368600683,0.5554607508532423,0.6118],\"type\":\"scatter3d\"},{\"marker\":{\"color\":\"#ff0071\",\"opacity\":0.8,\"size\":8},\"mode\":\"markers\",\"name\":\"yi-1.5\",\"x\":[3.526360524616161,1.791759469228055,2.197224577336219],\"y\":[1.252762968495368,1.252762968495368,1.252762968495368],\"z\":[0.6578,0.5725,0.6186],\"type\":\"scatter3d\"}],                        {\"margin\":{\"b\":0,\"l\":0,\"r\":0,\"t\":0},\"scene\":{\"xaxis\":{\"title\":{\"text\":\"logS\"}},\"yaxis\":{\"title\":{\"text\":\"logT\"}},\"zaxis\":{\"title\":{\"text\":\"y\"}}},\"template\":{\"data\":{\"histogram2dcontour\":[{\"type\":\"histogram2dcontour\",\"colorbar\":{\"outlinewidth\":0,\"ticks\":\"\"},\"colorscale\":[[0.0,\"#0d0887\"],[0.1111111111111111,\"#46039f\"],[0.2222222222222222,\"#7201a8\"],[0.3333333333333333,\"#9c179e\"],[0.4444444444444444,\"#bd3786\"],[0.5555555555555556,\"#d8576b\"],[0.6666666666666666,\"#ed7953\"],[0.7777777777777778,\"#fb9f3a\"],[0.8888888888888888,\"#fdca26\"],[1.0,\"#f0f921\"]]}],\"choropleth\":[{\"type\":\"choropleth\",\"colorbar\":{\"outlinewidth\":0,\"ticks\":\"\"}}],\"histogram2d\":[{\"type\":\"histogram2d\",\"colorbar\":{\"outlinewidth\":0,\"ticks\":\"\"},\"colorscale\":[[0.0,\"#0d0887\"],[0.1111111111111111,\"#46039f\"],[0.2222222222222222,\"#7201a8\"],[0.3333333333333333,\"#9c179e\"],[0.4444444444444444,\"#bd3786\"],[0.5555555555555556,\"#d8576b\"],[0.6666666666666666,\"#ed7953\"],[0.7777777777777778,\"#fb9f3a\"],[0.8888888888888888,\"#fdca26\"],[1.0,\"#f0f921\"]]}],\"heatmap\":[{\"type\":\"heatmap\",\"colorbar\":{\"outlinewidth\":0,\"ticks\":\"\"},\"colorscale\":[[0.0,\"#0d0887\"],[0.1111111111111111,\"#46039f\"],[0.2222222222222222,\"#7201a8\"],[0.3333333333333333,\"#9c179e\"],[0.4444444444444444,\"#bd3786\"],[0.5555555555555556,\"#d8576b\"],[0.6666666666666666,\"#ed7953\"],[0.7777777777777778,\"#fb9f3a\"],[0.8888888888888888,\"#fdca26\"],[1.0,\"#f0f921\"]]}],\"heatmapgl\":[{\"type\":\"heatmapgl\",\"colorbar\":{\"outlinewidth\":0,\"ticks\":\"\"},\"colorscale\":[[0.0,\"#0d0887\"],[0.1111111111111111,\"#46039f\"],[0.2222222222222222,\"#7201a8\"],[0.3333333333333333,\"#9c179e\"],[0.4444444444444444,\"#bd3786\"],[0.5555555555555556,\"#d8576b\"],[0.6666666666666666,\"#ed7953\"],[0.7777777777777778,\"#fb9f3a\"],[0.8888888888888888,\"#fdca26\"],[1.0,\"#f0f921\"]]}],\"contourcarpet\":[{\"type\":\"contourcarpet\",\"colorbar\":{\"outlinewidth\":0,\"ticks\":\"\"}}],\"contour\":[{\"type\":\"contour\",\"colorbar\":{\"outlinewidth\":0,\"ticks\":\"\"},\"colorscale\":[[0.0,\"#0d0887\"],[0.1111111111111111,\"#46039f\"],[0.2222222222222222,\"#7201a8\"],[0.3333333333333333,\"#9c179e\"],[0.4444444444444444,\"#bd3786\"],[0.5555555555555556,\"#d8576b\"],[0.6666666666666666,\"#ed7953\"],[0.7777777777777778,\"#fb9f3a\"],[0.8888888888888888,\"#fdca26\"],[1.0,\"#f0f921\"]]}],\"surface\":[{\"type\":\"surface\",\"colorbar\":{\"outlinewidth\":0,\"ticks\":\"\"},\"colorscale\":[[0.0,\"#0d0887\"],[0.1111111111111111,\"#46039f\"],[0.2222222222222222,\"#7201a8\"],[0.3333333333333333,\"#9c179e\"],[0.4444444444444444,\"#bd3786\"],[0.5555555555555556,\"#d8576b\"],[0.6666666666666666,\"#ed7953\"],[0.7777777777777778,\"#fb9f3a\"],[0.8888888888888888,\"#fdca26\"],[1.0,\"#f0f921\"]]}],\"mesh3d\":[{\"type\":\"mesh3d\",\"colorbar\":{\"outlinewidth\":0,\"ticks\":\"\"}}],\"scatter\":[{\"fillpattern\":{\"fillmode\":\"overlay\",\"size\":10,\"solidity\":0.2},\"type\":\"scatter\"}],\"parcoords\":[{\"type\":\"parcoords\",\"line\":{\"colorbar\":{\"outlinewidth\":0,\"ticks\":\"\"}}}],\"scatterpolargl\":[{\"type\":\"scatterpolargl\",\"marker\":{\"colorbar\":{\"outlinewidth\":0,\"ticks\":\"\"}}}],\"bar\":[{\"error_x\":{\"color\":\"#2a3f5f\"},\"error_y\":{\"color\":\"#2a3f5f\"},\"marker\":{\"line\":{\"color\":\"#E5ECF6\",\"width\":0.5},\"pattern\":{\"fillmode\":\"overlay\",\"size\":10,\"solidity\":0.2}},\"type\":\"bar\"}],\"scattergeo\":[{\"type\":\"scattergeo\",\"marker\":{\"colorbar\":{\"outlinewidth\":0,\"ticks\":\"\"}}}],\"scatterpolar\":[{\"type\":\"scatterpolar\",\"marker\":{\"colorbar\":{\"outlinewidth\":0,\"ticks\":\"\"}}}],\"histogram\":[{\"marker\":{\"pattern\":{\"fillmode\":\"overlay\",\"size\":10,\"solidity\":0.2}},\"type\":\"histogram\"}],\"scattergl\":[{\"type\":\"scattergl\",\"marker\":{\"colorbar\":{\"outlinewidth\":0,\"ticks\":\"\"}}}],\"scatter3d\":[{\"type\":\"scatter3d\",\"line\":{\"colorbar\":{\"outlinewidth\":0,\"ticks\":\"\"}},\"marker\":{\"colorbar\":{\"outlinewidth\":0,\"ticks\":\"\"}}}],\"scattermapbox\":[{\"type\":\"scattermapbox\",\"marker\":{\"colorbar\":{\"outlinewidth\":0,\"ticks\":\"\"}}}],\"scatterternary\":[{\"type\":\"scatterternary\",\"marker\":{\"colorbar\":{\"outlinewidth\":0,\"ticks\":\"\"}}}],\"scattercarpet\":[{\"type\":\"scattercarpet\",\"marker\":{\"colorbar\":{\"outlinewidth\":0,\"ticks\":\"\"}}}],\"carpet\":[{\"aaxis\":{\"endlinecolor\":\"#2a3f5f\",\"gridcolor\":\"white\",\"linecolor\":\"white\",\"minorgridcolor\":\"white\",\"startlinecolor\":\"#2a3f5f\"},\"baxis\":{\"endlinecolor\":\"#2a3f5f\",\"gridcolor\":\"white\",\"linecolor\":\"white\",\"minorgridcolor\":\"white\",\"startlinecolor\":\"#2a3f5f\"},\"type\":\"carpet\"}],\"table\":[{\"cells\":{\"fill\":{\"color\":\"#EBF0F8\"},\"line\":{\"color\":\"white\"}},\"header\":{\"fill\":{\"color\":\"#C8D4E3\"},\"line\":{\"color\":\"white\"}},\"type\":\"table\"}],\"barpolar\":[{\"marker\":{\"line\":{\"color\":\"#E5ECF6\",\"width\":0.5},\"pattern\":{\"fillmode\":\"overlay\",\"size\":10,\"solidity\":0.2}},\"type\":\"barpolar\"}],\"pie\":[{\"automargin\":true,\"type\":\"pie\"}]},\"layout\":{\"autotypenumbers\":\"strict\",\"colorway\":[\"#636efa\",\"#EF553B\",\"#00cc96\",\"#ab63fa\",\"#FFA15A\",\"#19d3f3\",\"#FF6692\",\"#B6E880\",\"#FF97FF\",\"#FECB52\"],\"font\":{\"color\":\"#2a3f5f\"},\"hovermode\":\"closest\",\"hoverlabel\":{\"align\":\"left\"},\"paper_bgcolor\":\"white\",\"plot_bgcolor\":\"#E5ECF6\",\"polar\":{\"bgcolor\":\"#E5ECF6\",\"angularaxis\":{\"gridcolor\":\"white\",\"linecolor\":\"white\",\"ticks\":\"\"},\"radialaxis\":{\"gridcolor\":\"white\",\"linecolor\":\"white\",\"ticks\":\"\"}},\"ternary\":{\"bgcolor\":\"#E5ECF6\",\"aaxis\":{\"gridcolor\":\"white\",\"linecolor\":\"white\",\"ticks\":\"\"},\"baxis\":{\"gridcolor\":\"white\",\"linecolor\":\"white\",\"ticks\":\"\"},\"caxis\":{\"gridcolor\":\"white\",\"linecolor\":\"white\",\"ticks\":\"\"}},\"coloraxis\":{\"colorbar\":{\"outlinewidth\":0,\"ticks\":\"\"}},\"colorscale\":{\"sequential\":[[0.0,\"#0d0887\"],[0.1111111111111111,\"#46039f\"],[0.2222222222222222,\"#7201a8\"],[0.3333333333333333,\"#9c179e\"],[0.4444444444444444,\"#bd3786\"],[0.5555555555555556,\"#d8576b\"],[0.6666666666666666,\"#ed7953\"],[0.7777777777777778,\"#fb9f3a\"],[0.8888888888888888,\"#fdca26\"],[1.0,\"#f0f921\"]],\"sequentialminus\":[[0.0,\"#0d0887\"],[0.1111111111111111,\"#46039f\"],[0.2222222222222222,\"#7201a8\"],[0.3333333333333333,\"#9c179e\"],[0.4444444444444444,\"#bd3786\"],[0.5555555555555556,\"#d8576b\"],[0.6666666666666666,\"#ed7953\"],[0.7777777777777778,\"#fb9f3a\"],[0.8888888888888888,\"#fdca26\"],[1.0,\"#f0f921\"]],\"diverging\":[[0,\"#8e0152\"],[0.1,\"#c51b7d\"],[0.2,\"#de77ae\"],[0.3,\"#f1b6da\"],[0.4,\"#fde0ef\"],[0.5,\"#f7f7f7\"],[0.6,\"#e6f5d0\"],[0.7,\"#b8e186\"],[0.8,\"#7fbc41\"],[0.9,\"#4d9221\"],[1,\"#276419\"]]},\"xaxis\":{\"gridcolor\":\"white\",\"linecolor\":\"white\",\"ticks\":\"\",\"title\":{\"standoff\":15},\"zerolinecolor\":\"white\",\"automargin\":true,\"zerolinewidth\":2},\"yaxis\":{\"gridcolor\":\"white\",\"linecolor\":\"white\",\"ticks\":\"\",\"title\":{\"standoff\":15},\"zerolinecolor\":\"white\",\"automargin\":true,\"zerolinewidth\":2},\"scene\":{\"xaxis\":{\"backgroundcolor\":\"#E5ECF6\",\"gridcolor\":\"white\",\"linecolor\":\"white\",\"showbackground\":true,\"ticks\":\"\",\"zerolinecolor\":\"white\",\"gridwidth\":2},\"yaxis\":{\"backgroundcolor\":\"#E5ECF6\",\"gridcolor\":\"white\",\"linecolor\":\"white\",\"showbackground\":true,\"ticks\":\"\",\"zerolinecolor\":\"white\",\"gridwidth\":2},\"zaxis\":{\"backgroundcolor\":\"#E5ECF6\",\"gridcolor\":\"white\",\"linecolor\":\"white\",\"showbackground\":true,\"ticks\":\"\",\"zerolinecolor\":\"white\",\"gridwidth\":2}},\"shapedefaults\":{\"line\":{\"color\":\"#2a3f5f\"}},\"annotationdefaults\":{\"arrowcolor\":\"#2a3f5f\",\"arrowhead\":0,\"arrowwidth\":1},\"geo\":{\"bgcolor\":\"white\",\"landcolor\":\"#E5ECF6\",\"subunitcolor\":\"white\",\"showland\":true,\"showlakes\":true,\"lakecolor\":\"white\"},\"title\":{\"x\":0.05},\"mapbox\":{\"style\":\"light\"}}}},                        {\"responsive\": true}                    ).then(function(){\n",
       "                            \n",
       "var gd = document.getElementById('f90981ce-48be-4221-a3af-a49138ee7974');\n",
       "var x = new MutationObserver(function (mutations, observer) {{\n",
       "        var display = window.getComputedStyle(gd).display;\n",
       "        if (!display || display === 'none') {{\n",
       "            console.log([gd, 'removed!']);\n",
       "            Plotly.purge(gd);\n",
       "            observer.disconnect();\n",
       "        }}\n",
       "}});\n",
       "\n",
       "// Listen for the removal of the full notebook cells\n",
       "var notebookContainer = gd.closest('#notebook-container');\n",
       "if (notebookContainer) {{\n",
       "    x.observe(notebookContainer, {childList: true});\n",
       "}}\n",
       "\n",
       "// Listen for the clearing of the current output cell\n",
       "var outputEl = gd.closest('.output');\n",
       "if (outputEl) {{\n",
       "    x.observe(outputEl, {childList: true});\n",
       "}}\n",
       "\n",
       "                        })                };                });            </script>        </div>"
      ]
     },
     "metadata": {},
     "output_type": "display_data"
    },
    {
     "name": "stdout",
     "output_type": "stream",
     "text": [
      "************ HellaSwag ************\n"
     ]
    },
    {
     "data": {
      "application/vnd.plotly.v1+json": {
       "config": {
        "plotlyServerURL": "https://plot.ly"
       },
       "data": [
        {
         "marker": {
          "color": "#ff5f00",
          "opacity": 0.8,
          "size": 8
         },
         "mode": "markers",
         "name": "bloom",
         "type": "scatter3d",
         "x": [
          5.170483995038151,
          0,
          1.0986122886681096,
          -0.579818495252942,
          1.9459101490553132
         ],
         "y": [
          -1.0051219455807707,
          -1.0758728016986203,
          -1.0758728016986203,
          -1.0758728016986203,
          -1.0758728016986203
         ],
         "z": [
          0.7640908185620394,
          0.4278032264489145,
          0.54371639115714,
          0.371539533957379,
          0.6199960167297351
         ]
        },
        {
         "marker": {
          "color": "#ffbd00",
          "opacity": 0.8,
          "size": 8
         },
         "mode": "markers",
         "name": "codellama",
         "type": "scatter3d",
         "x": [
          2.5649493574615367,
          3.526360524616161,
          4.2484952420493585,
          1.9459101490553132
         ],
         "y": [
          0.9242589015233319,
          0.9242589015233319,
          1.1052568313867783,
          0.9242589015233319
         ],
         "z": [
          0.6335391356303525,
          0.7582154949213304,
          0.7821151165106552,
          0.6080462059350727
         ]
        },
        {
         "marker": {
          "color": "#e2ff00",
          "opacity": 0.8,
          "size": 8
         },
         "mode": "markers",
         "name": "falcon",
         "type": "scatter3d",
         "x": [
          5.19295685089021,
          3.6888794541139363,
          1.9459101490553132,
          0
         ],
         "y": [
          1.252762968495368,
          0,
          0.4054651081081644,
          -1.0498221244986778
         ],
         "z": [
          0.8888667596096396,
          0.8528181637124079,
          0.7813184624576778,
          0.6356303525194185
         ]
        },
        {
         "marker": {
          "color": "#84ff00",
          "opacity": 0.8,
          "size": 8
         },
         "mode": "markers",
         "name": "gpt-neo/j",
         "type": "scatter3d",
         "x": [
          1.791759469228055,
          0.26236426446749106,
          -2.0794415416798357,
          0.9932517730102834,
          2.995732273553991
         ],
         "y": [
          -0.9113031903631159,
          -0.9675840262617056,
          -1.203972804325936,
          -0.8675005677047231,
          -0.7507762933965817
         ],
         "z": [
          0.675363473411671,
          0.4846644094801832,
          0.3026289583748257,
          0.5624377614021111,
          0.73451503684525
         ]
        },
        {
         "marker": {
          "color": "#25ff00",
          "opacity": 0.8,
          "size": 8
         },
         "mode": "markers",
         "name": "llama",
         "type": "scatter3d",
         "x": [
          2.5649493574615367,
          3.4011973816621555,
          4.174387269895637,
          1.9459101490553132
         ],
         "y": [
          0,
          0.33647223662121284,
          0.33647223662121284,
          0
         ],
         "z": [
          0.8092013543118901,
          0.8473411670981876,
          0.8608842859988051,
          0.7781318462457678
         ]
        },
        {
         "marker": {
          "color": "#00ff39",
          "opacity": 0.8,
          "size": 8
         },
         "mode": "markers",
         "name": "opt",
         "type": "scatter3d",
         "x": [
          0.26236426446749106,
          -2.0794415416798357,
          2.5649493574615367,
          0.9932517730102834,
          3.4011973816621555,
          -1.0498221244986778,
          1.9021075263969203,
          4.189654742026425
         ],
         "y": [
          -1.7147984280919266,
          -1.7147984280919266,
          -1.7147984280919266,
          -1.7147984280919266,
          -1.7147984280919266,
          -1.7147984280919266,
          -1.7147984280919266,
          -1.7147984280919266
         ],
         "z": [
          0.545309699263095,
          0.3146783509261103,
          0.7120095598486357,
          0.6143198566022705,
          0.7406891057558256,
          0.367257518422625,
          0.6866162119099781,
          0.7624975104560845
         ]
        },
        {
         "marker": {
          "color": "#00ff97",
          "opacity": 0.8,
          "size": 8
         },
         "mode": "markers",
         "name": "pythia-deduped",
         "type": "scatter3d",
         "x": [
          0.33647223662121284,
          2.4849066497880004,
          -1.83258146374831,
          0,
          1.0296194171811581,
          -0.8915981192837836,
          1.9315214116032138,
          -2.659260036932778
         ],
         "y": [
          -1.203972804325936,
          -1.203972804325936,
          -1.203972804325936,
          -1.203972804325936,
          -1.203972804325936,
          -1.203972804325936,
          -1.203972804325936,
          -1.203972804325936
         ],
         "z": [
          0.5495917147978491,
          0.7026488747261501,
          0.3138816968731328,
          0.4965146385182235,
          0.6065524795857399,
          0.4128659629555865,
          0.6704839673371839,
          0.2716590320653256
         ]
        },
        {
         "marker": {
          "color": "#00fff6",
          "opacity": 0.8,
          "size": 8
         },
         "mode": "markers",
         "name": "qwen1.5",
         "type": "scatter3d",
         "x": [
          -0.6931471805599453,
          0.5877866649021191,
          2.6390573296152584,
          3.4657359027997265,
          1.3862943611198906,
          4.276666119016055,
          1.9459101490553132
         ],
         "y": [
          0.8754687373538999,
          0.8754687373538999,
          1.3862943611198906,
          1.3862943611198906,
          0.8754687373538999,
          1.0986122886681096,
          1.3862943611198906
         ],
         "z": [
          0.4905397331208923,
          0.6142202748456482,
          0.810794662417845,
          0.8500298745269866,
          0.7157936666002789,
          0.8598884684325832,
          0.7851025692093209
         ]
        },
        {
         "marker": {
          "color": "#00aaff",
          "opacity": 0.8,
          "size": 8
         },
         "mode": "markers",
         "name": "qwen2",
         "type": "scatter3d",
         "x": [
          -0.6931471805599453,
          0.4054651081081644,
          4.276666119016055,
          1.9459101490553132
         ],
         "y": [
          2.4849066497880004,
          1.9459101490553132,
          1.9459101490553132,
          1.9459101490553132
         ],
         "z": [
          0.4874,
          0.6667000000000001,
          0.8726999999999999,
          0.7981999999999999
         ]
        },
        {
         "marker": {
          "color": "#004bff",
          "opacity": 0.8,
          "size": 8
         },
         "mode": "markers",
         "name": "rwkv",
         "type": "scatter3d",
         "x": [
          2.6390573296152584,
          -1.7778565640590633,
          0,
          1.0986122886681096,
          -0.843970070294529,
          1.9459101490553132,
          2.6390573296152584
         ],
         "y": [
          -1.1086626245216111,
          -1.1086626245216111,
          -1.1086626245216111,
          -1.1086626245216111,
          -1.1086626245216111,
          -1.1086626245216111,
          -1.1086626245216111
         ],
         "z": [
          0.7107149970125473,
          0.3173670583549093,
          0.5225054769966142,
          0.5965943039235212,
          0.4001194981079466,
          0.663114917347142,
          0.7125074686317466
         ]
        },
        {
         "marker": {
          "color": "#1300ff",
          "opacity": 0.8,
          "size": 8
         },
         "mode": "markers",
         "name": "stablelm",
         "type": "scatter3d",
         "x": [
          1.791759469228055,
          1.0986122886681096,
          1.9459101490553132,
          1.9459101490553132
         ],
         "y": [
          0.6931471805599453,
          0.4054651081081644,
          0.4054651081081644,
          0.09531017980432495
         ],
         "z": [
          0.7045409281019717,
          0.4224258115913165,
          0.5178251344353715,
          0.770762796255726
         ]
        },
        {
         "marker": {
          "color": "#7200ff",
          "opacity": 0.8,
          "size": 8
         },
         "mode": "markers",
         "name": "starcoder",
         "type": "scatter3d",
         "x": [
          2.740840023925201,
          0,
          1.0986122886681096,
          1.9459101490553132
         ],
         "y": [
          0,
          0,
          0,
          0
         ],
         "z": [
          0.4721171081457876,
          0.3430591515634336,
          0.3910575582553276,
          0.4386576379207329
         ]
        },
        {
         "marker": {
          "color": "#d000ff",
          "opacity": 0.8,
          "size": 8
         },
         "mode": "markers",
         "name": "xglm",
         "type": "scatter3d",
         "x": [
          0.5306282510621704,
          1.504077396776274,
          -0.5727010274840783,
          2.0149030205422647
         ],
         "y": [
          -0.6931471805599453,
          -0.6931471805599453,
          -0.6931471805599453,
          -0.6931471805599453
         ],
         "z": [
          0.4567815176259709,
          0.5794662417845051,
          0.3464449312885879,
          0.6077474606652061
         ]
        },
        {
         "marker": {
          "color": "#ff00cf",
          "opacity": 0.8,
          "size": 8
         },
         "mode": "markers",
         "name": "yi",
         "type": "scatter3d",
         "x": [
          3.526360524616161,
          1.791759469228055,
          2.197224577336219
         ],
         "y": [
          1.0986122886681096,
          1.0986122886681096,
          1.33500106673234
         ],
         "z": [
          0.8569010157339175,
          0.7656841266679945,
          0.7881999999999999
         ]
        },
        {
         "marker": {
          "color": "#ff0071",
          "opacity": 0.8,
          "size": 8
         },
         "mode": "markers",
         "name": "yi-1.5",
         "type": "scatter3d",
         "x": [
          3.526360524616161,
          1.791759469228055,
          2.197224577336219
         ],
         "y": [
          1.252762968495368,
          1.252762968495368,
          1.252762968495368
         ],
         "z": [
          0.8611,
          0.7792,
          0.8037000000000001
         ]
        }
       ],
       "layout": {
        "autosize": true,
        "margin": {
         "b": 0,
         "l": 0,
         "r": 0,
         "t": 0
        },
        "scene": {
         "aspectmode": "auto",
         "aspectratio": {
          "x": 1,
          "y": 1,
          "z": 1
         },
         "xaxis": {
          "title": {
           "text": "logS"
          },
          "type": "linear"
         },
         "yaxis": {
          "title": {
           "text": "logT"
          },
          "type": "linear"
         },
         "zaxis": {
          "title": {
           "text": "y"
          },
          "type": "linear"
         }
        },
        "template": {
         "data": {
          "bar": [
           {
            "error_x": {
             "color": "#2a3f5f"
            },
            "error_y": {
             "color": "#2a3f5f"
            },
            "marker": {
             "line": {
              "color": "#E5ECF6",
              "width": 0.5
             },
             "pattern": {
              "fillmode": "overlay",
              "size": 10,
              "solidity": 0.2
             }
            },
            "type": "bar"
           }
          ],
          "barpolar": [
           {
            "marker": {
             "line": {
              "color": "#E5ECF6",
              "width": 0.5
             },
             "pattern": {
              "fillmode": "overlay",
              "size": 10,
              "solidity": 0.2
             }
            },
            "type": "barpolar"
           }
          ],
          "carpet": [
           {
            "aaxis": {
             "endlinecolor": "#2a3f5f",
             "gridcolor": "white",
             "linecolor": "white",
             "minorgridcolor": "white",
             "startlinecolor": "#2a3f5f"
            },
            "baxis": {
             "endlinecolor": "#2a3f5f",
             "gridcolor": "white",
             "linecolor": "white",
             "minorgridcolor": "white",
             "startlinecolor": "#2a3f5f"
            },
            "type": "carpet"
           }
          ],
          "choropleth": [
           {
            "colorbar": {
             "outlinewidth": 0,
             "ticks": ""
            },
            "type": "choropleth"
           }
          ],
          "contour": [
           {
            "colorbar": {
             "outlinewidth": 0,
             "ticks": ""
            },
            "colorscale": [
             [
              0,
              "#0d0887"
             ],
             [
              0.1111111111111111,
              "#46039f"
             ],
             [
              0.2222222222222222,
              "#7201a8"
             ],
             [
              0.3333333333333333,
              "#9c179e"
             ],
             [
              0.4444444444444444,
              "#bd3786"
             ],
             [
              0.5555555555555556,
              "#d8576b"
             ],
             [
              0.6666666666666666,
              "#ed7953"
             ],
             [
              0.7777777777777778,
              "#fb9f3a"
             ],
             [
              0.8888888888888888,
              "#fdca26"
             ],
             [
              1,
              "#f0f921"
             ]
            ],
            "type": "contour"
           }
          ],
          "contourcarpet": [
           {
            "colorbar": {
             "outlinewidth": 0,
             "ticks": ""
            },
            "type": "contourcarpet"
           }
          ],
          "heatmap": [
           {
            "colorbar": {
             "outlinewidth": 0,
             "ticks": ""
            },
            "colorscale": [
             [
              0,
              "#0d0887"
             ],
             [
              0.1111111111111111,
              "#46039f"
             ],
             [
              0.2222222222222222,
              "#7201a8"
             ],
             [
              0.3333333333333333,
              "#9c179e"
             ],
             [
              0.4444444444444444,
              "#bd3786"
             ],
             [
              0.5555555555555556,
              "#d8576b"
             ],
             [
              0.6666666666666666,
              "#ed7953"
             ],
             [
              0.7777777777777778,
              "#fb9f3a"
             ],
             [
              0.8888888888888888,
              "#fdca26"
             ],
             [
              1,
              "#f0f921"
             ]
            ],
            "type": "heatmap"
           }
          ],
          "heatmapgl": [
           {
            "colorbar": {
             "outlinewidth": 0,
             "ticks": ""
            },
            "colorscale": [
             [
              0,
              "#0d0887"
             ],
             [
              0.1111111111111111,
              "#46039f"
             ],
             [
              0.2222222222222222,
              "#7201a8"
             ],
             [
              0.3333333333333333,
              "#9c179e"
             ],
             [
              0.4444444444444444,
              "#bd3786"
             ],
             [
              0.5555555555555556,
              "#d8576b"
             ],
             [
              0.6666666666666666,
              "#ed7953"
             ],
             [
              0.7777777777777778,
              "#fb9f3a"
             ],
             [
              0.8888888888888888,
              "#fdca26"
             ],
             [
              1,
              "#f0f921"
             ]
            ],
            "type": "heatmapgl"
           }
          ],
          "histogram": [
           {
            "marker": {
             "pattern": {
              "fillmode": "overlay",
              "size": 10,
              "solidity": 0.2
             }
            },
            "type": "histogram"
           }
          ],
          "histogram2d": [
           {
            "colorbar": {
             "outlinewidth": 0,
             "ticks": ""
            },
            "colorscale": [
             [
              0,
              "#0d0887"
             ],
             [
              0.1111111111111111,
              "#46039f"
             ],
             [
              0.2222222222222222,
              "#7201a8"
             ],
             [
              0.3333333333333333,
              "#9c179e"
             ],
             [
              0.4444444444444444,
              "#bd3786"
             ],
             [
              0.5555555555555556,
              "#d8576b"
             ],
             [
              0.6666666666666666,
              "#ed7953"
             ],
             [
              0.7777777777777778,
              "#fb9f3a"
             ],
             [
              0.8888888888888888,
              "#fdca26"
             ],
             [
              1,
              "#f0f921"
             ]
            ],
            "type": "histogram2d"
           }
          ],
          "histogram2dcontour": [
           {
            "colorbar": {
             "outlinewidth": 0,
             "ticks": ""
            },
            "colorscale": [
             [
              0,
              "#0d0887"
             ],
             [
              0.1111111111111111,
              "#46039f"
             ],
             [
              0.2222222222222222,
              "#7201a8"
             ],
             [
              0.3333333333333333,
              "#9c179e"
             ],
             [
              0.4444444444444444,
              "#bd3786"
             ],
             [
              0.5555555555555556,
              "#d8576b"
             ],
             [
              0.6666666666666666,
              "#ed7953"
             ],
             [
              0.7777777777777778,
              "#fb9f3a"
             ],
             [
              0.8888888888888888,
              "#fdca26"
             ],
             [
              1,
              "#f0f921"
             ]
            ],
            "type": "histogram2dcontour"
           }
          ],
          "mesh3d": [
           {
            "colorbar": {
             "outlinewidth": 0,
             "ticks": ""
            },
            "type": "mesh3d"
           }
          ],
          "parcoords": [
           {
            "line": {
             "colorbar": {
              "outlinewidth": 0,
              "ticks": ""
             }
            },
            "type": "parcoords"
           }
          ],
          "pie": [
           {
            "automargin": true,
            "type": "pie"
           }
          ],
          "scatter": [
           {
            "fillpattern": {
             "fillmode": "overlay",
             "size": 10,
             "solidity": 0.2
            },
            "type": "scatter"
           }
          ],
          "scatter3d": [
           {
            "line": {
             "colorbar": {
              "outlinewidth": 0,
              "ticks": ""
             }
            },
            "marker": {
             "colorbar": {
              "outlinewidth": 0,
              "ticks": ""
             }
            },
            "type": "scatter3d"
           }
          ],
          "scattercarpet": [
           {
            "marker": {
             "colorbar": {
              "outlinewidth": 0,
              "ticks": ""
             }
            },
            "type": "scattercarpet"
           }
          ],
          "scattergeo": [
           {
            "marker": {
             "colorbar": {
              "outlinewidth": 0,
              "ticks": ""
             }
            },
            "type": "scattergeo"
           }
          ],
          "scattergl": [
           {
            "marker": {
             "colorbar": {
              "outlinewidth": 0,
              "ticks": ""
             }
            },
            "type": "scattergl"
           }
          ],
          "scattermapbox": [
           {
            "marker": {
             "colorbar": {
              "outlinewidth": 0,
              "ticks": ""
             }
            },
            "type": "scattermapbox"
           }
          ],
          "scatterpolar": [
           {
            "marker": {
             "colorbar": {
              "outlinewidth": 0,
              "ticks": ""
             }
            },
            "type": "scatterpolar"
           }
          ],
          "scatterpolargl": [
           {
            "marker": {
             "colorbar": {
              "outlinewidth": 0,
              "ticks": ""
             }
            },
            "type": "scatterpolargl"
           }
          ],
          "scatterternary": [
           {
            "marker": {
             "colorbar": {
              "outlinewidth": 0,
              "ticks": ""
             }
            },
            "type": "scatterternary"
           }
          ],
          "surface": [
           {
            "colorbar": {
             "outlinewidth": 0,
             "ticks": ""
            },
            "colorscale": [
             [
              0,
              "#0d0887"
             ],
             [
              0.1111111111111111,
              "#46039f"
             ],
             [
              0.2222222222222222,
              "#7201a8"
             ],
             [
              0.3333333333333333,
              "#9c179e"
             ],
             [
              0.4444444444444444,
              "#bd3786"
             ],
             [
              0.5555555555555556,
              "#d8576b"
             ],
             [
              0.6666666666666666,
              "#ed7953"
             ],
             [
              0.7777777777777778,
              "#fb9f3a"
             ],
             [
              0.8888888888888888,
              "#fdca26"
             ],
             [
              1,
              "#f0f921"
             ]
            ],
            "type": "surface"
           }
          ],
          "table": [
           {
            "cells": {
             "fill": {
              "color": "#EBF0F8"
             },
             "line": {
              "color": "white"
             }
            },
            "header": {
             "fill": {
              "color": "#C8D4E3"
             },
             "line": {
              "color": "white"
             }
            },
            "type": "table"
           }
          ]
         },
         "layout": {
          "annotationdefaults": {
           "arrowcolor": "#2a3f5f",
           "arrowhead": 0,
           "arrowwidth": 1
          },
          "autotypenumbers": "strict",
          "coloraxis": {
           "colorbar": {
            "outlinewidth": 0,
            "ticks": ""
           }
          },
          "colorscale": {
           "diverging": [
            [
             0,
             "#8e0152"
            ],
            [
             0.1,
             "#c51b7d"
            ],
            [
             0.2,
             "#de77ae"
            ],
            [
             0.3,
             "#f1b6da"
            ],
            [
             0.4,
             "#fde0ef"
            ],
            [
             0.5,
             "#f7f7f7"
            ],
            [
             0.6,
             "#e6f5d0"
            ],
            [
             0.7,
             "#b8e186"
            ],
            [
             0.8,
             "#7fbc41"
            ],
            [
             0.9,
             "#4d9221"
            ],
            [
             1,
             "#276419"
            ]
           ],
           "sequential": [
            [
             0,
             "#0d0887"
            ],
            [
             0.1111111111111111,
             "#46039f"
            ],
            [
             0.2222222222222222,
             "#7201a8"
            ],
            [
             0.3333333333333333,
             "#9c179e"
            ],
            [
             0.4444444444444444,
             "#bd3786"
            ],
            [
             0.5555555555555556,
             "#d8576b"
            ],
            [
             0.6666666666666666,
             "#ed7953"
            ],
            [
             0.7777777777777778,
             "#fb9f3a"
            ],
            [
             0.8888888888888888,
             "#fdca26"
            ],
            [
             1,
             "#f0f921"
            ]
           ],
           "sequentialminus": [
            [
             0,
             "#0d0887"
            ],
            [
             0.1111111111111111,
             "#46039f"
            ],
            [
             0.2222222222222222,
             "#7201a8"
            ],
            [
             0.3333333333333333,
             "#9c179e"
            ],
            [
             0.4444444444444444,
             "#bd3786"
            ],
            [
             0.5555555555555556,
             "#d8576b"
            ],
            [
             0.6666666666666666,
             "#ed7953"
            ],
            [
             0.7777777777777778,
             "#fb9f3a"
            ],
            [
             0.8888888888888888,
             "#fdca26"
            ],
            [
             1,
             "#f0f921"
            ]
           ]
          },
          "colorway": [
           "#636efa",
           "#EF553B",
           "#00cc96",
           "#ab63fa",
           "#FFA15A",
           "#19d3f3",
           "#FF6692",
           "#B6E880",
           "#FF97FF",
           "#FECB52"
          ],
          "font": {
           "color": "#2a3f5f"
          },
          "geo": {
           "bgcolor": "white",
           "lakecolor": "white",
           "landcolor": "#E5ECF6",
           "showlakes": true,
           "showland": true,
           "subunitcolor": "white"
          },
          "hoverlabel": {
           "align": "left"
          },
          "hovermode": "closest",
          "mapbox": {
           "style": "light"
          },
          "paper_bgcolor": "white",
          "plot_bgcolor": "#E5ECF6",
          "polar": {
           "angularaxis": {
            "gridcolor": "white",
            "linecolor": "white",
            "ticks": ""
           },
           "bgcolor": "#E5ECF6",
           "radialaxis": {
            "gridcolor": "white",
            "linecolor": "white",
            "ticks": ""
           }
          },
          "scene": {
           "xaxis": {
            "backgroundcolor": "#E5ECF6",
            "gridcolor": "white",
            "gridwidth": 2,
            "linecolor": "white",
            "showbackground": true,
            "ticks": "",
            "zerolinecolor": "white"
           },
           "yaxis": {
            "backgroundcolor": "#E5ECF6",
            "gridcolor": "white",
            "gridwidth": 2,
            "linecolor": "white",
            "showbackground": true,
            "ticks": "",
            "zerolinecolor": "white"
           },
           "zaxis": {
            "backgroundcolor": "#E5ECF6",
            "gridcolor": "white",
            "gridwidth": 2,
            "linecolor": "white",
            "showbackground": true,
            "ticks": "",
            "zerolinecolor": "white"
           }
          },
          "shapedefaults": {
           "line": {
            "color": "#2a3f5f"
           }
          },
          "ternary": {
           "aaxis": {
            "gridcolor": "white",
            "linecolor": "white",
            "ticks": ""
           },
           "baxis": {
            "gridcolor": "white",
            "linecolor": "white",
            "ticks": ""
           },
           "bgcolor": "#E5ECF6",
           "caxis": {
            "gridcolor": "white",
            "linecolor": "white",
            "ticks": ""
           }
          },
          "title": {
           "x": 0.05
          },
          "xaxis": {
           "automargin": true,
           "gridcolor": "white",
           "linecolor": "white",
           "ticks": "",
           "title": {
            "standoff": 15
           },
           "zerolinecolor": "white",
           "zerolinewidth": 2
          },
          "yaxis": {
           "automargin": true,
           "gridcolor": "white",
           "linecolor": "white",
           "ticks": "",
           "title": {
            "standoff": 15
           },
           "zerolinecolor": "white",
           "zerolinewidth": 2
          }
         }
        }
       }
      },
      "text/html": [
       "<div>                            <div id=\"2aad50df-00b8-4d7e-b98e-50e0a8351d0f\" class=\"plotly-graph-div\" style=\"height:525px; width:100%;\"></div>            <script type=\"text/javascript\">                require([\"plotly\"], function(Plotly) {                    window.PLOTLYENV=window.PLOTLYENV || {};                                    if (document.getElementById(\"2aad50df-00b8-4d7e-b98e-50e0a8351d0f\")) {                    Plotly.newPlot(                        \"2aad50df-00b8-4d7e-b98e-50e0a8351d0f\",                        [{\"marker\":{\"color\":\"#ff5f00\",\"opacity\":0.8,\"size\":8},\"mode\":\"markers\",\"name\":\"bloom\",\"x\":[5.170483995038151,0.0,1.0986122886681096,-0.579818495252942,1.9459101490553132],\"y\":[-1.0051219455807707,-1.0758728016986203,-1.0758728016986203,-1.0758728016986203,-1.0758728016986203],\"z\":[0.7640908185620394,0.4278032264489145,0.54371639115714,0.371539533957379,0.6199960167297351],\"type\":\"scatter3d\"},{\"marker\":{\"color\":\"#ffbd00\",\"opacity\":0.8,\"size\":8},\"mode\":\"markers\",\"name\":\"codellama\",\"x\":[2.5649493574615367,3.526360524616161,4.2484952420493585,1.9459101490553132],\"y\":[0.9242589015233319,0.9242589015233319,1.1052568313867783,0.9242589015233319],\"z\":[0.6335391356303525,0.7582154949213304,0.7821151165106552,0.6080462059350727],\"type\":\"scatter3d\"},{\"marker\":{\"color\":\"#e2ff00\",\"opacity\":0.8,\"size\":8},\"mode\":\"markers\",\"name\":\"falcon\",\"x\":[5.19295685089021,3.6888794541139363,1.9459101490553132,0.0],\"y\":[1.252762968495368,0.0,0.4054651081081644,-1.0498221244986778],\"z\":[0.8888667596096396,0.8528181637124079,0.7813184624576778,0.6356303525194185],\"type\":\"scatter3d\"},{\"marker\":{\"color\":\"#84ff00\",\"opacity\":0.8,\"size\":8},\"mode\":\"markers\",\"name\":\"gpt-neo\\u002fj\",\"x\":[1.791759469228055,0.26236426446749106,-2.0794415416798357,0.9932517730102834,2.995732273553991],\"y\":[-0.9113031903631159,-0.9675840262617056,-1.203972804325936,-0.8675005677047231,-0.7507762933965817],\"z\":[0.675363473411671,0.4846644094801832,0.3026289583748257,0.5624377614021111,0.73451503684525],\"type\":\"scatter3d\"},{\"marker\":{\"color\":\"#25ff00\",\"opacity\":0.8,\"size\":8},\"mode\":\"markers\",\"name\":\"llama\",\"x\":[2.5649493574615367,3.4011973816621555,4.174387269895637,1.9459101490553132],\"y\":[0.0,0.33647223662121284,0.33647223662121284,0.0],\"z\":[0.8092013543118901,0.8473411670981876,0.8608842859988051,0.7781318462457678],\"type\":\"scatter3d\"},{\"marker\":{\"color\":\"#00ff39\",\"opacity\":0.8,\"size\":8},\"mode\":\"markers\",\"name\":\"opt\",\"x\":[0.26236426446749106,-2.0794415416798357,2.5649493574615367,0.9932517730102834,3.4011973816621555,-1.0498221244986778,1.9021075263969203,4.189654742026425],\"y\":[-1.7147984280919266,-1.7147984280919266,-1.7147984280919266,-1.7147984280919266,-1.7147984280919266,-1.7147984280919266,-1.7147984280919266,-1.7147984280919266],\"z\":[0.545309699263095,0.3146783509261103,0.7120095598486357,0.6143198566022705,0.7406891057558256,0.367257518422625,0.6866162119099781,0.7624975104560845],\"type\":\"scatter3d\"},{\"marker\":{\"color\":\"#00ff97\",\"opacity\":0.8,\"size\":8},\"mode\":\"markers\",\"name\":\"pythia-deduped\",\"x\":[0.33647223662121284,2.4849066497880004,-1.83258146374831,0.0,1.0296194171811581,-0.8915981192837836,1.9315214116032138,-2.659260036932778],\"y\":[-1.203972804325936,-1.203972804325936,-1.203972804325936,-1.203972804325936,-1.203972804325936,-1.203972804325936,-1.203972804325936,-1.203972804325936],\"z\":[0.5495917147978491,0.7026488747261501,0.3138816968731328,0.4965146385182235,0.6065524795857399,0.4128659629555865,0.6704839673371839,0.2716590320653256],\"type\":\"scatter3d\"},{\"marker\":{\"color\":\"#00fff6\",\"opacity\":0.8,\"size\":8},\"mode\":\"markers\",\"name\":\"qwen1.5\",\"x\":[-0.6931471805599453,0.5877866649021191,2.6390573296152584,3.4657359027997265,1.3862943611198906,4.276666119016055,1.9459101490553132],\"y\":[0.8754687373538999,0.8754687373538999,1.3862943611198906,1.3862943611198906,0.8754687373538999,1.0986122886681096,1.3862943611198906],\"z\":[0.4905397331208923,0.6142202748456482,0.810794662417845,0.8500298745269866,0.7157936666002789,0.8598884684325832,0.7851025692093209],\"type\":\"scatter3d\"},{\"marker\":{\"color\":\"#00aaff\",\"opacity\":0.8,\"size\":8},\"mode\":\"markers\",\"name\":\"qwen2\",\"x\":[-0.6931471805599453,0.4054651081081644,4.276666119016055,1.9459101490553132],\"y\":[2.4849066497880004,1.9459101490553132,1.9459101490553132,1.9459101490553132],\"z\":[0.4874,0.6667000000000001,0.8726999999999999,0.7981999999999999],\"type\":\"scatter3d\"},{\"marker\":{\"color\":\"#004bff\",\"opacity\":0.8,\"size\":8},\"mode\":\"markers\",\"name\":\"rwkv\",\"x\":[2.6390573296152584,-1.7778565640590633,0.0,1.0986122886681096,-0.843970070294529,1.9459101490553132,2.6390573296152584],\"y\":[-1.1086626245216111,-1.1086626245216111,-1.1086626245216111,-1.1086626245216111,-1.1086626245216111,-1.1086626245216111,-1.1086626245216111],\"z\":[0.7107149970125473,0.3173670583549093,0.5225054769966142,0.5965943039235212,0.4001194981079466,0.663114917347142,0.7125074686317466],\"type\":\"scatter3d\"},{\"marker\":{\"color\":\"#1300ff\",\"opacity\":0.8,\"size\":8},\"mode\":\"markers\",\"name\":\"stablelm\",\"x\":[1.791759469228055,1.0986122886681096,1.9459101490553132,1.9459101490553132],\"y\":[0.6931471805599453,0.4054651081081644,0.4054651081081644,0.09531017980432495],\"z\":[0.7045409281019717,0.4224258115913165,0.5178251344353715,0.770762796255726],\"type\":\"scatter3d\"},{\"marker\":{\"color\":\"#7200ff\",\"opacity\":0.8,\"size\":8},\"mode\":\"markers\",\"name\":\"starcoder\",\"x\":[2.740840023925201,0.0,1.0986122886681096,1.9459101490553132],\"y\":[0.0,0.0,0.0,0.0],\"z\":[0.4721171081457876,0.3430591515634336,0.3910575582553276,0.4386576379207329],\"type\":\"scatter3d\"},{\"marker\":{\"color\":\"#d000ff\",\"opacity\":0.8,\"size\":8},\"mode\":\"markers\",\"name\":\"xglm\",\"x\":[0.5306282510621704,1.504077396776274,-0.5727010274840783,2.0149030205422647],\"y\":[-0.6931471805599453,-0.6931471805599453,-0.6931471805599453,-0.6931471805599453],\"z\":[0.4567815176259709,0.5794662417845051,0.3464449312885879,0.6077474606652061],\"type\":\"scatter3d\"},{\"marker\":{\"color\":\"#ff00cf\",\"opacity\":0.8,\"size\":8},\"mode\":\"markers\",\"name\":\"yi\",\"x\":[3.526360524616161,1.791759469228055,2.197224577336219],\"y\":[1.0986122886681096,1.0986122886681096,1.33500106673234],\"z\":[0.8569010157339175,0.7656841266679945,0.7881999999999999],\"type\":\"scatter3d\"},{\"marker\":{\"color\":\"#ff0071\",\"opacity\":0.8,\"size\":8},\"mode\":\"markers\",\"name\":\"yi-1.5\",\"x\":[3.526360524616161,1.791759469228055,2.197224577336219],\"y\":[1.252762968495368,1.252762968495368,1.252762968495368],\"z\":[0.8611,0.7792,0.8037000000000001],\"type\":\"scatter3d\"}],                        {\"margin\":{\"b\":0,\"l\":0,\"r\":0,\"t\":0},\"scene\":{\"xaxis\":{\"title\":{\"text\":\"logS\"}},\"yaxis\":{\"title\":{\"text\":\"logT\"}},\"zaxis\":{\"title\":{\"text\":\"y\"}}},\"template\":{\"data\":{\"histogram2dcontour\":[{\"type\":\"histogram2dcontour\",\"colorbar\":{\"outlinewidth\":0,\"ticks\":\"\"},\"colorscale\":[[0.0,\"#0d0887\"],[0.1111111111111111,\"#46039f\"],[0.2222222222222222,\"#7201a8\"],[0.3333333333333333,\"#9c179e\"],[0.4444444444444444,\"#bd3786\"],[0.5555555555555556,\"#d8576b\"],[0.6666666666666666,\"#ed7953\"],[0.7777777777777778,\"#fb9f3a\"],[0.8888888888888888,\"#fdca26\"],[1.0,\"#f0f921\"]]}],\"choropleth\":[{\"type\":\"choropleth\",\"colorbar\":{\"outlinewidth\":0,\"ticks\":\"\"}}],\"histogram2d\":[{\"type\":\"histogram2d\",\"colorbar\":{\"outlinewidth\":0,\"ticks\":\"\"},\"colorscale\":[[0.0,\"#0d0887\"],[0.1111111111111111,\"#46039f\"],[0.2222222222222222,\"#7201a8\"],[0.3333333333333333,\"#9c179e\"],[0.4444444444444444,\"#bd3786\"],[0.5555555555555556,\"#d8576b\"],[0.6666666666666666,\"#ed7953\"],[0.7777777777777778,\"#fb9f3a\"],[0.8888888888888888,\"#fdca26\"],[1.0,\"#f0f921\"]]}],\"heatmap\":[{\"type\":\"heatmap\",\"colorbar\":{\"outlinewidth\":0,\"ticks\":\"\"},\"colorscale\":[[0.0,\"#0d0887\"],[0.1111111111111111,\"#46039f\"],[0.2222222222222222,\"#7201a8\"],[0.3333333333333333,\"#9c179e\"],[0.4444444444444444,\"#bd3786\"],[0.5555555555555556,\"#d8576b\"],[0.6666666666666666,\"#ed7953\"],[0.7777777777777778,\"#fb9f3a\"],[0.8888888888888888,\"#fdca26\"],[1.0,\"#f0f921\"]]}],\"heatmapgl\":[{\"type\":\"heatmapgl\",\"colorbar\":{\"outlinewidth\":0,\"ticks\":\"\"},\"colorscale\":[[0.0,\"#0d0887\"],[0.1111111111111111,\"#46039f\"],[0.2222222222222222,\"#7201a8\"],[0.3333333333333333,\"#9c179e\"],[0.4444444444444444,\"#bd3786\"],[0.5555555555555556,\"#d8576b\"],[0.6666666666666666,\"#ed7953\"],[0.7777777777777778,\"#fb9f3a\"],[0.8888888888888888,\"#fdca26\"],[1.0,\"#f0f921\"]]}],\"contourcarpet\":[{\"type\":\"contourcarpet\",\"colorbar\":{\"outlinewidth\":0,\"ticks\":\"\"}}],\"contour\":[{\"type\":\"contour\",\"colorbar\":{\"outlinewidth\":0,\"ticks\":\"\"},\"colorscale\":[[0.0,\"#0d0887\"],[0.1111111111111111,\"#46039f\"],[0.2222222222222222,\"#7201a8\"],[0.3333333333333333,\"#9c179e\"],[0.4444444444444444,\"#bd3786\"],[0.5555555555555556,\"#d8576b\"],[0.6666666666666666,\"#ed7953\"],[0.7777777777777778,\"#fb9f3a\"],[0.8888888888888888,\"#fdca26\"],[1.0,\"#f0f921\"]]}],\"surface\":[{\"type\":\"surface\",\"colorbar\":{\"outlinewidth\":0,\"ticks\":\"\"},\"colorscale\":[[0.0,\"#0d0887\"],[0.1111111111111111,\"#46039f\"],[0.2222222222222222,\"#7201a8\"],[0.3333333333333333,\"#9c179e\"],[0.4444444444444444,\"#bd3786\"],[0.5555555555555556,\"#d8576b\"],[0.6666666666666666,\"#ed7953\"],[0.7777777777777778,\"#fb9f3a\"],[0.8888888888888888,\"#fdca26\"],[1.0,\"#f0f921\"]]}],\"mesh3d\":[{\"type\":\"mesh3d\",\"colorbar\":{\"outlinewidth\":0,\"ticks\":\"\"}}],\"scatter\":[{\"fillpattern\":{\"fillmode\":\"overlay\",\"size\":10,\"solidity\":0.2},\"type\":\"scatter\"}],\"parcoords\":[{\"type\":\"parcoords\",\"line\":{\"colorbar\":{\"outlinewidth\":0,\"ticks\":\"\"}}}],\"scatterpolargl\":[{\"type\":\"scatterpolargl\",\"marker\":{\"colorbar\":{\"outlinewidth\":0,\"ticks\":\"\"}}}],\"bar\":[{\"error_x\":{\"color\":\"#2a3f5f\"},\"error_y\":{\"color\":\"#2a3f5f\"},\"marker\":{\"line\":{\"color\":\"#E5ECF6\",\"width\":0.5},\"pattern\":{\"fillmode\":\"overlay\",\"size\":10,\"solidity\":0.2}},\"type\":\"bar\"}],\"scattergeo\":[{\"type\":\"scattergeo\",\"marker\":{\"colorbar\":{\"outlinewidth\":0,\"ticks\":\"\"}}}],\"scatterpolar\":[{\"type\":\"scatterpolar\",\"marker\":{\"colorbar\":{\"outlinewidth\":0,\"ticks\":\"\"}}}],\"histogram\":[{\"marker\":{\"pattern\":{\"fillmode\":\"overlay\",\"size\":10,\"solidity\":0.2}},\"type\":\"histogram\"}],\"scattergl\":[{\"type\":\"scattergl\",\"marker\":{\"colorbar\":{\"outlinewidth\":0,\"ticks\":\"\"}}}],\"scatter3d\":[{\"type\":\"scatter3d\",\"line\":{\"colorbar\":{\"outlinewidth\":0,\"ticks\":\"\"}},\"marker\":{\"colorbar\":{\"outlinewidth\":0,\"ticks\":\"\"}}}],\"scattermapbox\":[{\"type\":\"scattermapbox\",\"marker\":{\"colorbar\":{\"outlinewidth\":0,\"ticks\":\"\"}}}],\"scatterternary\":[{\"type\":\"scatterternary\",\"marker\":{\"colorbar\":{\"outlinewidth\":0,\"ticks\":\"\"}}}],\"scattercarpet\":[{\"type\":\"scattercarpet\",\"marker\":{\"colorbar\":{\"outlinewidth\":0,\"ticks\":\"\"}}}],\"carpet\":[{\"aaxis\":{\"endlinecolor\":\"#2a3f5f\",\"gridcolor\":\"white\",\"linecolor\":\"white\",\"minorgridcolor\":\"white\",\"startlinecolor\":\"#2a3f5f\"},\"baxis\":{\"endlinecolor\":\"#2a3f5f\",\"gridcolor\":\"white\",\"linecolor\":\"white\",\"minorgridcolor\":\"white\",\"startlinecolor\":\"#2a3f5f\"},\"type\":\"carpet\"}],\"table\":[{\"cells\":{\"fill\":{\"color\":\"#EBF0F8\"},\"line\":{\"color\":\"white\"}},\"header\":{\"fill\":{\"color\":\"#C8D4E3\"},\"line\":{\"color\":\"white\"}},\"type\":\"table\"}],\"barpolar\":[{\"marker\":{\"line\":{\"color\":\"#E5ECF6\",\"width\":0.5},\"pattern\":{\"fillmode\":\"overlay\",\"size\":10,\"solidity\":0.2}},\"type\":\"barpolar\"}],\"pie\":[{\"automargin\":true,\"type\":\"pie\"}]},\"layout\":{\"autotypenumbers\":\"strict\",\"colorway\":[\"#636efa\",\"#EF553B\",\"#00cc96\",\"#ab63fa\",\"#FFA15A\",\"#19d3f3\",\"#FF6692\",\"#B6E880\",\"#FF97FF\",\"#FECB52\"],\"font\":{\"color\":\"#2a3f5f\"},\"hovermode\":\"closest\",\"hoverlabel\":{\"align\":\"left\"},\"paper_bgcolor\":\"white\",\"plot_bgcolor\":\"#E5ECF6\",\"polar\":{\"bgcolor\":\"#E5ECF6\",\"angularaxis\":{\"gridcolor\":\"white\",\"linecolor\":\"white\",\"ticks\":\"\"},\"radialaxis\":{\"gridcolor\":\"white\",\"linecolor\":\"white\",\"ticks\":\"\"}},\"ternary\":{\"bgcolor\":\"#E5ECF6\",\"aaxis\":{\"gridcolor\":\"white\",\"linecolor\":\"white\",\"ticks\":\"\"},\"baxis\":{\"gridcolor\":\"white\",\"linecolor\":\"white\",\"ticks\":\"\"},\"caxis\":{\"gridcolor\":\"white\",\"linecolor\":\"white\",\"ticks\":\"\"}},\"coloraxis\":{\"colorbar\":{\"outlinewidth\":0,\"ticks\":\"\"}},\"colorscale\":{\"sequential\":[[0.0,\"#0d0887\"],[0.1111111111111111,\"#46039f\"],[0.2222222222222222,\"#7201a8\"],[0.3333333333333333,\"#9c179e\"],[0.4444444444444444,\"#bd3786\"],[0.5555555555555556,\"#d8576b\"],[0.6666666666666666,\"#ed7953\"],[0.7777777777777778,\"#fb9f3a\"],[0.8888888888888888,\"#fdca26\"],[1.0,\"#f0f921\"]],\"sequentialminus\":[[0.0,\"#0d0887\"],[0.1111111111111111,\"#46039f\"],[0.2222222222222222,\"#7201a8\"],[0.3333333333333333,\"#9c179e\"],[0.4444444444444444,\"#bd3786\"],[0.5555555555555556,\"#d8576b\"],[0.6666666666666666,\"#ed7953\"],[0.7777777777777778,\"#fb9f3a\"],[0.8888888888888888,\"#fdca26\"],[1.0,\"#f0f921\"]],\"diverging\":[[0,\"#8e0152\"],[0.1,\"#c51b7d\"],[0.2,\"#de77ae\"],[0.3,\"#f1b6da\"],[0.4,\"#fde0ef\"],[0.5,\"#f7f7f7\"],[0.6,\"#e6f5d0\"],[0.7,\"#b8e186\"],[0.8,\"#7fbc41\"],[0.9,\"#4d9221\"],[1,\"#276419\"]]},\"xaxis\":{\"gridcolor\":\"white\",\"linecolor\":\"white\",\"ticks\":\"\",\"title\":{\"standoff\":15},\"zerolinecolor\":\"white\",\"automargin\":true,\"zerolinewidth\":2},\"yaxis\":{\"gridcolor\":\"white\",\"linecolor\":\"white\",\"ticks\":\"\",\"title\":{\"standoff\":15},\"zerolinecolor\":\"white\",\"automargin\":true,\"zerolinewidth\":2},\"scene\":{\"xaxis\":{\"backgroundcolor\":\"#E5ECF6\",\"gridcolor\":\"white\",\"linecolor\":\"white\",\"showbackground\":true,\"ticks\":\"\",\"zerolinecolor\":\"white\",\"gridwidth\":2},\"yaxis\":{\"backgroundcolor\":\"#E5ECF6\",\"gridcolor\":\"white\",\"linecolor\":\"white\",\"showbackground\":true,\"ticks\":\"\",\"zerolinecolor\":\"white\",\"gridwidth\":2},\"zaxis\":{\"backgroundcolor\":\"#E5ECF6\",\"gridcolor\":\"white\",\"linecolor\":\"white\",\"showbackground\":true,\"ticks\":\"\",\"zerolinecolor\":\"white\",\"gridwidth\":2}},\"shapedefaults\":{\"line\":{\"color\":\"#2a3f5f\"}},\"annotationdefaults\":{\"arrowcolor\":\"#2a3f5f\",\"arrowhead\":0,\"arrowwidth\":1},\"geo\":{\"bgcolor\":\"white\",\"landcolor\":\"#E5ECF6\",\"subunitcolor\":\"white\",\"showland\":true,\"showlakes\":true,\"lakecolor\":\"white\"},\"title\":{\"x\":0.05},\"mapbox\":{\"style\":\"light\"}}}},                        {\"responsive\": true}                    ).then(function(){\n",
       "                            \n",
       "var gd = document.getElementById('2aad50df-00b8-4d7e-b98e-50e0a8351d0f');\n",
       "var x = new MutationObserver(function (mutations, observer) {{\n",
       "        var display = window.getComputedStyle(gd).display;\n",
       "        if (!display || display === 'none') {{\n",
       "            console.log([gd, 'removed!']);\n",
       "            Plotly.purge(gd);\n",
       "            observer.disconnect();\n",
       "        }}\n",
       "}});\n",
       "\n",
       "// Listen for the removal of the full notebook cells\n",
       "var notebookContainer = gd.closest('#notebook-container');\n",
       "if (notebookContainer) {{\n",
       "    x.observe(notebookContainer, {childList: true});\n",
       "}}\n",
       "\n",
       "// Listen for the clearing of the current output cell\n",
       "var outputEl = gd.closest('.output');\n",
       "if (outputEl) {{\n",
       "    x.observe(outputEl, {childList: true});\n",
       "}}\n",
       "\n",
       "                        })                };                });            </script>        </div>"
      ]
     },
     "metadata": {},
     "output_type": "display_data"
    },
    {
     "name": "stdout",
     "output_type": "stream",
     "text": [
      "************ Winogrande ************\n"
     ]
    },
    {
     "data": {
      "application/vnd.plotly.v1+json": {
       "config": {
        "plotlyServerURL": "https://plot.ly"
       },
       "data": [
        {
         "marker": {
          "color": "#ff5f00",
          "opacity": 0.8,
          "size": 8
         },
         "mode": "markers",
         "name": "bloom",
         "type": "scatter3d",
         "x": [
          5.170483995038151,
          0,
          1.0986122886681096,
          -0.579818495252942,
          1.9459101490553132
         ],
         "y": [
          -1.0051219455807707,
          -1.0758728016986203,
          -1.0758728016986203,
          -1.0758728016986203,
          -1.0758728016986203
         ],
         "z": [
          0.7205998421468035,
          0.5501183898973955,
          0.5761641673243884,
          0.5193370165745856,
          0.654301499605367
         ]
        },
        {
         "marker": {
          "color": "#ffbd00",
          "opacity": 0.8,
          "size": 8
         },
         "mode": "markers",
         "name": "codellama",
         "type": "scatter3d",
         "x": [
          2.5649493574615367,
          3.526360524616161,
          4.2484952420493585,
          1.9459101490553132
         ],
         "y": [
          0.9242589015233319,
          0.9242589015233319,
          1.1052568313867783,
          0.9242589015233319
         ],
         "z": [
          0.6716653512233622,
          0.7355958958168903,
          0.7521704814522494,
          0.6400947119179163
         ]
        },
        {
         "marker": {
          "color": "#e2ff00",
          "opacity": 0.8,
          "size": 8
         },
         "mode": "markers",
         "name": "falcon",
         "type": "scatter3d",
         "x": [
          5.19295685089021,
          3.6888794541139363,
          1.9459101490553132,
          0
         ],
         "y": [
          1.252762968495368,
          0,
          0.4054651081081644,
          -1.0498221244986778
         ],
         "z": [
          0.8689818468823993,
          0.8129439621152328,
          0.7237569060773481,
          0.6203630623520127
         ]
        },
        {
         "marker": {
          "color": "#84ff00",
          "opacity": 0.8,
          "size": 8
         },
         "mode": "markers",
         "name": "gpt-neo/j",
         "type": "scatter3d",
         "x": [
          1.791759469228055,
          0.26236426446749106,
          -2.0794415416798357,
          0.9932517730102834,
          2.995732273553991
         ],
         "y": [
          -0.9113031903631159,
          -0.9675840262617056,
          -1.203972804325936,
          -0.8675005677047231,
          -0.7507762933965817
         ],
         "z": [
          0.65982636148382,
          0.569060773480663,
          0.5177584846093133,
          0.6006314127861089,
          0.6890292028413575
         ]
        },
        {
         "marker": {
          "color": "#25ff00",
          "opacity": 0.8,
          "size": 8
         },
         "mode": "markers",
         "name": "llama",
         "type": "scatter3d",
         "x": [
          2.5649493574615367,
          3.4011973816621555,
          4.174387269895637,
          1.9459101490553132
         ],
         "y": [
          0,
          0.33647223662121284,
          0.33647223662121284,
          0
         ],
         "z": [
          0.7624309392265194,
          0.8003157063930545,
          0.8255722178374112,
          0.7142857142857143
         ]
        },
        {
         "marker": {
          "color": "#00ff39",
          "opacity": 0.8,
          "size": 8
         },
         "mode": "markers",
         "name": "opt",
         "type": "scatter3d",
         "x": [
          0.26236426446749106,
          -2.0794415416798357,
          2.5649493574615367,
          0.9932517730102834,
          3.4011973816621555,
          -1.0498221244986778,
          1.9021075263969203,
          4.189654742026425
         ],
         "y": [
          -1.7147984280919266,
          -1.7147984280919266,
          -1.7147984280919266,
          -1.7147984280919266,
          -1.7147984280919266,
          -1.7147984280919266,
          -1.7147984280919266,
          -1.7147984280919266
         ],
         "z": [
          0.5974743488555643,
          0.516179952644041,
          0.6850828729281768,
          0.6195737963693765,
          0.7063930544593529,
          0.526440410418311,
          0.65982636148382,
          0.7000789265982637
         ]
        },
        {
         "marker": {
          "color": "#00ff97",
          "opacity": 0.8,
          "size": 8
         },
         "mode": "markers",
         "name": "pythia-deduped",
         "type": "scatter3d",
         "x": [
          0.33647223662121284,
          2.4849066497880004,
          -1.83258146374831,
          0,
          1.0296194171811581,
          -0.8915981192837836,
          1.9315214116032138,
          -2.659260036932778
         ],
         "y": [
          -1.203972804325936,
          -1.203972804325936,
          -1.203972804325936,
          -1.203972804325936,
          -1.203972804325936,
          -1.203972804325936,
          -1.203972804325936,
          -1.203972804325936
         ],
         "z": [
          0.5730071033938438,
          0.664561957379637,
          0.5138121546961326,
          0.5359116022099447,
          0.6022099447513812,
          0.5438042620363063,
          0.6408839779005525,
          0.4964483030781373
         ]
        },
        {
         "marker": {
          "color": "#00fff6",
          "opacity": 0.8,
          "size": 8
         },
         "mode": "markers",
         "name": "qwen1.5",
         "type": "scatter3d",
         "x": [
          -0.6931471805599453,
          0.5877866649021191,
          2.6390573296152584,
          3.4657359027997265,
          1.3862943611198906,
          4.276666119016055,
          1.9459101490553132
         ],
         "y": [
          0.8754687373538999,
          0.8754687373538999,
          1.3862943611198906,
          1.3862943611198906,
          0.8754687373538999,
          1.0986122886681096,
          1.3862943611198906
         ],
         "z": [
          0.5722178374112076,
          0.6029992107340174,
          0.7348066298342542,
          0.8145224940805051,
          0.6621941594317285,
          0.8303078137332282,
          0.712707182320442
         ]
        },
        {
         "marker": {
          "color": "#00aaff",
          "opacity": 0.8,
          "size": 8
         },
         "mode": "markers",
         "name": "qwen2",
         "type": "scatter3d",
         "x": [
          -0.6931471805599453,
          0.4054651081081644,
          4.276666119016055,
          1.9459101490553132
         ],
         "y": [
          2.4849066497880004,
          1.9459101490553132,
          1.9459101490553132,
          1.9459101490553132
         ],
         "z": [
          0.5579999999999999,
          0.6487999999999999,
          0.8445,
          0.7434999999999999
         ]
        },
        {
         "marker": {
          "color": "#004bff",
          "opacity": 0.8,
          "size": 8
         },
         "mode": "markers",
         "name": "rwkv",
         "type": "scatter3d",
         "x": [
          2.6390573296152584,
          -1.7778565640590633,
          0,
          1.0986122886681096,
          -0.843970070294529,
          1.9459101490553132,
          2.6390573296152584
         ],
         "y": [
          -1.1086626245216111,
          -1.1086626245216111,
          -1.1086626245216111,
          -1.1086626245216111,
          -1.1086626245216111,
          -1.1086626245216111,
          -1.1086626245216111
         ],
         "z": [
          0.654301499605367,
          0.5090765588003157,
          0.5382794001578532,
          0.5832675611681136,
          0.5114443567482242,
          0.6235201262825573,
          0.6669297553275454
         ]
        },
        {
         "marker": {
          "color": "#1300ff",
          "opacity": 0.8,
          "size": 8
         },
         "mode": "markers",
         "name": "stablelm",
         "type": "scatter3d",
         "x": [
          1.791759469228055,
          1.0986122886681096,
          1.9459101490553132,
          1.9459101490553132
         ],
         "y": [
          0.6931471805599453,
          0.4054651081081644,
          0.4054651081081644,
          0.09531017980432495
         ],
         "z": [
          0.6456195737963694,
          0.5390686661404893,
          0.5540647198105761,
          0.6850828729281768
         ]
        },
        {
         "marker": {
          "color": "#7200ff",
          "opacity": 0.8,
          "size": 8
         },
         "mode": "markers",
         "name": "starcoder",
         "type": "scatter3d",
         "x": [
          2.740840023925201,
          0,
          1.0986122886681096,
          1.9459101490553132
         ],
         "y": [
          0,
          0,
          0,
          0
         ],
         "z": [
          0.5580110497237569,
          0.4996053670086819,
          0.5114443567482242,
          0.5438042620363063
         ]
        },
        {
         "marker": {
          "color": "#d000ff",
          "opacity": 0.8,
          "size": 8
         },
         "mode": "markers",
         "name": "xglm",
         "type": "scatter3d",
         "x": [
          0.5306282510621704,
          1.504077396776274,
          -0.5727010274840783,
          2.0149030205422647
         ],
         "y": [
          -0.6931471805599453,
          -0.6931471805599453,
          -0.6931471805599453,
          -0.6931471805599453
         ],
         "z": [
          0.5390686661404893,
          0.5493291239147593,
          0.5224940805051302,
          0.5872138910812944
         ]
        },
        {
         "marker": {
          "color": "#ff00cf",
          "opacity": 0.8,
          "size": 8
         },
         "mode": "markers",
         "name": "yi",
         "type": "scatter3d",
         "x": [
          3.526360524616161,
          1.791759469228055,
          2.197224577336219
         ],
         "y": [
          1.0986122886681096,
          1.0986122886681096,
          1.33500106673234
         ],
         "z": [
          0.8303078137332282,
          0.7419100236779794,
          0.7751
         ]
        },
        {
         "marker": {
          "color": "#ff0071",
          "opacity": 0.8,
          "size": 8
         },
         "mode": "markers",
         "name": "yi-1.5",
         "type": "scatter3d",
         "x": [
          3.526360524616161,
          1.791759469228055,
          2.197224577336219
         ],
         "y": [
          1.252762968495368,
          1.252762968495368,
          1.252762968495368
         ],
         "z": [
          0.8406,
          0.7514,
          0.7798
         ]
        }
       ],
       "layout": {
        "autosize": true,
        "margin": {
         "b": 0,
         "l": 0,
         "r": 0,
         "t": 0
        },
        "scene": {
         "aspectmode": "auto",
         "aspectratio": {
          "x": 1,
          "y": 1,
          "z": 1
         },
         "xaxis": {
          "title": {
           "text": "logS"
          },
          "type": "linear"
         },
         "yaxis": {
          "title": {
           "text": "logT"
          },
          "type": "linear"
         },
         "zaxis": {
          "title": {
           "text": "y"
          },
          "type": "linear"
         }
        },
        "template": {
         "data": {
          "bar": [
           {
            "error_x": {
             "color": "#2a3f5f"
            },
            "error_y": {
             "color": "#2a3f5f"
            },
            "marker": {
             "line": {
              "color": "#E5ECF6",
              "width": 0.5
             },
             "pattern": {
              "fillmode": "overlay",
              "size": 10,
              "solidity": 0.2
             }
            },
            "type": "bar"
           }
          ],
          "barpolar": [
           {
            "marker": {
             "line": {
              "color": "#E5ECF6",
              "width": 0.5
             },
             "pattern": {
              "fillmode": "overlay",
              "size": 10,
              "solidity": 0.2
             }
            },
            "type": "barpolar"
           }
          ],
          "carpet": [
           {
            "aaxis": {
             "endlinecolor": "#2a3f5f",
             "gridcolor": "white",
             "linecolor": "white",
             "minorgridcolor": "white",
             "startlinecolor": "#2a3f5f"
            },
            "baxis": {
             "endlinecolor": "#2a3f5f",
             "gridcolor": "white",
             "linecolor": "white",
             "minorgridcolor": "white",
             "startlinecolor": "#2a3f5f"
            },
            "type": "carpet"
           }
          ],
          "choropleth": [
           {
            "colorbar": {
             "outlinewidth": 0,
             "ticks": ""
            },
            "type": "choropleth"
           }
          ],
          "contour": [
           {
            "colorbar": {
             "outlinewidth": 0,
             "ticks": ""
            },
            "colorscale": [
             [
              0,
              "#0d0887"
             ],
             [
              0.1111111111111111,
              "#46039f"
             ],
             [
              0.2222222222222222,
              "#7201a8"
             ],
             [
              0.3333333333333333,
              "#9c179e"
             ],
             [
              0.4444444444444444,
              "#bd3786"
             ],
             [
              0.5555555555555556,
              "#d8576b"
             ],
             [
              0.6666666666666666,
              "#ed7953"
             ],
             [
              0.7777777777777778,
              "#fb9f3a"
             ],
             [
              0.8888888888888888,
              "#fdca26"
             ],
             [
              1,
              "#f0f921"
             ]
            ],
            "type": "contour"
           }
          ],
          "contourcarpet": [
           {
            "colorbar": {
             "outlinewidth": 0,
             "ticks": ""
            },
            "type": "contourcarpet"
           }
          ],
          "heatmap": [
           {
            "colorbar": {
             "outlinewidth": 0,
             "ticks": ""
            },
            "colorscale": [
             [
              0,
              "#0d0887"
             ],
             [
              0.1111111111111111,
              "#46039f"
             ],
             [
              0.2222222222222222,
              "#7201a8"
             ],
             [
              0.3333333333333333,
              "#9c179e"
             ],
             [
              0.4444444444444444,
              "#bd3786"
             ],
             [
              0.5555555555555556,
              "#d8576b"
             ],
             [
              0.6666666666666666,
              "#ed7953"
             ],
             [
              0.7777777777777778,
              "#fb9f3a"
             ],
             [
              0.8888888888888888,
              "#fdca26"
             ],
             [
              1,
              "#f0f921"
             ]
            ],
            "type": "heatmap"
           }
          ],
          "heatmapgl": [
           {
            "colorbar": {
             "outlinewidth": 0,
             "ticks": ""
            },
            "colorscale": [
             [
              0,
              "#0d0887"
             ],
             [
              0.1111111111111111,
              "#46039f"
             ],
             [
              0.2222222222222222,
              "#7201a8"
             ],
             [
              0.3333333333333333,
              "#9c179e"
             ],
             [
              0.4444444444444444,
              "#bd3786"
             ],
             [
              0.5555555555555556,
              "#d8576b"
             ],
             [
              0.6666666666666666,
              "#ed7953"
             ],
             [
              0.7777777777777778,
              "#fb9f3a"
             ],
             [
              0.8888888888888888,
              "#fdca26"
             ],
             [
              1,
              "#f0f921"
             ]
            ],
            "type": "heatmapgl"
           }
          ],
          "histogram": [
           {
            "marker": {
             "pattern": {
              "fillmode": "overlay",
              "size": 10,
              "solidity": 0.2
             }
            },
            "type": "histogram"
           }
          ],
          "histogram2d": [
           {
            "colorbar": {
             "outlinewidth": 0,
             "ticks": ""
            },
            "colorscale": [
             [
              0,
              "#0d0887"
             ],
             [
              0.1111111111111111,
              "#46039f"
             ],
             [
              0.2222222222222222,
              "#7201a8"
             ],
             [
              0.3333333333333333,
              "#9c179e"
             ],
             [
              0.4444444444444444,
              "#bd3786"
             ],
             [
              0.5555555555555556,
              "#d8576b"
             ],
             [
              0.6666666666666666,
              "#ed7953"
             ],
             [
              0.7777777777777778,
              "#fb9f3a"
             ],
             [
              0.8888888888888888,
              "#fdca26"
             ],
             [
              1,
              "#f0f921"
             ]
            ],
            "type": "histogram2d"
           }
          ],
          "histogram2dcontour": [
           {
            "colorbar": {
             "outlinewidth": 0,
             "ticks": ""
            },
            "colorscale": [
             [
              0,
              "#0d0887"
             ],
             [
              0.1111111111111111,
              "#46039f"
             ],
             [
              0.2222222222222222,
              "#7201a8"
             ],
             [
              0.3333333333333333,
              "#9c179e"
             ],
             [
              0.4444444444444444,
              "#bd3786"
             ],
             [
              0.5555555555555556,
              "#d8576b"
             ],
             [
              0.6666666666666666,
              "#ed7953"
             ],
             [
              0.7777777777777778,
              "#fb9f3a"
             ],
             [
              0.8888888888888888,
              "#fdca26"
             ],
             [
              1,
              "#f0f921"
             ]
            ],
            "type": "histogram2dcontour"
           }
          ],
          "mesh3d": [
           {
            "colorbar": {
             "outlinewidth": 0,
             "ticks": ""
            },
            "type": "mesh3d"
           }
          ],
          "parcoords": [
           {
            "line": {
             "colorbar": {
              "outlinewidth": 0,
              "ticks": ""
             }
            },
            "type": "parcoords"
           }
          ],
          "pie": [
           {
            "automargin": true,
            "type": "pie"
           }
          ],
          "scatter": [
           {
            "fillpattern": {
             "fillmode": "overlay",
             "size": 10,
             "solidity": 0.2
            },
            "type": "scatter"
           }
          ],
          "scatter3d": [
           {
            "line": {
             "colorbar": {
              "outlinewidth": 0,
              "ticks": ""
             }
            },
            "marker": {
             "colorbar": {
              "outlinewidth": 0,
              "ticks": ""
             }
            },
            "type": "scatter3d"
           }
          ],
          "scattercarpet": [
           {
            "marker": {
             "colorbar": {
              "outlinewidth": 0,
              "ticks": ""
             }
            },
            "type": "scattercarpet"
           }
          ],
          "scattergeo": [
           {
            "marker": {
             "colorbar": {
              "outlinewidth": 0,
              "ticks": ""
             }
            },
            "type": "scattergeo"
           }
          ],
          "scattergl": [
           {
            "marker": {
             "colorbar": {
              "outlinewidth": 0,
              "ticks": ""
             }
            },
            "type": "scattergl"
           }
          ],
          "scattermapbox": [
           {
            "marker": {
             "colorbar": {
              "outlinewidth": 0,
              "ticks": ""
             }
            },
            "type": "scattermapbox"
           }
          ],
          "scatterpolar": [
           {
            "marker": {
             "colorbar": {
              "outlinewidth": 0,
              "ticks": ""
             }
            },
            "type": "scatterpolar"
           }
          ],
          "scatterpolargl": [
           {
            "marker": {
             "colorbar": {
              "outlinewidth": 0,
              "ticks": ""
             }
            },
            "type": "scatterpolargl"
           }
          ],
          "scatterternary": [
           {
            "marker": {
             "colorbar": {
              "outlinewidth": 0,
              "ticks": ""
             }
            },
            "type": "scatterternary"
           }
          ],
          "surface": [
           {
            "colorbar": {
             "outlinewidth": 0,
             "ticks": ""
            },
            "colorscale": [
             [
              0,
              "#0d0887"
             ],
             [
              0.1111111111111111,
              "#46039f"
             ],
             [
              0.2222222222222222,
              "#7201a8"
             ],
             [
              0.3333333333333333,
              "#9c179e"
             ],
             [
              0.4444444444444444,
              "#bd3786"
             ],
             [
              0.5555555555555556,
              "#d8576b"
             ],
             [
              0.6666666666666666,
              "#ed7953"
             ],
             [
              0.7777777777777778,
              "#fb9f3a"
             ],
             [
              0.8888888888888888,
              "#fdca26"
             ],
             [
              1,
              "#f0f921"
             ]
            ],
            "type": "surface"
           }
          ],
          "table": [
           {
            "cells": {
             "fill": {
              "color": "#EBF0F8"
             },
             "line": {
              "color": "white"
             }
            },
            "header": {
             "fill": {
              "color": "#C8D4E3"
             },
             "line": {
              "color": "white"
             }
            },
            "type": "table"
           }
          ]
         },
         "layout": {
          "annotationdefaults": {
           "arrowcolor": "#2a3f5f",
           "arrowhead": 0,
           "arrowwidth": 1
          },
          "autotypenumbers": "strict",
          "coloraxis": {
           "colorbar": {
            "outlinewidth": 0,
            "ticks": ""
           }
          },
          "colorscale": {
           "diverging": [
            [
             0,
             "#8e0152"
            ],
            [
             0.1,
             "#c51b7d"
            ],
            [
             0.2,
             "#de77ae"
            ],
            [
             0.3,
             "#f1b6da"
            ],
            [
             0.4,
             "#fde0ef"
            ],
            [
             0.5,
             "#f7f7f7"
            ],
            [
             0.6,
             "#e6f5d0"
            ],
            [
             0.7,
             "#b8e186"
            ],
            [
             0.8,
             "#7fbc41"
            ],
            [
             0.9,
             "#4d9221"
            ],
            [
             1,
             "#276419"
            ]
           ],
           "sequential": [
            [
             0,
             "#0d0887"
            ],
            [
             0.1111111111111111,
             "#46039f"
            ],
            [
             0.2222222222222222,
             "#7201a8"
            ],
            [
             0.3333333333333333,
             "#9c179e"
            ],
            [
             0.4444444444444444,
             "#bd3786"
            ],
            [
             0.5555555555555556,
             "#d8576b"
            ],
            [
             0.6666666666666666,
             "#ed7953"
            ],
            [
             0.7777777777777778,
             "#fb9f3a"
            ],
            [
             0.8888888888888888,
             "#fdca26"
            ],
            [
             1,
             "#f0f921"
            ]
           ],
           "sequentialminus": [
            [
             0,
             "#0d0887"
            ],
            [
             0.1111111111111111,
             "#46039f"
            ],
            [
             0.2222222222222222,
             "#7201a8"
            ],
            [
             0.3333333333333333,
             "#9c179e"
            ],
            [
             0.4444444444444444,
             "#bd3786"
            ],
            [
             0.5555555555555556,
             "#d8576b"
            ],
            [
             0.6666666666666666,
             "#ed7953"
            ],
            [
             0.7777777777777778,
             "#fb9f3a"
            ],
            [
             0.8888888888888888,
             "#fdca26"
            ],
            [
             1,
             "#f0f921"
            ]
           ]
          },
          "colorway": [
           "#636efa",
           "#EF553B",
           "#00cc96",
           "#ab63fa",
           "#FFA15A",
           "#19d3f3",
           "#FF6692",
           "#B6E880",
           "#FF97FF",
           "#FECB52"
          ],
          "font": {
           "color": "#2a3f5f"
          },
          "geo": {
           "bgcolor": "white",
           "lakecolor": "white",
           "landcolor": "#E5ECF6",
           "showlakes": true,
           "showland": true,
           "subunitcolor": "white"
          },
          "hoverlabel": {
           "align": "left"
          },
          "hovermode": "closest",
          "mapbox": {
           "style": "light"
          },
          "paper_bgcolor": "white",
          "plot_bgcolor": "#E5ECF6",
          "polar": {
           "angularaxis": {
            "gridcolor": "white",
            "linecolor": "white",
            "ticks": ""
           },
           "bgcolor": "#E5ECF6",
           "radialaxis": {
            "gridcolor": "white",
            "linecolor": "white",
            "ticks": ""
           }
          },
          "scene": {
           "xaxis": {
            "backgroundcolor": "#E5ECF6",
            "gridcolor": "white",
            "gridwidth": 2,
            "linecolor": "white",
            "showbackground": true,
            "ticks": "",
            "zerolinecolor": "white"
           },
           "yaxis": {
            "backgroundcolor": "#E5ECF6",
            "gridcolor": "white",
            "gridwidth": 2,
            "linecolor": "white",
            "showbackground": true,
            "ticks": "",
            "zerolinecolor": "white"
           },
           "zaxis": {
            "backgroundcolor": "#E5ECF6",
            "gridcolor": "white",
            "gridwidth": 2,
            "linecolor": "white",
            "showbackground": true,
            "ticks": "",
            "zerolinecolor": "white"
           }
          },
          "shapedefaults": {
           "line": {
            "color": "#2a3f5f"
           }
          },
          "ternary": {
           "aaxis": {
            "gridcolor": "white",
            "linecolor": "white",
            "ticks": ""
           },
           "baxis": {
            "gridcolor": "white",
            "linecolor": "white",
            "ticks": ""
           },
           "bgcolor": "#E5ECF6",
           "caxis": {
            "gridcolor": "white",
            "linecolor": "white",
            "ticks": ""
           }
          },
          "title": {
           "x": 0.05
          },
          "xaxis": {
           "automargin": true,
           "gridcolor": "white",
           "linecolor": "white",
           "ticks": "",
           "title": {
            "standoff": 15
           },
           "zerolinecolor": "white",
           "zerolinewidth": 2
          },
          "yaxis": {
           "automargin": true,
           "gridcolor": "white",
           "linecolor": "white",
           "ticks": "",
           "title": {
            "standoff": 15
           },
           "zerolinecolor": "white",
           "zerolinewidth": 2
          }
         }
        }
       }
      },
      "text/html": [
       "<div>                            <div id=\"a8135c2f-ea0d-4948-84a9-a53827f1414d\" class=\"plotly-graph-div\" style=\"height:525px; width:100%;\"></div>            <script type=\"text/javascript\">                require([\"plotly\"], function(Plotly) {                    window.PLOTLYENV=window.PLOTLYENV || {};                                    if (document.getElementById(\"a8135c2f-ea0d-4948-84a9-a53827f1414d\")) {                    Plotly.newPlot(                        \"a8135c2f-ea0d-4948-84a9-a53827f1414d\",                        [{\"marker\":{\"color\":\"#ff5f00\",\"opacity\":0.8,\"size\":8},\"mode\":\"markers\",\"name\":\"bloom\",\"x\":[5.170483995038151,0.0,1.0986122886681096,-0.579818495252942,1.9459101490553132],\"y\":[-1.0051219455807707,-1.0758728016986203,-1.0758728016986203,-1.0758728016986203,-1.0758728016986203],\"z\":[0.7205998421468035,0.5501183898973955,0.5761641673243884,0.5193370165745856,0.654301499605367],\"type\":\"scatter3d\"},{\"marker\":{\"color\":\"#ffbd00\",\"opacity\":0.8,\"size\":8},\"mode\":\"markers\",\"name\":\"codellama\",\"x\":[2.5649493574615367,3.526360524616161,4.2484952420493585,1.9459101490553132],\"y\":[0.9242589015233319,0.9242589015233319,1.1052568313867783,0.9242589015233319],\"z\":[0.6716653512233622,0.7355958958168903,0.7521704814522494,0.6400947119179163],\"type\":\"scatter3d\"},{\"marker\":{\"color\":\"#e2ff00\",\"opacity\":0.8,\"size\":8},\"mode\":\"markers\",\"name\":\"falcon\",\"x\":[5.19295685089021,3.6888794541139363,1.9459101490553132,0.0],\"y\":[1.252762968495368,0.0,0.4054651081081644,-1.0498221244986778],\"z\":[0.8689818468823993,0.8129439621152328,0.7237569060773481,0.6203630623520127],\"type\":\"scatter3d\"},{\"marker\":{\"color\":\"#84ff00\",\"opacity\":0.8,\"size\":8},\"mode\":\"markers\",\"name\":\"gpt-neo\\u002fj\",\"x\":[1.791759469228055,0.26236426446749106,-2.0794415416798357,0.9932517730102834,2.995732273553991],\"y\":[-0.9113031903631159,-0.9675840262617056,-1.203972804325936,-0.8675005677047231,-0.7507762933965817],\"z\":[0.65982636148382,0.569060773480663,0.5177584846093133,0.6006314127861089,0.6890292028413575],\"type\":\"scatter3d\"},{\"marker\":{\"color\":\"#25ff00\",\"opacity\":0.8,\"size\":8},\"mode\":\"markers\",\"name\":\"llama\",\"x\":[2.5649493574615367,3.4011973816621555,4.174387269895637,1.9459101490553132],\"y\":[0.0,0.33647223662121284,0.33647223662121284,0.0],\"z\":[0.7624309392265194,0.8003157063930545,0.8255722178374112,0.7142857142857143],\"type\":\"scatter3d\"},{\"marker\":{\"color\":\"#00ff39\",\"opacity\":0.8,\"size\":8},\"mode\":\"markers\",\"name\":\"opt\",\"x\":[0.26236426446749106,-2.0794415416798357,2.5649493574615367,0.9932517730102834,3.4011973816621555,-1.0498221244986778,1.9021075263969203,4.189654742026425],\"y\":[-1.7147984280919266,-1.7147984280919266,-1.7147984280919266,-1.7147984280919266,-1.7147984280919266,-1.7147984280919266,-1.7147984280919266,-1.7147984280919266],\"z\":[0.5974743488555643,0.516179952644041,0.6850828729281768,0.6195737963693765,0.7063930544593529,0.526440410418311,0.65982636148382,0.7000789265982637],\"type\":\"scatter3d\"},{\"marker\":{\"color\":\"#00ff97\",\"opacity\":0.8,\"size\":8},\"mode\":\"markers\",\"name\":\"pythia-deduped\",\"x\":[0.33647223662121284,2.4849066497880004,-1.83258146374831,0.0,1.0296194171811581,-0.8915981192837836,1.9315214116032138,-2.659260036932778],\"y\":[-1.203972804325936,-1.203972804325936,-1.203972804325936,-1.203972804325936,-1.203972804325936,-1.203972804325936,-1.203972804325936,-1.203972804325936],\"z\":[0.5730071033938438,0.664561957379637,0.5138121546961326,0.5359116022099447,0.6022099447513812,0.5438042620363063,0.6408839779005525,0.4964483030781373],\"type\":\"scatter3d\"},{\"marker\":{\"color\":\"#00fff6\",\"opacity\":0.8,\"size\":8},\"mode\":\"markers\",\"name\":\"qwen1.5\",\"x\":[-0.6931471805599453,0.5877866649021191,2.6390573296152584,3.4657359027997265,1.3862943611198906,4.276666119016055,1.9459101490553132],\"y\":[0.8754687373538999,0.8754687373538999,1.3862943611198906,1.3862943611198906,0.8754687373538999,1.0986122886681096,1.3862943611198906],\"z\":[0.5722178374112076,0.6029992107340174,0.7348066298342542,0.8145224940805051,0.6621941594317285,0.8303078137332282,0.712707182320442],\"type\":\"scatter3d\"},{\"marker\":{\"color\":\"#00aaff\",\"opacity\":0.8,\"size\":8},\"mode\":\"markers\",\"name\":\"qwen2\",\"x\":[-0.6931471805599453,0.4054651081081644,4.276666119016055,1.9459101490553132],\"y\":[2.4849066497880004,1.9459101490553132,1.9459101490553132,1.9459101490553132],\"z\":[0.5579999999999999,0.6487999999999999,0.8445,0.7434999999999999],\"type\":\"scatter3d\"},{\"marker\":{\"color\":\"#004bff\",\"opacity\":0.8,\"size\":8},\"mode\":\"markers\",\"name\":\"rwkv\",\"x\":[2.6390573296152584,-1.7778565640590633,0.0,1.0986122886681096,-0.843970070294529,1.9459101490553132,2.6390573296152584],\"y\":[-1.1086626245216111,-1.1086626245216111,-1.1086626245216111,-1.1086626245216111,-1.1086626245216111,-1.1086626245216111,-1.1086626245216111],\"z\":[0.654301499605367,0.5090765588003157,0.5382794001578532,0.5832675611681136,0.5114443567482242,0.6235201262825573,0.6669297553275454],\"type\":\"scatter3d\"},{\"marker\":{\"color\":\"#1300ff\",\"opacity\":0.8,\"size\":8},\"mode\":\"markers\",\"name\":\"stablelm\",\"x\":[1.791759469228055,1.0986122886681096,1.9459101490553132,1.9459101490553132],\"y\":[0.6931471805599453,0.4054651081081644,0.4054651081081644,0.09531017980432495],\"z\":[0.6456195737963694,0.5390686661404893,0.5540647198105761,0.6850828729281768],\"type\":\"scatter3d\"},{\"marker\":{\"color\":\"#7200ff\",\"opacity\":0.8,\"size\":8},\"mode\":\"markers\",\"name\":\"starcoder\",\"x\":[2.740840023925201,0.0,1.0986122886681096,1.9459101490553132],\"y\":[0.0,0.0,0.0,0.0],\"z\":[0.5580110497237569,0.4996053670086819,0.5114443567482242,0.5438042620363063],\"type\":\"scatter3d\"},{\"marker\":{\"color\":\"#d000ff\",\"opacity\":0.8,\"size\":8},\"mode\":\"markers\",\"name\":\"xglm\",\"x\":[0.5306282510621704,1.504077396776274,-0.5727010274840783,2.0149030205422647],\"y\":[-0.6931471805599453,-0.6931471805599453,-0.6931471805599453,-0.6931471805599453],\"z\":[0.5390686661404893,0.5493291239147593,0.5224940805051302,0.5872138910812944],\"type\":\"scatter3d\"},{\"marker\":{\"color\":\"#ff00cf\",\"opacity\":0.8,\"size\":8},\"mode\":\"markers\",\"name\":\"yi\",\"x\":[3.526360524616161,1.791759469228055,2.197224577336219],\"y\":[1.0986122886681096,1.0986122886681096,1.33500106673234],\"z\":[0.8303078137332282,0.7419100236779794,0.7751],\"type\":\"scatter3d\"},{\"marker\":{\"color\":\"#ff0071\",\"opacity\":0.8,\"size\":8},\"mode\":\"markers\",\"name\":\"yi-1.5\",\"x\":[3.526360524616161,1.791759469228055,2.197224577336219],\"y\":[1.252762968495368,1.252762968495368,1.252762968495368],\"z\":[0.8406,0.7514,0.7798],\"type\":\"scatter3d\"}],                        {\"margin\":{\"b\":0,\"l\":0,\"r\":0,\"t\":0},\"scene\":{\"xaxis\":{\"title\":{\"text\":\"logS\"}},\"yaxis\":{\"title\":{\"text\":\"logT\"}},\"zaxis\":{\"title\":{\"text\":\"y\"}}},\"template\":{\"data\":{\"histogram2dcontour\":[{\"type\":\"histogram2dcontour\",\"colorbar\":{\"outlinewidth\":0,\"ticks\":\"\"},\"colorscale\":[[0.0,\"#0d0887\"],[0.1111111111111111,\"#46039f\"],[0.2222222222222222,\"#7201a8\"],[0.3333333333333333,\"#9c179e\"],[0.4444444444444444,\"#bd3786\"],[0.5555555555555556,\"#d8576b\"],[0.6666666666666666,\"#ed7953\"],[0.7777777777777778,\"#fb9f3a\"],[0.8888888888888888,\"#fdca26\"],[1.0,\"#f0f921\"]]}],\"choropleth\":[{\"type\":\"choropleth\",\"colorbar\":{\"outlinewidth\":0,\"ticks\":\"\"}}],\"histogram2d\":[{\"type\":\"histogram2d\",\"colorbar\":{\"outlinewidth\":0,\"ticks\":\"\"},\"colorscale\":[[0.0,\"#0d0887\"],[0.1111111111111111,\"#46039f\"],[0.2222222222222222,\"#7201a8\"],[0.3333333333333333,\"#9c179e\"],[0.4444444444444444,\"#bd3786\"],[0.5555555555555556,\"#d8576b\"],[0.6666666666666666,\"#ed7953\"],[0.7777777777777778,\"#fb9f3a\"],[0.8888888888888888,\"#fdca26\"],[1.0,\"#f0f921\"]]}],\"heatmap\":[{\"type\":\"heatmap\",\"colorbar\":{\"outlinewidth\":0,\"ticks\":\"\"},\"colorscale\":[[0.0,\"#0d0887\"],[0.1111111111111111,\"#46039f\"],[0.2222222222222222,\"#7201a8\"],[0.3333333333333333,\"#9c179e\"],[0.4444444444444444,\"#bd3786\"],[0.5555555555555556,\"#d8576b\"],[0.6666666666666666,\"#ed7953\"],[0.7777777777777778,\"#fb9f3a\"],[0.8888888888888888,\"#fdca26\"],[1.0,\"#f0f921\"]]}],\"heatmapgl\":[{\"type\":\"heatmapgl\",\"colorbar\":{\"outlinewidth\":0,\"ticks\":\"\"},\"colorscale\":[[0.0,\"#0d0887\"],[0.1111111111111111,\"#46039f\"],[0.2222222222222222,\"#7201a8\"],[0.3333333333333333,\"#9c179e\"],[0.4444444444444444,\"#bd3786\"],[0.5555555555555556,\"#d8576b\"],[0.6666666666666666,\"#ed7953\"],[0.7777777777777778,\"#fb9f3a\"],[0.8888888888888888,\"#fdca26\"],[1.0,\"#f0f921\"]]}],\"contourcarpet\":[{\"type\":\"contourcarpet\",\"colorbar\":{\"outlinewidth\":0,\"ticks\":\"\"}}],\"contour\":[{\"type\":\"contour\",\"colorbar\":{\"outlinewidth\":0,\"ticks\":\"\"},\"colorscale\":[[0.0,\"#0d0887\"],[0.1111111111111111,\"#46039f\"],[0.2222222222222222,\"#7201a8\"],[0.3333333333333333,\"#9c179e\"],[0.4444444444444444,\"#bd3786\"],[0.5555555555555556,\"#d8576b\"],[0.6666666666666666,\"#ed7953\"],[0.7777777777777778,\"#fb9f3a\"],[0.8888888888888888,\"#fdca26\"],[1.0,\"#f0f921\"]]}],\"surface\":[{\"type\":\"surface\",\"colorbar\":{\"outlinewidth\":0,\"ticks\":\"\"},\"colorscale\":[[0.0,\"#0d0887\"],[0.1111111111111111,\"#46039f\"],[0.2222222222222222,\"#7201a8\"],[0.3333333333333333,\"#9c179e\"],[0.4444444444444444,\"#bd3786\"],[0.5555555555555556,\"#d8576b\"],[0.6666666666666666,\"#ed7953\"],[0.7777777777777778,\"#fb9f3a\"],[0.8888888888888888,\"#fdca26\"],[1.0,\"#f0f921\"]]}],\"mesh3d\":[{\"type\":\"mesh3d\",\"colorbar\":{\"outlinewidth\":0,\"ticks\":\"\"}}],\"scatter\":[{\"fillpattern\":{\"fillmode\":\"overlay\",\"size\":10,\"solidity\":0.2},\"type\":\"scatter\"}],\"parcoords\":[{\"type\":\"parcoords\",\"line\":{\"colorbar\":{\"outlinewidth\":0,\"ticks\":\"\"}}}],\"scatterpolargl\":[{\"type\":\"scatterpolargl\",\"marker\":{\"colorbar\":{\"outlinewidth\":0,\"ticks\":\"\"}}}],\"bar\":[{\"error_x\":{\"color\":\"#2a3f5f\"},\"error_y\":{\"color\":\"#2a3f5f\"},\"marker\":{\"line\":{\"color\":\"#E5ECF6\",\"width\":0.5},\"pattern\":{\"fillmode\":\"overlay\",\"size\":10,\"solidity\":0.2}},\"type\":\"bar\"}],\"scattergeo\":[{\"type\":\"scattergeo\",\"marker\":{\"colorbar\":{\"outlinewidth\":0,\"ticks\":\"\"}}}],\"scatterpolar\":[{\"type\":\"scatterpolar\",\"marker\":{\"colorbar\":{\"outlinewidth\":0,\"ticks\":\"\"}}}],\"histogram\":[{\"marker\":{\"pattern\":{\"fillmode\":\"overlay\",\"size\":10,\"solidity\":0.2}},\"type\":\"histogram\"}],\"scattergl\":[{\"type\":\"scattergl\",\"marker\":{\"colorbar\":{\"outlinewidth\":0,\"ticks\":\"\"}}}],\"scatter3d\":[{\"type\":\"scatter3d\",\"line\":{\"colorbar\":{\"outlinewidth\":0,\"ticks\":\"\"}},\"marker\":{\"colorbar\":{\"outlinewidth\":0,\"ticks\":\"\"}}}],\"scattermapbox\":[{\"type\":\"scattermapbox\",\"marker\":{\"colorbar\":{\"outlinewidth\":0,\"ticks\":\"\"}}}],\"scatterternary\":[{\"type\":\"scatterternary\",\"marker\":{\"colorbar\":{\"outlinewidth\":0,\"ticks\":\"\"}}}],\"scattercarpet\":[{\"type\":\"scattercarpet\",\"marker\":{\"colorbar\":{\"outlinewidth\":0,\"ticks\":\"\"}}}],\"carpet\":[{\"aaxis\":{\"endlinecolor\":\"#2a3f5f\",\"gridcolor\":\"white\",\"linecolor\":\"white\",\"minorgridcolor\":\"white\",\"startlinecolor\":\"#2a3f5f\"},\"baxis\":{\"endlinecolor\":\"#2a3f5f\",\"gridcolor\":\"white\",\"linecolor\":\"white\",\"minorgridcolor\":\"white\",\"startlinecolor\":\"#2a3f5f\"},\"type\":\"carpet\"}],\"table\":[{\"cells\":{\"fill\":{\"color\":\"#EBF0F8\"},\"line\":{\"color\":\"white\"}},\"header\":{\"fill\":{\"color\":\"#C8D4E3\"},\"line\":{\"color\":\"white\"}},\"type\":\"table\"}],\"barpolar\":[{\"marker\":{\"line\":{\"color\":\"#E5ECF6\",\"width\":0.5},\"pattern\":{\"fillmode\":\"overlay\",\"size\":10,\"solidity\":0.2}},\"type\":\"barpolar\"}],\"pie\":[{\"automargin\":true,\"type\":\"pie\"}]},\"layout\":{\"autotypenumbers\":\"strict\",\"colorway\":[\"#636efa\",\"#EF553B\",\"#00cc96\",\"#ab63fa\",\"#FFA15A\",\"#19d3f3\",\"#FF6692\",\"#B6E880\",\"#FF97FF\",\"#FECB52\"],\"font\":{\"color\":\"#2a3f5f\"},\"hovermode\":\"closest\",\"hoverlabel\":{\"align\":\"left\"},\"paper_bgcolor\":\"white\",\"plot_bgcolor\":\"#E5ECF6\",\"polar\":{\"bgcolor\":\"#E5ECF6\",\"angularaxis\":{\"gridcolor\":\"white\",\"linecolor\":\"white\",\"ticks\":\"\"},\"radialaxis\":{\"gridcolor\":\"white\",\"linecolor\":\"white\",\"ticks\":\"\"}},\"ternary\":{\"bgcolor\":\"#E5ECF6\",\"aaxis\":{\"gridcolor\":\"white\",\"linecolor\":\"white\",\"ticks\":\"\"},\"baxis\":{\"gridcolor\":\"white\",\"linecolor\":\"white\",\"ticks\":\"\"},\"caxis\":{\"gridcolor\":\"white\",\"linecolor\":\"white\",\"ticks\":\"\"}},\"coloraxis\":{\"colorbar\":{\"outlinewidth\":0,\"ticks\":\"\"}},\"colorscale\":{\"sequential\":[[0.0,\"#0d0887\"],[0.1111111111111111,\"#46039f\"],[0.2222222222222222,\"#7201a8\"],[0.3333333333333333,\"#9c179e\"],[0.4444444444444444,\"#bd3786\"],[0.5555555555555556,\"#d8576b\"],[0.6666666666666666,\"#ed7953\"],[0.7777777777777778,\"#fb9f3a\"],[0.8888888888888888,\"#fdca26\"],[1.0,\"#f0f921\"]],\"sequentialminus\":[[0.0,\"#0d0887\"],[0.1111111111111111,\"#46039f\"],[0.2222222222222222,\"#7201a8\"],[0.3333333333333333,\"#9c179e\"],[0.4444444444444444,\"#bd3786\"],[0.5555555555555556,\"#d8576b\"],[0.6666666666666666,\"#ed7953\"],[0.7777777777777778,\"#fb9f3a\"],[0.8888888888888888,\"#fdca26\"],[1.0,\"#f0f921\"]],\"diverging\":[[0,\"#8e0152\"],[0.1,\"#c51b7d\"],[0.2,\"#de77ae\"],[0.3,\"#f1b6da\"],[0.4,\"#fde0ef\"],[0.5,\"#f7f7f7\"],[0.6,\"#e6f5d0\"],[0.7,\"#b8e186\"],[0.8,\"#7fbc41\"],[0.9,\"#4d9221\"],[1,\"#276419\"]]},\"xaxis\":{\"gridcolor\":\"white\",\"linecolor\":\"white\",\"ticks\":\"\",\"title\":{\"standoff\":15},\"zerolinecolor\":\"white\",\"automargin\":true,\"zerolinewidth\":2},\"yaxis\":{\"gridcolor\":\"white\",\"linecolor\":\"white\",\"ticks\":\"\",\"title\":{\"standoff\":15},\"zerolinecolor\":\"white\",\"automargin\":true,\"zerolinewidth\":2},\"scene\":{\"xaxis\":{\"backgroundcolor\":\"#E5ECF6\",\"gridcolor\":\"white\",\"linecolor\":\"white\",\"showbackground\":true,\"ticks\":\"\",\"zerolinecolor\":\"white\",\"gridwidth\":2},\"yaxis\":{\"backgroundcolor\":\"#E5ECF6\",\"gridcolor\":\"white\",\"linecolor\":\"white\",\"showbackground\":true,\"ticks\":\"\",\"zerolinecolor\":\"white\",\"gridwidth\":2},\"zaxis\":{\"backgroundcolor\":\"#E5ECF6\",\"gridcolor\":\"white\",\"linecolor\":\"white\",\"showbackground\":true,\"ticks\":\"\",\"zerolinecolor\":\"white\",\"gridwidth\":2}},\"shapedefaults\":{\"line\":{\"color\":\"#2a3f5f\"}},\"annotationdefaults\":{\"arrowcolor\":\"#2a3f5f\",\"arrowhead\":0,\"arrowwidth\":1},\"geo\":{\"bgcolor\":\"white\",\"landcolor\":\"#E5ECF6\",\"subunitcolor\":\"white\",\"showland\":true,\"showlakes\":true,\"lakecolor\":\"white\"},\"title\":{\"x\":0.05},\"mapbox\":{\"style\":\"light\"}}}},                        {\"responsive\": true}                    ).then(function(){\n",
       "                            \n",
       "var gd = document.getElementById('a8135c2f-ea0d-4948-84a9-a53827f1414d');\n",
       "var x = new MutationObserver(function (mutations, observer) {{\n",
       "        var display = window.getComputedStyle(gd).display;\n",
       "        if (!display || display === 'none') {{\n",
       "            console.log([gd, 'removed!']);\n",
       "            Plotly.purge(gd);\n",
       "            observer.disconnect();\n",
       "        }}\n",
       "}});\n",
       "\n",
       "// Listen for the removal of the full notebook cells\n",
       "var notebookContainer = gd.closest('#notebook-container');\n",
       "if (notebookContainer) {{\n",
       "    x.observe(notebookContainer, {childList: true});\n",
       "}}\n",
       "\n",
       "// Listen for the clearing of the current output cell\n",
       "var outputEl = gd.closest('.output');\n",
       "if (outputEl) {{\n",
       "    x.observe(outputEl, {childList: true});\n",
       "}}\n",
       "\n",
       "                        })                };                });            </script>        </div>"
      ]
     },
     "metadata": {},
     "output_type": "display_data"
    },
    {
     "name": "stdout",
     "output_type": "stream",
     "text": [
      "************ TruthfulQA ************\n"
     ]
    },
    {
     "data": {
      "application/vnd.plotly.v1+json": {
       "config": {
        "plotlyServerURL": "https://plot.ly"
       },
       "data": [
        {
         "marker": {
          "color": "#ff5f00",
          "opacity": 0.8,
          "size": 8
         },
         "mode": "markers",
         "name": "bloom",
         "type": "scatter3d",
         "x": [
          5.170483995038151,
          0,
          1.0986122886681096,
          -0.579818495252942,
          1.9459101490553132
         ],
         "y": [
          -1.0051219455807707,
          -1.0758728016986203,
          -1.0758728016986203,
          -1.0758728016986203,
          -1.0758728016986203
         ],
         "z": [
          0.3975962282334165,
          0.4179716703713765,
          0.4057246298885345,
          0.4244428174437842,
          0.3889784219035787
         ]
        },
        {
         "marker": {
          "color": "#ffbd00",
          "opacity": 0.8,
          "size": 8
         },
         "mode": "markers",
         "name": "codellama",
         "type": "scatter3d",
         "x": [
          2.5649493574615367,
          3.526360524616161,
          4.2484952420493585,
          1.9459101490553132
         ],
         "y": [
          0.9242589015233319,
          0.9242589015233319,
          1.1052568313867783,
          0.9242589015233319
         ],
         "z": [
          0.4379426977660279,
          0.3911361839391881,
          0.3978847741300497,
          0.3782167557307672
         ]
        },
        {
         "marker": {
          "color": "#e2ff00",
          "opacity": 0.8,
          "size": 8
         },
         "mode": "markers",
         "name": "falcon",
         "type": "scatter3d",
         "x": [
          5.19295685089021,
          3.6888794541139363,
          1.9459101490553132,
          0
         ],
         "y": [
          1.252762968495368,
          0,
          0.4054651081081644,
          -1.0498221244986778
         ],
         "z": [
          0.4515695089819848,
          0.4171692245008122,
          0.34263825539848,
          0.3595559898003175
         ]
        },
        {
         "marker": {
          "color": "#84ff00",
          "opacity": 0.8,
          "size": 8
         },
         "mode": "markers",
         "name": "gpt-neo/j",
         "type": "scatter3d",
         "x": [
          1.791759469228055,
          0.26236426446749106,
          -2.0794415416798357,
          0.9932517730102834,
          2.995732273553991
         ],
         "y": [
          -0.9113031903631159,
          -0.9675840262617056,
          -1.203972804325936,
          -0.8675005677047231,
          -0.7507762933965817
         ],
         "z": [
          0.359624729495078,
          0.3962930604436832,
          0.455761630633801,
          0.3977795990878021,
          0.3161314596733849
         ]
        },
        {
         "marker": {
          "color": "#25ff00",
          "opacity": 0.8,
          "size": 8
         },
         "mode": "markers",
         "name": "llama",
         "type": "scatter3d",
         "x": [
          2.5649493574615367,
          3.4011973816621555,
          4.174387269895637,
          1.9459101490553132
         ],
         "y": [
          0,
          0.33647223662121284,
          0.33647223662121284,
          0
         ],
         "z": [
          0.3947888264167134,
          0.4227387599763514,
          0.4342876070583593,
          0.3432793294414406
         ]
        },
        {
         "marker": {
          "color": "#00ff39",
          "opacity": 0.8,
          "size": 8
         },
         "mode": "markers",
         "name": "opt",
         "type": "scatter3d",
         "x": [
          0.26236426446749106,
          -2.0794415416798357,
          2.5649493574615367,
          0.9932517730102834,
          3.4011973816621555,
          -1.0498221244986778,
          1.9021075263969203,
          4.189654742026425
         ],
         "y": [
          -1.7147984280919266,
          -1.7147984280919266,
          -1.7147984280919266,
          -1.7147984280919266,
          -1.7147984280919266,
          -1.7147984280919266,
          -1.7147984280919266,
          -1.7147984280919266
         ],
         "z": [
          0.387106757904831,
          0.4286875802615585,
          0.3409583991059122,
          0.3742541799029018,
          0.351638262847476,
          0.4082853277784469,
          0.3512214978869498,
          0.3542965595297838
         ]
        },
        {
         "marker": {
          "color": "#00ff97",
          "opacity": 0.8,
          "size": 8
         },
         "mode": "markers",
         "name": "pythia-deduped",
         "type": "scatter3d",
         "x": [
          0.33647223662121284,
          2.4849066497880004,
          -1.83258146374831,
          0,
          1.0296194171811581,
          -0.8915981192837836,
          1.9315214116032138,
          -2.659260036932778
         ],
         "y": [
          -1.203972804325936,
          -1.203972804325936,
          -1.203972804325936,
          -1.203972804325936,
          -1.203972804325936,
          -1.203972804325936,
          -1.203972804325936,
          -1.203972804325936
         ],
         "z": [
          0.3865846445222244,
          0.329988729051366,
          0.443404463764025,
          0.389393782096148,
          0.3555978234501585,
          0.4094757859220677,
          0.3519458488266109,
          0.4751438547560591
         ]
        },
        {
         "marker": {
          "color": "#00fff6",
          "opacity": 0.8,
          "size": 8
         },
         "mode": "markers",
         "name": "qwen1.5",
         "type": "scatter3d",
         "x": [
          -0.6931471805599453,
          0.5877866649021191,
          2.6390573296152584,
          3.4657359027997265,
          1.3862943611198906,
          4.276666119016055,
          1.9459101490553132
         ],
         "y": [
          0.8754687373538999,
          0.8754687373538999,
          1.3862943611198906,
          1.3862943611198906,
          0.8754687373538999,
          1.0986122886681096,
          1.3862943611198906
         ],
         "z": [
          0.3829926844374736,
          0.3942781424608406,
          0.5206092394796343,
          0.5739444338569583,
          0.4727318979180884,
          0.596080564321232,
          0.5108227702127015
         ]
        },
        {
         "marker": {
          "color": "#00aaff",
          "opacity": 0.8,
          "size": 8
         },
         "mode": "markers",
         "name": "qwen2",
         "type": "scatter3d",
         "x": [
          -0.6931471805599453,
          0.4054651081081644,
          4.276666119016055,
          1.9459101490553132
         ],
         "y": [
          2.4849066497880004,
          1.9459101490553132,
          1.9459101490553132,
          1.9459101490553132
         ],
         "z": [
          0.3977,
          0.4592,
          0.5474,
          0.5314
         ]
        },
        {
         "marker": {
          "color": "#004bff",
          "opacity": 0.8,
          "size": 8
         },
         "mode": "markers",
         "name": "rwkv",
         "type": "scatter3d",
         "x": [
          2.6390573296152584,
          -1.7778565640590633,
          0,
          1.0986122886681096,
          -0.843970070294529,
          1.9459101490553132,
          2.6390573296152584
         ],
         "y": [
          -1.1086626245216111,
          -1.1086626245216111,
          -1.1086626245216111,
          -1.1086626245216111,
          -1.1086626245216111,
          -1.1086626245216111,
          -1.1086626245216111
         ],
         "z": [
          0.3204219399194067,
          0.4192323633446171,
          0.3579569610412708,
          0.3213702262546504,
          0.3958221882473183,
          0.3365298312185615,
          0.4193256931572423
         ]
        },
        {
         "marker": {
          "color": "#1300ff",
          "opacity": 0.8,
          "size": 8
         },
         "mode": "markers",
         "name": "stablelm",
         "type": "scatter3d",
         "x": [
          1.791759469228055,
          1.0986122886681096,
          1.9459101490553132,
          1.9459101490553132
         ],
         "y": [
          0.6931471805599453,
          0.4054651081081644,
          0.4054651081081644,
          0.09531017980432495
         ],
         "z": [
          0.3678385823884172,
          0.4049657855313842,
          0.4019376597227457,
          0.3645720175160148
         ]
        },
        {
         "marker": {
          "color": "#7200ff",
          "opacity": 0.8,
          "size": 8
         },
         "mode": "markers",
         "name": "starcoder",
         "type": "scatter3d",
         "x": [
          2.740840023925201,
          0,
          1.0986122886681096,
          1.9459101490553132
         ],
         "y": [
          0,
          0,
          0,
          0
         ],
         "z": [
          0.400215713503952,
          0.4578928664903403,
          0.4305451198786013,
          0.4046263361255611
         ]
        },
        {
         "marker": {
          "color": "#d000ff",
          "opacity": 0.8,
          "size": 8
         },
         "mode": "markers",
         "name": "xglm",
         "type": "scatter3d",
         "x": [
          0.5306282510621704,
          1.504077396776274,
          -0.5727010274840783,
          2.0149030205422647
         ],
         "y": [
          -0.6931471805599453,
          -0.6931471805599453,
          -0.6931471805599453,
          -0.6931471805599453
         ],
         "z": [
          0.3720634151696304,
          0.3583939485040638,
          0.4043205877039627,
          0.3666152388235458
         ]
        },
        {
         "marker": {
          "color": "#ff00cf",
          "opacity": 0.8,
          "size": 8
         },
         "mode": "markers",
         "name": "yi",
         "type": "scatter3d",
         "x": [
          3.526360524616161,
          1.791759469228055,
          2.197224577336219
         ],
         "y": [
          1.0986122886681096,
          1.0986122886681096,
          1.33500106673234
         ],
         "z": [
          0.5623083932983032,
          0.4196160749943391,
          0.4245
         ]
        },
        {
         "marker": {
          "color": "#ff0071",
          "opacity": 0.8,
          "size": 8
         },
         "mode": "markers",
         "name": "yi-1.5",
         "type": "scatter3d",
         "x": [
          3.526360524616161,
          1.791759469228055,
          2.197224577336219
         ],
         "y": [
          1.252762968495368,
          1.252762968495368,
          1.252762968495368
         ],
         "z": [
          0.5384,
          0.4402,
          0.4674
         ]
        }
       ],
       "layout": {
        "autosize": true,
        "margin": {
         "b": 0,
         "l": 0,
         "r": 0,
         "t": 0
        },
        "scene": {
         "aspectmode": "auto",
         "aspectratio": {
          "x": 1,
          "y": 1,
          "z": 1
         },
         "xaxis": {
          "title": {
           "text": "logS"
          },
          "type": "linear"
         },
         "yaxis": {
          "title": {
           "text": "logT"
          },
          "type": "linear"
         },
         "zaxis": {
          "title": {
           "text": "y"
          },
          "type": "linear"
         }
        },
        "template": {
         "data": {
          "bar": [
           {
            "error_x": {
             "color": "#2a3f5f"
            },
            "error_y": {
             "color": "#2a3f5f"
            },
            "marker": {
             "line": {
              "color": "#E5ECF6",
              "width": 0.5
             },
             "pattern": {
              "fillmode": "overlay",
              "size": 10,
              "solidity": 0.2
             }
            },
            "type": "bar"
           }
          ],
          "barpolar": [
           {
            "marker": {
             "line": {
              "color": "#E5ECF6",
              "width": 0.5
             },
             "pattern": {
              "fillmode": "overlay",
              "size": 10,
              "solidity": 0.2
             }
            },
            "type": "barpolar"
           }
          ],
          "carpet": [
           {
            "aaxis": {
             "endlinecolor": "#2a3f5f",
             "gridcolor": "white",
             "linecolor": "white",
             "minorgridcolor": "white",
             "startlinecolor": "#2a3f5f"
            },
            "baxis": {
             "endlinecolor": "#2a3f5f",
             "gridcolor": "white",
             "linecolor": "white",
             "minorgridcolor": "white",
             "startlinecolor": "#2a3f5f"
            },
            "type": "carpet"
           }
          ],
          "choropleth": [
           {
            "colorbar": {
             "outlinewidth": 0,
             "ticks": ""
            },
            "type": "choropleth"
           }
          ],
          "contour": [
           {
            "colorbar": {
             "outlinewidth": 0,
             "ticks": ""
            },
            "colorscale": [
             [
              0,
              "#0d0887"
             ],
             [
              0.1111111111111111,
              "#46039f"
             ],
             [
              0.2222222222222222,
              "#7201a8"
             ],
             [
              0.3333333333333333,
              "#9c179e"
             ],
             [
              0.4444444444444444,
              "#bd3786"
             ],
             [
              0.5555555555555556,
              "#d8576b"
             ],
             [
              0.6666666666666666,
              "#ed7953"
             ],
             [
              0.7777777777777778,
              "#fb9f3a"
             ],
             [
              0.8888888888888888,
              "#fdca26"
             ],
             [
              1,
              "#f0f921"
             ]
            ],
            "type": "contour"
           }
          ],
          "contourcarpet": [
           {
            "colorbar": {
             "outlinewidth": 0,
             "ticks": ""
            },
            "type": "contourcarpet"
           }
          ],
          "heatmap": [
           {
            "colorbar": {
             "outlinewidth": 0,
             "ticks": ""
            },
            "colorscale": [
             [
              0,
              "#0d0887"
             ],
             [
              0.1111111111111111,
              "#46039f"
             ],
             [
              0.2222222222222222,
              "#7201a8"
             ],
             [
              0.3333333333333333,
              "#9c179e"
             ],
             [
              0.4444444444444444,
              "#bd3786"
             ],
             [
              0.5555555555555556,
              "#d8576b"
             ],
             [
              0.6666666666666666,
              "#ed7953"
             ],
             [
              0.7777777777777778,
              "#fb9f3a"
             ],
             [
              0.8888888888888888,
              "#fdca26"
             ],
             [
              1,
              "#f0f921"
             ]
            ],
            "type": "heatmap"
           }
          ],
          "heatmapgl": [
           {
            "colorbar": {
             "outlinewidth": 0,
             "ticks": ""
            },
            "colorscale": [
             [
              0,
              "#0d0887"
             ],
             [
              0.1111111111111111,
              "#46039f"
             ],
             [
              0.2222222222222222,
              "#7201a8"
             ],
             [
              0.3333333333333333,
              "#9c179e"
             ],
             [
              0.4444444444444444,
              "#bd3786"
             ],
             [
              0.5555555555555556,
              "#d8576b"
             ],
             [
              0.6666666666666666,
              "#ed7953"
             ],
             [
              0.7777777777777778,
              "#fb9f3a"
             ],
             [
              0.8888888888888888,
              "#fdca26"
             ],
             [
              1,
              "#f0f921"
             ]
            ],
            "type": "heatmapgl"
           }
          ],
          "histogram": [
           {
            "marker": {
             "pattern": {
              "fillmode": "overlay",
              "size": 10,
              "solidity": 0.2
             }
            },
            "type": "histogram"
           }
          ],
          "histogram2d": [
           {
            "colorbar": {
             "outlinewidth": 0,
             "ticks": ""
            },
            "colorscale": [
             [
              0,
              "#0d0887"
             ],
             [
              0.1111111111111111,
              "#46039f"
             ],
             [
              0.2222222222222222,
              "#7201a8"
             ],
             [
              0.3333333333333333,
              "#9c179e"
             ],
             [
              0.4444444444444444,
              "#bd3786"
             ],
             [
              0.5555555555555556,
              "#d8576b"
             ],
             [
              0.6666666666666666,
              "#ed7953"
             ],
             [
              0.7777777777777778,
              "#fb9f3a"
             ],
             [
              0.8888888888888888,
              "#fdca26"
             ],
             [
              1,
              "#f0f921"
             ]
            ],
            "type": "histogram2d"
           }
          ],
          "histogram2dcontour": [
           {
            "colorbar": {
             "outlinewidth": 0,
             "ticks": ""
            },
            "colorscale": [
             [
              0,
              "#0d0887"
             ],
             [
              0.1111111111111111,
              "#46039f"
             ],
             [
              0.2222222222222222,
              "#7201a8"
             ],
             [
              0.3333333333333333,
              "#9c179e"
             ],
             [
              0.4444444444444444,
              "#bd3786"
             ],
             [
              0.5555555555555556,
              "#d8576b"
             ],
             [
              0.6666666666666666,
              "#ed7953"
             ],
             [
              0.7777777777777778,
              "#fb9f3a"
             ],
             [
              0.8888888888888888,
              "#fdca26"
             ],
             [
              1,
              "#f0f921"
             ]
            ],
            "type": "histogram2dcontour"
           }
          ],
          "mesh3d": [
           {
            "colorbar": {
             "outlinewidth": 0,
             "ticks": ""
            },
            "type": "mesh3d"
           }
          ],
          "parcoords": [
           {
            "line": {
             "colorbar": {
              "outlinewidth": 0,
              "ticks": ""
             }
            },
            "type": "parcoords"
           }
          ],
          "pie": [
           {
            "automargin": true,
            "type": "pie"
           }
          ],
          "scatter": [
           {
            "fillpattern": {
             "fillmode": "overlay",
             "size": 10,
             "solidity": 0.2
            },
            "type": "scatter"
           }
          ],
          "scatter3d": [
           {
            "line": {
             "colorbar": {
              "outlinewidth": 0,
              "ticks": ""
             }
            },
            "marker": {
             "colorbar": {
              "outlinewidth": 0,
              "ticks": ""
             }
            },
            "type": "scatter3d"
           }
          ],
          "scattercarpet": [
           {
            "marker": {
             "colorbar": {
              "outlinewidth": 0,
              "ticks": ""
             }
            },
            "type": "scattercarpet"
           }
          ],
          "scattergeo": [
           {
            "marker": {
             "colorbar": {
              "outlinewidth": 0,
              "ticks": ""
             }
            },
            "type": "scattergeo"
           }
          ],
          "scattergl": [
           {
            "marker": {
             "colorbar": {
              "outlinewidth": 0,
              "ticks": ""
             }
            },
            "type": "scattergl"
           }
          ],
          "scattermapbox": [
           {
            "marker": {
             "colorbar": {
              "outlinewidth": 0,
              "ticks": ""
             }
            },
            "type": "scattermapbox"
           }
          ],
          "scatterpolar": [
           {
            "marker": {
             "colorbar": {
              "outlinewidth": 0,
              "ticks": ""
             }
            },
            "type": "scatterpolar"
           }
          ],
          "scatterpolargl": [
           {
            "marker": {
             "colorbar": {
              "outlinewidth": 0,
              "ticks": ""
             }
            },
            "type": "scatterpolargl"
           }
          ],
          "scatterternary": [
           {
            "marker": {
             "colorbar": {
              "outlinewidth": 0,
              "ticks": ""
             }
            },
            "type": "scatterternary"
           }
          ],
          "surface": [
           {
            "colorbar": {
             "outlinewidth": 0,
             "ticks": ""
            },
            "colorscale": [
             [
              0,
              "#0d0887"
             ],
             [
              0.1111111111111111,
              "#46039f"
             ],
             [
              0.2222222222222222,
              "#7201a8"
             ],
             [
              0.3333333333333333,
              "#9c179e"
             ],
             [
              0.4444444444444444,
              "#bd3786"
             ],
             [
              0.5555555555555556,
              "#d8576b"
             ],
             [
              0.6666666666666666,
              "#ed7953"
             ],
             [
              0.7777777777777778,
              "#fb9f3a"
             ],
             [
              0.8888888888888888,
              "#fdca26"
             ],
             [
              1,
              "#f0f921"
             ]
            ],
            "type": "surface"
           }
          ],
          "table": [
           {
            "cells": {
             "fill": {
              "color": "#EBF0F8"
             },
             "line": {
              "color": "white"
             }
            },
            "header": {
             "fill": {
              "color": "#C8D4E3"
             },
             "line": {
              "color": "white"
             }
            },
            "type": "table"
           }
          ]
         },
         "layout": {
          "annotationdefaults": {
           "arrowcolor": "#2a3f5f",
           "arrowhead": 0,
           "arrowwidth": 1
          },
          "autotypenumbers": "strict",
          "coloraxis": {
           "colorbar": {
            "outlinewidth": 0,
            "ticks": ""
           }
          },
          "colorscale": {
           "diverging": [
            [
             0,
             "#8e0152"
            ],
            [
             0.1,
             "#c51b7d"
            ],
            [
             0.2,
             "#de77ae"
            ],
            [
             0.3,
             "#f1b6da"
            ],
            [
             0.4,
             "#fde0ef"
            ],
            [
             0.5,
             "#f7f7f7"
            ],
            [
             0.6,
             "#e6f5d0"
            ],
            [
             0.7,
             "#b8e186"
            ],
            [
             0.8,
             "#7fbc41"
            ],
            [
             0.9,
             "#4d9221"
            ],
            [
             1,
             "#276419"
            ]
           ],
           "sequential": [
            [
             0,
             "#0d0887"
            ],
            [
             0.1111111111111111,
             "#46039f"
            ],
            [
             0.2222222222222222,
             "#7201a8"
            ],
            [
             0.3333333333333333,
             "#9c179e"
            ],
            [
             0.4444444444444444,
             "#bd3786"
            ],
            [
             0.5555555555555556,
             "#d8576b"
            ],
            [
             0.6666666666666666,
             "#ed7953"
            ],
            [
             0.7777777777777778,
             "#fb9f3a"
            ],
            [
             0.8888888888888888,
             "#fdca26"
            ],
            [
             1,
             "#f0f921"
            ]
           ],
           "sequentialminus": [
            [
             0,
             "#0d0887"
            ],
            [
             0.1111111111111111,
             "#46039f"
            ],
            [
             0.2222222222222222,
             "#7201a8"
            ],
            [
             0.3333333333333333,
             "#9c179e"
            ],
            [
             0.4444444444444444,
             "#bd3786"
            ],
            [
             0.5555555555555556,
             "#d8576b"
            ],
            [
             0.6666666666666666,
             "#ed7953"
            ],
            [
             0.7777777777777778,
             "#fb9f3a"
            ],
            [
             0.8888888888888888,
             "#fdca26"
            ],
            [
             1,
             "#f0f921"
            ]
           ]
          },
          "colorway": [
           "#636efa",
           "#EF553B",
           "#00cc96",
           "#ab63fa",
           "#FFA15A",
           "#19d3f3",
           "#FF6692",
           "#B6E880",
           "#FF97FF",
           "#FECB52"
          ],
          "font": {
           "color": "#2a3f5f"
          },
          "geo": {
           "bgcolor": "white",
           "lakecolor": "white",
           "landcolor": "#E5ECF6",
           "showlakes": true,
           "showland": true,
           "subunitcolor": "white"
          },
          "hoverlabel": {
           "align": "left"
          },
          "hovermode": "closest",
          "mapbox": {
           "style": "light"
          },
          "paper_bgcolor": "white",
          "plot_bgcolor": "#E5ECF6",
          "polar": {
           "angularaxis": {
            "gridcolor": "white",
            "linecolor": "white",
            "ticks": ""
           },
           "bgcolor": "#E5ECF6",
           "radialaxis": {
            "gridcolor": "white",
            "linecolor": "white",
            "ticks": ""
           }
          },
          "scene": {
           "xaxis": {
            "backgroundcolor": "#E5ECF6",
            "gridcolor": "white",
            "gridwidth": 2,
            "linecolor": "white",
            "showbackground": true,
            "ticks": "",
            "zerolinecolor": "white"
           },
           "yaxis": {
            "backgroundcolor": "#E5ECF6",
            "gridcolor": "white",
            "gridwidth": 2,
            "linecolor": "white",
            "showbackground": true,
            "ticks": "",
            "zerolinecolor": "white"
           },
           "zaxis": {
            "backgroundcolor": "#E5ECF6",
            "gridcolor": "white",
            "gridwidth": 2,
            "linecolor": "white",
            "showbackground": true,
            "ticks": "",
            "zerolinecolor": "white"
           }
          },
          "shapedefaults": {
           "line": {
            "color": "#2a3f5f"
           }
          },
          "ternary": {
           "aaxis": {
            "gridcolor": "white",
            "linecolor": "white",
            "ticks": ""
           },
           "baxis": {
            "gridcolor": "white",
            "linecolor": "white",
            "ticks": ""
           },
           "bgcolor": "#E5ECF6",
           "caxis": {
            "gridcolor": "white",
            "linecolor": "white",
            "ticks": ""
           }
          },
          "title": {
           "x": 0.05
          },
          "xaxis": {
           "automargin": true,
           "gridcolor": "white",
           "linecolor": "white",
           "ticks": "",
           "title": {
            "standoff": 15
           },
           "zerolinecolor": "white",
           "zerolinewidth": 2
          },
          "yaxis": {
           "automargin": true,
           "gridcolor": "white",
           "linecolor": "white",
           "ticks": "",
           "title": {
            "standoff": 15
           },
           "zerolinecolor": "white",
           "zerolinewidth": 2
          }
         }
        }
       }
      },
      "text/html": [
       "<div>                            <div id=\"39abe8b3-53a6-4c37-8afc-aa40536f27e2\" class=\"plotly-graph-div\" style=\"height:525px; width:100%;\"></div>            <script type=\"text/javascript\">                require([\"plotly\"], function(Plotly) {                    window.PLOTLYENV=window.PLOTLYENV || {};                                    if (document.getElementById(\"39abe8b3-53a6-4c37-8afc-aa40536f27e2\")) {                    Plotly.newPlot(                        \"39abe8b3-53a6-4c37-8afc-aa40536f27e2\",                        [{\"marker\":{\"color\":\"#ff5f00\",\"opacity\":0.8,\"size\":8},\"mode\":\"markers\",\"name\":\"bloom\",\"x\":[5.170483995038151,0.0,1.0986122886681096,-0.579818495252942,1.9459101490553132],\"y\":[-1.0051219455807707,-1.0758728016986203,-1.0758728016986203,-1.0758728016986203,-1.0758728016986203],\"z\":[0.3975962282334165,0.4179716703713765,0.4057246298885345,0.4244428174437842,0.3889784219035787],\"type\":\"scatter3d\"},{\"marker\":{\"color\":\"#ffbd00\",\"opacity\":0.8,\"size\":8},\"mode\":\"markers\",\"name\":\"codellama\",\"x\":[2.5649493574615367,3.526360524616161,4.2484952420493585,1.9459101490553132],\"y\":[0.9242589015233319,0.9242589015233319,1.1052568313867783,0.9242589015233319],\"z\":[0.4379426977660279,0.3911361839391881,0.3978847741300497,0.3782167557307672],\"type\":\"scatter3d\"},{\"marker\":{\"color\":\"#e2ff00\",\"opacity\":0.8,\"size\":8},\"mode\":\"markers\",\"name\":\"falcon\",\"x\":[5.19295685089021,3.6888794541139363,1.9459101490553132,0.0],\"y\":[1.252762968495368,0.0,0.4054651081081644,-1.0498221244986778],\"z\":[0.4515695089819848,0.4171692245008122,0.34263825539848,0.3595559898003175],\"type\":\"scatter3d\"},{\"marker\":{\"color\":\"#84ff00\",\"opacity\":0.8,\"size\":8},\"mode\":\"markers\",\"name\":\"gpt-neo\\u002fj\",\"x\":[1.791759469228055,0.26236426446749106,-2.0794415416798357,0.9932517730102834,2.995732273553991],\"y\":[-0.9113031903631159,-0.9675840262617056,-1.203972804325936,-0.8675005677047231,-0.7507762933965817],\"z\":[0.359624729495078,0.3962930604436832,0.455761630633801,0.3977795990878021,0.3161314596733849],\"type\":\"scatter3d\"},{\"marker\":{\"color\":\"#25ff00\",\"opacity\":0.8,\"size\":8},\"mode\":\"markers\",\"name\":\"llama\",\"x\":[2.5649493574615367,3.4011973816621555,4.174387269895637,1.9459101490553132],\"y\":[0.0,0.33647223662121284,0.33647223662121284,0.0],\"z\":[0.3947888264167134,0.4227387599763514,0.4342876070583593,0.3432793294414406],\"type\":\"scatter3d\"},{\"marker\":{\"color\":\"#00ff39\",\"opacity\":0.8,\"size\":8},\"mode\":\"markers\",\"name\":\"opt\",\"x\":[0.26236426446749106,-2.0794415416798357,2.5649493574615367,0.9932517730102834,3.4011973816621555,-1.0498221244986778,1.9021075263969203,4.189654742026425],\"y\":[-1.7147984280919266,-1.7147984280919266,-1.7147984280919266,-1.7147984280919266,-1.7147984280919266,-1.7147984280919266,-1.7147984280919266,-1.7147984280919266],\"z\":[0.387106757904831,0.4286875802615585,0.3409583991059122,0.3742541799029018,0.351638262847476,0.4082853277784469,0.3512214978869498,0.3542965595297838],\"type\":\"scatter3d\"},{\"marker\":{\"color\":\"#00ff97\",\"opacity\":0.8,\"size\":8},\"mode\":\"markers\",\"name\":\"pythia-deduped\",\"x\":[0.33647223662121284,2.4849066497880004,-1.83258146374831,0.0,1.0296194171811581,-0.8915981192837836,1.9315214116032138,-2.659260036932778],\"y\":[-1.203972804325936,-1.203972804325936,-1.203972804325936,-1.203972804325936,-1.203972804325936,-1.203972804325936,-1.203972804325936,-1.203972804325936],\"z\":[0.3865846445222244,0.329988729051366,0.443404463764025,0.389393782096148,0.3555978234501585,0.4094757859220677,0.3519458488266109,0.4751438547560591],\"type\":\"scatter3d\"},{\"marker\":{\"color\":\"#00fff6\",\"opacity\":0.8,\"size\":8},\"mode\":\"markers\",\"name\":\"qwen1.5\",\"x\":[-0.6931471805599453,0.5877866649021191,2.6390573296152584,3.4657359027997265,1.3862943611198906,4.276666119016055,1.9459101490553132],\"y\":[0.8754687373538999,0.8754687373538999,1.3862943611198906,1.3862943611198906,0.8754687373538999,1.0986122886681096,1.3862943611198906],\"z\":[0.3829926844374736,0.3942781424608406,0.5206092394796343,0.5739444338569583,0.4727318979180884,0.596080564321232,0.5108227702127015],\"type\":\"scatter3d\"},{\"marker\":{\"color\":\"#00aaff\",\"opacity\":0.8,\"size\":8},\"mode\":\"markers\",\"name\":\"qwen2\",\"x\":[-0.6931471805599453,0.4054651081081644,4.276666119016055,1.9459101490553132],\"y\":[2.4849066497880004,1.9459101490553132,1.9459101490553132,1.9459101490553132],\"z\":[0.3977,0.4592,0.5474,0.5314],\"type\":\"scatter3d\"},{\"marker\":{\"color\":\"#004bff\",\"opacity\":0.8,\"size\":8},\"mode\":\"markers\",\"name\":\"rwkv\",\"x\":[2.6390573296152584,-1.7778565640590633,0.0,1.0986122886681096,-0.843970070294529,1.9459101490553132,2.6390573296152584],\"y\":[-1.1086626245216111,-1.1086626245216111,-1.1086626245216111,-1.1086626245216111,-1.1086626245216111,-1.1086626245216111,-1.1086626245216111],\"z\":[0.3204219399194067,0.4192323633446171,0.3579569610412708,0.3213702262546504,0.3958221882473183,0.3365298312185615,0.4193256931572423],\"type\":\"scatter3d\"},{\"marker\":{\"color\":\"#1300ff\",\"opacity\":0.8,\"size\":8},\"mode\":\"markers\",\"name\":\"stablelm\",\"x\":[1.791759469228055,1.0986122886681096,1.9459101490553132,1.9459101490553132],\"y\":[0.6931471805599453,0.4054651081081644,0.4054651081081644,0.09531017980432495],\"z\":[0.3678385823884172,0.4049657855313842,0.4019376597227457,0.3645720175160148],\"type\":\"scatter3d\"},{\"marker\":{\"color\":\"#7200ff\",\"opacity\":0.8,\"size\":8},\"mode\":\"markers\",\"name\":\"starcoder\",\"x\":[2.740840023925201,0.0,1.0986122886681096,1.9459101490553132],\"y\":[0.0,0.0,0.0,0.0],\"z\":[0.400215713503952,0.4578928664903403,0.4305451198786013,0.4046263361255611],\"type\":\"scatter3d\"},{\"marker\":{\"color\":\"#d000ff\",\"opacity\":0.8,\"size\":8},\"mode\":\"markers\",\"name\":\"xglm\",\"x\":[0.5306282510621704,1.504077396776274,-0.5727010274840783,2.0149030205422647],\"y\":[-0.6931471805599453,-0.6931471805599453,-0.6931471805599453,-0.6931471805599453],\"z\":[0.3720634151696304,0.3583939485040638,0.4043205877039627,0.3666152388235458],\"type\":\"scatter3d\"},{\"marker\":{\"color\":\"#ff00cf\",\"opacity\":0.8,\"size\":8},\"mode\":\"markers\",\"name\":\"yi\",\"x\":[3.526360524616161,1.791759469228055,2.197224577336219],\"y\":[1.0986122886681096,1.0986122886681096,1.33500106673234],\"z\":[0.5623083932983032,0.4196160749943391,0.4245],\"type\":\"scatter3d\"},{\"marker\":{\"color\":\"#ff0071\",\"opacity\":0.8,\"size\":8},\"mode\":\"markers\",\"name\":\"yi-1.5\",\"x\":[3.526360524616161,1.791759469228055,2.197224577336219],\"y\":[1.252762968495368,1.252762968495368,1.252762968495368],\"z\":[0.5384,0.4402,0.4674],\"type\":\"scatter3d\"}],                        {\"margin\":{\"b\":0,\"l\":0,\"r\":0,\"t\":0},\"scene\":{\"xaxis\":{\"title\":{\"text\":\"logS\"}},\"yaxis\":{\"title\":{\"text\":\"logT\"}},\"zaxis\":{\"title\":{\"text\":\"y\"}}},\"template\":{\"data\":{\"histogram2dcontour\":[{\"type\":\"histogram2dcontour\",\"colorbar\":{\"outlinewidth\":0,\"ticks\":\"\"},\"colorscale\":[[0.0,\"#0d0887\"],[0.1111111111111111,\"#46039f\"],[0.2222222222222222,\"#7201a8\"],[0.3333333333333333,\"#9c179e\"],[0.4444444444444444,\"#bd3786\"],[0.5555555555555556,\"#d8576b\"],[0.6666666666666666,\"#ed7953\"],[0.7777777777777778,\"#fb9f3a\"],[0.8888888888888888,\"#fdca26\"],[1.0,\"#f0f921\"]]}],\"choropleth\":[{\"type\":\"choropleth\",\"colorbar\":{\"outlinewidth\":0,\"ticks\":\"\"}}],\"histogram2d\":[{\"type\":\"histogram2d\",\"colorbar\":{\"outlinewidth\":0,\"ticks\":\"\"},\"colorscale\":[[0.0,\"#0d0887\"],[0.1111111111111111,\"#46039f\"],[0.2222222222222222,\"#7201a8\"],[0.3333333333333333,\"#9c179e\"],[0.4444444444444444,\"#bd3786\"],[0.5555555555555556,\"#d8576b\"],[0.6666666666666666,\"#ed7953\"],[0.7777777777777778,\"#fb9f3a\"],[0.8888888888888888,\"#fdca26\"],[1.0,\"#f0f921\"]]}],\"heatmap\":[{\"type\":\"heatmap\",\"colorbar\":{\"outlinewidth\":0,\"ticks\":\"\"},\"colorscale\":[[0.0,\"#0d0887\"],[0.1111111111111111,\"#46039f\"],[0.2222222222222222,\"#7201a8\"],[0.3333333333333333,\"#9c179e\"],[0.4444444444444444,\"#bd3786\"],[0.5555555555555556,\"#d8576b\"],[0.6666666666666666,\"#ed7953\"],[0.7777777777777778,\"#fb9f3a\"],[0.8888888888888888,\"#fdca26\"],[1.0,\"#f0f921\"]]}],\"heatmapgl\":[{\"type\":\"heatmapgl\",\"colorbar\":{\"outlinewidth\":0,\"ticks\":\"\"},\"colorscale\":[[0.0,\"#0d0887\"],[0.1111111111111111,\"#46039f\"],[0.2222222222222222,\"#7201a8\"],[0.3333333333333333,\"#9c179e\"],[0.4444444444444444,\"#bd3786\"],[0.5555555555555556,\"#d8576b\"],[0.6666666666666666,\"#ed7953\"],[0.7777777777777778,\"#fb9f3a\"],[0.8888888888888888,\"#fdca26\"],[1.0,\"#f0f921\"]]}],\"contourcarpet\":[{\"type\":\"contourcarpet\",\"colorbar\":{\"outlinewidth\":0,\"ticks\":\"\"}}],\"contour\":[{\"type\":\"contour\",\"colorbar\":{\"outlinewidth\":0,\"ticks\":\"\"},\"colorscale\":[[0.0,\"#0d0887\"],[0.1111111111111111,\"#46039f\"],[0.2222222222222222,\"#7201a8\"],[0.3333333333333333,\"#9c179e\"],[0.4444444444444444,\"#bd3786\"],[0.5555555555555556,\"#d8576b\"],[0.6666666666666666,\"#ed7953\"],[0.7777777777777778,\"#fb9f3a\"],[0.8888888888888888,\"#fdca26\"],[1.0,\"#f0f921\"]]}],\"surface\":[{\"type\":\"surface\",\"colorbar\":{\"outlinewidth\":0,\"ticks\":\"\"},\"colorscale\":[[0.0,\"#0d0887\"],[0.1111111111111111,\"#46039f\"],[0.2222222222222222,\"#7201a8\"],[0.3333333333333333,\"#9c179e\"],[0.4444444444444444,\"#bd3786\"],[0.5555555555555556,\"#d8576b\"],[0.6666666666666666,\"#ed7953\"],[0.7777777777777778,\"#fb9f3a\"],[0.8888888888888888,\"#fdca26\"],[1.0,\"#f0f921\"]]}],\"mesh3d\":[{\"type\":\"mesh3d\",\"colorbar\":{\"outlinewidth\":0,\"ticks\":\"\"}}],\"scatter\":[{\"fillpattern\":{\"fillmode\":\"overlay\",\"size\":10,\"solidity\":0.2},\"type\":\"scatter\"}],\"parcoords\":[{\"type\":\"parcoords\",\"line\":{\"colorbar\":{\"outlinewidth\":0,\"ticks\":\"\"}}}],\"scatterpolargl\":[{\"type\":\"scatterpolargl\",\"marker\":{\"colorbar\":{\"outlinewidth\":0,\"ticks\":\"\"}}}],\"bar\":[{\"error_x\":{\"color\":\"#2a3f5f\"},\"error_y\":{\"color\":\"#2a3f5f\"},\"marker\":{\"line\":{\"color\":\"#E5ECF6\",\"width\":0.5},\"pattern\":{\"fillmode\":\"overlay\",\"size\":10,\"solidity\":0.2}},\"type\":\"bar\"}],\"scattergeo\":[{\"type\":\"scattergeo\",\"marker\":{\"colorbar\":{\"outlinewidth\":0,\"ticks\":\"\"}}}],\"scatterpolar\":[{\"type\":\"scatterpolar\",\"marker\":{\"colorbar\":{\"outlinewidth\":0,\"ticks\":\"\"}}}],\"histogram\":[{\"marker\":{\"pattern\":{\"fillmode\":\"overlay\",\"size\":10,\"solidity\":0.2}},\"type\":\"histogram\"}],\"scattergl\":[{\"type\":\"scattergl\",\"marker\":{\"colorbar\":{\"outlinewidth\":0,\"ticks\":\"\"}}}],\"scatter3d\":[{\"type\":\"scatter3d\",\"line\":{\"colorbar\":{\"outlinewidth\":0,\"ticks\":\"\"}},\"marker\":{\"colorbar\":{\"outlinewidth\":0,\"ticks\":\"\"}}}],\"scattermapbox\":[{\"type\":\"scattermapbox\",\"marker\":{\"colorbar\":{\"outlinewidth\":0,\"ticks\":\"\"}}}],\"scatterternary\":[{\"type\":\"scatterternary\",\"marker\":{\"colorbar\":{\"outlinewidth\":0,\"ticks\":\"\"}}}],\"scattercarpet\":[{\"type\":\"scattercarpet\",\"marker\":{\"colorbar\":{\"outlinewidth\":0,\"ticks\":\"\"}}}],\"carpet\":[{\"aaxis\":{\"endlinecolor\":\"#2a3f5f\",\"gridcolor\":\"white\",\"linecolor\":\"white\",\"minorgridcolor\":\"white\",\"startlinecolor\":\"#2a3f5f\"},\"baxis\":{\"endlinecolor\":\"#2a3f5f\",\"gridcolor\":\"white\",\"linecolor\":\"white\",\"minorgridcolor\":\"white\",\"startlinecolor\":\"#2a3f5f\"},\"type\":\"carpet\"}],\"table\":[{\"cells\":{\"fill\":{\"color\":\"#EBF0F8\"},\"line\":{\"color\":\"white\"}},\"header\":{\"fill\":{\"color\":\"#C8D4E3\"},\"line\":{\"color\":\"white\"}},\"type\":\"table\"}],\"barpolar\":[{\"marker\":{\"line\":{\"color\":\"#E5ECF6\",\"width\":0.5},\"pattern\":{\"fillmode\":\"overlay\",\"size\":10,\"solidity\":0.2}},\"type\":\"barpolar\"}],\"pie\":[{\"automargin\":true,\"type\":\"pie\"}]},\"layout\":{\"autotypenumbers\":\"strict\",\"colorway\":[\"#636efa\",\"#EF553B\",\"#00cc96\",\"#ab63fa\",\"#FFA15A\",\"#19d3f3\",\"#FF6692\",\"#B6E880\",\"#FF97FF\",\"#FECB52\"],\"font\":{\"color\":\"#2a3f5f\"},\"hovermode\":\"closest\",\"hoverlabel\":{\"align\":\"left\"},\"paper_bgcolor\":\"white\",\"plot_bgcolor\":\"#E5ECF6\",\"polar\":{\"bgcolor\":\"#E5ECF6\",\"angularaxis\":{\"gridcolor\":\"white\",\"linecolor\":\"white\",\"ticks\":\"\"},\"radialaxis\":{\"gridcolor\":\"white\",\"linecolor\":\"white\",\"ticks\":\"\"}},\"ternary\":{\"bgcolor\":\"#E5ECF6\",\"aaxis\":{\"gridcolor\":\"white\",\"linecolor\":\"white\",\"ticks\":\"\"},\"baxis\":{\"gridcolor\":\"white\",\"linecolor\":\"white\",\"ticks\":\"\"},\"caxis\":{\"gridcolor\":\"white\",\"linecolor\":\"white\",\"ticks\":\"\"}},\"coloraxis\":{\"colorbar\":{\"outlinewidth\":0,\"ticks\":\"\"}},\"colorscale\":{\"sequential\":[[0.0,\"#0d0887\"],[0.1111111111111111,\"#46039f\"],[0.2222222222222222,\"#7201a8\"],[0.3333333333333333,\"#9c179e\"],[0.4444444444444444,\"#bd3786\"],[0.5555555555555556,\"#d8576b\"],[0.6666666666666666,\"#ed7953\"],[0.7777777777777778,\"#fb9f3a\"],[0.8888888888888888,\"#fdca26\"],[1.0,\"#f0f921\"]],\"sequentialminus\":[[0.0,\"#0d0887\"],[0.1111111111111111,\"#46039f\"],[0.2222222222222222,\"#7201a8\"],[0.3333333333333333,\"#9c179e\"],[0.4444444444444444,\"#bd3786\"],[0.5555555555555556,\"#d8576b\"],[0.6666666666666666,\"#ed7953\"],[0.7777777777777778,\"#fb9f3a\"],[0.8888888888888888,\"#fdca26\"],[1.0,\"#f0f921\"]],\"diverging\":[[0,\"#8e0152\"],[0.1,\"#c51b7d\"],[0.2,\"#de77ae\"],[0.3,\"#f1b6da\"],[0.4,\"#fde0ef\"],[0.5,\"#f7f7f7\"],[0.6,\"#e6f5d0\"],[0.7,\"#b8e186\"],[0.8,\"#7fbc41\"],[0.9,\"#4d9221\"],[1,\"#276419\"]]},\"xaxis\":{\"gridcolor\":\"white\",\"linecolor\":\"white\",\"ticks\":\"\",\"title\":{\"standoff\":15},\"zerolinecolor\":\"white\",\"automargin\":true,\"zerolinewidth\":2},\"yaxis\":{\"gridcolor\":\"white\",\"linecolor\":\"white\",\"ticks\":\"\",\"title\":{\"standoff\":15},\"zerolinecolor\":\"white\",\"automargin\":true,\"zerolinewidth\":2},\"scene\":{\"xaxis\":{\"backgroundcolor\":\"#E5ECF6\",\"gridcolor\":\"white\",\"linecolor\":\"white\",\"showbackground\":true,\"ticks\":\"\",\"zerolinecolor\":\"white\",\"gridwidth\":2},\"yaxis\":{\"backgroundcolor\":\"#E5ECF6\",\"gridcolor\":\"white\",\"linecolor\":\"white\",\"showbackground\":true,\"ticks\":\"\",\"zerolinecolor\":\"white\",\"gridwidth\":2},\"zaxis\":{\"backgroundcolor\":\"#E5ECF6\",\"gridcolor\":\"white\",\"linecolor\":\"white\",\"showbackground\":true,\"ticks\":\"\",\"zerolinecolor\":\"white\",\"gridwidth\":2}},\"shapedefaults\":{\"line\":{\"color\":\"#2a3f5f\"}},\"annotationdefaults\":{\"arrowcolor\":\"#2a3f5f\",\"arrowhead\":0,\"arrowwidth\":1},\"geo\":{\"bgcolor\":\"white\",\"landcolor\":\"#E5ECF6\",\"subunitcolor\":\"white\",\"showland\":true,\"showlakes\":true,\"lakecolor\":\"white\"},\"title\":{\"x\":0.05},\"mapbox\":{\"style\":\"light\"}}}},                        {\"responsive\": true}                    ).then(function(){\n",
       "                            \n",
       "var gd = document.getElementById('39abe8b3-53a6-4c37-8afc-aa40536f27e2');\n",
       "var x = new MutationObserver(function (mutations, observer) {{\n",
       "        var display = window.getComputedStyle(gd).display;\n",
       "        if (!display || display === 'none') {{\n",
       "            console.log([gd, 'removed!']);\n",
       "            Plotly.purge(gd);\n",
       "            observer.disconnect();\n",
       "        }}\n",
       "}});\n",
       "\n",
       "// Listen for the removal of the full notebook cells\n",
       "var notebookContainer = gd.closest('#notebook-container');\n",
       "if (notebookContainer) {{\n",
       "    x.observe(notebookContainer, {childList: true});\n",
       "}}\n",
       "\n",
       "// Listen for the clearing of the current output cell\n",
       "var outputEl = gd.closest('.output');\n",
       "if (outputEl) {{\n",
       "    x.observe(outputEl, {childList: true});\n",
       "}}\n",
       "\n",
       "                        })                };                });            </script>        </div>"
      ]
     },
     "metadata": {},
     "output_type": "display_data"
    },
    {
     "name": "stdout",
     "output_type": "stream",
     "text": [
      "************ GSM8K ************\n"
     ]
    },
    {
     "data": {
      "application/vnd.plotly.v1+json": {
       "config": {
        "plotlyServerURL": "https://plot.ly"
       },
       "data": [
        {
         "marker": {
          "color": "#ff5f00",
          "opacity": 0.8,
          "size": 8
         },
         "mode": "markers",
         "name": "bloom",
         "type": "scatter3d",
         "x": [
          5.170483995038151,
          0,
          1.0986122886681096,
          -0.579818495252942,
          1.9459101490553132
         ],
         "y": [
          -1.0051219455807707,
          -1.0758728016986203,
          -1.0758728016986203,
          -1.0758728016986203,
          -1.0758728016986203
         ],
         "z": [
          0.068991660348749,
          0.0022744503411675,
          0.0151630022744503,
          0.00303260045489,
          0.0136467020470053
         ]
        },
        {
         "marker": {
          "color": "#ffbd00",
          "opacity": 0.8,
          "size": 8
         },
         "mode": "markers",
         "name": "codellama",
         "type": "scatter3d",
         "x": [
          2.5649493574615367,
          3.526360524616161,
          4.2484952420493585,
          1.9459101490553132
         ],
         "y": [
          0.9242589015233319,
          0.9242589015233319,
          1.1052568313867783,
          0.9242589015233319
         ],
         "z": [
          0.1213040181956027,
          0.3434420015163002,
          0.4397270659590599,
          0.0515542077331311
         ]
        },
        {
         "marker": {
          "color": "#e2ff00",
          "opacity": 0.8,
          "size": 8
         },
         "mode": "markers",
         "name": "falcon",
         "type": "scatter3d",
         "x": [
          5.19295685089021,
          3.6888794541139363,
          1.9459101490553132,
          0
         ],
         "y": [
          1.252762968495368,
          0,
          0.4054651081081644,
          -1.0498221244986778
         ],
         "z": [
          0.4594389689158453,
          0.2145564821834723,
          0.0462471569370735,
          0.0053070507960576
         ]
        },
        {
         "marker": {
          "color": "#84ff00",
          "opacity": 0.8,
          "size": 8
         },
         "mode": "markers",
         "name": "gpt-neo/j",
         "type": "scatter3d",
         "x": [
          1.791759469228055,
          0.26236426446749106,
          -2.0794415416798357,
          0.9932517730102834,
          2.995732273553991
         ],
         "y": [
          -0.9113031903631159,
          -0.9675840262617056,
          -1.203972804325936,
          -0.8675005677047231,
          -0.7507762933965817
         ],
         "z": [
          0.0295678544351781,
          0.0045489006823351,
          0.00303260045489,
          0.0128885519332827,
          0.0545868081880212
         ]
        },
        {
         "marker": {
          "color": "#25ff00",
          "opacity": 0.8,
          "size": 8
         },
         "mode": "markers",
         "name": "llama",
         "type": "scatter3d",
         "x": [
          2.5649493574615367,
          3.4011973816621555,
          4.174387269895637,
          1.9459101490553132
         ],
         "y": [
          0,
          0.33647223662121284,
          0.33647223662121284,
          0
         ],
         "z": [
          0.0758150113722517,
          0.1485974222896133,
          0.3722517058377558,
          0.0803639120545868
         ]
        },
        {
         "marker": {
          "color": "#00ff39",
          "opacity": 0.8,
          "size": 8
         },
         "mode": "markers",
         "name": "opt",
         "type": "scatter3d",
         "x": [
          0.26236426446749106,
          -2.0794415416798357,
          2.5649493574615367,
          0.9932517730102834,
          3.4011973816621555,
          -1.0498221244986778,
          1.9021075263969203,
          4.189654742026425
         ],
         "y": [
          -1.7147984280919266,
          -1.7147984280919266,
          -1.7147984280919266,
          -1.7147984280919266,
          -1.7147984280919266,
          -1.7147984280919266,
          -1.7147984280919266,
          -1.7147984280919266
         ],
         "z": [
          0.001516300227445,
          0.0007581501137225,
          0.0174374526156178,
          0.0022744503411675,
          0.0219863532979529,
          0.00303260045489,
          0.0098559514783927,
          0.0166793025018953
         ]
        },
        {
         "marker": {
          "color": "#00ff97",
          "opacity": 0.8,
          "size": 8
         },
         "mode": "markers",
         "name": "pythia-deduped",
         "type": "scatter3d",
         "x": [
          0.33647223662121284,
          2.4849066497880004,
          -1.83258146374831,
          0,
          1.0296194171811581,
          -0.8915981192837836,
          1.9315214116032138,
          -2.659260036932778
         ],
         "y": [
          -1.203972804325936,
          -1.203972804325936,
          -1.203972804325936,
          -1.203972804325936,
          -1.203972804325936,
          -1.203972804325936,
          -1.203972804325936,
          -1.203972804325936
         ],
         "z": [
          0.0083396512509476,
          0.0144048521607278,
          0.0022744503411675,
          0.0113722517058377,
          0.0083396512509476,
          0.00303260045489,
          0.0166793025018953,
          0
         ]
        },
        {
         "marker": {
          "color": "#00fff6",
          "opacity": 0.8,
          "size": 8
         },
         "mode": "markers",
         "name": "qwen1.5",
         "type": "scatter3d",
         "x": [
          -0.6931471805599453,
          0.5877866649021191,
          2.6390573296152584,
          3.4657359027997265,
          1.3862943611198906,
          4.276666119016055,
          1.9459101490553132
         ],
         "y": [
          0.8754687373538999,
          0.8754687373538999,
          1.3862943611198906,
          1.3862943611198906,
          0.8754687373538999,
          1.0986122886681096,
          1.3862943611198906
         ],
         "z": [
          0.1630022744503411,
          0.335860500379075,
          0.6762699014404853,
          0.6110689916603488,
          0.5223654283548143,
          0.6573161485974223,
          0.535253980288097
         ]
        },
        {
         "marker": {
          "color": "#00aaff",
          "opacity": 0.8,
          "size": 8
         },
         "mode": "markers",
         "name": "qwen2",
         "type": "scatter3d",
         "x": [
          -0.6931471805599453,
          0.4054651081081644,
          4.276666119016055,
          1.9459101490553132
         ],
         "y": [
          2.4849066497880004,
          1.9459101490553132,
          1.9459101490553132,
          1.9459101490553132
         ],
         "z": [
          0.3571,
          0.5579999999999999,
          0.8529000000000001,
          0.7293000000000001
         ]
        },
        {
         "marker": {
          "color": "#004bff",
          "opacity": 0.8,
          "size": 8
         },
         "mode": "markers",
         "name": "rwkv",
         "type": "scatter3d",
         "x": [
          2.6390573296152584,
          -1.7778565640590633,
          0,
          1.0986122886681096,
          -0.843970070294529,
          1.9459101490553132,
          2.6390573296152584
         ],
         "y": [
          -1.1086626245216111,
          -1.1086626245216111,
          -1.1086626245216111,
          -1.1086626245216111,
          -1.1086626245216111,
          -1.1086626245216111,
          -1.1086626245216111
         ],
         "z": [
          0.0037907505686125,
          0.0045489006823351,
          0,
          0.0068233510235026,
          0.0037907505686125,
          0.0075815011372251,
          0.0212282031842304
         ]
        },
        {
         "marker": {
          "color": "#1300ff",
          "opacity": 0.8,
          "size": 8
         },
         "mode": "markers",
         "name": "stablelm",
         "type": "scatter3d",
         "x": [
          1.791759469228055,
          1.0986122886681096,
          1.9459101490553132,
          1.9459101490553132
         ],
         "y": [
          0.6931471805599453,
          0.4054651081081644,
          0.4054651081081644,
          0.09531017980432495
         ],
         "z": [
          0.1743745261561789,
          0.0045489006823351,
          0.0060652009097801,
          0.0257771038665655
         ]
        },
        {
         "marker": {
          "color": "#7200ff",
          "opacity": 0.8,
          "size": 8
         },
         "mode": "markers",
         "name": "starcoder",
         "type": "scatter3d",
         "x": [
          2.740840023925201,
          0,
          1.0986122886681096,
          1.9459101490553132
         ],
         "y": [
          0,
          0,
          0,
          0
         ],
         "z": [
          0.0788476118271417,
          0.0090978013646702,
          0.0174374526156178,
          0.0545868081880212
         ]
        },
        {
         "marker": {
          "color": "#d000ff",
          "opacity": 0.8,
          "size": 8
         },
         "mode": "markers",
         "name": "xglm",
         "type": "scatter3d",
         "x": [
          0.5306282510621704,
          1.504077396776274,
          -0.5727010274840783,
          2.0149030205422647
         ],
         "y": [
          -0.6931471805599453,
          -0.6931471805599453,
          -0.6931471805599453,
          -0.6931471805599453
         ],
         "z": [
          0.0075815011372251,
          0.0022744503411675,
          0.0022744503411675,
          0.0022744503411675
         ]
        },
        {
         "marker": {
          "color": "#ff00cf",
          "opacity": 0.8,
          "size": 8
         },
         "mode": "markers",
         "name": "yi",
         "type": "scatter3d",
         "x": [
          3.526360524616161,
          1.791759469228055,
          2.197224577336219
         ],
         "y": [
          1.0986122886681096,
          1.0986122886681096,
          1.33500106673234
         ],
         "z": [
          0.5064442759666414,
          0.1213040181956027,
          0.4897999999999999
         ]
        },
        {
         "marker": {
          "color": "#ff0071",
          "opacity": 0.8,
          "size": 8
         },
         "mode": "markers",
         "name": "yi-1.5",
         "type": "scatter3d",
         "x": [
          3.526360524616161,
          1.791759469228055,
          2.197224577336219
         ],
         "y": [
          1.252762968495368,
          1.252762968495368,
          1.252762968495368
         ],
         "z": [
          0.7323999999999999,
          0.5034000000000001,
          0.627
         ]
        }
       ],
       "layout": {
        "autosize": true,
        "margin": {
         "b": 0,
         "l": 0,
         "r": 0,
         "t": 0
        },
        "scene": {
         "aspectmode": "auto",
         "aspectratio": {
          "x": 1,
          "y": 1,
          "z": 1
         },
         "xaxis": {
          "title": {
           "text": "logS"
          },
          "type": "linear"
         },
         "yaxis": {
          "title": {
           "text": "logT"
          },
          "type": "linear"
         },
         "zaxis": {
          "title": {
           "text": "y"
          },
          "type": "linear"
         }
        },
        "template": {
         "data": {
          "bar": [
           {
            "error_x": {
             "color": "#2a3f5f"
            },
            "error_y": {
             "color": "#2a3f5f"
            },
            "marker": {
             "line": {
              "color": "#E5ECF6",
              "width": 0.5
             },
             "pattern": {
              "fillmode": "overlay",
              "size": 10,
              "solidity": 0.2
             }
            },
            "type": "bar"
           }
          ],
          "barpolar": [
           {
            "marker": {
             "line": {
              "color": "#E5ECF6",
              "width": 0.5
             },
             "pattern": {
              "fillmode": "overlay",
              "size": 10,
              "solidity": 0.2
             }
            },
            "type": "barpolar"
           }
          ],
          "carpet": [
           {
            "aaxis": {
             "endlinecolor": "#2a3f5f",
             "gridcolor": "white",
             "linecolor": "white",
             "minorgridcolor": "white",
             "startlinecolor": "#2a3f5f"
            },
            "baxis": {
             "endlinecolor": "#2a3f5f",
             "gridcolor": "white",
             "linecolor": "white",
             "minorgridcolor": "white",
             "startlinecolor": "#2a3f5f"
            },
            "type": "carpet"
           }
          ],
          "choropleth": [
           {
            "colorbar": {
             "outlinewidth": 0,
             "ticks": ""
            },
            "type": "choropleth"
           }
          ],
          "contour": [
           {
            "colorbar": {
             "outlinewidth": 0,
             "ticks": ""
            },
            "colorscale": [
             [
              0,
              "#0d0887"
             ],
             [
              0.1111111111111111,
              "#46039f"
             ],
             [
              0.2222222222222222,
              "#7201a8"
             ],
             [
              0.3333333333333333,
              "#9c179e"
             ],
             [
              0.4444444444444444,
              "#bd3786"
             ],
             [
              0.5555555555555556,
              "#d8576b"
             ],
             [
              0.6666666666666666,
              "#ed7953"
             ],
             [
              0.7777777777777778,
              "#fb9f3a"
             ],
             [
              0.8888888888888888,
              "#fdca26"
             ],
             [
              1,
              "#f0f921"
             ]
            ],
            "type": "contour"
           }
          ],
          "contourcarpet": [
           {
            "colorbar": {
             "outlinewidth": 0,
             "ticks": ""
            },
            "type": "contourcarpet"
           }
          ],
          "heatmap": [
           {
            "colorbar": {
             "outlinewidth": 0,
             "ticks": ""
            },
            "colorscale": [
             [
              0,
              "#0d0887"
             ],
             [
              0.1111111111111111,
              "#46039f"
             ],
             [
              0.2222222222222222,
              "#7201a8"
             ],
             [
              0.3333333333333333,
              "#9c179e"
             ],
             [
              0.4444444444444444,
              "#bd3786"
             ],
             [
              0.5555555555555556,
              "#d8576b"
             ],
             [
              0.6666666666666666,
              "#ed7953"
             ],
             [
              0.7777777777777778,
              "#fb9f3a"
             ],
             [
              0.8888888888888888,
              "#fdca26"
             ],
             [
              1,
              "#f0f921"
             ]
            ],
            "type": "heatmap"
           }
          ],
          "heatmapgl": [
           {
            "colorbar": {
             "outlinewidth": 0,
             "ticks": ""
            },
            "colorscale": [
             [
              0,
              "#0d0887"
             ],
             [
              0.1111111111111111,
              "#46039f"
             ],
             [
              0.2222222222222222,
              "#7201a8"
             ],
             [
              0.3333333333333333,
              "#9c179e"
             ],
             [
              0.4444444444444444,
              "#bd3786"
             ],
             [
              0.5555555555555556,
              "#d8576b"
             ],
             [
              0.6666666666666666,
              "#ed7953"
             ],
             [
              0.7777777777777778,
              "#fb9f3a"
             ],
             [
              0.8888888888888888,
              "#fdca26"
             ],
             [
              1,
              "#f0f921"
             ]
            ],
            "type": "heatmapgl"
           }
          ],
          "histogram": [
           {
            "marker": {
             "pattern": {
              "fillmode": "overlay",
              "size": 10,
              "solidity": 0.2
             }
            },
            "type": "histogram"
           }
          ],
          "histogram2d": [
           {
            "colorbar": {
             "outlinewidth": 0,
             "ticks": ""
            },
            "colorscale": [
             [
              0,
              "#0d0887"
             ],
             [
              0.1111111111111111,
              "#46039f"
             ],
             [
              0.2222222222222222,
              "#7201a8"
             ],
             [
              0.3333333333333333,
              "#9c179e"
             ],
             [
              0.4444444444444444,
              "#bd3786"
             ],
             [
              0.5555555555555556,
              "#d8576b"
             ],
             [
              0.6666666666666666,
              "#ed7953"
             ],
             [
              0.7777777777777778,
              "#fb9f3a"
             ],
             [
              0.8888888888888888,
              "#fdca26"
             ],
             [
              1,
              "#f0f921"
             ]
            ],
            "type": "histogram2d"
           }
          ],
          "histogram2dcontour": [
           {
            "colorbar": {
             "outlinewidth": 0,
             "ticks": ""
            },
            "colorscale": [
             [
              0,
              "#0d0887"
             ],
             [
              0.1111111111111111,
              "#46039f"
             ],
             [
              0.2222222222222222,
              "#7201a8"
             ],
             [
              0.3333333333333333,
              "#9c179e"
             ],
             [
              0.4444444444444444,
              "#bd3786"
             ],
             [
              0.5555555555555556,
              "#d8576b"
             ],
             [
              0.6666666666666666,
              "#ed7953"
             ],
             [
              0.7777777777777778,
              "#fb9f3a"
             ],
             [
              0.8888888888888888,
              "#fdca26"
             ],
             [
              1,
              "#f0f921"
             ]
            ],
            "type": "histogram2dcontour"
           }
          ],
          "mesh3d": [
           {
            "colorbar": {
             "outlinewidth": 0,
             "ticks": ""
            },
            "type": "mesh3d"
           }
          ],
          "parcoords": [
           {
            "line": {
             "colorbar": {
              "outlinewidth": 0,
              "ticks": ""
             }
            },
            "type": "parcoords"
           }
          ],
          "pie": [
           {
            "automargin": true,
            "type": "pie"
           }
          ],
          "scatter": [
           {
            "fillpattern": {
             "fillmode": "overlay",
             "size": 10,
             "solidity": 0.2
            },
            "type": "scatter"
           }
          ],
          "scatter3d": [
           {
            "line": {
             "colorbar": {
              "outlinewidth": 0,
              "ticks": ""
             }
            },
            "marker": {
             "colorbar": {
              "outlinewidth": 0,
              "ticks": ""
             }
            },
            "type": "scatter3d"
           }
          ],
          "scattercarpet": [
           {
            "marker": {
             "colorbar": {
              "outlinewidth": 0,
              "ticks": ""
             }
            },
            "type": "scattercarpet"
           }
          ],
          "scattergeo": [
           {
            "marker": {
             "colorbar": {
              "outlinewidth": 0,
              "ticks": ""
             }
            },
            "type": "scattergeo"
           }
          ],
          "scattergl": [
           {
            "marker": {
             "colorbar": {
              "outlinewidth": 0,
              "ticks": ""
             }
            },
            "type": "scattergl"
           }
          ],
          "scattermapbox": [
           {
            "marker": {
             "colorbar": {
              "outlinewidth": 0,
              "ticks": ""
             }
            },
            "type": "scattermapbox"
           }
          ],
          "scatterpolar": [
           {
            "marker": {
             "colorbar": {
              "outlinewidth": 0,
              "ticks": ""
             }
            },
            "type": "scatterpolar"
           }
          ],
          "scatterpolargl": [
           {
            "marker": {
             "colorbar": {
              "outlinewidth": 0,
              "ticks": ""
             }
            },
            "type": "scatterpolargl"
           }
          ],
          "scatterternary": [
           {
            "marker": {
             "colorbar": {
              "outlinewidth": 0,
              "ticks": ""
             }
            },
            "type": "scatterternary"
           }
          ],
          "surface": [
           {
            "colorbar": {
             "outlinewidth": 0,
             "ticks": ""
            },
            "colorscale": [
             [
              0,
              "#0d0887"
             ],
             [
              0.1111111111111111,
              "#46039f"
             ],
             [
              0.2222222222222222,
              "#7201a8"
             ],
             [
              0.3333333333333333,
              "#9c179e"
             ],
             [
              0.4444444444444444,
              "#bd3786"
             ],
             [
              0.5555555555555556,
              "#d8576b"
             ],
             [
              0.6666666666666666,
              "#ed7953"
             ],
             [
              0.7777777777777778,
              "#fb9f3a"
             ],
             [
              0.8888888888888888,
              "#fdca26"
             ],
             [
              1,
              "#f0f921"
             ]
            ],
            "type": "surface"
           }
          ],
          "table": [
           {
            "cells": {
             "fill": {
              "color": "#EBF0F8"
             },
             "line": {
              "color": "white"
             }
            },
            "header": {
             "fill": {
              "color": "#C8D4E3"
             },
             "line": {
              "color": "white"
             }
            },
            "type": "table"
           }
          ]
         },
         "layout": {
          "annotationdefaults": {
           "arrowcolor": "#2a3f5f",
           "arrowhead": 0,
           "arrowwidth": 1
          },
          "autotypenumbers": "strict",
          "coloraxis": {
           "colorbar": {
            "outlinewidth": 0,
            "ticks": ""
           }
          },
          "colorscale": {
           "diverging": [
            [
             0,
             "#8e0152"
            ],
            [
             0.1,
             "#c51b7d"
            ],
            [
             0.2,
             "#de77ae"
            ],
            [
             0.3,
             "#f1b6da"
            ],
            [
             0.4,
             "#fde0ef"
            ],
            [
             0.5,
             "#f7f7f7"
            ],
            [
             0.6,
             "#e6f5d0"
            ],
            [
             0.7,
             "#b8e186"
            ],
            [
             0.8,
             "#7fbc41"
            ],
            [
             0.9,
             "#4d9221"
            ],
            [
             1,
             "#276419"
            ]
           ],
           "sequential": [
            [
             0,
             "#0d0887"
            ],
            [
             0.1111111111111111,
             "#46039f"
            ],
            [
             0.2222222222222222,
             "#7201a8"
            ],
            [
             0.3333333333333333,
             "#9c179e"
            ],
            [
             0.4444444444444444,
             "#bd3786"
            ],
            [
             0.5555555555555556,
             "#d8576b"
            ],
            [
             0.6666666666666666,
             "#ed7953"
            ],
            [
             0.7777777777777778,
             "#fb9f3a"
            ],
            [
             0.8888888888888888,
             "#fdca26"
            ],
            [
             1,
             "#f0f921"
            ]
           ],
           "sequentialminus": [
            [
             0,
             "#0d0887"
            ],
            [
             0.1111111111111111,
             "#46039f"
            ],
            [
             0.2222222222222222,
             "#7201a8"
            ],
            [
             0.3333333333333333,
             "#9c179e"
            ],
            [
             0.4444444444444444,
             "#bd3786"
            ],
            [
             0.5555555555555556,
             "#d8576b"
            ],
            [
             0.6666666666666666,
             "#ed7953"
            ],
            [
             0.7777777777777778,
             "#fb9f3a"
            ],
            [
             0.8888888888888888,
             "#fdca26"
            ],
            [
             1,
             "#f0f921"
            ]
           ]
          },
          "colorway": [
           "#636efa",
           "#EF553B",
           "#00cc96",
           "#ab63fa",
           "#FFA15A",
           "#19d3f3",
           "#FF6692",
           "#B6E880",
           "#FF97FF",
           "#FECB52"
          ],
          "font": {
           "color": "#2a3f5f"
          },
          "geo": {
           "bgcolor": "white",
           "lakecolor": "white",
           "landcolor": "#E5ECF6",
           "showlakes": true,
           "showland": true,
           "subunitcolor": "white"
          },
          "hoverlabel": {
           "align": "left"
          },
          "hovermode": "closest",
          "mapbox": {
           "style": "light"
          },
          "paper_bgcolor": "white",
          "plot_bgcolor": "#E5ECF6",
          "polar": {
           "angularaxis": {
            "gridcolor": "white",
            "linecolor": "white",
            "ticks": ""
           },
           "bgcolor": "#E5ECF6",
           "radialaxis": {
            "gridcolor": "white",
            "linecolor": "white",
            "ticks": ""
           }
          },
          "scene": {
           "xaxis": {
            "backgroundcolor": "#E5ECF6",
            "gridcolor": "white",
            "gridwidth": 2,
            "linecolor": "white",
            "showbackground": true,
            "ticks": "",
            "zerolinecolor": "white"
           },
           "yaxis": {
            "backgroundcolor": "#E5ECF6",
            "gridcolor": "white",
            "gridwidth": 2,
            "linecolor": "white",
            "showbackground": true,
            "ticks": "",
            "zerolinecolor": "white"
           },
           "zaxis": {
            "backgroundcolor": "#E5ECF6",
            "gridcolor": "white",
            "gridwidth": 2,
            "linecolor": "white",
            "showbackground": true,
            "ticks": "",
            "zerolinecolor": "white"
           }
          },
          "shapedefaults": {
           "line": {
            "color": "#2a3f5f"
           }
          },
          "ternary": {
           "aaxis": {
            "gridcolor": "white",
            "linecolor": "white",
            "ticks": ""
           },
           "baxis": {
            "gridcolor": "white",
            "linecolor": "white",
            "ticks": ""
           },
           "bgcolor": "#E5ECF6",
           "caxis": {
            "gridcolor": "white",
            "linecolor": "white",
            "ticks": ""
           }
          },
          "title": {
           "x": 0.05
          },
          "xaxis": {
           "automargin": true,
           "gridcolor": "white",
           "linecolor": "white",
           "ticks": "",
           "title": {
            "standoff": 15
           },
           "zerolinecolor": "white",
           "zerolinewidth": 2
          },
          "yaxis": {
           "automargin": true,
           "gridcolor": "white",
           "linecolor": "white",
           "ticks": "",
           "title": {
            "standoff": 15
           },
           "zerolinecolor": "white",
           "zerolinewidth": 2
          }
         }
        }
       }
      },
      "text/html": [
       "<div>                            <div id=\"54793a66-012f-4156-a34d-6364d1e6caad\" class=\"plotly-graph-div\" style=\"height:525px; width:100%;\"></div>            <script type=\"text/javascript\">                require([\"plotly\"], function(Plotly) {                    window.PLOTLYENV=window.PLOTLYENV || {};                                    if (document.getElementById(\"54793a66-012f-4156-a34d-6364d1e6caad\")) {                    Plotly.newPlot(                        \"54793a66-012f-4156-a34d-6364d1e6caad\",                        [{\"marker\":{\"color\":\"#ff5f00\",\"opacity\":0.8,\"size\":8},\"mode\":\"markers\",\"name\":\"bloom\",\"x\":[5.170483995038151,0.0,1.0986122886681096,-0.579818495252942,1.9459101490553132],\"y\":[-1.0051219455807707,-1.0758728016986203,-1.0758728016986203,-1.0758728016986203,-1.0758728016986203],\"z\":[0.068991660348749,0.0022744503411675,0.0151630022744503,0.00303260045489,0.0136467020470053],\"type\":\"scatter3d\"},{\"marker\":{\"color\":\"#ffbd00\",\"opacity\":0.8,\"size\":8},\"mode\":\"markers\",\"name\":\"codellama\",\"x\":[2.5649493574615367,3.526360524616161,4.2484952420493585,1.9459101490553132],\"y\":[0.9242589015233319,0.9242589015233319,1.1052568313867783,0.9242589015233319],\"z\":[0.1213040181956027,0.3434420015163002,0.4397270659590599,0.0515542077331311],\"type\":\"scatter3d\"},{\"marker\":{\"color\":\"#e2ff00\",\"opacity\":0.8,\"size\":8},\"mode\":\"markers\",\"name\":\"falcon\",\"x\":[5.19295685089021,3.6888794541139363,1.9459101490553132,0.0],\"y\":[1.252762968495368,0.0,0.4054651081081644,-1.0498221244986778],\"z\":[0.4594389689158453,0.2145564821834723,0.0462471569370735,0.0053070507960576],\"type\":\"scatter3d\"},{\"marker\":{\"color\":\"#84ff00\",\"opacity\":0.8,\"size\":8},\"mode\":\"markers\",\"name\":\"gpt-neo\\u002fj\",\"x\":[1.791759469228055,0.26236426446749106,-2.0794415416798357,0.9932517730102834,2.995732273553991],\"y\":[-0.9113031903631159,-0.9675840262617056,-1.203972804325936,-0.8675005677047231,-0.7507762933965817],\"z\":[0.0295678544351781,0.0045489006823351,0.00303260045489,0.0128885519332827,0.0545868081880212],\"type\":\"scatter3d\"},{\"marker\":{\"color\":\"#25ff00\",\"opacity\":0.8,\"size\":8},\"mode\":\"markers\",\"name\":\"llama\",\"x\":[2.5649493574615367,3.4011973816621555,4.174387269895637,1.9459101490553132],\"y\":[0.0,0.33647223662121284,0.33647223662121284,0.0],\"z\":[0.0758150113722517,0.1485974222896133,0.3722517058377558,0.0803639120545868],\"type\":\"scatter3d\"},{\"marker\":{\"color\":\"#00ff39\",\"opacity\":0.8,\"size\":8},\"mode\":\"markers\",\"name\":\"opt\",\"x\":[0.26236426446749106,-2.0794415416798357,2.5649493574615367,0.9932517730102834,3.4011973816621555,-1.0498221244986778,1.9021075263969203,4.189654742026425],\"y\":[-1.7147984280919266,-1.7147984280919266,-1.7147984280919266,-1.7147984280919266,-1.7147984280919266,-1.7147984280919266,-1.7147984280919266,-1.7147984280919266],\"z\":[0.001516300227445,0.0007581501137225,0.0174374526156178,0.0022744503411675,0.0219863532979529,0.00303260045489,0.0098559514783927,0.0166793025018953],\"type\":\"scatter3d\"},{\"marker\":{\"color\":\"#00ff97\",\"opacity\":0.8,\"size\":8},\"mode\":\"markers\",\"name\":\"pythia-deduped\",\"x\":[0.33647223662121284,2.4849066497880004,-1.83258146374831,0.0,1.0296194171811581,-0.8915981192837836,1.9315214116032138,-2.659260036932778],\"y\":[-1.203972804325936,-1.203972804325936,-1.203972804325936,-1.203972804325936,-1.203972804325936,-1.203972804325936,-1.203972804325936,-1.203972804325936],\"z\":[0.0083396512509476,0.0144048521607278,0.0022744503411675,0.0113722517058377,0.0083396512509476,0.00303260045489,0.0166793025018953,0.0],\"type\":\"scatter3d\"},{\"marker\":{\"color\":\"#00fff6\",\"opacity\":0.8,\"size\":8},\"mode\":\"markers\",\"name\":\"qwen1.5\",\"x\":[-0.6931471805599453,0.5877866649021191,2.6390573296152584,3.4657359027997265,1.3862943611198906,4.276666119016055,1.9459101490553132],\"y\":[0.8754687373538999,0.8754687373538999,1.3862943611198906,1.3862943611198906,0.8754687373538999,1.0986122886681096,1.3862943611198906],\"z\":[0.1630022744503411,0.335860500379075,0.6762699014404853,0.6110689916603488,0.5223654283548143,0.6573161485974223,0.535253980288097],\"type\":\"scatter3d\"},{\"marker\":{\"color\":\"#00aaff\",\"opacity\":0.8,\"size\":8},\"mode\":\"markers\",\"name\":\"qwen2\",\"x\":[-0.6931471805599453,0.4054651081081644,4.276666119016055,1.9459101490553132],\"y\":[2.4849066497880004,1.9459101490553132,1.9459101490553132,1.9459101490553132],\"z\":[0.3571,0.5579999999999999,0.8529000000000001,0.7293000000000001],\"type\":\"scatter3d\"},{\"marker\":{\"color\":\"#004bff\",\"opacity\":0.8,\"size\":8},\"mode\":\"markers\",\"name\":\"rwkv\",\"x\":[2.6390573296152584,-1.7778565640590633,0.0,1.0986122886681096,-0.843970070294529,1.9459101490553132,2.6390573296152584],\"y\":[-1.1086626245216111,-1.1086626245216111,-1.1086626245216111,-1.1086626245216111,-1.1086626245216111,-1.1086626245216111,-1.1086626245216111],\"z\":[0.0037907505686125,0.0045489006823351,0.0,0.0068233510235026,0.0037907505686125,0.0075815011372251,0.0212282031842304],\"type\":\"scatter3d\"},{\"marker\":{\"color\":\"#1300ff\",\"opacity\":0.8,\"size\":8},\"mode\":\"markers\",\"name\":\"stablelm\",\"x\":[1.791759469228055,1.0986122886681096,1.9459101490553132,1.9459101490553132],\"y\":[0.6931471805599453,0.4054651081081644,0.4054651081081644,0.09531017980432495],\"z\":[0.1743745261561789,0.0045489006823351,0.0060652009097801,0.0257771038665655],\"type\":\"scatter3d\"},{\"marker\":{\"color\":\"#7200ff\",\"opacity\":0.8,\"size\":8},\"mode\":\"markers\",\"name\":\"starcoder\",\"x\":[2.740840023925201,0.0,1.0986122886681096,1.9459101490553132],\"y\":[0.0,0.0,0.0,0.0],\"z\":[0.0788476118271417,0.0090978013646702,0.0174374526156178,0.0545868081880212],\"type\":\"scatter3d\"},{\"marker\":{\"color\":\"#d000ff\",\"opacity\":0.8,\"size\":8},\"mode\":\"markers\",\"name\":\"xglm\",\"x\":[0.5306282510621704,1.504077396776274,-0.5727010274840783,2.0149030205422647],\"y\":[-0.6931471805599453,-0.6931471805599453,-0.6931471805599453,-0.6931471805599453],\"z\":[0.0075815011372251,0.0022744503411675,0.0022744503411675,0.0022744503411675],\"type\":\"scatter3d\"},{\"marker\":{\"color\":\"#ff00cf\",\"opacity\":0.8,\"size\":8},\"mode\":\"markers\",\"name\":\"yi\",\"x\":[3.526360524616161,1.791759469228055,2.197224577336219],\"y\":[1.0986122886681096,1.0986122886681096,1.33500106673234],\"z\":[0.5064442759666414,0.1213040181956027,0.4897999999999999],\"type\":\"scatter3d\"},{\"marker\":{\"color\":\"#ff0071\",\"opacity\":0.8,\"size\":8},\"mode\":\"markers\",\"name\":\"yi-1.5\",\"x\":[3.526360524616161,1.791759469228055,2.197224577336219],\"y\":[1.252762968495368,1.252762968495368,1.252762968495368],\"z\":[0.7323999999999999,0.5034000000000001,0.627],\"type\":\"scatter3d\"}],                        {\"margin\":{\"b\":0,\"l\":0,\"r\":0,\"t\":0},\"scene\":{\"xaxis\":{\"title\":{\"text\":\"logS\"}},\"yaxis\":{\"title\":{\"text\":\"logT\"}},\"zaxis\":{\"title\":{\"text\":\"y\"}}},\"template\":{\"data\":{\"histogram2dcontour\":[{\"type\":\"histogram2dcontour\",\"colorbar\":{\"outlinewidth\":0,\"ticks\":\"\"},\"colorscale\":[[0.0,\"#0d0887\"],[0.1111111111111111,\"#46039f\"],[0.2222222222222222,\"#7201a8\"],[0.3333333333333333,\"#9c179e\"],[0.4444444444444444,\"#bd3786\"],[0.5555555555555556,\"#d8576b\"],[0.6666666666666666,\"#ed7953\"],[0.7777777777777778,\"#fb9f3a\"],[0.8888888888888888,\"#fdca26\"],[1.0,\"#f0f921\"]]}],\"choropleth\":[{\"type\":\"choropleth\",\"colorbar\":{\"outlinewidth\":0,\"ticks\":\"\"}}],\"histogram2d\":[{\"type\":\"histogram2d\",\"colorbar\":{\"outlinewidth\":0,\"ticks\":\"\"},\"colorscale\":[[0.0,\"#0d0887\"],[0.1111111111111111,\"#46039f\"],[0.2222222222222222,\"#7201a8\"],[0.3333333333333333,\"#9c179e\"],[0.4444444444444444,\"#bd3786\"],[0.5555555555555556,\"#d8576b\"],[0.6666666666666666,\"#ed7953\"],[0.7777777777777778,\"#fb9f3a\"],[0.8888888888888888,\"#fdca26\"],[1.0,\"#f0f921\"]]}],\"heatmap\":[{\"type\":\"heatmap\",\"colorbar\":{\"outlinewidth\":0,\"ticks\":\"\"},\"colorscale\":[[0.0,\"#0d0887\"],[0.1111111111111111,\"#46039f\"],[0.2222222222222222,\"#7201a8\"],[0.3333333333333333,\"#9c179e\"],[0.4444444444444444,\"#bd3786\"],[0.5555555555555556,\"#d8576b\"],[0.6666666666666666,\"#ed7953\"],[0.7777777777777778,\"#fb9f3a\"],[0.8888888888888888,\"#fdca26\"],[1.0,\"#f0f921\"]]}],\"heatmapgl\":[{\"type\":\"heatmapgl\",\"colorbar\":{\"outlinewidth\":0,\"ticks\":\"\"},\"colorscale\":[[0.0,\"#0d0887\"],[0.1111111111111111,\"#46039f\"],[0.2222222222222222,\"#7201a8\"],[0.3333333333333333,\"#9c179e\"],[0.4444444444444444,\"#bd3786\"],[0.5555555555555556,\"#d8576b\"],[0.6666666666666666,\"#ed7953\"],[0.7777777777777778,\"#fb9f3a\"],[0.8888888888888888,\"#fdca26\"],[1.0,\"#f0f921\"]]}],\"contourcarpet\":[{\"type\":\"contourcarpet\",\"colorbar\":{\"outlinewidth\":0,\"ticks\":\"\"}}],\"contour\":[{\"type\":\"contour\",\"colorbar\":{\"outlinewidth\":0,\"ticks\":\"\"},\"colorscale\":[[0.0,\"#0d0887\"],[0.1111111111111111,\"#46039f\"],[0.2222222222222222,\"#7201a8\"],[0.3333333333333333,\"#9c179e\"],[0.4444444444444444,\"#bd3786\"],[0.5555555555555556,\"#d8576b\"],[0.6666666666666666,\"#ed7953\"],[0.7777777777777778,\"#fb9f3a\"],[0.8888888888888888,\"#fdca26\"],[1.0,\"#f0f921\"]]}],\"surface\":[{\"type\":\"surface\",\"colorbar\":{\"outlinewidth\":0,\"ticks\":\"\"},\"colorscale\":[[0.0,\"#0d0887\"],[0.1111111111111111,\"#46039f\"],[0.2222222222222222,\"#7201a8\"],[0.3333333333333333,\"#9c179e\"],[0.4444444444444444,\"#bd3786\"],[0.5555555555555556,\"#d8576b\"],[0.6666666666666666,\"#ed7953\"],[0.7777777777777778,\"#fb9f3a\"],[0.8888888888888888,\"#fdca26\"],[1.0,\"#f0f921\"]]}],\"mesh3d\":[{\"type\":\"mesh3d\",\"colorbar\":{\"outlinewidth\":0,\"ticks\":\"\"}}],\"scatter\":[{\"fillpattern\":{\"fillmode\":\"overlay\",\"size\":10,\"solidity\":0.2},\"type\":\"scatter\"}],\"parcoords\":[{\"type\":\"parcoords\",\"line\":{\"colorbar\":{\"outlinewidth\":0,\"ticks\":\"\"}}}],\"scatterpolargl\":[{\"type\":\"scatterpolargl\",\"marker\":{\"colorbar\":{\"outlinewidth\":0,\"ticks\":\"\"}}}],\"bar\":[{\"error_x\":{\"color\":\"#2a3f5f\"},\"error_y\":{\"color\":\"#2a3f5f\"},\"marker\":{\"line\":{\"color\":\"#E5ECF6\",\"width\":0.5},\"pattern\":{\"fillmode\":\"overlay\",\"size\":10,\"solidity\":0.2}},\"type\":\"bar\"}],\"scattergeo\":[{\"type\":\"scattergeo\",\"marker\":{\"colorbar\":{\"outlinewidth\":0,\"ticks\":\"\"}}}],\"scatterpolar\":[{\"type\":\"scatterpolar\",\"marker\":{\"colorbar\":{\"outlinewidth\":0,\"ticks\":\"\"}}}],\"histogram\":[{\"marker\":{\"pattern\":{\"fillmode\":\"overlay\",\"size\":10,\"solidity\":0.2}},\"type\":\"histogram\"}],\"scattergl\":[{\"type\":\"scattergl\",\"marker\":{\"colorbar\":{\"outlinewidth\":0,\"ticks\":\"\"}}}],\"scatter3d\":[{\"type\":\"scatter3d\",\"line\":{\"colorbar\":{\"outlinewidth\":0,\"ticks\":\"\"}},\"marker\":{\"colorbar\":{\"outlinewidth\":0,\"ticks\":\"\"}}}],\"scattermapbox\":[{\"type\":\"scattermapbox\",\"marker\":{\"colorbar\":{\"outlinewidth\":0,\"ticks\":\"\"}}}],\"scatterternary\":[{\"type\":\"scatterternary\",\"marker\":{\"colorbar\":{\"outlinewidth\":0,\"ticks\":\"\"}}}],\"scattercarpet\":[{\"type\":\"scattercarpet\",\"marker\":{\"colorbar\":{\"outlinewidth\":0,\"ticks\":\"\"}}}],\"carpet\":[{\"aaxis\":{\"endlinecolor\":\"#2a3f5f\",\"gridcolor\":\"white\",\"linecolor\":\"white\",\"minorgridcolor\":\"white\",\"startlinecolor\":\"#2a3f5f\"},\"baxis\":{\"endlinecolor\":\"#2a3f5f\",\"gridcolor\":\"white\",\"linecolor\":\"white\",\"minorgridcolor\":\"white\",\"startlinecolor\":\"#2a3f5f\"},\"type\":\"carpet\"}],\"table\":[{\"cells\":{\"fill\":{\"color\":\"#EBF0F8\"},\"line\":{\"color\":\"white\"}},\"header\":{\"fill\":{\"color\":\"#C8D4E3\"},\"line\":{\"color\":\"white\"}},\"type\":\"table\"}],\"barpolar\":[{\"marker\":{\"line\":{\"color\":\"#E5ECF6\",\"width\":0.5},\"pattern\":{\"fillmode\":\"overlay\",\"size\":10,\"solidity\":0.2}},\"type\":\"barpolar\"}],\"pie\":[{\"automargin\":true,\"type\":\"pie\"}]},\"layout\":{\"autotypenumbers\":\"strict\",\"colorway\":[\"#636efa\",\"#EF553B\",\"#00cc96\",\"#ab63fa\",\"#FFA15A\",\"#19d3f3\",\"#FF6692\",\"#B6E880\",\"#FF97FF\",\"#FECB52\"],\"font\":{\"color\":\"#2a3f5f\"},\"hovermode\":\"closest\",\"hoverlabel\":{\"align\":\"left\"},\"paper_bgcolor\":\"white\",\"plot_bgcolor\":\"#E5ECF6\",\"polar\":{\"bgcolor\":\"#E5ECF6\",\"angularaxis\":{\"gridcolor\":\"white\",\"linecolor\":\"white\",\"ticks\":\"\"},\"radialaxis\":{\"gridcolor\":\"white\",\"linecolor\":\"white\",\"ticks\":\"\"}},\"ternary\":{\"bgcolor\":\"#E5ECF6\",\"aaxis\":{\"gridcolor\":\"white\",\"linecolor\":\"white\",\"ticks\":\"\"},\"baxis\":{\"gridcolor\":\"white\",\"linecolor\":\"white\",\"ticks\":\"\"},\"caxis\":{\"gridcolor\":\"white\",\"linecolor\":\"white\",\"ticks\":\"\"}},\"coloraxis\":{\"colorbar\":{\"outlinewidth\":0,\"ticks\":\"\"}},\"colorscale\":{\"sequential\":[[0.0,\"#0d0887\"],[0.1111111111111111,\"#46039f\"],[0.2222222222222222,\"#7201a8\"],[0.3333333333333333,\"#9c179e\"],[0.4444444444444444,\"#bd3786\"],[0.5555555555555556,\"#d8576b\"],[0.6666666666666666,\"#ed7953\"],[0.7777777777777778,\"#fb9f3a\"],[0.8888888888888888,\"#fdca26\"],[1.0,\"#f0f921\"]],\"sequentialminus\":[[0.0,\"#0d0887\"],[0.1111111111111111,\"#46039f\"],[0.2222222222222222,\"#7201a8\"],[0.3333333333333333,\"#9c179e\"],[0.4444444444444444,\"#bd3786\"],[0.5555555555555556,\"#d8576b\"],[0.6666666666666666,\"#ed7953\"],[0.7777777777777778,\"#fb9f3a\"],[0.8888888888888888,\"#fdca26\"],[1.0,\"#f0f921\"]],\"diverging\":[[0,\"#8e0152\"],[0.1,\"#c51b7d\"],[0.2,\"#de77ae\"],[0.3,\"#f1b6da\"],[0.4,\"#fde0ef\"],[0.5,\"#f7f7f7\"],[0.6,\"#e6f5d0\"],[0.7,\"#b8e186\"],[0.8,\"#7fbc41\"],[0.9,\"#4d9221\"],[1,\"#276419\"]]},\"xaxis\":{\"gridcolor\":\"white\",\"linecolor\":\"white\",\"ticks\":\"\",\"title\":{\"standoff\":15},\"zerolinecolor\":\"white\",\"automargin\":true,\"zerolinewidth\":2},\"yaxis\":{\"gridcolor\":\"white\",\"linecolor\":\"white\",\"ticks\":\"\",\"title\":{\"standoff\":15},\"zerolinecolor\":\"white\",\"automargin\":true,\"zerolinewidth\":2},\"scene\":{\"xaxis\":{\"backgroundcolor\":\"#E5ECF6\",\"gridcolor\":\"white\",\"linecolor\":\"white\",\"showbackground\":true,\"ticks\":\"\",\"zerolinecolor\":\"white\",\"gridwidth\":2},\"yaxis\":{\"backgroundcolor\":\"#E5ECF6\",\"gridcolor\":\"white\",\"linecolor\":\"white\",\"showbackground\":true,\"ticks\":\"\",\"zerolinecolor\":\"white\",\"gridwidth\":2},\"zaxis\":{\"backgroundcolor\":\"#E5ECF6\",\"gridcolor\":\"white\",\"linecolor\":\"white\",\"showbackground\":true,\"ticks\":\"\",\"zerolinecolor\":\"white\",\"gridwidth\":2}},\"shapedefaults\":{\"line\":{\"color\":\"#2a3f5f\"}},\"annotationdefaults\":{\"arrowcolor\":\"#2a3f5f\",\"arrowhead\":0,\"arrowwidth\":1},\"geo\":{\"bgcolor\":\"white\",\"landcolor\":\"#E5ECF6\",\"subunitcolor\":\"white\",\"showland\":true,\"showlakes\":true,\"lakecolor\":\"white\"},\"title\":{\"x\":0.05},\"mapbox\":{\"style\":\"light\"}}}},                        {\"responsive\": true}                    ).then(function(){\n",
       "                            \n",
       "var gd = document.getElementById('54793a66-012f-4156-a34d-6364d1e6caad');\n",
       "var x = new MutationObserver(function (mutations, observer) {{\n",
       "        var display = window.getComputedStyle(gd).display;\n",
       "        if (!display || display === 'none') {{\n",
       "            console.log([gd, 'removed!']);\n",
       "            Plotly.purge(gd);\n",
       "            observer.disconnect();\n",
       "        }}\n",
       "}});\n",
       "\n",
       "// Listen for the removal of the full notebook cells\n",
       "var notebookContainer = gd.closest('#notebook-container');\n",
       "if (notebookContainer) {{\n",
       "    x.observe(notebookContainer, {childList: true});\n",
       "}}\n",
       "\n",
       "// Listen for the clearing of the current output cell\n",
       "var outputEl = gd.closest('.output');\n",
       "if (outputEl) {{\n",
       "    x.observe(outputEl, {childList: true});\n",
       "}}\n",
       "\n",
       "                        })                };                });            </script>        </div>"
      ]
     },
     "metadata": {},
     "output_type": "display_data"
    }
   ],
   "source": [
    "lower_bounds = {}\n",
    "for s in scenarios:\n",
    "    lower_bounds[s]=pd.read_csv('data/lower_bounds.csv')[s].iloc[0]\n",
    "    \n",
    "for scenario in scenarios:\n",
    "    print(f\"************ {scenario} ************\")\n",
    "    \n",
    "    data = pd.read_csv('data/data_v1.csv')\n",
    "    data['logS'] = np.log(data['#Params (B)'])\n",
    "    data['logT'] = np.log(data['Pretraining Data Size (T)'])\n",
    "    data['logF'] = np.log(data['FLOPs (1E21)'])\n",
    "    data = data.loc[~data.Instruct,['Model','Family','Instruct','logS','logT','logF']+[scenario]]\n",
    "    data = data.dropna()\n",
    "    selected_families = list(data.Family.value_counts().iloc[:num_fam].index)\n",
    "    data = data.loc[[m in selected_families for m in data.Family]]\n",
    "\n",
    "    #y,c = logit(np.array(data[scenario]), c=lower_bounds[scenario])\n",
    "    y = np.array(data[scenario])\n",
    "    logS = np.array(data['logS'])\n",
    "    logT = np.array(data['logT'])\n",
    "    logF = np.array(data['logF'])\n",
    "    Fam = np.array(data['Family'])\n",
    "    # Get unique categories in Fam and generate a color palette\n",
    "    unique_fams = np.unique(Fam)\n",
    "    palette = sns.color_palette(\"hsv\", len(unique_fams)).as_hex()  # Generate colors and convert to hex\n",
    "    fam_colors = {fam: palette[i] for i, fam in enumerate(unique_fams)}  # Map each category to a color\n",
    "    \n",
    "    # Create the scatter plot traces for each category in Fam\n",
    "    traces = []\n",
    "    for fam in unique_fams:\n",
    "        fam_indices = np.where(Fam == fam)  # Find indices for this category\n",
    "        trace = go.Scatter3d(\n",
    "            x=logS[fam_indices],\n",
    "            y=logT[fam_indices],\n",
    "            z=y[fam_indices],\n",
    "            mode='markers',\n",
    "            marker=dict(\n",
    "                size=8,\n",
    "                color=fam_colors[fam],  # Use the color mapped to this category\n",
    "                opacity=0.8\n",
    "            ),\n",
    "            name=fam  # Use the category name for the legend\n",
    "        )\n",
    "        traces.append(trace)\n",
    "    \n",
    "    # Set up the layout\n",
    "    layout = go.Layout(\n",
    "        scene=dict(\n",
    "            xaxis=dict(title='logS'),\n",
    "            yaxis=dict(title='logT'),\n",
    "            zaxis=dict(title='y'),\n",
    "        ),\n",
    "        margin=dict(l=0, r=0, b=0, t=0),\n",
    "    )\n",
    "    \n",
    "    # Create the figure\n",
    "    fig = go.Figure(data=traces, layout=layout)\n",
    "    \n",
    "    # Show the figure\n",
    "    fig.show()"
   ]
  },
  {
   "cell_type": "code",
   "execution_count": null,
   "id": "ec5c3f8d-9731-433c-8085-adb797c78a7f",
   "metadata": {},
   "outputs": [],
   "source": []
  }
 ],
 "metadata": {
  "kernelspec": {
   "display_name": "Python 3 (ipykernel)",
   "language": "python",
   "name": "python3"
  },
  "language_info": {
   "codemirror_mode": {
    "name": "ipython",
    "version": 3
   },
   "file_extension": ".py",
   "mimetype": "text/x-python",
   "name": "python",
   "nbconvert_exporter": "python",
   "pygments_lexer": "ipython3",
   "version": "3.12.3"
  }
 },
 "nbformat": 4,
 "nbformat_minor": 5
}
