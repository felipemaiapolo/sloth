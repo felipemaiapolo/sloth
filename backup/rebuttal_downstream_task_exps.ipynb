{
 "cells": [
  {
   "cell_type": "markdown",
   "id": "e0ff8b45",
   "metadata": {},
   "source": [
    "# Coding"
   ]
  },
  {
   "cell_type": "code",
   "execution_count": 1,
   "id": "25cee097",
   "metadata": {},
   "outputs": [
    {
     "ename": "ModuleNotFoundError",
     "evalue": "No module named 'definitions'",
     "output_type": "error",
     "traceback": [
      "\u001b[0;31m---------------------------------------------------------------------------\u001b[0m",
      "\u001b[0;31mModuleNotFoundError\u001b[0m                       Traceback (most recent call last)",
      "Cell \u001b[0;32mIn[1], line 15\u001b[0m\n\u001b[1;32m     13\u001b[0m sys\u001b[38;5;241m.\u001b[39mpath\u001b[38;5;241m.\u001b[39mappend(\u001b[38;5;124m'\u001b[39m\u001b[38;5;124m../sloth/\u001b[39m\u001b[38;5;124m'\u001b[39m)\n\u001b[1;32m     14\u001b[0m \u001b[38;5;28;01mfrom\u001b[39;00m \u001b[38;5;21;01msloth\u001b[39;00m \u001b[38;5;28;01mimport\u001b[39;00m \u001b[38;5;241m*\u001b[39m\n\u001b[0;32m---> 15\u001b[0m \u001b[38;5;28;01mfrom\u001b[39;00m \u001b[38;5;21;01mdefinitions\u001b[39;00m \u001b[38;5;28;01mimport\u001b[39;00m \u001b[38;5;241m*\u001b[39m\n\u001b[1;32m     17\u001b[0m device \u001b[38;5;241m=\u001b[39m \u001b[38;5;124m'\u001b[39m\u001b[38;5;124mcpu\u001b[39m\u001b[38;5;124m'\u001b[39m\n",
      "\u001b[0;31mModuleNotFoundError\u001b[0m: No module named 'definitions'"
     ]
    }
   ],
   "source": [
    "import numpy as np\n",
    "import torch\n",
    "import pandas as pd\n",
    "from tqdm.auto import tqdm\n",
    "import pickle\n",
    "import copy\n",
    "import sys\n",
    "from os import path\n",
    "import matplotlib.pyplot as plt\n",
    "from factor_analyzer import FactorAnalyzer, Rotator\n",
    "\n",
    "import sys\n",
    "sys.path.append('../sloth/')\n",
    "from sloth import *\n",
    "from definitions import *\n",
    "\n",
    "device = 'cpu'"
   ]
  },
  {
   "cell_type": "code",
   "execution_count": null,
   "id": "cc98624a",
   "metadata": {},
   "outputs": [],
   "source": [
    "data = pd.read_csv('../data/data_v2.csv')\n",
    "data['logS'] = np.log10(data['#Params (B)'])\n",
    "data['logT'] = np.log10(data['Pretraining Data Size (T)'])\n",
    "data['logSlogT'] = data['logS']*data['logT']\n",
    "#data['logS2'] = data['logS']**2\n",
    "#data['logT2'] = data['logT']**2\n",
    "data['GreatFamily'] = data['Family']\n",
    "data['Family'] = data['Family2']\n",
    "X_names = ['logS','logT','logSlogT'] \n",
    "Y_agentic = ['MMLU', 'HellaSwag', 'HellaSwag', 'Winogrande', 'IFEval']\n",
    "Y_names = ['GSM8K',\n",
    "           'MATH Lvl 5',\n",
    "           'GPQA',\n",
    "           'MMLU',\n",
    "           'MMLU-PRO',\n",
    "           'BBH',\n",
    "           'MUSR',\n",
    "           'TruthfulQA',\n",
    "           'ARC',\n",
    "           'HellaSwag',\n",
    "           'Winogrande',\n",
    "           'IFEval']\n",
    "Y_OOD = ['HumanEval']\n",
    "data_sloth = data.loc[:,['Model','Family','GreatFamily','Instruct']+X_names+Y_names].dropna()\n",
    "holdout_names = ['meta-llama-3-70b-instruct', 'meta-llama-3-70b']\n",
    "data_hold = data.loc[data['Model'].isin(holdout_names)]\n",
    "Models_dict = {k: v for v, k in enumerate(list(data_sloth['Model']))}\n",
    "to_drop = []\n",
    "for model in holdout_names:\n",
    "    to_drop.append(Models_dict[model])\n",
    "to_drop.sort()\n",
    "#for name in holdout_names:\n",
    "    #data_sloth = data_sloth[data.Model != name]\n",
    "#data_tr = data.loc[:,['Model','Family','GreatFamily','Instruct']+X_names+Y_names]\n",
    "data_OOD = data.loc[:,['Model','Family','GreatFamily','Instruct']+X_names+Y_names+['HumanEval']].dropna()\n",
    "for name in holdout_names:\n",
    "    data_OOD = data_OOD[data.Model != name]"
   ]
  },
  {
   "cell_type": "code",
   "execution_count": null,
   "id": "803f415b-b84d-4b6a-bb6e-7c0f5c1adae6",
   "metadata": {},
   "outputs": [],
   "source": [
    "to_drop,holdout_names"
   ]
  },
  {
   "cell_type": "code",
   "execution_count": null,
   "id": "3ca94c12",
   "metadata": {},
   "outputs": [],
   "source": [
    "D_whole = np.array(pd.get_dummies(np.array(data_sloth.Family))).astype(float)\n",
    "D = np.delete(D_whole, to_drop, axis=0)\n",
    "#D = np.ones(38)[np.newaxis, :].T\n",
    "X_whole = np.array(data_sloth.loc[:,X_names]).astype(float)\n",
    "X = np.delete(X_whole, to_drop, axis=0)\n",
    "Y_whole = np.array(data_sloth.loc[:,Y_names]).astype(float)\n",
    "Y = np.delete(Y_whole, to_drop, axis=0)\n",
    "Cs = []\n",
    "for s in Y_names:\n",
    "    Cs.append(lower_bounds[s])\n",
    "Cs = np.array(Cs).astype(float)[None,:]\n",
    "Y.shape"
   ]
  },
  {
   "cell_type": "code",
   "execution_count": null,
   "id": "56c29dcc",
   "metadata": {},
   "outputs": [],
   "source": [
    "model = Sloth(d=3)\n",
    "model.fit(X_whole, D_whole, Y_whole, Cs, fit_C=False, train_link=False, positive_w=False, verbose=True)\n",
    "#model.fit(X, D, Y, Cs, fit_C=False, train_link=False, positive_w=False, verbose=True)\n",
    "model.best_loss"
   ]
  },
  {
   "cell_type": "code",
   "execution_count": null,
   "id": "b8b585f7",
   "metadata": {},
   "outputs": [],
   "source": [
    "d= 3\n",
    "if d==1:\n",
    "    L_rot=-model.W2.numpy()\n",
    "    B_rot=-np.vstack((model.W1_X.detach().numpy(), model.W1_D.detach().numpy()))\n",
    "    Z = np.hstack((X,D))@B_rot\n",
    "else:\n",
    "    Z = model.interpret(anchor=0)['skills']\n",
    "    L_rot = model.interpret(anchor=0)['loadings']\n",
    "    B_rot = model.interpret(anchor=0)['B']\n",
    "    Delta = model.interpret(anchor=0)['translation']"
   ]
  },
  {
   "cell_type": "code",
   "execution_count": null,
   "id": "cb0e9c98-9ad9-409f-a57c-7fb58d7b7b71",
   "metadata": {},
   "outputs": [],
   "source": [
    "colormap = \"coolwarm\"\n",
    "vmin=-1\n",
    "vmax=2\n",
    "plt.figure(figsize=(6, 3))  # Set the figure size (width, height) in inches\n",
    "plt.imshow(L_rot, cmap=colormap, vmin=vmin, vmax=vmax)\n",
    "plt.xticks(np.arange(len(Y_names)-1), labels=Y_names[0:len(Y_names)-1], rotation=45, ha=\"right\")  # Set the x-tick labels\n",
    "plt.yticks(np.arange(d), rotation=0, ha=\"right\")  # Set the y-tick labels\n",
    "plt.show()"
   ]
  },
  {
   "cell_type": "code",
   "execution_count": null,
   "id": "98175218",
   "metadata": {},
   "outputs": [],
   "source": [
    "for name in holdout_names:\n",
    "    data_sloth = data_sloth.loc[data.Model != name]\n",
    "Skills_dict = {k: v for v, k in enumerate(list(data_sloth['Model']))}\n",
    "to_keep = []\n",
    "for model in list(data_OOD['Model']):\n",
    "    to_keep.append(Skills_dict[model])\n",
    "X_tr = Z[to_keep]\n",
    "Inter_train  = np.ones(X_tr.shape[0])[np.newaxis, :].T\n",
    "Y_tr = np.array(data_OOD.loc[:,'HumanEval']).astype(float)\n",
    "Y_tr = Y_tr[np.newaxis, :].T\n",
    "Y_tr.shape"
   ]
  },
  {
   "cell_type": "code",
   "execution_count": null,
   "id": "c784be26",
   "metadata": {},
   "outputs": [],
   "source": [
    "D_hold = D_whole[to_drop]\n",
    "#D_hold = D[to_drop]\n",
    "X_hold = X_whole[to_drop]\n",
    "Y_hold = np.array(data_hold.loc[:,'HumanEval']).astype(float)\n",
    "Y_hold = Y_hold[np.newaxis, :].T\n",
    "Y_hold.shape"
   ]
  },
  {
   "cell_type": "code",
   "execution_count": null,
   "id": "dc7623f7",
   "metadata": {},
   "outputs": [],
   "source": [
    "model_ood = Sloth(d=1) \n",
    "model_ood.fit(X_tr, Inter_train, Y_tr,\n",
    "                                      C0=np.array([[0]]),\n",
    "                                      train_link=False, fit_C=False, positive_w=False, verbose=False)"
   ]
  },
  {
   "cell_type": "code",
   "execution_count": null,
   "id": "f3c0ff1f",
   "metadata": {},
   "outputs": [],
   "source": [
    "Z_hold = np.hstack((X_hold,D_hold))@B_rot-Delta"
   ]
  },
  {
   "cell_type": "code",
   "execution_count": null,
   "id": "5d51b77b-86b4-4d27-8818-2446b0d1423b",
   "metadata": {},
   "outputs": [],
   "source": [
    "Z_hold.shape"
   ]
  },
  {
   "cell_type": "code",
   "execution_count": null,
   "id": "67e4b1ba",
   "metadata": {},
   "outputs": [],
   "source": [
    "B_ood=np.vstack((model_ood.W1_X.detach().numpy(), model_ood.W1_D.detach().numpy()))"
   ]
  },
  {
   "cell_type": "code",
   "execution_count": null,
   "id": "b64b6da3",
   "metadata": {},
   "outputs": [],
   "source": [
    "B_ood"
   ]
  },
  {
   "cell_type": "code",
   "execution_count": 2,
   "id": "a748587e",
   "metadata": {},
   "outputs": [
    {
     "ename": "NameError",
     "evalue": "name 'L_rot' is not defined",
     "output_type": "error",
     "traceback": [
      "\u001b[0;31m---------------------------------------------------------------------------\u001b[0m",
      "\u001b[0;31mNameError\u001b[0m                                 Traceback (most recent call last)",
      "Cell \u001b[0;32mIn[2], line 5\u001b[0m\n\u001b[1;32m      3\u001b[0m \u001b[38;5;66;03m#factor_labels = ['Instruction Following, Knowledge, Reasoning']\u001b[39;00m\n\u001b[1;32m      4\u001b[0m plt\u001b[38;5;241m.\u001b[39mfigure(figsize\u001b[38;5;241m=\u001b[39m(\u001b[38;5;241m10\u001b[39m, \u001b[38;5;241m6\u001b[39m))  \u001b[38;5;66;03m# Set the figure size (width, height) in inches\u001b[39;00m\n\u001b[0;32m----> 5\u001b[0m plt\u001b[38;5;241m.\u001b[39mimshow(L_rot, cmap\u001b[38;5;241m=\u001b[39mcolormap, vmin\u001b[38;5;241m=\u001b[39mvmin, vmax\u001b[38;5;241m=\u001b[39mvmax)\n\u001b[1;32m      6\u001b[0m plt\u001b[38;5;241m.\u001b[39mxticks(np\u001b[38;5;241m.\u001b[39marange(\u001b[38;5;28mlen\u001b[39m(Y_names)), labels\u001b[38;5;241m=\u001b[39mY_names, rotation\u001b[38;5;241m=\u001b[39m\u001b[38;5;241m45\u001b[39m, ha\u001b[38;5;241m=\u001b[39m\u001b[38;5;124m\"\u001b[39m\u001b[38;5;124mright\u001b[39m\u001b[38;5;124m\"\u001b[39m)  \u001b[38;5;66;03m# Set the x-tick labels\u001b[39;00m\n\u001b[1;32m      7\u001b[0m plt\u001b[38;5;241m.\u001b[39myticks(np\u001b[38;5;241m.\u001b[39marange(d), rotation\u001b[38;5;241m=\u001b[39m\u001b[38;5;241m0\u001b[39m, ha\u001b[38;5;241m=\u001b[39m\u001b[38;5;124m\"\u001b[39m\u001b[38;5;124mright\u001b[39m\u001b[38;5;124m\"\u001b[39m)\n",
      "\u001b[0;31mNameError\u001b[0m: name 'L_rot' is not defined"
     ]
    },
    {
     "data": {
      "text/plain": [
       "<Figure size 1000x600 with 0 Axes>"
      ]
     },
     "metadata": {},
     "output_type": "display_data"
    }
   ],
   "source": [
    "vmin=-1\n",
    "vmax=2\n",
    "#factor_labels = ['Instruction Following, Knowledge, Reasoning']\n",
    "plt.figure(figsize=(10, 6))  # Set the figure size (width, height) in inches\n",
    "plt.imshow(L_rot, cmap=colormap, vmin=vmin, vmax=vmax)\n",
    "plt.xticks(np.arange(len(Y_names)), labels=Y_names, rotation=45, ha=\"right\")  # Set the x-tick labels\n",
    "plt.yticks(np.arange(d), rotation=0, ha=\"right\")\n",
    "L_rot = L_rot[::-1]\n",
    "#Lperm = L_rot.copy()\n",
    "#Lperm[[0,1,2]] = L_rot[[0, 2,1]]\n",
    "#Lperm[1] = -1*Lperm[1]\n",
    "#Lperm = Lperm[::-1]\n",
    "# map 0 -> 4 and 1 -> 3 (N.B. Python indexing starts at 0 rather than 1)\n",
    "inter = [-.3,1.6]\n",
    "for i in range(len(L_rot)):\n",
    "    for j in range(len(L_rot.T)):\n",
    "        value = L_rot[::-1][i, j]\n",
    "        color = \"black\" if value > inter[0] and  value < inter[1] else \"white\"  # Conditional color\n",
    "        text = plt.text(j, i, f'{value:.2f}', size=10, ha=\"center\", va=\"center\", color=color, weight='bold')#\n",
    "plt.savefig('../plots/Lambda.pdf', bbox_inches='tight')\n",
    "plt.show()"
   ]
  },
  {
   "cell_type": "code",
   "execution_count": 76,
   "id": "e49851b6",
   "metadata": {},
   "outputs": [],
   "source": [
    "x, y = np.concatenate((X_tr, Inter_train), axis = 1) @ B_ood, Y_tr\n",
    "x_test, y_test = np.concatenate((Z_hold, np.ones(2)[np.newaxis, :].T), axis = 1) @ B_ood, Y_hold\n",
    "a, b, c, e = np.linspace(-2, 10, 100), np.linspace(-2, 10, 100), np.linspace(-2, 10, 100), np.linspace(-2, 10, 100)\n",
    "Grid = np.vstack((a.flatten(), b.flatten(), c.flatten())).T\n",
    "y_curve = model_ood.predict(Grid, np.array([[1]]))"
   ]
  },
  {
   "cell_type": "code",
   "execution_count": 77,
   "id": "ff5bd7dc",
   "metadata": {},
   "outputs": [],
   "source": [
    "x_grid = np.concatenate((Grid, np.ones(100)[np.newaxis, :].T), axis = 1) @ B_ood"
   ]
  },
  {
   "cell_type": "code",
   "execution_count": 78,
   "id": "65b4673f",
   "metadata": {},
   "outputs": [
    {
     "data": {
      "text/plain": [
       "array([0.774])"
      ]
     },
     "execution_count": 78,
     "metadata": {},
     "output_type": "execute_result"
    }
   ],
   "source": [
    "y_test[1]"
   ]
  },
  {
   "cell_type": "code",
   "execution_count": 79,
   "id": "d1367ba3",
   "metadata": {},
   "outputs": [
    {
     "data": {
      "text/plain": [
       "array([1.95206669])"
      ]
     },
     "execution_count": 79,
     "metadata": {},
     "output_type": "execute_result"
    }
   ],
   "source": [
    "x_test[1]"
   ]
  },
  {
   "cell_type": "code",
   "execution_count": 80,
   "id": "118874c0",
   "metadata": {},
   "outputs": [
    {
     "data": {
      "image/png": "[encoded data removed]",
      "text/plain": [
       "<Figure size 600x600 with 2 Axes>"
      ]
     },
     "metadata": {},
     "output_type": "display_data"
    }
   ],
   "source": [
    "colormap = \"coolwarm\"\n",
    "vmin=-1\n",
    "vmax=2\n",
    "fig, (ax1, ax2) = plt.subplots(1, 2, figsize=(6,6), width_ratios=[4, 1])\n",
    " # Set the figure size (width, height) in inches\n",
    "#ax1.set_figwidth(6)\n",
    "#ax1.set_figheight(3)\n",
    "Bperm = B_ood.copy()\n",
    "#Bperm[[0,1,2]] = Bperm[[0, 2,1]]\n",
    "ax2.imshow(Bperm[0:3][::-1], cmap=colormap, vmin=vmin, vmax=vmax)\n",
    "inter = [-.3,1.6]\n",
    "for i in range(len(B_ood[0:3])):\n",
    "    for j in range(len(B_ood[0:3].T)):\n",
    "        value = Bperm[0:3][::-1][i, j]\n",
    "        color = \"black\" if value > inter[0] and  value < inter[1] else \"white\"  # Conditional color\n",
    "        text = ax2.text(j, i, f'{value:.2f}', size=10, ha=\"center\", va=\"center\", color=color, weight='bold')#\n",
    "ax2.set_xticks([], [])  # Set the x-tick labels\n",
    "ax2.set_yticks(np.arange(d))  # Set the y-tick labels\n",
    "ax2.set_title('$\\\\beta_{\\\\text{HE}}$', size = 12)\n",
    "#ax2.tick_params(labelsize=11)\n",
    "ax1.scatter(x,y, label = 'Training Data')\n",
    "ax1.scatter(x_test[0],y_test[0], color = 'red', label = 'meta-llama-3-70b', marker = 'x')\n",
    "ax1.scatter(x_test[1],y_test[1], color = 'red', label = 'meta-llama-3-70b-instruct', marker = 'D')\n",
    "ax1.set_xlim(-3, 5)\n",
    "#ax2.ylim(0,1)\n",
    "ax1.set_xlabel('$\\\\beta_{\\\\text{HE}}^T(\\\\theta_{i}(s,t)) +c$', size = 14)\n",
    "ax1.grid(alpha = 0.3)\n",
    "ax1.plot(x_grid, y_curve)\n",
    "ax1.set_ylabel('HE Accuracy', size = 12)\n",
    "#ax2.tick_params(labelsize=11)\n",
    "ax1.legend(prop={'size':11}, loc = 'upper left')\n",
    "#plt.savefig('HE_Plot.pdf', bbox_inches='tight')\n",
    "plt.show()"
   ]
  },
  {
   "cell_type": "markdown",
   "id": "c437ae9e",
   "metadata": {},
   "source": [
    "# Agentic AI"
   ]
  },
  {
   "cell_type": "code",
   "execution_count": 23,
   "id": "9025a5fd",
   "metadata": {},
   "outputs": [
    {
     "name": "stderr",
     "output_type": "stream",
     "text": [
      "/tmp/ipykernel_28949/799112695.py:27: UserWarning: Boolean Series key will be reindexed to match DataFrame index.\n",
      "  data_OOD = data_OOD[data.Model != name]\n"
     ]
    }
   ],
   "source": [
    "data = pd.read_csv('data/Agent.csv')\n",
    "data['logS'] = np.log10(data['Model Size (B)'])\n",
    "data['logT'] = np.log10(data['Pretraining Data Size (T)'])\n",
    "data['logSlogT'] = data['logS']*data['logT']\n",
    "data['logS2'] = data['logS']**2\n",
    "data['logT2'] = data['logT']**2\n",
    "data['ModelFamily'] = data['Model Family']\n",
    "#data['Family'] = data['Family2']\n",
    "#X_names = ['logS','logT', 'logSlogT'] \n",
    "#X_names = ['logS','logT']\n",
    "X_names = ['logS','logT', 'logSlogT', 'logS2', 'logT2']\n",
    "Y_agentic = ['ABench-OA', 'ABoard-Avg_SR']\n",
    "S_base = ['MMLU', 'ARC-C', 'HellaSwag']\n",
    "S_extra = ['GSM8K',\n",
    "           'TruthfulQA',\n",
    "           'Winogrande', 'HumanEval']\n",
    "data_agentic = data.loc[:,['Model', 'ModelFamily']+X_names+S_base+S_extra+[Y_agentic[0]]].dropna()\n",
    "holdout_names = ['llama-2-70b-chat']\n",
    "data_hold = data.loc[data['Model'].isin(holdout_names)]\n",
    "Models_dict = {k: v for v, k in enumerate(list(data_agentic['Model']))}\n",
    "to_drop = []\n",
    "for model in holdout_names:\n",
    "    to_drop.append(Models_dict[model])\n",
    "to_drop.sort()\n",
    "data_OOD = data_agentic.loc[:,['Model','ModelFamily']+X_names+[Y_agentic[0]]].dropna()\n",
    "for name in holdout_names:\n",
    "    data_OOD = data_OOD[data.Model != name]"
   ]
  },
  {
   "cell_type": "code",
   "execution_count": 24,
   "id": "2693f31b",
   "metadata": {},
   "outputs": [],
   "source": [
    "#D_whole = np.array(pd.get_dummies(np.array(data_agentic.ModelFamily))).astype(float)\n",
    "#D = np.delete(D_whole, to_drop, axis = 0)\n",
    "D = np.ones(14)[np.newaxis, :].T\n",
    "X_whole = np.array(data_agentic.loc[:,X_names]).astype(float)\n",
    "X = np.delete(X_whole, to_drop, axis=0)\n",
    "S_whole = np.array(data_agentic.loc[:,S_base+S_extra]).astype(float)\n",
    "S = np.delete(S_whole, to_drop, axis=0)\n",
    "Cs = []\n",
    "for s in S_base+S_extra:\n",
    "    if s!= 'ARC-C' and s!='HumanEval':\n",
    "        Cs.append(lower_bounds[s])\n",
    "    else:\n",
    "        if s == 'HumanEval':\n",
    "            Cs.append(0)\n",
    "        else:\n",
    "            Cs.append(0.36)\n",
    "Cs = np.array(Cs).astype(float)[None,:]"
   ]
  },
  {
   "cell_type": "code",
   "execution_count": 25,
   "id": "5969bff8",
   "metadata": {},
   "outputs": [
    {
     "data": {
      "application/vnd.jupyter.widget-view+json": {
       "model_id": "05f33003b40648c4b14957feca906654",
       "version_major": 2,
       "version_minor": 0
      },
      "text/plain": [
       "  0%|          | 0/100000 [00:00<?, ?it/s]"
      ]
     },
     "metadata": {},
     "output_type": "display_data"
    },
    {
     "name": "stdout",
     "output_type": "stream",
     "text": [
      "0.1 0.024963272735476494\n"
     ]
    },
    {
     "data": {
      "application/vnd.jupyter.widget-view+json": {
       "model_id": "a6fd2962835e4731b23367b88c2d7ce9",
       "version_major": 2,
       "version_minor": 0
      },
      "text/plain": [
       "  0%|          | 0/100000 [00:00<?, ?it/s]"
      ]
     },
     "metadata": {},
     "output_type": "display_data"
    },
    {
     "name": "stdout",
     "output_type": "stream",
     "text": [
      "0.01 0.02500941790640354\n"
     ]
    },
    {
     "data": {
      "application/vnd.jupyter.widget-view+json": {
       "model_id": "82b6172ab56e49bc99599e36b1374810",
       "version_major": 2,
       "version_minor": 0
      },
      "text/plain": [
       "  0%|          | 0/100000 [00:00<?, ?it/s]"
      ]
     },
     "metadata": {},
     "output_type": "display_data"
    },
    {
     "name": "stdout",
     "output_type": "stream",
     "text": [
      "0.001 0.025042833760380745\n"
     ]
    },
    {
     "data": {
      "text/plain": [
       "0.024963272735476494"
      ]
     },
     "execution_count": 25,
     "metadata": {},
     "output_type": "execute_result"
    }
   ],
   "source": [
    "d=2\n",
    "model = Sloth(d=d)\n",
    "model.fit(X, D, S, Cs, fit_C=False, train_link=False, positive_w=False, verbose=True)\n",
    "model.best_loss"
   ]
  },
  {
   "cell_type": "code",
   "execution_count": 26,
   "id": "332fe666",
   "metadata": {},
   "outputs": [],
   "source": [
    "d= d\n",
    "if d==1:\n",
    "    L_rot=-model.W2.numpy()\n",
    "    B_rot=-np.vstack((model.W1_X.detach().numpy(), model.W1_D.detach().numpy()))\n",
    "    Z = np.hstack((X,D))@B_rot\n",
    "else:\n",
    "    Z = model.interpret(anchor=0)['skills']\n",
    "    L_rot = model.interpret(anchor=0)['loadings']\n",
    "    B_rot = model.interpret(anchor=0)['B']\n",
    "    Delta = model.interpret(anchor=0)['translation']"
   ]
  },
  {
   "cell_type": "code",
   "execution_count": 34,
   "id": "4de38d8f",
   "metadata": {},
   "outputs": [
    {
     "name": "stderr",
     "output_type": "stream",
     "text": [
      "/tmp/ipykernel_28949/1040522258.py:2: UserWarning: Boolean Series key will be reindexed to match DataFrame index.\n",
      "  data_agentic = data_agentic[data.Model != name]\n"
     ]
    },
    {
     "data": {
      "text/plain": [
       "(14, 1)"
      ]
     },
     "execution_count": 34,
     "metadata": {},
     "output_type": "execute_result"
    }
   ],
   "source": [
    "for name in holdout_names:\n",
    "    data_agentic = data_agentic[data.Model != name]\n",
    "Skills_dict = {k: v for v, k in enumerate(list(data_agentic['Model']))}\n",
    "to_keep = []\n",
    "for model in list(data_OOD['Model']):\n",
    "    to_keep.append(Skills_dict[model])\n",
    "X_tr = Z[to_keep]\n",
    "Inter_train  = np.ones(X_tr.shape[0])[np.newaxis, :].T\n",
    "Y_tr = np.array(data_OOD.loc[:,Y_agentic[0]]).astype(float)\n",
    "Y_tr = Y_tr[np.newaxis, :].T/10\n",
    "Y_tr.shape"
   ]
  },
  {
   "cell_type": "code",
   "execution_count": 35,
   "id": "e1b1e60e",
   "metadata": {},
   "outputs": [],
   "source": [
    "model_ood = Sloth(d=1) \n",
    "model_ood.fit(X_tr, Inter_train, Y_tr,\n",
    "                                      C0=np.array([[0]]),\n",
    "                                      train_link=False, fit_C=True, positive_w=False, verbose=False)"
   ]
  },
  {
   "cell_type": "code",
   "execution_count": 42,
   "id": "fa07c9d1",
   "metadata": {},
   "outputs": [
    {
     "data": {
      "text/plain": [
       "(1, 1)"
      ]
     },
     "execution_count": 42,
     "metadata": {},
     "output_type": "execute_result"
    }
   ],
   "source": [
    "D_hold = D[to_drop]\n",
    "X_hold = X_whole[to_drop]\n",
    "Y_hold = np.array(data_hold.loc[:,Y_agentic[0]]).astype(float)\n",
    "Y_hold = Y_hold[np.newaxis, :].T/10\n",
    "Y_hold.shape"
   ]
  },
  {
   "cell_type": "code",
   "execution_count": 37,
   "id": "e02a60b1",
   "metadata": {},
   "outputs": [],
   "source": [
    "Z_hold = np.hstack((X_hold,D_hold))@B_rot-Delta\n",
    "B_ood=np.vstack((model_ood.W1_X.detach().numpy(), model_ood.W1_D.detach().numpy()))"
   ]
  },
  {
   "cell_type": "code",
   "execution_count": 38,
   "id": "23abb78d",
   "metadata": {},
   "outputs": [
    {
     "data": {
      "text/plain": [
       "array([[ 1.0829092],\n",
       "       [-0.282188 ],\n",
       "       [-1.5124513]], dtype=float32)"
      ]
     },
     "execution_count": 38,
     "metadata": {},
     "output_type": "execute_result"
    }
   ],
   "source": [
    "B_ood"
   ]
  },
  {
   "cell_type": "code",
   "execution_count": 39,
   "id": "d494a31b",
   "metadata": {},
   "outputs": [
    {
     "data": {
      "image/png": "[encoded data removed]",
      "text/plain": [
       "<Figure size 600x200 with 2 Axes>"
      ]
     },
     "metadata": {},
     "output_type": "display_data"
    }
   ],
   "source": [
    "colormap = \"coolwarm\"\n",
    "vmin=-1\n",
    "vmax=2\n",
    "fig, (ax1, ax2) = plt.subplots(1, 2, figsize=(6,2), width_ratios=[2, 1])\n",
    " # Set the figure size (width, height) in inches\n",
    "#ax1.set_figwidth(6)\n",
    "#ax1.set_figheight(3)\n",
    "ax1.imshow(L_rot, cmap=colormap, vmin=vmin, vmax=vmax)\n",
    "inter = [-.3,1.6]\n",
    "for i in range(len(L_rot)):\n",
    "    for j in range(len(L_rot.T)):\n",
    "        value = L_rot[i, j]\n",
    "        color = \"black\" if value > inter[0] and  value < inter[1] else \"white\"  # Conditional color\n",
    "        text = ax1.text(j, i, f'{value:.2f}', size=10, ha=\"center\", va=\"center\", color=color, weight='bold')#\n",
    "ax1.set_xticks(np.arange(len(S_base+S_extra)), labels=S_base+S_extra, rotation=45, ha=\"right\")  # Set the x-tick labels\n",
    "ax1.set_yticks(np.arange(d))  # Set the y-tick labels\n",
    "ax1.set_title('$\\\\Lambda$', size = 12)\n",
    "ax1.tick_params(labelsize=11)\n",
    "#plt.subplot(1, 2, 2)  # Set the figure size (width, height) in inches\n",
    "#ax2.set_figwidth(3)\n",
    "#ax2.set_figheight(1)\n",
    "ax2.imshow(B_ood[0:d], cmap=colormap, vmin=vmin, vmax=vmax)\n",
    "inter = [-.3,1.6]\n",
    "for i in range(len(B_ood[0:d])):\n",
    "    for j in range(len(B_ood.T)):\n",
    "        value = B_ood[i, j]\n",
    "        color = \"black\" if value > inter[0] and  value < inter[1] else \"white\"  # Conditional color\n",
    "        text = ax2.text(j, i, f'{value:.2f}', size=10, ha=\"center\", va=\"center\", color=color, weight='bold')#\n",
    "ax2.set_xticks([],[])  # Set the x-tick labels\n",
    "ax2.set_yticks(np.arange(d))  # Set the y-tick labels\n",
    "ax2.set_title('$\\\\beta_{\\\\text{AB}}$', size = 12)\n",
    "ax2.tick_params(labelsize=11)\n",
    "plt.tight_layout()\n",
    "#plt.savefig('AB_Parameters.pdf', bbox_inches='tight')\n",
    "plt.show()"
   ]
  },
  {
   "cell_type": "code",
   "execution_count": 44,
   "id": "ed98e515",
   "metadata": {},
   "outputs": [],
   "source": [
    "x, y = np.concatenate((X_tr, Inter_train), axis = 1) @ B_ood, Y_tr\n",
    "x_test, y_test = np.concatenate((Z_hold, np.ones(1)[np.newaxis, :].T), axis = 1) @ B_ood, Y_hold\n",
    "a, b, c, e = np.linspace(-10, 10, 100), np.linspace(-10, 10, 100), np.linspace(-10, 10, 100), np.linspace(-2, 5, 100)\n",
    "Grid = np.vstack((a.flatten(), b.flatten())).T\n",
    "y_curve = model_ood.predict(Grid, np.array([[1]]))\n",
    "x_grid = np.concatenate((Grid, np.ones(100)[np.newaxis, :].T), axis = 1) @ B_ood"
   ]
  },
  {
   "cell_type": "code",
   "execution_count": 49,
   "id": "4afbda84",
   "metadata": {},
   "outputs": [
    {
     "data": {
      "image/png": "[encoded data removed]",
      "text/plain": [
       "<Figure size 640x480 with 1 Axes>"
      ]
     },
     "metadata": {},
     "output_type": "display_data"
    }
   ],
   "source": [
    "plt.scatter(x,y, label = 'Training Data')\n",
    "plt.scatter(x_test,y_test, color = 'red', label = 'llama-2-70b-chat')\n",
    "plt.xlim(-2, 0)\n",
    "plt.ylim(0, 0.3)\n",
    "plt.xlabel('$\\\\beta_{\\\\text{AB}}^T(\\\\theta(s,t)) +c$', size=12)\n",
    "plt.grid(alpha = 0.3)\n",
    "plt.plot(x_grid, y_curve)\n",
    "plt.ylabel('AgentBench Accuracy', size=12)\n",
    "plt.tick_params(labelsize=11)\n",
    "plt.legend(prop={'size':11})\n",
    "plt.savefig('AB_Predictions.pdf', bbox_inches='tight')\n",
    "plt.show()"
   ]
  },
  {
   "cell_type": "code",
   "execution_count": 49,
   "id": "d0ab2ace",
   "metadata": {},
   "outputs": [
    {
     "data": {
      "text/plain": [
       "array([[0.078]])"
      ]
     },
     "execution_count": 49,
     "metadata": {},
     "output_type": "execute_result"
    }
   ],
   "source": [
    "y_test"
   ]
  },
  {
   "cell_type": "code",
   "execution_count": 282,
   "id": "620652a5",
   "metadata": {},
   "outputs": [
    {
     "data": {
      "text/plain": [
       "5               codellama-34b-instruct\n",
       "6                      vicuna-13b-v1.5\n",
       "8                     llama-2-13b-chat\n",
       "9                      vicuna-33b-v1.3\n",
       "10                   openchat-13b-v3.2\n",
       "11                   wizardlm-13b-v1.2\n",
       "12              codellama-13b-instruct\n",
       "13                      vicuna-7b-v1.5\n",
       "14                         guanaco-65b\n",
       "15               codellama-7b-instruct\n",
       "18                           koala-13b\n",
       "19                     llama-2-7b-chat\n",
       "20                        dolly-v2-12b\n",
       "21    oasst-sft-4-pythia-12b-epoch-3.5\n",
       "Name: Model, dtype: object"
      ]
     },
     "execution_count": 282,
     "metadata": {},
     "output_type": "execute_result"
    }
   ],
   "source": [
    "data['Model']"
   ]
  },
  {
   "cell_type": "markdown",
   "id": "a40f9699",
   "metadata": {},
   "source": [
    "# EQ"
   ]
  },
  {
   "cell_type": "code",
   "execution_count": 482,
   "id": "f3b6f04d",
   "metadata": {},
   "outputs": [],
   "source": [
    "data = pd.read_csv('data/data_v2.csv')\n",
    "data['logS'] = np.log10(data['#Params (B)'])\n",
    "data['logT'] = np.log10(data['Pretraining Data Size (T)'])\n",
    "data['logSlogT'] = data['logS']*data['logT']\n",
    "#data['logS2'] = data['logS']**2\n",
    "#data['logT2'] = data['logT']**2\n",
    "data['GreatFamily'] = data['Family']\n",
    "data['Family'] = data['Family2']\n",
    "X_names = ['logS','logT','logSlogT'] \n",
    "Y_names = ['GSM8K',\n",
    "           'MATH Lvl 5',\n",
    "           'GPQA',\n",
    "           'MMLU',\n",
    "           'MMLU-PRO',\n",
    "           'BBH',\n",
    "           'MUSR',\n",
    "           'TruthfulQA',\n",
    "           'ARC',\n",
    "           'HellaSwag',\n",
    "           'Winogrande',\n",
    "           'IFEval']\n",
    "S_base = ['MMLU', 'ARC', 'HellaSwag']\n",
    "S_extra = ['GSM8K',\n",
    "           'TruthfulQA',\n",
    "           'Winogrande']\n",
    "#Y_names = S_base+S_extra\n",
    "EQ_dat = {'meta-llama-3-70b-instruct': 82.13, 'yi-1.5-34b-chat': 72.93, \n",
    "          'qwen1.5-32b-chat': 75.59, 'meta-llama-3-8b-instruct': 68.88, \n",
    "          'yi-34b-chat': 71.62, 'yi-1.5-9b-chat':70.37, \n",
    "          'qwen1.5-14b-chat': 74.99, 'llama-2-70b-chat': 73.59, \n",
    "          'yi-1.5-6b-chat': 59.45,'qwen1.5-7b-chat': 54.41, 'gemma-7b-it': 61.72,\n",
    "            'llama-2-13b-chat': 49.12, 'llama-2-7b-chat': 36.32, 'qwen1.5-4b-chat': 28.75, 'qwen1.5-1.8b-chat': 24.12  }"
   ]
  },
  {
   "cell_type": "code",
   "execution_count": 483,
   "id": "af3e44f0",
   "metadata": {},
   "outputs": [],
   "source": [
    "holdout_names = ['meta-llama-3-70b-instruct', 'meta-llama-3-70b']\n",
    "data_EQ = data.loc[:,['Model','Family','GreatFamily','Instruct']+X_names+Y_names].dropna()\n",
    "data_hold = data_EQ.loc[data['Model'].isin(holdout_names)]\n",
    "Models_dict = {k: v for v, k in enumerate(list(data_EQ['Model']))}\n",
    "to_drop = []\n",
    "for model in holdout_names:\n",
    "    to_drop.append(Models_dict[model])\n",
    "to_drop.sort()\n",
    "#for name in [holdout_names[1]]:\n",
    "    #data_EQ = data_EQ[data.Model != name]\n",
    "#data_tr = data.loc[:,['Model','Family','GreatFamily','Instruct']+X_names+Y_names]"
   ]
  },
  {
   "cell_type": "code",
   "execution_count": 484,
   "id": "c101693c",
   "metadata": {},
   "outputs": [
    {
     "data": {
      "text/plain": [
       "(77, 12)"
      ]
     },
     "execution_count": 484,
     "metadata": {},
     "output_type": "execute_result"
    }
   ],
   "source": [
    "D_whole = np.array(pd.get_dummies(np.array(data_EQ.Family))).astype(float)\n",
    "D = np.delete(D_whole, to_drop, axis=0)\n",
    "#D = np.ones(38)[np.newaxis, :].T\n",
    "X_whole = np.array(data_EQ.loc[:,X_names]).astype(float)\n",
    "X = np.delete(X_whole, to_drop, axis=0)\n",
    "Y_whole = np.array(data_EQ.loc[:,Y_names]).astype(float)\n",
    "Y = np.delete(Y_whole, to_drop, axis=0)\n",
    "Cs = []\n",
    "for s in Y_names:\n",
    "    Cs.append(lower_bounds[s])\n",
    "Cs = np.array(Cs).astype(float)[None,:]\n",
    "Y.shape"
   ]
  },
  {
   "cell_type": "code",
   "execution_count": 485,
   "id": "c4d6ee4d",
   "metadata": {},
   "outputs": [
    {
     "data": {
      "application/vnd.jupyter.widget-view+json": {
       "model_id": "73fe82a566ba4379832ea51a60682a43",
       "version_major": 2,
       "version_minor": 0
      },
      "text/plain": [
       "  0%|          | 0/100000 [00:00<?, ?it/s]"
      ]
     },
     "metadata": {},
     "output_type": "display_data"
    },
    {
     "name": "stdout",
     "output_type": "stream",
     "text": [
      "0.1 0.024269765242934227\n"
     ]
    },
    {
     "data": {
      "application/vnd.jupyter.widget-view+json": {
       "model_id": "b12ff49af6ff4192926045fc8e739b99",
       "version_major": 2,
       "version_minor": 0
      },
      "text/plain": [
       "  0%|          | 0/100000 [00:00<?, ?it/s]"
      ]
     },
     "metadata": {},
     "output_type": "display_data"
    },
    {
     "name": "stdout",
     "output_type": "stream",
     "text": [
      "0.01 0.02427876926958561\n"
     ]
    },
    {
     "data": {
      "application/vnd.jupyter.widget-view+json": {
       "model_id": "77c2ecb2895a487d9c4bf35fed0df6f7",
       "version_major": 2,
       "version_minor": 0
      },
      "text/plain": [
       "  0%|          | 0/100000 [00:00<?, ?it/s]"
      ]
     },
     "metadata": {},
     "output_type": "display_data"
    },
    {
     "name": "stdout",
     "output_type": "stream",
     "text": [
      "0.001 0.024296997115015984\n"
     ]
    },
    {
     "data": {
      "text/plain": [
       "0.024269765242934227"
      ]
     },
     "execution_count": 485,
     "metadata": {},
     "output_type": "execute_result"
    }
   ],
   "source": [
    "model = Sloth(d=3)\n",
    "model.fit(X, D, Y, Cs, fit_C=False, train_link=False, positive_w=False, verbose=True)\n",
    "model.best_loss"
   ]
  },
  {
   "cell_type": "code",
   "execution_count": 486,
   "id": "93d82a93",
   "metadata": {},
   "outputs": [],
   "source": [
    "d= 3\n",
    "if d==1:\n",
    "    L_rot=-model.W2.numpy()\n",
    "    B_rot=-np.vstack((model.W1_X.detach().numpy(), model.W1_D.detach().numpy()))\n",
    "    Z = np.hstack((X,D))@B_rot\n",
    "else:\n",
    "    Z = model.interpret(anchor=0)['skills']\n",
    "    L_rot = model.interpret(anchor=0)['loadings']\n",
    "    B_rot = model.interpret(anchor=0)['B']\n",
    "    Delta = model.interpret(anchor=0)['translation']"
   ]
  },
  {
   "cell_type": "code",
   "execution_count": 487,
   "id": "fc257201",
   "metadata": {},
   "outputs": [
    {
     "name": "stdout",
     "output_type": "stream",
     "text": [
      "yi-34b-chat\n"
     ]
    },
    {
     "name": "stderr",
     "output_type": "stream",
     "text": [
      "/tmp/ipykernel_29340/1038872276.py:2: UserWarning: Boolean Series key will be reindexed to match DataFrame index.\n",
      "  data_EQ = data_EQ[data.Model != name]\n"
     ]
    },
    {
     "data": {
      "text/plain": [
       "(13, 1)"
      ]
     },
     "execution_count": 487,
     "metadata": {},
     "output_type": "execute_result"
    }
   ],
   "source": [
    "for name in holdout_names:\n",
    "    data_EQ = data_EQ[data.Model != name]\n",
    "Skills_dict = {k: v for v, k in enumerate(list(data_EQ['Model']))}\n",
    "to_keep = []\n",
    "Y_tr = []\n",
    "for model in list(EQ_dat.keys()):\n",
    "    if model != holdout_names[0]:\n",
    "        try:\n",
    "            to_keep.append(Skills_dict[model])\n",
    "            Y_tr.append(EQ_dat[model])\n",
    "        except:\n",
    "            print(model)\n",
    "X_tr = Z[to_keep]\n",
    "Inter_train  = np.ones(X_tr.shape[0])[np.newaxis, :].T\n",
    "Y_tr = np.array(Y_tr).astype(float)\n",
    "Y_tr = Y_tr[np.newaxis, :].T/100\n",
    "Y_tr.shape"
   ]
  },
  {
   "cell_type": "code",
   "execution_count": 488,
   "id": "d3f59886",
   "metadata": {},
   "outputs": [
    {
     "data": {
      "text/plain": [
       "(1, 1)"
      ]
     },
     "execution_count": 488,
     "metadata": {},
     "output_type": "execute_result"
    }
   ],
   "source": [
    "D_hold = D_whole[to_drop[0]]\n",
    "#D_hold = D[to_drop]\n",
    "X_hold = X_whole[to_drop[0]]\n",
    "Y_hold = np.array([EQ_dat[holdout_names[0]]]).astype(float)\n",
    "Y_hold = Y_hold[np.newaxis, :].T/100\n",
    "Y_hold.shape"
   ]
  },
  {
   "cell_type": "code",
   "execution_count": 489,
   "id": "59e251af",
   "metadata": {},
   "outputs": [],
   "source": [
    "model_ood = Sloth(d=1) \n",
    "model_ood.fit(X_tr, Inter_train, Y_tr,\n",
    "                                      C0=np.array([[0]]),\n",
    "                                      train_link=False, fit_C=False, positive_w=False, verbose=False)"
   ]
  },
  {
   "cell_type": "code",
   "execution_count": 490,
   "id": "185facf3",
   "metadata": {},
   "outputs": [
    {
     "data": {
      "text/plain": [
       "array([[0.0903958 ],\n",
       "       [0.8396668 ],\n",
       "       [1.1176345 ],\n",
       "       [0.28022292]], dtype=float32)"
      ]
     },
     "execution_count": 490,
     "metadata": {},
     "output_type": "execute_result"
    }
   ],
   "source": [
    "Z_hold = np.hstack((X_hold,D_hold))@B_rot-Delta\n",
    "B_ood=np.vstack((model_ood.W1_X.detach().numpy(), model_ood.W1_D.detach().numpy()))\n",
    "B_ood"
   ]
  },
  {
   "cell_type": "code",
   "execution_count": 491,
   "id": "2d42dd19",
   "metadata": {},
   "outputs": [
    {
     "data": {
      "image/png": "[encoded data removed]",
      "text/plain": [
       "<Figure size 800x400 with 2 Axes>"
      ]
     },
     "metadata": {},
     "output_type": "display_data"
    }
   ],
   "source": [
    "colormap = \"coolwarm\"\n",
    "vmin=-1\n",
    "vmax=2\n",
    "fig, (ax1, ax2) = plt.subplots(2, 1, figsize=(8,4))\n",
    " # Set the figure size (width, height) in inches\n",
    "#ax1.set_figwidth(6)\n",
    "#ax1.set_figheight(3)\n",
    "ax1.imshow(L_rot, cmap=colormap, vmin=vmin, vmax=vmax)\n",
    "inter = [-.3,1.6]\n",
    "for i in range(len(L_rot)):\n",
    "    for j in range(len(L_rot.T)):\n",
    "        value = L_rot[i, j]\n",
    "        color = \"black\" if value > inter[0] and  value < inter[1] else \"white\"  # Conditional color\n",
    "        text = ax1.text(j, i, f'{value:.2f}', size=12, ha=\"center\", va=\"center\", color=color, weight='bold')#\n",
    "ax1.set_xticks(np.arange(len(Y_names)), labels=Y_names, rotation=45, ha=\"right\")  # Set the x-tick labels\n",
    "ax1.set_yticks(np.arange(d))\n",
    "ax1.tick_params(labelsize=13) \n",
    "# Set the y-tick labels\n",
    "ax1.set_title('$\\\\Lambda$', size=15)\n",
    "#plt.subplot(1, 2, 2)  # Set the figure size (width, height) in inches\n",
    "#ax2.set_figwidth(3)\n",
    "#ax2.set_figheight(1)\n",
    "ax2.imshow(B_ood[0:2], cmap=colormap, vmin=vmin, vmax=vmax)\n",
    "inter = [-.3,1.6]\n",
    "for i in range(len(B_ood[0:2])):\n",
    "    for j in range(len(B_ood.T)):\n",
    "        value = B_ood[i, j]\n",
    "        color = \"black\" if value > inter[0] and  value < inter[1] else \"white\"  # Conditional color\n",
    "        text = ax2.text(j, i, f'{value:.2f}', size=12, ha=\"center\", va=\"center\", color=color, weight='bold')#\n",
    "ax2.set_xticks([],[])  # Set the x-tick labels\n",
    "ax2.set_yticks(np.arange(2))  # Set the y-tick labels\n",
    "ax2.tick_params(labelsize=11) \n",
    "ax2.set_title('$\\\\beta_{\\\\text{EQ}}$', size = 15)\n",
    "plt.tight_layout()\n",
    "plt.savefig('EQ_Parameters.pdf', bbox_inches='tight')\n",
    "plt.show()"
   ]
  },
  {
   "cell_type": "code",
   "execution_count": 492,
   "id": "9342f195",
   "metadata": {},
   "outputs": [],
   "source": [
    "x, y = np.concatenate((X_tr, Inter_train), axis = 1) @ B_ood, Y_tr\n",
    "x_test, y_test = np.concatenate((Z_hold, np.ones(1)[np.newaxis, :].T), axis = 1) @ B_ood, Y_hold\n",
    "a, b, c, e = np.linspace(-5, 5, 100), np.linspace(-5, 5, 100), np.linspace(-5, 2, 100), np.linspace(-5, 2, 100)\n",
    "Grid = np.vstack((a.flatten(), b.flatten(), c.flatten())).T\n",
    "y_curve = model_ood.predict(Grid, np.array([[1]]))\n",
    "x_grid = np.concatenate((Grid, np.ones(100)[np.newaxis, :].T), axis = 1) @ B_ood"
   ]
  },
  {
   "cell_type": "code",
   "execution_count": 493,
   "id": "5c13a81d",
   "metadata": {},
   "outputs": [
    {
     "data": {
      "image/png": "[encoded data removed]",
      "text/plain": [
       "<Figure size 600x600 with 2 Axes>"
      ]
     },
     "metadata": {},
     "output_type": "display_data"
    }
   ],
   "source": [
    "colormap = \"coolwarm\"\n",
    "vmin=-1\n",
    "vmax=2\n",
    "fig, (ax1, ax2) = plt.subplots(1, 2, figsize=(6,6), width_ratios=[4, 1])\n",
    " # Set the figure size (width, height) in inches\n",
    "#ax1.set_figwidth(6)\n",
    "#ax1.set_figheight(3)\n",
    "ax2.imshow(B_ood[0:3][::-1], cmap=colormap, vmin=vmin, vmax=vmax)\n",
    "inter = [-.3,1.6]\n",
    "for i in range(len(B_ood[0:3][::-1])):\n",
    "    for j in range(len(B_ood[0:3][::-1].T)):\n",
    "        value = B_ood[0:3][::-1][i, j]\n",
    "        color = \"black\" if value > inter[0] and  value < inter[1] else \"white\"  # Conditional color\n",
    "        text = ax2.text(j, i, f'{value:.2f}', size=10, ha=\"center\", va=\"center\", color=color, weight='bold')#\n",
    "ax2.set_xticks([], [])  # Set the x-tick labels\n",
    "ax2.set_yticks(np.arange(d))  # Set the y-tick labels\n",
    "ax2.set_title('$\\\\beta_{\\\\text{EQ}}$', size = 12)\n",
    "#ax2.tick_params(labelsize=11)\n",
    "ax1.scatter(x,y, label = 'Training Data')\n",
    "ax1.scatter(x_test,y_test, color = 'red', label = 'meta-llama-3-70b-instruct', marker = 'D')\n",
    "ax1.set_xlim(-4, 4)\n",
    "#ax2.ylim(0,1)\n",
    "ax1.set_xlabel('$\\\\beta_{\\\\text{EQ}}^T(\\\\theta_{i}(s,t)) +c$', size = 14)\n",
    "ax1.grid(alpha = 0.3)\n",
    "ax1.plot(x_grid, y_curve)\n",
    "ax1.set_ylabel('Normalized EQ Score', size = 12)\n",
    "#ax2.tick_params(labelsize=11)\n",
    "ax1.legend(prop={'size':11})\n",
    "plt.savefig('EQ_Plot.pdf', bbox_inches='tight')\n",
    "plt.show()"
   ]
  },
  {
   "cell_type": "markdown",
   "id": "27df7d4b",
   "metadata": {},
   "source": [
    "# Creative Writing"
   ]
  },
  {
   "cell_type": "code",
   "execution_count": 81,
   "id": "fb97d379",
   "metadata": {},
   "outputs": [],
   "source": [
    "data = pd.read_csv('data/data_v2.csv')\n",
    "data['logS'] = np.log10(data['#Params (B)'])\n",
    "data['logT'] = np.log10(data['Pretraining Data Size (T)'])\n",
    "data['logSlogT'] = data['logS']*data['logT']\n",
    "#data['logS2'] = data['logS']**2\n",
    "#data['logT2'] = data['logT']**2\n",
    "data['GreatFamily'] = data['Family']\n",
    "data['Family'] = data['Family2']\n",
    "X_names = ['logS','logT','logSlogT'] \n",
    "Y_names = ['GSM8K',\n",
    "           'MATH Lvl 5',\n",
    "           'GPQA',\n",
    "           'MMLU',\n",
    "           'MMLU-PRO',\n",
    "           'BBH',\n",
    "           'MUSR',\n",
    "           'TruthfulQA',\n",
    "           'ARC',\n",
    "           'HellaSwag',\n",
    "           'Winogrande',\n",
    "           'IFEval']\n",
    "S_base = ['MMLU', 'ARC', 'HellaSwag']\n",
    "S_extra = ['GSM8K',\n",
    "           'TruthfulQA',\n",
    "           'Winogrande']\n",
    "#Y_names = S_base+S_extra\n",
    "CW_dat = {'meta-llama-3-70b-instruct': 71.77, \n",
    "           'meta-llama-3-8b-instruct': 62.41, \n",
    "          'yi-34b-chat': 71.54, \n",
    "          'qwen1.5-14b-chat': 66.38, \n",
    "           'gemma-7b-it': 48.25,\n",
    "            'llama-2-13b-chat': 49.94, 'llama-2-7b-chat': 47.38, 'qwen1.5-4b-chat': 27.78, 'gemma-2b-it': 42.67, 'Qwen1.5-110B-Chat':76.02 }"
   ]
  },
  {
   "cell_type": "code",
   "execution_count": 82,
   "id": "422d4ab2",
   "metadata": {},
   "outputs": [],
   "source": [
    "holdout_names = ['meta-llama-3-70b-instruct', 'meta-llama-3-70b']\n",
    "data_CW = data.loc[:,['Model','Family','GreatFamily','Instruct']+X_names+Y_names].dropna()\n",
    "data_hold = data_CW.loc[data['Model'].isin(holdout_names)]\n",
    "Models_dict = {k: v for v, k in enumerate(list(data_CW['Model']))}\n",
    "to_drop = []\n",
    "for model in holdout_names:\n",
    "    to_drop.append(Models_dict[model])\n",
    "to_drop.sort()"
   ]
  },
  {
   "cell_type": "code",
   "execution_count": 83,
   "id": "e8c93402",
   "metadata": {},
   "outputs": [
    {
     "data": {
      "text/plain": [
       "(77, 12)"
      ]
     },
     "execution_count": 83,
     "metadata": {},
     "output_type": "execute_result"
    }
   ],
   "source": [
    "D_whole = np.array(pd.get_dummies(np.array(data_CW.Family))).astype(float)\n",
    "D = np.delete(D_whole, to_drop, axis=0)\n",
    "#D = np.ones(38)[np.newaxis, :].T\n",
    "X_whole = np.array(data_CW.loc[:,X_names]).astype(float)\n",
    "X = np.delete(X_whole, to_drop, axis=0)\n",
    "Y_whole = np.array(data_CW.loc[:,Y_names]).astype(float)\n",
    "Y = np.delete(Y_whole, to_drop, axis=0)\n",
    "Cs = []\n",
    "for s in Y_names:\n",
    "    Cs.append(lower_bounds[s])\n",
    "Cs = np.array(Cs).astype(float)[None,:]\n",
    "Y.shape"
   ]
  },
  {
   "cell_type": "code",
   "execution_count": 84,
   "id": "83cdc6fd",
   "metadata": {},
   "outputs": [
    {
     "data": {
      "application/vnd.jupyter.widget-view+json": {
       "model_id": "ac431e391c5347a5a3902d42c1ad7043",
       "version_major": 2,
       "version_minor": 0
      },
      "text/plain": [
       "  0%|          | 0/100000 [00:00<?, ?it/s]"
      ]
     },
     "metadata": {},
     "output_type": "display_data"
    },
    {
     "name": "stdout",
     "output_type": "stream",
     "text": [
      "0.1 0.024269765242934227\n"
     ]
    },
    {
     "data": {
      "application/vnd.jupyter.widget-view+json": {
       "model_id": "f34e498985364f2baef5b7613bad61e7",
       "version_major": 2,
       "version_minor": 0
      },
      "text/plain": [
       "  0%|          | 0/100000 [00:00<?, ?it/s]"
      ]
     },
     "metadata": {},
     "output_type": "display_data"
    },
    {
     "name": "stdout",
     "output_type": "stream",
     "text": [
      "0.01 0.02427876926958561\n"
     ]
    },
    {
     "data": {
      "application/vnd.jupyter.widget-view+json": {
       "model_id": "ca2b8b4408a144f08c4a5040478ecb55",
       "version_major": 2,
       "version_minor": 0
      },
      "text/plain": [
       "  0%|          | 0/100000 [00:00<?, ?it/s]"
      ]
     },
     "metadata": {},
     "output_type": "display_data"
    },
    {
     "name": "stdout",
     "output_type": "stream",
     "text": [
      "0.001 0.024296997115015984\n"
     ]
    },
    {
     "data": {
      "text/plain": [
       "0.024269765242934227"
      ]
     },
     "execution_count": 84,
     "metadata": {},
     "output_type": "execute_result"
    }
   ],
   "source": [
    "model = Sloth(d=3)\n",
    "model.fit(X, D, Y, Cs, fit_C=False, train_link=False, positive_w=False, verbose=True)\n",
    "model.best_loss"
   ]
  },
  {
   "cell_type": "code",
   "execution_count": 85,
   "id": "d99fe56d",
   "metadata": {},
   "outputs": [],
   "source": [
    "d= 3\n",
    "if d==1:\n",
    "    L_rot=-model.W2.numpy()\n",
    "    B_rot=-np.vstack((model.W1_X.detach().numpy(), model.W1_D.detach().numpy()))\n",
    "    Z = np.hstack((X,D))@B_rot\n",
    "else:\n",
    "    Z = model.interpret(anchor=0)['skills']\n",
    "    L_rot = model.interpret(anchor=0)['loadings']\n",
    "    B_rot = model.interpret(anchor=0)['B']\n",
    "    Delta = model.interpret(anchor=0)['translation']"
   ]
  },
  {
   "cell_type": "code",
   "execution_count": 117,
   "id": "2eb011cb",
   "metadata": {},
   "outputs": [
    {
     "name": "stdout",
     "output_type": "stream",
     "text": [
      "yi-34b-chat\n",
      "Qwen1.5-110B-Chat\n"
     ]
    },
    {
     "name": "stderr",
     "output_type": "stream",
     "text": [
      "/tmp/ipykernel_51383/3492270833.py:2: UserWarning: Boolean Series key will be reindexed to match DataFrame index.\n",
      "  data_CW = data_CW[data.Model != name]\n"
     ]
    },
    {
     "data": {
      "text/plain": [
       "(7, 1)"
      ]
     },
     "execution_count": 117,
     "metadata": {},
     "output_type": "execute_result"
    }
   ],
   "source": [
    "for name in holdout_names:\n",
    "    data_CW = data_CW[data.Model != name]\n",
    "Skills_dict = {k: v for v, k in enumerate(list(data_CW['Model']))}\n",
    "to_keep = []\n",
    "Y_tr = []\n",
    "for model in list(CW_dat.keys()):\n",
    "    if model != holdout_names[0]:\n",
    "        try:\n",
    "            to_keep.append(Skills_dict[model])\n",
    "            Y_tr.append(CW_dat[model])\n",
    "        except:\n",
    "            print(model)\n",
    "X_tr = Z[to_keep][:,2][np.newaxis, :].T\n",
    "Inter_train  = np.ones(X_tr.shape[0])[np.newaxis, :].T\n",
    "Y_tr = np.array(Y_tr).astype(float)\n",
    "Y_tr = Y_tr[np.newaxis, :].T/100\n",
    "Y_tr.shape"
   ]
  },
  {
   "cell_type": "code",
   "execution_count": 118,
   "id": "be3553f9",
   "metadata": {},
   "outputs": [
    {
     "data": {
      "text/plain": [
       "(7, 1)"
      ]
     },
     "execution_count": 118,
     "metadata": {},
     "output_type": "execute_result"
    }
   ],
   "source": [
    "X_tr.shape"
   ]
  },
  {
   "cell_type": "code",
   "execution_count": 119,
   "id": "d39b1799",
   "metadata": {},
   "outputs": [
    {
     "data": {
      "text/plain": [
       "(1, 1)"
      ]
     },
     "execution_count": 119,
     "metadata": {},
     "output_type": "execute_result"
    }
   ],
   "source": [
    "D_hold = D_whole[to_drop[0]]\n",
    "#D_hold = D[to_drop]\n",
    "X_hold = X_whole[to_drop[0]]\n",
    "Y_hold = np.array([CW_dat[holdout_names[0]]]).astype(float)\n",
    "Y_hold = Y_hold[np.newaxis, :].T/100\n",
    "Y_hold.shape"
   ]
  },
  {
   "cell_type": "code",
   "execution_count": 120,
   "id": "b9c92b38",
   "metadata": {},
   "outputs": [],
   "source": [
    "model_ood = Sloth(d=1) \n",
    "model_ood.fit(X_tr, Inter_train, Y_tr,\n",
    "                                      C0=np.array([[0]]),\n",
    "                                      train_link=False, fit_C=False, positive_w=False, verbose=False)"
   ]
  },
  {
   "cell_type": "code",
   "execution_count": 121,
   "id": "e12caed2",
   "metadata": {},
   "outputs": [
    {
     "data": {
      "text/plain": [
       "array([[ 1.2237449],\n",
       "       [-0.1387904]], dtype=float32)"
      ]
     },
     "execution_count": 121,
     "metadata": {},
     "output_type": "execute_result"
    }
   ],
   "source": [
    "Z_hold = np.hstack((X_hold,D_hold))@B_rot-Delta\n",
    "B_ood=np.vstack((model_ood.W1_X.detach().numpy(), model_ood.W1_D.detach().numpy()))\n",
    "B_ood"
   ]
  },
  {
   "cell_type": "code",
   "execution_count": 122,
   "id": "3399fdf4",
   "metadata": {},
   "outputs": [],
   "source": [
    "x, y = np.concatenate((X_tr, Inter_train), axis = 1) @ B_ood, Y_tr\n",
    "x_test, y_test = np.concatenate((Z_hold[:,2][np.newaxis, :].T, np.ones(1)[np.newaxis, :].T), axis = 1) @ B_ood, Y_hold\n",
    "a, b, c, e = np.linspace(-5, 5, 100), np.linspace(-5, 5, 100), np.linspace(-5, 2, 100), np.linspace(-5, 2, 100)\n",
    "#Grid = np.vstack((a.flatten(), b.flatten(), c.flatten())).T\n",
    "Grid = np.vstack((a.flatten()))\n",
    "y_curve = model_ood.predict(Grid, np.array([[1]]))\n",
    "x_grid = np.concatenate((Grid, np.ones(100)[np.newaxis, :].T), axis = 1) @ B_ood"
   ]
  },
  {
   "cell_type": "code",
   "execution_count": 125,
   "id": "6110b2f5",
   "metadata": {},
   "outputs": [
    {
     "data": {
      "image/png": "[encoded data removed]",
      "text/plain": [
       "<Figure size 600x600 with 2 Axes>"
      ]
     },
     "metadata": {},
     "output_type": "display_data"
    }
   ],
   "source": [
    "colormap = \"coolwarm\"\n",
    "vmin=-1\n",
    "vmax=2\n",
    "fig, (ax1, ax2) = plt.subplots(1, 2, figsize=(6,6), width_ratios=[4, 1])\n",
    " # Set the figure size (width, height) in inches\n",
    "#ax1.set_figwidth(6)\n",
    "#ax1.set_figheight(3)\n",
    "ax2.imshow(B_ood[0:3][::-1], cmap=colormap, vmin=vmin, vmax=vmax)\n",
    "inter = [-.3,1.6]\n",
    "for i in range(len(B_ood[0:3][::-1])):\n",
    "    for j in range(len(B_ood[0:3][::-1].T)):\n",
    "        value = B_ood[0:3][::-1][i, j]\n",
    "        color = \"black\" if value > inter[0] and  value < inter[1] else \"white\"  # Conditional color\n",
    "        text = ax2.text(j, i, f'{value:.2f}', size=10, ha=\"center\", va=\"center\", color=color, weight='bold')#\n",
    "ax2.set_xticks([], [])  # Set the x-tick labels\n",
    "ax2.set_yticks(np.arange(d))  # Set the y-tick labels\n",
    "ax2.set_title('$\\\\beta_{\\\\text{CW}}$', size = 12)\n",
    "#ax2.tick_params(labelsize=11)\n",
    "ax1.scatter(x,y, label = 'Training Data')\n",
    "ax1.scatter(x_test,y_test, color = 'red', label = 'meta-llama-3-70b-instruct', marker = 'D')\n",
    "ax1.set_xlim(-1, 1.5)\n",
    "#ax2.ylim(0,1)\n",
    "ax1.set_xlabel('$\\\\beta_{\\\\text{CW}}^T(\\\\theta_{i}(s,t)) +c$', size = 14)\n",
    "ax1.grid(alpha = 0.3)\n",
    "ax1.plot(x_grid, y_curve)\n",
    "ax1.set_ylabel('Normalized CW Score', size = 12)\n",
    "#ax2.tick_params(labelsize=11)\n",
    "ax1.legend(prop={'size':11})\n",
    "#plt.savefig('EQ_Plot.pdf', bbox_inches='tight')\n",
    "plt.show()"
   ]
  },
  {
   "cell_type": "code",
   "execution_count": null,
   "id": "0dfc3380",
   "metadata": {},
   "outputs": [],
   "source": []
  }
 ],
 "metadata": {
  "kernelspec": {
   "display_name": "Python 3 (ipykernel)",
   "language": "python",
   "name": "python3"
  },
  "language_info": {
   "codemirror_mode": {
    "name": "ipython",
    "version": 3
   },
   "file_extension": ".py",
   "mimetype": "text/x-python",
   "name": "python",
   "nbconvert_exporter": "python",
   "pygments_lexer": "ipython3",
   "version": "3.12.3"
  }
 },
 "nbformat": 4,
 "nbformat_minor": 5
}
