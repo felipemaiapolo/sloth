{
 "cells": [
  {
   "cell_type": "code",
   "execution_count": 1,
   "id": "e3ec3606-654a-4892-a90a-2bd342b060fa",
   "metadata": {},
   "outputs": [],
   "source": [
    "import numpy as np\n",
    "import pandas as pd\n",
    "import pickle\n",
    "import matplotlib.pyplot as plt\n",
    "from joblib import Parallel, delayed\n",
    "import copy\n",
    "from utils import *\n",
    "from experiment import *\n",
    "from definitions import *"
   ]
  },
  {
   "cell_type": "code",
   "execution_count": 2,
   "id": "b4184a60-7012-460a-b799-9474d22cb25e",
   "metadata": {},
   "outputs": [],
   "source": [
    "data = pd.read_csv('data/data_v2.csv')"
   ]
  },
  {
   "cell_type": "code",
   "execution_count": 21,
   "id": "4f5d8c4a-379b-454d-b16d-6b55cc40675f",
   "metadata": {},
   "outputs": [
    {
     "data": {
      "text/plain": [
       "array(['bloom', 'falcon', 'gemma', 'gemma-2', 'gpt-neo/j', 'llama',\n",
       "       'llama-2', 'meta-llama-3', 'mixtral-8x-v0.1', 'olmo', 'opt',\n",
       "       'pythia', 'qwen1.5', 'qwen2', 'recurrentgemma', 'smollm',\n",
       "       'starcoder2', 'yi', 'yi-1.5'], dtype=object)"
      ]
     },
     "execution_count": 21,
     "metadata": {},
     "output_type": "execute_result"
    }
   ],
   "source": [
    "np.unique(data.loc[:,['Model','Family','MMLU-PRO']].dropna().Family)"
   ]
  },
  {
   "cell_type": "code",
   "execution_count": 23,
   "id": "58d8dfe1-2c28-4eaf-9993-b5ae25310db4",
   "metadata": {},
   "outputs": [
    {
     "name": "stdout",
     "output_type": "stream",
     "text": [
      "1                              bloom-1b1\n",
      "2                               bloom-3b\n",
      "3                             bloom-560m\n",
      "4                              bloom-7b1\n",
      "5                       blossom-v5.1-34b\n",
      "6                        blossom-v5.1-9b\n",
      "20                          dolly-v2-12b\n",
      "21                           dolly-v2-3b\n",
      "22                           dolly-v2-7b\n",
      "23              dolphin-2.9.1-yi-1.5-34b\n",
      "24               dolphin-2.9.1-yi-1.5-9b\n",
      "25               dolphin-2.9.2-qwen2-72b\n",
      "26                dolphin-2.9.2-qwen2-7b\n",
      "28                            falcon-40b\n",
      "29                   falcon-40b-instruct\n",
      "30                             falcon-7b\n",
      "31                    falcon-7b-instruct\n",
      "33                            gemma-2-2b\n",
      "34                         gemma-2-2b-it\n",
      "35                            gemma-2-9b\n",
      "36                         gemma-2-9b-it\n",
      "37                              gemma-2b\n",
      "38                           gemma-2b-it\n",
      "39                              gemma-7b\n",
      "40                           gemma-7b-it\n",
      "42                          gpt-neo-1.3b\n",
      "44                          gpt-neo-2.7b\n",
      "50                             llama-13b\n",
      "51                           llama-2-13b\n",
      "52                      llama-2-13b-chat\n",
      "53                           llama-2-70b\n",
      "54                      llama-2-70b-chat\n",
      "55                            llama-2-7b\n",
      "56                       llama-2-7b-chat\n",
      "57     llama-3-sauerkrautlm-70b-instruct\n",
      "58      llama-3-sauerkrautlm-8b-instruct\n",
      "60                             llama-65b\n",
      "61                              llama-7b\n",
      "62                      meta-llama-3-70b\n",
      "63             meta-llama-3-70b-instruct\n",
      "64                       meta-llama-3-8b\n",
      "65              meta-llama-3-8b-instruct\n",
      "66           mixtral-8x22b-instruct-v0.1\n",
      "67                    mixtral-8x22b-v0.1\n",
      "68            mixtral-8x7b-instruct-v0.1\n",
      "69                     mixtral-8x7b-v0.1\n",
      "76                               olmo-1b\n",
      "77                               olmo-7b\n",
      "83                        openhermes-13b\n",
      "84                         openhermes-7b\n",
      "85                              opt-1.3b\n",
      "89                               opt-30b\n",
      "93                            orca-2-13b\n",
      "94                             orca-2-7b\n",
      "95                      orca_mini_v3_13b\n",
      "96                      orca_mini_v3_70b\n",
      "97                       orca_mini_v3_7b\n",
      "98                      orca_mini_v7_72b\n",
      "99                       orca_mini_v7_7b\n",
      "103                           pythia-12b\n",
      "104                          pythia-160m\n",
      "106                          pythia-2.8b\n",
      "107                          pythia-410m\n",
      "108                          pythia-6.9b\n",
      "113                         qwen1.5-0.5b\n",
      "114                    qwen1.5-0.5b-chat\n",
      "115                         qwen1.5-1.8b\n",
      "116                    qwen1.5-1.8b-chat\n",
      "117                         qwen1.5-110b\n",
      "118                    qwen1.5-110b-chat\n",
      "119                          qwen1.5-14b\n",
      "120                     qwen1.5-14b-chat\n",
      "121                          qwen1.5-32b\n",
      "122                     qwen1.5-32b-chat\n",
      "123                           qwen1.5-4b\n",
      "124                      qwen1.5-4b-chat\n",
      "127                           qwen1.5-7b\n",
      "128                      qwen1.5-7b-chat\n",
      "129                           qwen2-0.5b\n",
      "130                  qwen2-0.5b-instruct\n",
      "131                           qwen2-1.5b\n",
      "132                  qwen2-1.5b-instruct\n",
      "133                            qwen2-72b\n",
      "134                   qwen2-72b-instruct\n",
      "135                             qwen2-7b\n",
      "136                    qwen2-7b-instruct\n",
      "137                    recurrentgemma-2b\n",
      "138                 recurrentgemma-2b-it\n",
      "139                    recurrentgemma-9b\n",
      "140                 recurrentgemma-9b-it\n",
      "149                sauerkrautlm-gemma-2b\n",
      "150                sauerkrautlm-gemma-7b\n",
      "151                          smollm-1.7b\n",
      "152                 smollm-1.7b-instruct\n",
      "153                          smollm-135m\n",
      "154                 smollm-135m-instruct\n",
      "155                          smollm-360m\n",
      "156                 smollm-360m-instruct\n",
      "162                       starcoder2-15b\n",
      "163                        starcoder2-3b\n",
      "164                        starcoder2-7b\n",
      "169                    wizardlm-13b-v1.0\n",
      "170                    wizardlm-70b-v1.0\n",
      "175                           yi-1.5-34b\n",
      "176                      yi-1.5-34b-chat\n",
      "177                            yi-1.5-6b\n",
      "178                       yi-1.5-6b-chat\n",
      "179                            yi-1.5-9b\n",
      "180                       yi-1.5-9b-chat\n",
      "181                               yi-34b\n",
      "184                                yi-6b\n",
      "186                           yi-6b-chat\n",
      "187                                yi-9b\n"
     ]
    }
   ],
   "source": [
    "print(data.loc[:,['Model','Family','MMLU-PRO']].dropna().Model.to_string())"
   ]
  },
  {
   "cell_type": "code",
   "execution_count": null,
   "id": "7f346298-64e8-4607-b42c-fb79368a116c",
   "metadata": {},
   "outputs": [],
   "source": []
  }
 ],
 "metadata": {
  "kernelspec": {
   "display_name": "Python 3 (ipykernel)",
   "language": "python",
   "name": "python3"
  },
  "language_info": {
   "codemirror_mode": {
    "name": "ipython",
    "version": 3
   },
   "file_extension": ".py",
   "mimetype": "text/x-python",
   "name": "python",
   "nbconvert_exporter": "python",
   "pygments_lexer": "ipython3",
   "version": "3.12.3"
  }
 },
 "nbformat": 4,
 "nbformat_minor": 5
}
